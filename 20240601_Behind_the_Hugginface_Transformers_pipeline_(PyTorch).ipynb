{
  "cells": [
    {
      "cell_type": "markdown",
      "metadata": {
        "id": "view-in-github",
        "colab_type": "text"
      },
      "source": [
        "<a href=\"https://colab.research.google.com/github/zen4s/IK/blob/master/20240601_Behind_the_Hugginface_Transformers_pipeline_(PyTorch).ipynb\" target=\"_parent\"><img src=\"https://colab.research.google.com/assets/colab-badge.svg\" alt=\"Open In Colab\"/></a>"
      ]
    },
    {
      "cell_type": "markdown",
      "metadata": {
        "id": "lupK-3Nwe5hj"
      },
      "source": [
        "# Behind the Hugginface Transformers pipeline (PyTorch)"
      ]
    },
    {
      "cell_type": "markdown",
      "metadata": {
        "id": "RQYEwTVle5hr"
      },
      "source": [
        "Install the Transformers, Datasets, and Evaluate libraries to run this notebook."
      ]
    },
    {
      "cell_type": "code",
      "execution_count": null,
      "metadata": {
        "id": "_p8-Xi_Ne5hs",
        "outputId": "6046ae73-8520-47a6-aee2-58fe0cb70e61",
        "colab": {
          "base_uri": "https://localhost:8080/"
        }
      },
      "outputs": [
        {
          "output_type": "stream",
          "name": "stdout",
          "text": [
            "Collecting datasets\n",
            "  Downloading datasets-2.19.1-py3-none-any.whl (542 kB)\n",
            "\u001b[?25l     \u001b[90m━━━━━━━━━━━━━━━━━━━━━━━━━━━━━━━━━━━━━━━━\u001b[0m \u001b[32m0.0/542.0 kB\u001b[0m \u001b[31m?\u001b[0m eta \u001b[36m-:--:--\u001b[0m\r\u001b[2K     \u001b[91m━━━━━━━━━━━━━━━\u001b[0m\u001b[90m╺\u001b[0m\u001b[90m━━━━━━━━━━━━━━━━━━━━━━━━\u001b[0m \u001b[32m204.8/542.0 kB\u001b[0m \u001b[31m6.3 MB/s\u001b[0m eta \u001b[36m0:00:01\u001b[0m\r\u001b[2K     \u001b[90m━━━━━━━━━━━━━━━━━━━━━━━━━━━━━━━━━━━━━━━━\u001b[0m \u001b[32m542.0/542.0 kB\u001b[0m \u001b[31m8.5 MB/s\u001b[0m eta \u001b[36m0:00:00\u001b[0m\n",
            "\u001b[?25hCollecting evaluate\n",
            "  Downloading evaluate-0.4.2-py3-none-any.whl (84 kB)\n",
            "\u001b[?25l     \u001b[90m━━━━━━━━━━━━━━━━━━━━━━━━━━━━━━━━━━━━━━━━\u001b[0m \u001b[32m0.0/84.1 kB\u001b[0m \u001b[31m?\u001b[0m eta \u001b[36m-:--:--\u001b[0m\r\u001b[2K     \u001b[90m━━━━━━━━━━━━━━━━━━━━━━━━━━━━━━━━━━━━━━━━\u001b[0m \u001b[32m84.1/84.1 kB\u001b[0m \u001b[31m7.2 MB/s\u001b[0m eta \u001b[36m0:00:00\u001b[0m\n",
            "\u001b[?25hRequirement already satisfied: transformers[sentencepiece] in /usr/local/lib/python3.10/dist-packages (4.40.2)\n",
            "Requirement already satisfied: filelock in /usr/local/lib/python3.10/dist-packages (from datasets) (3.14.0)\n",
            "Requirement already satisfied: numpy>=1.17 in /usr/local/lib/python3.10/dist-packages (from datasets) (1.25.2)\n",
            "Requirement already satisfied: pyarrow>=12.0.0 in /usr/local/lib/python3.10/dist-packages (from datasets) (14.0.2)\n",
            "Requirement already satisfied: pyarrow-hotfix in /usr/local/lib/python3.10/dist-packages (from datasets) (0.6)\n",
            "Collecting dill<0.3.9,>=0.3.0 (from datasets)\n",
            "  Downloading dill-0.3.8-py3-none-any.whl (116 kB)\n",
            "\u001b[2K     \u001b[90m━━━━━━━━━━━━━━━━━━━━━━━━━━━━━━━━━━━━━━━━\u001b[0m \u001b[32m116.3/116.3 kB\u001b[0m \u001b[31m9.3 MB/s\u001b[0m eta \u001b[36m0:00:00\u001b[0m\n",
            "\u001b[?25hRequirement already satisfied: pandas in /usr/local/lib/python3.10/dist-packages (from datasets) (2.0.3)\n",
            "Requirement already satisfied: requests>=2.19.0 in /usr/local/lib/python3.10/dist-packages (from datasets) (2.31.0)\n",
            "Requirement already satisfied: tqdm>=4.62.1 in /usr/local/lib/python3.10/dist-packages (from datasets) (4.66.4)\n",
            "Collecting xxhash (from datasets)\n",
            "  Downloading xxhash-3.4.1-cp310-cp310-manylinux_2_17_x86_64.manylinux2014_x86_64.whl (194 kB)\n",
            "\u001b[2K     \u001b[90m━━━━━━━━━━━━━━━━━━━━━━━━━━━━━━━━━━━━━━━━\u001b[0m \u001b[32m194.1/194.1 kB\u001b[0m \u001b[31m8.0 MB/s\u001b[0m eta \u001b[36m0:00:00\u001b[0m\n",
            "\u001b[?25hCollecting multiprocess (from datasets)\n",
            "  Downloading multiprocess-0.70.16-py310-none-any.whl (134 kB)\n",
            "\u001b[2K     \u001b[90m━━━━━━━━━━━━━━━━━━━━━━━━━━━━━━━━━━━━━━━━\u001b[0m \u001b[32m134.8/134.8 kB\u001b[0m \u001b[31m11.3 MB/s\u001b[0m eta \u001b[36m0:00:00\u001b[0m\n",
            "\u001b[?25hRequirement already satisfied: fsspec[http]<=2024.3.1,>=2023.1.0 in /usr/local/lib/python3.10/dist-packages (from datasets) (2023.6.0)\n",
            "Requirement already satisfied: aiohttp in /usr/local/lib/python3.10/dist-packages (from datasets) (3.9.5)\n",
            "Collecting huggingface-hub>=0.21.2 (from datasets)\n",
            "  Downloading huggingface_hub-0.23.0-py3-none-any.whl (401 kB)\n",
            "\u001b[2K     \u001b[90m━━━━━━━━━━━━━━━━━━━━━━━━━━━━━━━━━━━━━━━━\u001b[0m \u001b[32m401.2/401.2 kB\u001b[0m \u001b[31m16.2 MB/s\u001b[0m eta \u001b[36m0:00:00\u001b[0m\n",
            "\u001b[?25hRequirement already satisfied: packaging in /usr/local/lib/python3.10/dist-packages (from datasets) (24.0)\n",
            "Requirement already satisfied: pyyaml>=5.1 in /usr/local/lib/python3.10/dist-packages (from datasets) (6.0.1)\n",
            "Requirement already satisfied: regex!=2019.12.17 in /usr/local/lib/python3.10/dist-packages (from transformers[sentencepiece]) (2023.12.25)\n",
            "Requirement already satisfied: tokenizers<0.20,>=0.19 in /usr/local/lib/python3.10/dist-packages (from transformers[sentencepiece]) (0.19.1)\n",
            "Requirement already satisfied: safetensors>=0.4.1 in /usr/local/lib/python3.10/dist-packages (from transformers[sentencepiece]) (0.4.3)\n",
            "Requirement already satisfied: sentencepiece!=0.1.92,>=0.1.91 in /usr/local/lib/python3.10/dist-packages (from transformers[sentencepiece]) (0.1.99)\n",
            "Requirement already satisfied: protobuf in /usr/local/lib/python3.10/dist-packages (from transformers[sentencepiece]) (3.20.3)\n",
            "Requirement already satisfied: aiosignal>=1.1.2 in /usr/local/lib/python3.10/dist-packages (from aiohttp->datasets) (1.3.1)\n",
            "Requirement already satisfied: attrs>=17.3.0 in /usr/local/lib/python3.10/dist-packages (from aiohttp->datasets) (23.2.0)\n",
            "Requirement already satisfied: frozenlist>=1.1.1 in /usr/local/lib/python3.10/dist-packages (from aiohttp->datasets) (1.4.1)\n",
            "Requirement already satisfied: multidict<7.0,>=4.5 in /usr/local/lib/python3.10/dist-packages (from aiohttp->datasets) (6.0.5)\n",
            "Requirement already satisfied: yarl<2.0,>=1.0 in /usr/local/lib/python3.10/dist-packages (from aiohttp->datasets) (1.9.4)\n",
            "Requirement already satisfied: async-timeout<5.0,>=4.0 in /usr/local/lib/python3.10/dist-packages (from aiohttp->datasets) (4.0.3)\n",
            "Requirement already satisfied: typing-extensions>=3.7.4.3 in /usr/local/lib/python3.10/dist-packages (from huggingface-hub>=0.21.2->datasets) (4.11.0)\n",
            "Requirement already satisfied: charset-normalizer<4,>=2 in /usr/local/lib/python3.10/dist-packages (from requests>=2.19.0->datasets) (3.3.2)\n",
            "Requirement already satisfied: idna<4,>=2.5 in /usr/local/lib/python3.10/dist-packages (from requests>=2.19.0->datasets) (3.7)\n",
            "Requirement already satisfied: urllib3<3,>=1.21.1 in /usr/local/lib/python3.10/dist-packages (from requests>=2.19.0->datasets) (2.0.7)\n",
            "Requirement already satisfied: certifi>=2017.4.17 in /usr/local/lib/python3.10/dist-packages (from requests>=2.19.0->datasets) (2024.2.2)\n",
            "Requirement already satisfied: python-dateutil>=2.8.2 in /usr/local/lib/python3.10/dist-packages (from pandas->datasets) (2.8.2)\n",
            "Requirement already satisfied: pytz>=2020.1 in /usr/local/lib/python3.10/dist-packages (from pandas->datasets) (2023.4)\n",
            "Requirement already satisfied: tzdata>=2022.1 in /usr/local/lib/python3.10/dist-packages (from pandas->datasets) (2024.1)\n",
            "Requirement already satisfied: six>=1.5 in /usr/local/lib/python3.10/dist-packages (from python-dateutil>=2.8.2->pandas->datasets) (1.16.0)\n",
            "Installing collected packages: xxhash, dill, multiprocess, huggingface-hub, datasets, evaluate\n",
            "  Attempting uninstall: huggingface-hub\n",
            "    Found existing installation: huggingface-hub 0.20.3\n",
            "    Uninstalling huggingface-hub-0.20.3:\n",
            "      Successfully uninstalled huggingface-hub-0.20.3\n",
            "Successfully installed datasets-2.19.1 dill-0.3.8 evaluate-0.4.2 huggingface-hub-0.23.0 multiprocess-0.70.16 xxhash-3.4.1\n"
          ]
        }
      ],
      "source": [
        "!pip install datasets evaluate transformers[sentencepiece]"
      ]
    },
    {
      "cell_type": "code",
      "execution_count": null,
      "metadata": {
        "id": "cUjj73kfe5hv",
        "outputId": "02c6bc63-38c7-4c3e-b1e0-bd287b8fbfa4",
        "colab": {
          "base_uri": "https://localhost:8080/",
          "height": 373,
          "referenced_widgets": [
            "07c9b14ac84b490ba59f787a497a0bc7",
            "104afbce107e4420b1d11986712d2bc5",
            "1850cb1e0e0a4da8993680ce5e5d29b9",
            "aabb77768f0f4c3fbd46a416fca72037",
            "60cbd797a10147f4af730c158b64b26a",
            "6ab9127ef370410aa665eb33f280856a",
            "59fc1c20da3e4addae72a60e4646798f",
            "936dead6c9464f5c901d8a4202de7b3f",
            "0bfb4c17dd174096b8dc7030b757733d",
            "a08d2af3b6644ac1b69f9be076178e32",
            "76a43b4b05cc4d4c88ab45a3570cd46e",
            "1b9ab98359094e8d8db2e104329899da",
            "6693624cdd814859a1ac6c93e3d41442",
            "69b774efbee344b2986e3dafbf6abdda",
            "9e67f571132c424c81a9f5a55a50b678",
            "1ddb55adce2c4ab8839704024f7845b0",
            "349542565017444fb67cc86fc8107ebc",
            "3fb57cbeeffe47b49148b530830ff8b0",
            "9fff6698ff40449bb53ed01ca71a6f8b",
            "740f48c5ad1b412c90c02ae52462ae12",
            "a0dd004475704101925c45415d8a0e52",
            "83bbf3b0581f4df4aaf744b9e0d50f1a",
            "80626f301e5b4867b72508da05615e27",
            "c2e418be3e10474aa2214f48d64f02d0",
            "09be80f445ea4c06a2788f2ea3cf2643",
            "cc3bb77e14df4de6a36f2a4b55db854d",
            "8f9bc36f9d24421ca59153b653952dac",
            "73818ac2c9654001885b6feae73da2eb",
            "0e493c8f853745c2b6e3372a9139a809",
            "577c100afeb84cc6b3c677fdc82c4a79",
            "04f59f5fa5ec448baa9e1824c8a5f321",
            "1d5aa24562424ff8a04739d50e90200c",
            "2989db5d4f274a2ba7398102dbaf36e2",
            "33250913d4b64efdb5dbbdabf5a7767e",
            "f640069b0ad345b396534f147a8e1071",
            "af5df9fd6c554c18b2f7af2af0562f87",
            "bc23613dc9384647b0fa59261d7460ff",
            "5157cd82766846168619b70115e8c4ef",
            "663996729842462dbda7753c3faf14bf",
            "35536fec16ac4701b9ade46390218169",
            "80d5ecd747194b2da65b0997e70825a4",
            "06fe245a2d474b68b88d441cbfbcb51b",
            "ff30861ed198482fad9eb3ada0355249",
            "b6e9438457744591a717ec8a81ec17cd"
          ]
        }
      },
      "outputs": [
        {
          "output_type": "stream",
          "name": "stderr",
          "text": [
            "No model was supplied, defaulted to distilbert/distilbert-base-uncased-finetuned-sst-2-english and revision af0f99b (https://huggingface.co/distilbert/distilbert-base-uncased-finetuned-sst-2-english).\n",
            "Using a pipeline without specifying a model name and revision in production is not recommended.\n",
            "/usr/local/lib/python3.10/dist-packages/huggingface_hub/file_download.py:1132: FutureWarning: `resume_download` is deprecated and will be removed in version 1.0.0. Downloads always resume when possible. If you want to force a new download, use `force_download=True`.\n",
            "  warnings.warn(\n",
            "/usr/local/lib/python3.10/dist-packages/huggingface_hub/utils/_token.py:89: UserWarning: \n",
            "The secret `HF_TOKEN` does not exist in your Colab secrets.\n",
            "To authenticate with the Hugging Face Hub, create a token in your settings tab (https://huggingface.co/settings/tokens), set it as secret in your Google Colab and restart your session.\n",
            "You will be able to reuse this secret in all of your notebooks.\n",
            "Please note that authentication is recommended but still optional to access public models or datasets.\n",
            "  warnings.warn(\n"
          ]
        },
        {
          "output_type": "display_data",
          "data": {
            "text/plain": [
              "config.json:   0%|          | 0.00/629 [00:00<?, ?B/s]"
            ],
            "application/vnd.jupyter.widget-view+json": {
              "version_major": 2,
              "version_minor": 0,
              "model_id": "07c9b14ac84b490ba59f787a497a0bc7"
            }
          },
          "metadata": {}
        },
        {
          "output_type": "display_data",
          "data": {
            "text/plain": [
              "model.safetensors:   0%|          | 0.00/268M [00:00<?, ?B/s]"
            ],
            "application/vnd.jupyter.widget-view+json": {
              "version_major": 2,
              "version_minor": 0,
              "model_id": "1b9ab98359094e8d8db2e104329899da"
            }
          },
          "metadata": {}
        },
        {
          "output_type": "display_data",
          "data": {
            "text/plain": [
              "tokenizer_config.json:   0%|          | 0.00/48.0 [00:00<?, ?B/s]"
            ],
            "application/vnd.jupyter.widget-view+json": {
              "version_major": 2,
              "version_minor": 0,
              "model_id": "80626f301e5b4867b72508da05615e27"
            }
          },
          "metadata": {}
        },
        {
          "output_type": "display_data",
          "data": {
            "text/plain": [
              "vocab.txt:   0%|          | 0.00/232k [00:00<?, ?B/s]"
            ],
            "application/vnd.jupyter.widget-view+json": {
              "version_major": 2,
              "version_minor": 0,
              "model_id": "33250913d4b64efdb5dbbdabf5a7767e"
            }
          },
          "metadata": {}
        },
        {
          "output_type": "execute_result",
          "data": {
            "text/plain": [
              "[{'label': 'POSITIVE', 'score': 0.9998351335525513},\n",
              " {'label': 'NEGATIVE', 'score': 0.9994558691978455}]"
            ]
          },
          "metadata": {},
          "execution_count": 2
        }
      ],
      "source": [
        "from transformers import pipeline\n",
        "\n",
        "classifier = pipeline(\"sentiment-analysis\")\n",
        "classifier(\n",
        "    [\n",
        "        \"This would make a great breakfast. Add some figs to it and it will be the best ever.\",\n",
        "        \"I hate this so much!\",\n",
        "    ]\n",
        ")"
      ]
    },
    {
      "cell_type": "markdown",
      "source": [
        "#### This pipeline groups together three steps: preprocessing, passing the inputs through the model, and postprocessing:"
      ],
      "metadata": {
        "id": "4ANZMhZLgiOs"
      }
    },
    {
      "cell_type": "markdown",
      "source": [
        "![image.png](data:image/png;base64,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)"
      ],
      "metadata": {
        "id": "H19wdoRFgmTt"
      }
    },
    {
      "cell_type": "markdown",
      "source": [
        "Preprocessing with a tokenizer\n",
        "Like other neural networks, Transformer models can’t process raw text directly, so the first step of our pipeline is to convert the text inputs into numbers that the model can make sense of. To do this we use a tokenizer, which will be responsible for:\n",
        "\n",
        "Splitting the input into words, subwords, or symbols (like punctuation) that are called tokens\n",
        "Mapping each token to an integer\n",
        "Adding additional inputs that may be useful to the model\n",
        "All this preprocessing needs to be done in exactly the same way as when the model was pretrained, so we first need to download that information from the Model Hub (https://huggingface.co/models). To do this, we use the AutoTokenizer class and its from_pretrained() method. Using the checkpoint name of our model, it will automatically fetch the data associated with the model’s tokenizer and cache it (so it’s only downloaded the first time you run the code below).\n",
        "\n",
        "Since the default checkpoint of the sentiment-analysis pipeline is distilbert-base-uncased-finetuned-sst-2-english (you can see its model card here: https://huggingface.co/distilbert-base-uncased-finetuned-sst-2-english ), we run the following:"
      ],
      "metadata": {
        "id": "ZHsZ7Kipgteq"
      }
    },
    {
      "cell_type": "code",
      "execution_count": null,
      "metadata": {
        "id": "8newq2r9e5hy",
        "outputId": "dda43366-37cf-43c6-b3c0-f2711f59a8e2",
        "colab": {
          "base_uri": "https://localhost:8080/",
          "height": 168,
          "referenced_widgets": [
            "e0951c520985463aa85903a042d0d4e0",
            "f0bbaa6e3ea3470e9c85315fd5083f7b",
            "de715cff43ed4eeb920ee7e6f5dbf9b2",
            "425ea21f070944358acb59585b850f33",
            "4df0871b5d454ea094de88d408498447",
            "6107963834a74f768e1f3ff556ec598c",
            "687e15a034ee46c193f0d7ac035a4732",
            "3b26146b53824cd78560648045b0ab57",
            "735815c304e445279c2e9bac3d8d3248",
            "f2c16f9c9e4543e0afeb2755322c88e4",
            "c532e2ae27c04e02881d940b0a2ff649",
            "3ef48c08e3bf42a59ea8bb732a182cbe",
            "ceb6ff315b614a788d55965b131e1d9b",
            "01733691829d4ffb925f7d9d5ed43ed3",
            "a7321e70d4314cf79c3e5719d779ec77",
            "49a5bb37917f42f8977d65b7ea93d82e",
            "5e1112a734394c8fb2eb0bf5e1393d1a",
            "b5c125ca098245b099acd7242ec39c5f",
            "c1ec2962cc4543d99e5faa2a1fd0d6b3",
            "376fd3acae7340cbbf124284edc9ede5",
            "7404faf2d7b64cf69cccaa6d3d05423d",
            "a028f2931dd14120bc29889200a66da2",
            "0db8151ce62f429daefafa270d5678ab",
            "028ecb91f8e14459b24b7403ffa1645b",
            "328e36d9378f4b3aaad3b7c7e12401b7",
            "82f0ef35ffc94f6d891c28c6290ffa31",
            "01a2f58dafd643aaa5656c96060feaaa",
            "50b5b58b663440eab5d57ef256042608",
            "8629981546d540c8ba6d726b1252ebff",
            "4a091fbf94ef4da9a7ef0f0da1e775af",
            "c12bf7729a324fc6b9ec2153f75127fb",
            "14d94468aeb34f38b5f0998dbb18efa8",
            "414b98ec53a34e13b1e706d18815a713"
          ]
        }
      },
      "outputs": [
        {
          "output_type": "stream",
          "name": "stderr",
          "text": [
            "/usr/local/lib/python3.10/dist-packages/huggingface_hub/file_download.py:1132: FutureWarning: `resume_download` is deprecated and will be removed in version 1.0.0. Downloads always resume when possible. If you want to force a new download, use `force_download=True`.\n",
            "  warnings.warn(\n"
          ]
        },
        {
          "output_type": "display_data",
          "data": {
            "text/plain": [
              "tokenizer_config.json:   0%|          | 0.00/48.0 [00:00<?, ?B/s]"
            ],
            "application/vnd.jupyter.widget-view+json": {
              "version_major": 2,
              "version_minor": 0,
              "model_id": "e0951c520985463aa85903a042d0d4e0"
            }
          },
          "metadata": {}
        },
        {
          "output_type": "display_data",
          "data": {
            "text/plain": [
              "config.json:   0%|          | 0.00/629 [00:00<?, ?B/s]"
            ],
            "application/vnd.jupyter.widget-view+json": {
              "version_major": 2,
              "version_minor": 0,
              "model_id": "3ef48c08e3bf42a59ea8bb732a182cbe"
            }
          },
          "metadata": {}
        },
        {
          "output_type": "display_data",
          "data": {
            "text/plain": [
              "vocab.txt:   0%|          | 0.00/232k [00:00<?, ?B/s]"
            ],
            "application/vnd.jupyter.widget-view+json": {
              "version_major": 2,
              "version_minor": 0,
              "model_id": "0db8151ce62f429daefafa270d5678ab"
            }
          },
          "metadata": {}
        }
      ],
      "source": [
        "from transformers import AutoTokenizer\n",
        "\n",
        "checkpoint = \"distilbert-base-uncased-finetuned-sst-2-english\"\n",
        "tokenizer = AutoTokenizer.from_pretrained(checkpoint)"
      ]
    },
    {
      "cell_type": "markdown",
      "source": [
        "Once we have the tokenizer, we can directly pass our sentences to it and we’ll get back a dictionary that’s ready to feed to our model! The only thing left to do is to convert the list of input IDs to tensors.\n",
        "\n",
        "You can use Huggingface Transformers without having to worry about which ML framework is used as a backend; it might be PyTorch or TensorFlow, or Flax for some models. However, Transformer models only accept tensors as input. If this is your first time hearing about tensors, you can think of them as NumPy arrays instead. A NumPy array can be a scalar (0D), a vector (1D), a matrix (2D), or have more dimensions. It’s effectively a tensor; other ML frameworks’ tensors behave similarly, and are usually as simple to instantiate as NumPy arrays.\n",
        "\n",
        "To specify the type of tensors we want to get back (PyTorch, TensorFlow, or plain NumPy), we use the return_tensors argument:"
      ],
      "metadata": {
        "id": "c8jrfrcqhDXU"
      }
    },
    {
      "cell_type": "code",
      "execution_count": null,
      "metadata": {
        "id": "jenJJNd7e5hz",
        "outputId": "41511742-23f9-4498-cbb6-2aab6f793f51",
        "colab": {
          "base_uri": "https://localhost:8080/"
        }
      },
      "outputs": [
        {
          "output_type": "stream",
          "name": "stdout",
          "text": [
            "{'input_ids': tensor([[  101,  2023,  2052,  2191,  1037,  2307,  6350,  1012,  5587,  2070,\n",
            "         20965,  2015,  2000,  2009,  1998,  2009,  2097,  2022,  1996,  2190,\n",
            "          2412,  1012,   102],\n",
            "        [  101,  1045,  5223,  2023,  2061,  2172,   999,   102,     0,     0,\n",
            "             0,     0,     0,     0,     0,     0,     0,     0,     0,     0,\n",
            "             0,     0,     0]]), 'attention_mask': tensor([[1, 1, 1, 1, 1, 1, 1, 1, 1, 1, 1, 1, 1, 1, 1, 1, 1, 1, 1, 1, 1, 1, 1],\n",
            "        [1, 1, 1, 1, 1, 1, 1, 1, 0, 0, 0, 0, 0, 0, 0, 0, 0, 0, 0, 0, 0, 0, 0]])}\n"
          ]
        }
      ],
      "source": [
        "raw_inputs = [\n",
        "    \"This would make a great breakfast. Add some figs to it and it will be the best ever.\",\n",
        "    \"I hate this so much!\",\n",
        "]\n",
        "inputs = tokenizer(raw_inputs, padding=True, truncation=True, return_tensors=\"pt\")\n",
        "print(inputs)"
      ]
    },
    {
      "cell_type": "markdown",
      "source": [
        "Don’t worry about padding and truncation just yet; we’ll explain those later. The main things to remember here are that you can pass one sentence or a list of sentences, as well as specifying the type of tensors you want to get back (if no type is passed, you will get a list of lists as a result).\n",
        "\n",
        "Above is what the results look like as PyTorch tensors."
      ],
      "metadata": {
        "id": "D6yJyfyXhNJz"
      }
    },
    {
      "cell_type": "markdown",
      "source": [
        "The output itself is a dictionary containing two keys, input_ids and attention_mask. input_ids contains two rows of integers (one for each sentence) that are the unique identifiers of the tokens in each sentence. We’ll explain what the attention_mask is later in this chapter."
      ],
      "metadata": {
        "id": "p100JqzvhQ78"
      }
    },
    {
      "cell_type": "code",
      "source": [],
      "metadata": {
        "id": "geZ0shqchTtJ"
      },
      "execution_count": null,
      "outputs": []
    },
    {
      "cell_type": "code",
      "source": [],
      "metadata": {
        "id": "vpO1nJqrhTxG"
      },
      "execution_count": null,
      "outputs": []
    },
    {
      "cell_type": "markdown",
      "source": [
        "## Going through the model\n",
        "\n",
        "We can download our pretrained model the same way we did with our tokenizer. Hugginface Transformers provides an AutoModel class which also has a from_pretrained() method:"
      ],
      "metadata": {
        "id": "xQGWYYuxhXMp"
      }
    },
    {
      "cell_type": "code",
      "execution_count": null,
      "metadata": {
        "id": "F2u0KmBie5h0",
        "outputId": "eafaf583-f884-4f50-da9c-a4fb3e97c0ea",
        "colab": {
          "base_uri": "https://localhost:8080/",
          "height": 49,
          "referenced_widgets": [
            "7c9d442e435a457d904dba33b37064f9",
            "8581b2cbccfd41e4b0b841aab7f11f11",
            "5488d17dba704b3f991c394ae0575bab",
            "84f2c6277f5f4c668ced482df4dc8a24",
            "558f111bdf14423fb06ce6e6d57d5ba1",
            "23900f5e241c4ebb993ead10675987c3",
            "5746a64707c743a1a035b1c7a8f734fc",
            "1ee9463cd17e4e48af0b699f521ab397",
            "6f41043856594bc89a810d704373cc06",
            "7b511c2bb51f447fadbb9b764122f246",
            "31d600a682164527a0a5e62be83e1bb0"
          ]
        }
      },
      "outputs": [
        {
          "output_type": "display_data",
          "data": {
            "text/plain": [
              "model.safetensors:   0%|          | 0.00/268M [00:00<?, ?B/s]"
            ],
            "application/vnd.jupyter.widget-view+json": {
              "version_major": 2,
              "version_minor": 0,
              "model_id": "7c9d442e435a457d904dba33b37064f9"
            }
          },
          "metadata": {}
        }
      ],
      "source": [
        "from transformers import AutoModel\n",
        "\n",
        "checkpoint = \"distilbert-base-uncased-finetuned-sst-2-english\"\n",
        "model = AutoModel.from_pretrained(checkpoint)"
      ]
    },
    {
      "cell_type": "markdown",
      "source": [
        "In this code snippet, we have downloaded the same checkpoint we used in our pipeline before (it should actually have been cached already) and instantiated a model with it.\n",
        "\n",
        "This architecture contains only the base Transformer module: given some inputs, it outputs what we’ll call hidden states, also known as features. For each model input, we’ll retrieve a high-dimensional vector representing the contextual understanding of that input by the Transformer model.\n",
        "\n",
        "If this doesn’t make sense, don’t worry about it. We’ll explain it all later.\n",
        "\n",
        "While these hidden states can be useful on their own, they’re usually inputs to another part of the model, known as the head. Different tasks could have been performed with the same architecture, but each of these tasks will have a different head associated with it.\n",
        "\n",
        "### A high-dimensional vector?\n",
        "The vector output by the Transformer module is usually large. It generally has three dimensions:  \n",
        "\n",
        "Batch size: The number of sequences processed at a time (2 in our example).\n",
        "\n",
        "Sequence length: The length of the numerical representation of the sequence (16 in our example).  \n",
        "\n",
        "Hidden size: The vector dimension of each model input.  \n",
        "\n",
        "It is said to be “high dimensional” because of the last value. The hidden size can be very large (768 is common for smaller models, and in larger models this can reach 3072 or more).\n",
        "\n",
        "We can see this if we feed the inputs we preprocessed to our model:\n",
        "\n"
      ],
      "metadata": {
        "id": "bG7x3YCFhfXj"
      }
    },
    {
      "cell_type": "code",
      "execution_count": null,
      "metadata": {
        "id": "Q69uvPRqe5h1",
        "outputId": "b8867b68-b293-456c-df61-ee99b9dc9d26",
        "colab": {
          "base_uri": "https://localhost:8080/"
        }
      },
      "outputs": [
        {
          "output_type": "stream",
          "name": "stdout",
          "text": [
            "torch.Size([2, 23, 768])\n"
          ]
        }
      ],
      "source": [
        "outputs = model(**inputs)\n",
        "print(outputs.last_hidden_state.shape)"
      ]
    },
    {
      "cell_type": "markdown",
      "source": [
        "Note that the outputs of Hugginface Transformers models behave like namedtuples or dictionaries. You can access the elements by attributes (like we did) or by key (outputs[\"last_hidden_state\"]), or even by index if you know exactly where the thing you are looking for is (outputs[0])."
      ],
      "metadata": {
        "id": "P6K8E38ihzNJ"
      }
    },
    {
      "cell_type": "markdown",
      "source": [],
      "metadata": {
        "id": "NA3gHsrCh2Jl"
      }
    },
    {
      "cell_type": "markdown",
      "source": [
        "## Model heads: Making sense out of numbers\n",
        "The model heads take the high-dimensional vector of hidden states as input and project them onto a different dimension. They are usually composed of one or a few linear layers:"
      ],
      "metadata": {
        "id": "TX6DjV9bh2PB"
      }
    },
    {
      "cell_type": "markdown",
      "source": [
        "![image.png](data:image/png;base64,iVBORw0KGgoAAAANSUhEUgAABy8AAALsCAYAAABa//scAAAgAElEQVR4AeydCaxlWVW/8R8TxQkFFIdE42yC4qzghBpFjRpFQSMCKmJEFAWDA3EKjnEWCSomJhIVUHEAeoIWEXqkp+qmm567q6u65levpldVXVU97H/2vef36lXVqV37ndpvvbv2+m4CXfXOvmev8+3fXsNede97UuIFAQhAAAIQgAAEIAABCEAAAhCAAAQgAAEIQAACEIAABCAAAQhAYAEIPGkBbMAECEAAAhCAAAQgAAEIQAACEIAABCAAAQhAAAIQgAAEIAABCEAAAonmJSKAAAQgAAEIQAACEIAABCAAAQhAAAIQgAAEIAABCEAAAhCAAAQWggDNy4VYBoyAAAQgAAEIQAACEIAABCAAAQhAAAIQgAAEIAABCEAAAhCAAARoXqIBCEAAAhCAAAQgAAEIQAACEIAABCAAAQhAAAIQgAAEIAABCEBgIQjQvFyIZcAICEAAAhCAAAQgAAEIQAACEIAABCAAAQhAAAIQgAAEIAABCECA5iUagAAEIAABCEAAAhCAAAQgAAEIQAACEIAABCAAAQhAAAIQgAAEFoIAzcuFWAaMgAAEIAABCEAAAhCAAAQgAAEIQAACEIAABCAAAQhAAAIQgAAEaF6iAQhAAAIQgAAEIAABCEAAAhCAAAQgAAEIQAACEIAABCAAAQhAYCEI0LxciGXACAhAAAIQgAAEIAABCEAAAhCAAAQgAAEIQAACEIAABCAAAQhAgOYlGoAABCAAAQhAAAIQgAAEIAABCEAAAhCAAAQgAAEIQAACEIAABBaCAM3LhVgGjIAABCAAAQhAAAIQgAAEIAABCEAAAhCAAAQgAAEIQAACEIAABGheogEIQAACEIAABCAAAQhAAAIQgAAEIAABCEAAAhCAAAQgAAEIQGAhCNC8XIhlwAgIQAACEIAABCAAAQhAAAIQgAAEIAABCEAAAhCAAAQgAAEIQIDmJRqAAAQgAAEIQAACEIAABCAAAQhAAAIQgAAEIAABCEAAAhCAAAQWggDNy4VYBoyAAAQgAAEIQAACEIAABCAAAQhAAAIQgAAEIAABCEAAAhCAAARoXqIBCEAAAhCAAAQgAAEIQAACEIAABCAAAQhAAAIQgAAEIAABCEBgIQjQvFyIZcAICEAAAhCAAAQgAAEIQAACEIAABCAAAQhAAAIQgAAEIAABCECA5iUagAAEIAABCEAAAhCAAAQgAAEIQAACEIAABCAAAQhAAAIQgAAEFoIAzcuFWAaMgAAEIAABCEAAAhCAAAQgAAEIQAACEIAABCAAAQhAAAIQgAAEaF6iAQhAAAIQgAAEIAABCEAAAhCAAAQgAAEIQAACEIAABCAAAQhAYCEI0LxciGXACAhAAAIQgAAEILCYBPbt25de+MIXpk/4hE9IT3rSk9KhQ4cW01CsmhF4xStekV7/+tdDAwIQgAAEIAABCEAAAhCAAAQgAAEIuCVA89Lt0mE4BCAAAQhAAAJeCezYsSN967d+a/F/b3nLWxbi8V796lenj/3Yj03//d//nd71rncthE2LZsThw4fT+9///oUw62u+5mtmzeaFMAYjIAABCEAAAhCAAAQgAAEIQAACEIDABAI0LydA4y0QgAAEIAABCEDgYggsLy+n3/md31n939d93delJz/5yat/z9f+7//+72KmaPber/7qr04veMELmt2vxxu9973vnX0q9cSJE5v+eDQvN30JMAACEIAABCAAAQhAAAIQgAAEIACBiyRA8/IiAfJ2CEAAAhCAAAQgcLEEfv7nfz598id/8sXeZkPe/yVf8iXpxS9+8Ybcu5ebvu1tb6N52cti8hwQgAAEIAABCEAAAhCAAAQgAAEIbDoBmpebvgQYAAEIQAACEIBAdALna16+733vSz/0Qz+U9u/fn77927991iB761vfmo4cOZLe+MY3pi/4gi+Y/ezzP//z0xve8IYzMP7zP/9zeuUrXzn7HZU/9mM/Nhv3eZ/3eSk32ta+HnzwwfSjP/qj6WlPe9pszHd/93enj3zkI7Mh+attP/7jPz59+qd/+uwrbtd+le3v//7vp+c85zmz34X5vOc9L7397W9fe9u0ZcuW9G3f9m1pZWUl/cAP/MDs3n/xF3+xet9bb701vfnNb04f93EfN7v2spe9bHbtuuuuS9nO/FW13//9358OHjx4xn3zX173utelZz3rWekTP/ET03d913elXbt2rY7Ztm3bzNY9e/akn/7pn57d+9d+7ddWr+sPV111Vfq+7/u+2V9f+9rXzsZ92qd9WvqjP/ojDVn972233Tb7KtbM6LM/+7PTb/zGb6xee9WrXpW++Iu/ePb+5z73ubO5L7vsstl66P4a/I53vGN2/e6779aPUrYzc77xxhtXf5bXKDPNv2c0M/6DP/iD1Wv6Q35PXqff/M3fnM39Iz/yI7NLY5+8fMlLXjLTgt7LfyEAAQhAAAIQgAAEIAABCEAAAhCAwCIToHm5yKuDbRCAAAQgAAEIhCBwvualPtH3Dd/wDel3f/d307//+7+n3JzLXyv7Ld/yLSk3MvPvWnz9618/a2D97//+7yqvP/zDP0xPf/rT0+d8zufMrr/zne+cNcSe9KQnpdyw1OsLv/ALZ03G/N7/+I//SM9+9rNTbprmV57nUz/1U9OXf/mXz/6sr7J9xSteMZsvNxHf/e53pxe96EWzv69tjGa78ly5yfbLv/zLs9+XqaZo/vlXfMVXpB/+4R9O//Vf/5Xy8+ef/eRP/mT6si/7svQv//Iv6c/+7M/SU5/61JQbb2tfuRGam5a5eZqbgd/0Td80ax5qzF133bU670/8xE+kyy+/PN1www26vPrf/Ds885xf+7VfO2tyXnHFFbO58s/y18Dq9dBDD6WnPOUp6eu//utnDdo/+ZM/mf39937v92ZD/uEf/iF9x3d8x+xeuZGYmd1yyy3pX//1X2c/u+eee3Sr2dfv5qasmrj5Ql7Dj/qoj0pHjx6djfvHf/zH2ftywzmzzY3SbNMv/MIvrN4n/yH/LLPNc+e1y/bn19nNy5e//OWzNdy+ffsZ7+cvEIAABCAAAQhAAAIQgAAEIAABCEBgUQnQvFzUlcEuCEAAAhCAAATCELhQ8/LsTw7mT16e/fqsz/qs9LM/+7OrP86fIMwNrrUNxb17985+9rd/+7ezcfkTnXnMv/3bv62+7+w/nP21sbfffvvsPbm5uPaVPyGaG516qXmZG5Jnv/Kc3/M933PGj/M8z3jGM9LOnTtXf/6a17wmfcqnfMrq33XP/KnOta/P/MzPTLmJmF9qXuZPZJZeuWma7fit3/qtM4bl+X7pl35p9WcvfelLU/6dpGtfufGZm5DHjh2b/Vis1/7Oy/yJ0dyU/Ju/+ZvVt+avBv6Zn/mZM549/z1/ulKvPOb5z3++/jr775/+6Z/ObM3Pple2/ZnPfKb+uvrf3IzVpzDf9KY3zd431rxdfQN/gAAEIAABCEAAAhCAAAQgAAEIQAACC0aA5uWCLQjmQAACEIAABCAQj8CFmpe5YXi+V25o5U8qfu7nfm76zu/8ztVh+atGc4Pr7Ff+2W//9m+v/jh/8jJ/Wi/fY+x1dvMyf+Iw3+ORRx45Y7gai/m/+aW/X3nllWeMe/TRR2fv/+M//uMzfp5tz5+iXPv6q7/6qzPm+sVf/MX0lV/5lWuHzP6cm335Wn6peZm/Nrf0+s///M/Zvdc2BPP4/IlQNf/y3/OnPPNX9K595cZkZpC/+ja/xpqX+ef505oveMELZmOuv/762adg86cy81fx6pW/8lcN1Mwq31efcNWY48ePz36+9itt8zh9+lPj8n/VvMyfxsxj/v7v/37tZf4MAQhAAAIQgAAEIAABCEAAAhCAAAQWnsC5J1oLbzIGQgACEIAABCAAgb4InK95mb9SNDeg1n7Na37y/BWj+VOW+Xc0fvM3f/Ps03y5Cba2+Xe+5mX+PYq//uu/vgpw69ats69NzZ8kzA3Qsz9ReXbzMn+SMn/S8exXtnFts0zNs2uvvfaMoedrXn7v935vyl+Pu/alTw7q917m34GZ5xj734//+I/P3nrnnXfOrudPVpZe52te5kbuD/7gD87eurS0NDqX5s/PmF/na17mJrE+OZq/5jZ/jW1+5eZlfm/+fZf5Xh/84AdnP/+7v/u72d/zmpz9+ozP+Iz0Uz/1U7Mf58Zxft/ar5/V+Pwp0dzA/KRP+qRZ41Xv0XX+CwEIQAACEIAABCAAAQhAAAIQgAAEFp0AzctFXyHsgwAEIAABCECgewLrbV7mr2jNn0C89957V9k873nPO6P5V9u81A327du3+rsnX/3qV+vH6ezm5Stf+cr05Cc/OT3xxBOrY/IfbrrppllDLTdc82sjmpf5E5HPetazzpj37L+0bF7mJnFuEuZPgJZe52teXnPNNbP3509o5ibzW97yltltcnP0V3/1V2d/z5/s1Ouf/umfZuNvvvlm/Wj1vx/zMR+TXvWqV83+Xmpe5uZrtjnPcdVVV83+fPYnOVdvyh8gAAEIQAACEIAABCAAAQhAAAIQgMACEqB5uYCLgkkQgAAEIAABCMQisN7mZW5Onf11oN/4jd846ZOXZ5N+yUtecsZXs57dvHzHO94xa4i9853vPOOtuRn30R/90bNPE+YLG9G8zM+cn/2BBx44Y+61f2nZvMz3ffazn52e+9znrp3inD//5V/+5cyu3Ow8+/WUpzxl9rWz2W79Ps+//uu/nn2l7M/93M+l/GlSvbZv357+3//7f2d8MjZf0+/nfPe73z0bWmpe5k9e5q8Czl81m18vetGLZp+oXfv7OGcX+D8IQAACEIAABCAAAQhAAAIQgAAEILCgBGheLujCYBYEIAABCEAAAnEIrLd5+dSnPnX19zLmhtnLX/7yWfNsvV8b+4EPfGD2Cb3bbrttBvvQoUPpS7/0S9OLX/ziVfhnNy/zhfz1rk972tNS/h2NKysrs0Zqbs6t/TrajWhe5rmzfc985jPTFVdckY4dOzb7St3XvOY1q7+Ds3Xz8uqrr56xfdnLXpbuuOOOGZfcuM0NSL3e9a53zcbo93ju2rVLl2a/8zIz/KIv+qLVn33kIx+Zjc8/f8Mb3rD68/yH1772tbNrb37zm2dsM+PMem0DtdS8zJ+8fOELX7h6z2xL/nTn6173utWf8QcIQAACEIAABCAAAQhAAAIQgAAEILDIBGheLvLqYBsEIAABCEAAAiEIrLd5mZtn+Xcp5obh05/+9JS/5vVXfuVXqr42dm0jK/9uxZe+9KUpN0PzvfL/8u+eXPs7F8eal3v37k3Pec5zVt+T35fvs/a1Uc3L/OnEr/qqrzpj7uc///kpf+1tfrVuXuZ75q9zzb8rVIzy7wd94xvfuPZxZ+x1fW0TNzch88/z7yhd+3rGM54x+7kaomuv5d+NqXvl/+ZPfy4vL68OWU/zMr/pz//8z2efih2ba/Wm/AECEIAABCAAAQhAAAIQgAAEIAABCCwIAZqXC7IQmAEBCEAAAhCAAATWQyB/LWj+XYqtXrfccksa+9rT0v2vvfba9P73vz/lTxJav/Lvk8xz61OjGz3//v37Z/PlOQ8cODA63X333ZcOHjw4em29P8xM81yZMS8IQAACEIAABCAAAQhAAAIQgAAEIBCJAM3LSKvNs0IAAhCAAAQgAAEIQAACEIAABCAAAQhAAAIQgAAEIAABCEBggQnQvFzgxcE0CEAAAhCAAAQgAAEIQAACEIAABCAAAQhAAAIQgAAEIAABCEQiQPMy0mrzrBCAAAQgAAEIQAACEIAABCAAAQhAAAIQgAAEIAABCEAAAhBYYAI0Lxd4cTANAhCAAAQgAAEIQAACEIAABCAAAQhAAAIQgAAEIAABCEAAApEI0LyMtNo8KwQgAAEIQAACEIAABCAAAQhAAAIQgAAEIAABCEAAAhCAAAQWmADNywVeHEyDAAQgAAEIQAACEIAABCAAAQhAAAIQgAAEIAABCEAAAhCAQCQCNC8jrTbPCgEIQAACEIAABCAAAQhAAAIQgAAEIAABCEAAAhCAAAQgAIEFJkDzcoEXB9MgAAEIQAACEIAABCAAAQhAAAIQgAAEIAABCEAAAhCAAAQgEIkAzctIq82zQgACEIAABCAAAQhAAAIQgAAEIAABCEAAAhCAAAQgAAEIQGCBCdC8XODFwTQIQAACEIAABCAAAQhAAAIQgAAEIAABCEAAAhCAAAQgAAEIRCJA8zLSavOsEIAABCAAAQhAAAIQgAAEIAABCEAAAhCAAAQgAAEIQAACEFhgAjQvF3hxMA0CEIAABCAAAQhA4EwCb3rTm878AX+DAAQgAAEIQAACEIAABCAAAQhAAAIQ6IoAzcuulpOHgQAEIAABCEAAAn0ToHnZ9/rydBCAAAQgAAEIQAACEIAABCAAAQhAgOYlGoAABCAAAQhAAAIQcEOA5qWbpcJQCEAAAhCAAAQgAAEIQAACEIAABCAwiQDNy0nYeBMEIAABCEAAAhCAwGYQoHm5GdSZEwIQgAAEIAABCEAAAhCAAAQgAAEI2BGgeWnHmpkgAAEIQAACEIAABC6SAM3LiwTI2yEAAQhAAAIQgAAEIAABCEAAAhCAwIIToHm54AuEeRCAAAQgAAEIQAACpwnQvDzNgj9BAAIQgAAEIAABCEAAAhCAAAQgAIEeCdC87HFVeSYIQAACEIAABCDQKQGal50uLI8FAQhAAAIQgAAEIAABCEAAAhCAAAQGAjQvkQIEIAABCEAAAhCAgBsCNC/dLBWGQgACEIAABCAAAQhAAAIQgAAEIACBSQRoXk7CxpsgAAEIQAACEIAABDaDAM3LzaDOnBCAAAQgAAEIQAACEIAABCAAAQhAwI4AzUs71swEAQhAAAIQgAAEIHCRBGheXiRA3g4BCEAAAhCAAAQgAAEIQAACEIAABBacAM3LBV8gzIMABCAAAQhAAAIQOE2A5uVpFvwJAhCAAAQgAAEIQAACEIAABCAAAQj0SIDmZY+ryjNBAAIQgAAEIACBTgnQvOx0YXksCEAAAhCAAAQgAAEIQAACEIAABCAwEKB5iRQgAAEIQAACEIAABNwQoHnpZqkwFAIQgAAEIAABCEAAAhCAAAQgAAEITCJA83ISNt4EAQhAAAIQgAAEILAZBGhebgZ15oQABCAAAQhAAAIQgAAEIAABCEAAAnYEaF7asWYmCEAAAhCAAAQgAIGLJEDz8iIB8nYIQAACEIAABCAAAQhAAAIQgAAEILDgBGheLvgCYR4EIAABCEAAAhCAwGkCNC9Ps+BPEIAABCAAAQhAAAIQgAAEIAABCECgRwI0L3tcVZ4JAhCAAAQgAAEIdEqA5mWnC8tjQQACEIAABCAAAQhAAAIQgAAEIACBgQDNS6QAAQhAAAIQgAAEIOCGAM1LN0uFoRCAAAQgAAEIQAACEIAABCAAAQhAYBIBmpeTsPEmCEAAAhCAAAQgAIHNIEDzcjOoMycEIAABCEAAAhCAAAQgAAEIQAACELAjQPPSjjUzQQACEHBP4Iknnkg7duxI9957b9qyZUu64YYb+B8M0AAaMNVAbl7ie/C9aAANWGog5zw598k5UM6FeEEAAhCAAAQgAAEIQAACEIDAxhKgebmxfLk7BCAAgS4I5AO7Sy65JOWmwRVXXJHe8573pKuvvpoGAk0rNIAG0AAaQANooHsN5Jwn5z45B8q5UM6Jcm7ECwIQgAAEIAABCEAAAhCAAAQ2hgDNy43hyl0hAAEIdEHgoYceSm9961vTddddl7Zu3drFM/EQEIAABCAAAQhA4GII5Jzo2muvTW9729vStm3bLuZWvBcCEIAABCAAAQhAAAIQgAAERgjQvByBwo8gAAEIQCClq666Kl155ZVpeXkZHBCAAAQgAAEIQAACZxHYv39/eu9735uuueaas67wVwhAAAIQgAAEIAABCEAAAhC4GAI0Ly+GHu+FAAQg0CmByy+/PN16662dPh2PBQEIQAACEIAABNoRuOWWW2ZNzHZ35E4QgAAEIAABCEAAAhCAAARiE6B5GXv9eXoIQAAC5xDIjcvbb7/9nJ/zAwhAAAIQgAAEIACBcQK33Xbb7Pdijl/lpxCAAAQgAAEIQAACEIAABCCwHgI0L9dDi7EQgAAEOieQvyqWT1x2vsg8HgQgAAEIQAACG0IgfwKTr5DdELTcFAIQgAAEIAABCEAAAhAIRoDmZbAF53EhAAEInI/AQw89NPsdl+e7zs8hAAEIQAACEIAABMoE8u/A3LZtW3kQVyEAAQhAAAIQgAAEIAABCECgSIDmZREPFyEAAQjEIfDWt741LS8vx3lgnhQCEIAABCAAAQg0JrC0tJTe/va3N74rt4MABCAAAQhAAAIQgAAEIBCLAM3LWOvN00IAAhAYJXDPPfek66+/fvQaP4QABCAAAQhAAAIQqCdw7bXXpvvuu6/+DYyEAAQgAAEIQAACEIAABCAAgTMI0Lw8Awd/gQAEIBCTwCWXXJK2bt0a8+F5aghAAAIQgAAEINCQwAMPPJAuu+yyhnfkVhCAAAQgAAEIQAACEIAABGIRoHkZa715WghAAALnEHjiiSfSm970pnN+zg8gAAEIQAACEIAABNZPgNxq/cx4BwQgAAEIQAACEIAABCAAgbUEaF6upcGfIQABCAQksGPHjnTFFVcEfHIeGQIQgAAEIAABCGwMgcsvvzzt3LlzY27OXSEAAQhAAAIQgAAEIAABCHROgOZl5wvM40EAAhC4EIF77703vec977nQMK5DAAIQgAAEIAABCFQSyLlVzrF4QQACEIAABCAAAQhAAAIQgMD6CdC8XD8z3gEBCECgKwJbtmxJV199dVfPxMNAAAIQgAAEIACBzSSQc6ucY/GCAAQgAAEIQAACEIAABCAAgfUToHm5fma8AwIQgEBXBG644YaU/8cLAhCAAAQgAAEIQKANAfKrNhy5CwQgAAEIQAACEIAABCAQkwDNy5jrzlNDAAIQWCXA4doqCv4AAQhAAAIQgAAEmhAgv2qCkZtAAAIQgAAEIAABCEAAAkEJ0LwMuvA8NgQgAAER4HBNJPgvBCAAAQhAAAIQaEOA/KoNR+4CAQhAAAIQgAAEIAABCMQkQPMy5rrz1BCAAARWCXC4toqCP0AAAhCAAAQgAIEmBMivmmDkJhCAAAQgAAEIQAACEIBAUAI0L4MuPI8NAQhAQAQ4XBMJ/gsBCEAAAhCAAATaECC/asORu0AAAhCAAAQgAAEIQAACMQnQvIy57jw1BCAAgVUCHK6touAPEIAABCAAAQhAoAkB8qsmGLkJBCAAAQhAAAIQgAAEIBCUAM3LoAvPY0MAAhAQAQ7XRIL/QgACEIAABCAAgTYEyK/acOQuEIAABCAAAQhAAAIQgEBMAjQvY647Tw0BCEBglQCHa6so+AMEIAABCEAAAhBoQoD8qglGbgIBCEAAAhCAAAQgAAEIBCVA8zLowvPYEIAABESAwzWR4L8QgAAEIAABCECgDQHyqzYcuQsEIAABCEAAAhCAAAQgEJMAzcuY685TQwACEFglwOHaKgr+AAEIQAACEIAABJoQIL9qgpGbQAACEIAABCAAAQhAAAJBCdC8DLrwPPa5BB5/IqXDKyntW05p196Utu9KaeuOlO7bltLdD6Z01wP8rwWDzDIzzWwz48w6M8/s8xrwCkjg8VMpnTiQ0vE9Ka1sT+nwAykdvCul/beltO+mlPZcm9Luq/kfDNAAGkADaAANoIEzNZBzhJwr7P/wPHfIOUTOJXJOkXOLnGPwCkWAms6mZqWmC7StnngspWM7h/psS0p7P5TS7qtS2vE/KW2/LKVtl/C/CAzyWu9433ztswb23zrXRNZG1givbggQR4mj3YiZB+mCAM3LLpaRh5hK4LHHUzp4JKXtu1O6m+bkpjdo8xo8vHu+JnlteHVM4NSRlFa2pbS05cxDSA5l4YEG0AAaQANoAA201EDONXLOcWql48Qq9qNR09kctNb+Q1Zqug724+Mn534zN6m20aCkQXuhBvVlKe27Yf6Ph7J2eLkjQBwljroTLQaHIUDzMsxS86BrCRx/JKVtu84NTg9sT2nX7pT27k1paSmlA8spHTmY0tFDKR07zP9aMMgsM9PMNjPOrDPzB7edux75k5mPnFi7cvzZLYH8rzEf2Z/SwXtS2nP9uYey+29Jafn2lA7dmdKRB1I69lBKx3emdHJvSqeWU3r0IP+DARpAA2gADaABNHCmBnKOkHOFnDPk3CHnEDmXyDlFzi3OboLmHOTQvfOchE+KuE0rZTg13ebVp9R0UmFn/z2xnNLe6879JOXO96W0dH1KyzendPDWlA7dkdLK3SkdvT+lY7l243/dM8hrndc8r33WwPJNc03set+5etl7fUonD3a2Ofp8HOIocbRPZfNUPRGgednTavIsFyRw8tT8U5b6V6P3PJjSth0pLe2jQdmiMXmx98hFcF6LvCZ5bbRO+dOYee14OSSQDwaPPJTS7rO++nXPh1I6+JGUjm9P6dSBMw8iOZiFBxpAA2gADaABNNBCAznHyLlGzjnO+cdT184/WfQEX/fhLcPMdUGuD1QrUNNt3uHrWP1HTedtR6X5J9Nnn7IcPmGXvyJ0zwdTOrglpaP30pykOVvWQNZI1krWzNqvEt53I996sKDugDi6WHHz7FhKHF3QjYNZm0KA5uWmYGdSawKnHk1p5941Be7W+Sf+zg4Q/H2xAnj+VObaJmZew7yWvDwQeCKlY7tSyv/qUp96yJ+AOHJfSif2cCDb4kCWe6AjNIAG0AAaQAPr00DOQXIusrTmU5n5wP7Ybg/JVXgbH6Wmc/ltQNR0C7x1Hz0294f6nY3bL0/pwE3lRhWNPPhcSAP5U5lZS9LV/i0pPXZ8gTdCHNOIo4t15ll7Bk0cjbNHedJzCdC8PJcJP+mMwOGV003L/Ps38leUHuUrYN0UvjILwTAAACAASURBVHmtdu5K6e7hk5j5v0eOdibS3h4nfz3svptONy2XP5zSqaX1HS5yGAsvNIAG0AAaQANoYCM1cHJfSsu3nc5X9t2cUv7KRF4LSSDXdKv1wAPz+oCazs8hLDXdAm6r/A9Nt106bzBtvzSlpev4GtgLNeW4vo7G7X0p7bs2paytWRPzMv6h0Ca7gbPjKGejfmJobnISRzd5AzH9phGgeblp6JnYgsC+5dONy+07Ulo56Cs41f4rnAjjjhxKKa+hvh5q6YCFgphjXQROraS0/9Y1h4A3zn8H1UYePHJvDrbRABpAA2gADaCBi9FA/n2Z+avtVr8p4ja+5m5dCeDGD6am66eGpabb+P1SNcPBu05/Km7PVSkdvWcdTSl+v2X3v9+yZZN25Z6Ussb0Kcz8e6d5mRMgjhJHzUXHhBBoRIDmZSOQ3GaxCDz+eErbd80bXfnTlstL/QSqCI3K0jPuX0opr2luYubfdZPXmtcCEDj68OlDv735X+1u5SD1Yg5SeS/6QQNoAA2gATRgq4Gcu+QcRk3MozsXIMGKbULO8/W7Lanp+qpnqek2aW8//lhKq7/b8tKUDn6YpmXLRh33Or+eDt52+pO++R8MPfHYJm2CWNMSR/uKnWvPSomjsfZy5KeleRl59Tt99kcfS+nBh+fNrfz7Eg8u9xus1gauSH/Oa6qvjcpr/Rh57+bt5ieeSOnQ/acP+vLvkDq53/awkcNdeKMBNIAG0AAaQAMtNJBzmKWbT+c1OcfJuQ4vcwLUdP3XsNR0xtvqsRMp7frA8DWxl6V0+CPnbzTRhIPNRmjg8B0pbbtsrsFdH0zp8RPGmyDWdMRR4mgsxfO0vRKgednrygZ9rvyvitS4vHdrSocO9B+sIjUt1z5rXtu8xvkTmHnN+QTmJmz6Jx5PafmO0wd8B+5I6dQBDk9bHJ5yD3SEBtAAGkADaGBzNJBzmQO3r8lv7kwp5zy8zAhQ08WpYanpjLZV/sSlGpcPX5HSkbtozm1Ec457XlhXh+9MKWswf43srIHJv0TfCC9AHCWOboSuuCcENoMAzcvNoM6cG0Zgx555M+veB1PKv09jbbOLP/fHI69xXuvcwMxrz8uQwOOnUlracvpgb+X+zTlg5GAX7mgADaABNIAG0MBGaODI2m+W2JJSzn14mRCgpuuvbivV4tR0Bttq303zZlFuGuXfQUiTDQabqYGsQTUwl24y2ADxpiCOEkfjqZ4n7pUAzcteVzbgcy0dmDex8u9D4ati4wTq2dcNDb8DM2uAlwGB/JVD+fdU5N8JtefalI7v4NB0Iw5NuSe6QgNoAA2gATSwuRo49vA818k5Tz78zzkQrw0lQE0Xp45b29CkptvAbXXonnnjctulfFXsZjbsmPvMhnH+2uKsyfwJzKxRXs0IEEeJo5yNNttO3GgBCNC8XIBFwISLJ3BkZd64zJ/Ay7+0eG0hxJ/757G07/T6H165eD1xhwKBxx+dH97lQ7y9H0rpxJ7NPVTkUBf+aAANoAE0gAbQwEZq4JE985xHDcycC/HaEALUdP3XbaXanJpuA7bVsV1D4/KSlA7eembziGYaPDZbAwduPa3PrFVeF02AOEoczefi+X+cjV70duIGC0KA5uWCLARmTCeQfwn13cNXh+7eEztQlYrB3q/t2j188vbBlLImeG0QgeXhd0DtvSGlU/s5LN3Iw1Lujb7QABpAA2gADSyGBk7uTynnPrmBmX/fN6/mBKjpqGNzvUpN13Br5U+Kb79s3hxa+hCNus1u1DH/uAazNvOnL7dfzrcbXOT2J44SR4mjF7mJePtCEqB5uZDLglHrIbB7+NTdQw8TqHpvUF7o+bIG8r8w2r20HgUxtprA4Qx3+KpYPnG5GIepHGqzDmgADaABNIAGbDSQc5/8dfk5F8o5Ea+mBKjpqGVV61HTNdpayx+eN4V2f2C8aUQzDS6LooGs0dzAzJrlNZkAcZQ4ShydvH144wIToHm5wIuDaRcmcOLkvFl1z4MprRwiUClQRf1v1oA+hXvy5IX1w4h1EDi2Z35Ylw/s+B2XNoekHEbDGQ2gATSABtDAYmng2I7T+dCx3etIpBhaIkBNRx27tn6lpivtlsprp46c/jTb0fto0i1Kkw47xrWYNapPCZ/i9wBV7vIzhhFHiaPE0TO2BH/piADNy44WM+KjbN81fNJuN4FqbaCK/Of81cH505dZG7waETh56PRB3coDi3WIyKEu64EG0AAaQANoAA1YamDl/tN50cnDjZKt2LehpqOWPbt+paa7SJ+wd/gqzv03jDeLaKLBZdE0oK+PzdrltW4CxFHiKHF03duGNzghQPPSyUJh5rkEjh0//anLo3zqMp0dqKL+fe2/1D16/Fzd8JN1Enj0eEp7rpsf0h24g8NRy8NR5kJvaAANoAE0gAYWUwM5J5p9lf51KT36yDqTK4avJUBNx4HrWN1KTbd2l6zzz4/s51OXi9aYw54LN4vXfvryEX4P0Hp2PXGUOEocXc+OYaw3AjQvva0Y9q4SWP2XRXsIVGOBKvLPdu/m05erG+Vi/7C0ZX44t3RLSqcOLOYBIge7rAsaQANoAA2gATRgqYGcEy3dPM+R9t92sdlW6PdT01HLnq9upaab6BpWP3V544UbRjTVYLRIGsifFM6/+5JPX65r8xNHiaPE0XVtGQY7I0Dz0tmCYe6cwGOPz5tT+etBVw4SqM4XqKL+PGsiayP/L2uF10QCJ5bnh3K7r0np5BKHopaHosyF3tAAGkADaAANLLYGTuxLKedI+ROYJw5MTLZiv42ajjq2VK9S003wD48/Om/+5AbQyr005hapMYctF9Zj1mzW7rZLU3r81IQNEO8txFHiKHE03r6P9sQ0L6OteCfPe3hl3pjaup1AVQpUka9lbeTmZdYKrwkEnngipX03zQ/kDt+z2IeHHO6yPmgADaABNIAG0MBmaODQ3fNcKX9DBa91E6Cmo5a9UL1KTbfObXV0x7z5s+v9F24U0UyD0SJqIGs3NzCP7Vyn+GMOJ44SR4mjMfd+pKemeRlptTt61h175o2pPXsJVBcKVFGv7x40krXCawKB43vnh3H5912eWuZAdDMORJkT3aEBNIAG0AAaWGwNnNx/+neDH983IeGK/RZqOmrZC9Wq1HTr9BFLN80bP8s30ZhbxMYcNl1Yl/tvnGs4fzU7rwsSII4SR4mjF9wmDHBOgOal8wWMaH7+QNjdD86bl0f4yth0oUAV9frhA3ONZK1kzfBaB4EnHk9p7w3z5uXKA4t9aLj2UDc3WVfuS2l5S0r7PpTSnqtT2vV/KT383pS2XzovgmZfQ5O/iob/wWAdGsj6efjKuZ6yrvbdMNdZ1hvN/fP7CPYkvgZfiwamasCT3z1y/zxnyrlTzqF4VRGgpuPAtaZOpaar2k7zQdn/bL9sHndW7r5wk4hGGowWUQNH7pprOGuZmFp0AMRR4ihxtLhFuNgJAZqXnSxkpMdYOTZvSj3wEIGqJlBFHnP/trlWsmZ4rYNA/rqh/Pub9n4opVMHzt+YWNs43Kw/n9yX0uG7543KbUOxPvWglPdxyD5JA5eltPealPLXK2c9btZeWJR52ZPso0n7aB3/mID7o7Ec7xfJ7+ZcKedMOXfia+6qE05qOmrZ2jqVmq5yWx3fM48PO/+HptwiNuWwqV6XO66cazl/GxSv8xIgjhJHiaPn3R5c6IgAzcuOFjPKoywNn6h7eCeBqjZQRR23fee8eZk1w6uSwOOPnv76s6MPLW4j5ti2lPZcde4B7s73pbR0fUrLN6d08NaUDt2RUv6Xx0fvry+WKCxhdbYGsn6yjrKesq7yV3Flne1637kazLo8/vDi7p2NanKyJ9k3Z+8b/o4mLkYD3vzu0a3z5uWe61N6/LHKpCv2MGo6atnaGpWartJXHLpnnpfmf9xxMf6X98JvszWQv+km/2O1rGle5yVAHCWOEkfPuz240BEBmpcdLWaUR9m9NG9I5d9/UeuoGReT1a7dg1aWouyOBs95bPf88G3fTYvZfHlk1/Apy+FTOtsvT2nPB1M6uCWlY/dRaG52oRlx/qP3zvWXdaiv6srF9p5rU8p63ahm4aLclz2J34m473nmzdX9ovrdfTfOcyg+KVKVkFLTxazPptTl1HRVWyql5Q/PGz77P7S5PpoYCf+L1UD+R6K5nlq+vVL8MYcRR4mjtTGVOBrTR/Ty1DQve1nJQM/x8NCQ2rePQFUbqKKO27t33rzMv8ScVyWBA3fOD95Wti5W0+XE7pT2DkVMLmRy0zJ/+u0Yn6jkX1Y/sFgHBFmXWZ9Zp/l/+fevntyzWPupReOTPblYurvYQyLez3p61sCi+N2VB+c51MG7KpOu2MOo6ahla2tUarpKX5H/AUXOPQ/cTEzzHNOwff4tSrM66qZK8cccRhwljhJHY+79aE9N8zLainfwvFt3zBtSy0sEqtpAFXXc8v65Vh7a2YHwLR4h/8b33dfOD95OLi1Os+XIfSltu3RejG+/dP51nXwNLIcSC13Y35fSvutSynqdNTEvTenI/Yuzpy62ecmeZP8t9P5bsH/QACuj/bIAfvfE3nkOtee6lHJOxatIgJqOWra2RqWmK26l0xfz793NeefB2438LvGWf0S6QRo4dNtcy3uuOa1v/nQOAeIocZQ4es624AcdEqB52eGi9v5I92+bN6QOHSBQ1QaqqOMOLs+1cv/23ndFo+c7eWh+6La0QF8Zu7xlaP7kr+G8KqWj91CMcxDuRwMr95z5NccHPuy/gcme9KM/fAVrFVEDm+13l4avjj15uFFy1u9tqOmoZWtrVGq6Sj+wY/hd7EfuIv5FjH89PfPhO+dnADv/t1L8MYcRR4mjxNGYez/aU9O8jLbiHTzvXQ/MG1IrhwhUtYEq6riVg3Ot3PNgB8K3eIQjW+fNy0N3b36D5eT+lPK/tNSn1g5+mCK8p4I02rMczP96ePgU5t5rUzq1vPl7bL2fvmRP4oOi7Vue17fmN8vvHrprnksdecgic3M9BzUdtWxtjUpNV7nVlWsevc+3/yb+sn4r987PAbZfUSn+mMOIo8RR4mjMvR/tqWleRlvxDp5XAbrWSTMudkCXXjqQ/sY/wtIt8wO34zs2t7FyYl9K+V9Z5sbl9stSOnwHBRxFvH8NZB3rd2HufH9KJ/dt7j5bT/OSPelff/gQ1jCiBjbD7x5/ePgWiy0bn7c5n0E5OrVa7Fqtdv2lF+ey31jzZ//o8xLiXcR41+MzS88bu2tc311+sdaPMi52vJVeXIse40MSoHkZctl9P7QcLoE3duCtXX/pxbfqDax/7OT8sG33NSmdOrB5TZVT+083Lh++IiW+9ogDiJ6K8aznrOtcjOcGZtb7epqImzGWPcke7GkP8izx9Gztd/Mn63MulX/33OOnDBI4v1MoR6/N6RkXu/aTXvwq3sByNXuIdfFiXY9rLj0bbB2vU8gvEh9jx8fa9ZdevOodu+MSoHkZd+3dPrkcbq2DZlzsQC69uBW8leEn8mHb1Skt37a5zZQ9180bO7nBk39vVY+FGM8Ue12zrtXAzF8huxkNyfXMyZ6MrVf8Fevfgwas/W7OpXJOdeKAVRbnch7l6NRqsWu12vWXXlyK3cpoNXt68Ns8A/mH9Gy1fxzOI79Y60cZFzveSi8OpY7JwQnQvAwuAI+PL4dL4I0deGvXX3rxqHVTm4/tnh+0Hb5n85opB/LvBbxk/rsBD3+Ego2ivV8NZH3r9xJl3a+nmWg5lj3ZrwbxL6xtNA1Y+t38u8Nz8/L4XtNUzttkytFrc3rGxa79pBdvOje1V82eaP6d5+0zp5GeTTeRr8nkF4mPseNj7fpLL75UjrUQSInmJSpwR0AOt9ZBMy52IJde3And2uCV7fODtpX7N6eRcuS+oXF5SUoHb+2zAKOwZl3XauDArac1n/Vv2ZSsmYs9iV7X6pU/o4ceNGDld7P/zM3Low9bZ3Ou5lOOTq0Wu1arXX/pxZXIrY1Vs6cHf80zkHdIz9b7yNF88ou1fpRxseOt9OJI4pgKgRkBmpcIwR0BOVwCb+zAW7v+0os7oVsbfPj+4aBtq30T5cS+lLZdNm/kLH2IQo1iPY4Gst5zYb79spRO7LXfe+drYrIn42gQf8NaR9OAhd9d2TrPqQ4/YJ3NuZpPOXptTs+42LWf9OJK5NbGqtkTza/zvH3mMtKz9T5yNJ/8IvExdnysXX/pxZHEMRUCMwI0LxGCOwJyuLUOmnGxA7n04k7o1gYfuHN+0Hb8YfsGytJN8wbO7g/0WXhRULOuJQ1k3efiPO+D8zUTrX/OnkSzJc1yDX1418BG+91jw7dZHLzbOptzNZ9ydGq12LVa7fpLL65Ebm2smj3efTT2k2dkDUjP1vvI0Xzyi7V+lHGx46304kjimAqBGQGalwjBHQE5XAJv7MBbu/7SizuhWxu8/7Z58/KR3bYNlOM7h0+eXZ7S0fso1CjW42kg6z5/8jIX6I/sst1/Y01R9mQ8DeJ3WPNoGthov5t9ef7a2OUPW2dzruZTjl6b0zMudu0nvbgSubWxavZE8+k8b595jPRsvY8czSe/SHyMHR9r1196cSRxTIXAjADNS4TgjoAcbq2DZlzsQC69uBO6tcH7bpwftJ3cZ9s82XPNvGmz/4Y+iy6Kada1RgP6GsO8H8YaipY/Y0+i2RrNMgadeNfARvrd/NXbuXm57ybrbM7VfMrRqdVi12q16y+9uBK5tbFq9nj3z9hPjpE1ID1b7yNH88kv1vpRxsWOt9KLI4ljKgRmBGheIgR3BORwCbyxA2/t+ksv7oRubfDua+YHbacO2DVPjj7Epy4pzinOswbWfgoo7wvLZuXaudiT6BGfhAaiaGAj/e6p/fOcas911tmcq/mUo9fm9IyLXftJL65Ebm2smj1R/DjP2XfOIj1b7yNH88kvEh9jx8fa9ZdeHEkcUyEwI0DzEiG4IyCHW+ugGRc7kEsv7oRubXD+hED+39pGxkb/efUTXjf2XXhRWLO+NRrInz7ORfpmfvqSPYlWa7TKGHTSiwY20u8qr7LO5xzNpxydWi12rVa7/tKLI4nbm6pmTy8+mueInW9Iz/Y7yc2M8ou1fpRxseOt9OJG4BgKgYEAzUuk4I6AHC6BN3bgrV1/6cWd0K0N1iHbRjcsdf+T+09/FczKvbELMwpz1j9rIO+DWZF+aUonl2z/IUHel+xJdIgvQgPRNLCRfld5lXU+52g+5ei1OT3jYtd+0osjidubqmZPNF/O8/aZv0jP9jvJzYzyi8TH2PGxdv2lFzcCx1AIDARoXiIFdwTkcGsdNONiB3LpxZ3QrQ3WIZuaixv938P3zBs1u97fZ7FFEc26TtFA3g+5UD9yr33zkj2JZqdolvegG+8a2Ci/q7zKOp9zNJ9ydGq12LVa7fpLL44kbm+qmj3e/TL2k1tkDUjP9jvJzYzyi7V+lHGx46304kbgGAqBgQDNS6TgjoAcLoE3duCtXX/pxZ3QrQ3WIdtGNy11/33XzQuS5ZsozijQ0YA0sP/G+b7Yd71985I9iQ6lQ/6LFiJpYKP8rvIq63zO0XzK0WtzesbFrv2kF0cStzdVzZ5IPpxn7TdnkZ7td5KbGeUXiY+x42Pt+ksvbgSOoRAYCNC8RAruCMjh1jpoxsUO5NKLO6FbG6xDNjUXN/K/p5ZT2nbZvEmzcne/BRfFNGu7Xg0cuWv4V8aXpZT3yUbuw7X3Zk+i1fVqlfFophcNbJTfVV5lnc85mk85OrVa7Fqtdv2lF0cStzdVzZ5e/DPPETvXkJ7td5KbGeUXa/0o42LHW+nFjcAxFAIDAZqXSMEdATlcAm/swFu7/tKLO6FbG6xDtrUNjY3688rwNTA7/yd2QUZBzvqPaWDHlUNj/0G75iV7Ei2OaZGfoYsoGtgIv6u8yjqfczSfcvTanJ5xsWs/6cWRxO1NVbMniu/mOfvOU6Rn+53kZkb5ReJj7PhYu/7SixuBYygEBgI0L5GCOwJyuLUOmnGxA7n04k7o1gbrkG2jGpZr73vgtnlzZu81fRdcFNSs7xQN7Ll6vj/yPlm7bzbyz+xJtDpFq7wH3fSigY3wu8qrrPM5R/MpR6dWi12r1a6/9OJI4vamqtnTi2/mOWLnGdKz/U5yM6P8Yq0fZVzseCu9uBE4hkJgIEDzEim4IyCHS+CNHXhr1196cSd0a4N1yLaRDRLde+mmeXNm/4diF2QU5Kz/mAaWrp/vj7xPtGc2+r/sSbQ4pkV+hi6iaGAj/K7yKut8ztF8ytFrc3rGxa79pBdHErc3Vc2eKL6b5+w7T5Ge7XeSmxnlF4mPseNj7fpLL24EjqEQGAjQvEQK7gjI4dY6aMbFDuTSizuhWxusQ7aNbpLk+++9dvhk2c19F1wU1KzvFA0s3zzfH3uvs2tesifR6hSt8h5004sGNsLvKq+yzucczaccnVotdq1Wu/7SiyOJ25uqZk8vvpnniJ1nSM/2O8nNjPKLtX6UcbHjrfTiRuAYCoGBAM1LpOCOgBwugTd24K1df+nFndCtDdYhm0XzctcH5s2Zg7fHLsgoyFn/MQ0cGr5WefcH7ZqX7Em0OKZFfoYuomhgI/yu8irrfM7RfMrRa3N6xsWu/aQXRxK3N1XNnii+m+fsO0+Rnu13kpsZ5ReJj7HjY+36Sy9uBI6hEBgI0LxECu4IyOHWOmjGxQ7k0os7oVsbrEM2i+bljivnzcsjd/VdcFFQs75TNHD4zvn+2Pk/ds1L9iRanaJV3oNuetHARvhd5VXW+Zyj+ZSjU6vFrtVq1196cSRxe1PV7OnFN/McsfMM6dl+J7mZUX6x1o8yLna8lV7cCBxDITAQoHmJFNwRkMMl8MYOvLXrL724E7q1wTpks2hebrt03pw5el/sgoyCnPUf08DKvfP9sf0Ku+YlexItjmmRn6GLKBrYCL+rvMo6n3M0n3L02pyecbFrP+nFkcTtTVWzJ4rv5jn7zlOkZ/ud5GZG+UXiY+z4WLv+0osbgWMoBAYCNC+RgjsCcri1DppxsQO59OJO6NYG65DNpHl5ybw5Q8HZd8HJ+k5fXxXrFvsxz6H5WLPpawY72KEB3xqQH2zld5VXWedzjuZTjk6tFrtWq11/6cWRxO1NlR8jHvmOR6zffP2kZ/ud5GZG+cVaP8q42PFWenEjcAyFwECA5iVScEdADpfAGzvw1q6/9OJO6NYG65Ct1aFd6T4qRCjMKKzRwLgGtEdK+6jlNc3HeoyvB1zgggb614D8YCvfqrzKOp9zNJ9y9NqcnnGxaz/pxZHE7U2VHyNm9R+zIqyx9Gy/k9zMKL9IfIwdH2vXX3pxI3AMhcBAgOYlUnBHQA631kEzLnYgl17cCd3aYB2ytTq0K91HhUiEootn5PBgiga0R0r7qOU1zTfFVt6DxtEAGuhBA/KDrXyr8irrfM7RfMrRqdVi12q16y+9OJK4vanyYz34ZJ6B3EJ6tt9JbmaUX6z1o4yLHW+lFzcCx1AIDARoXiIFdwTkcAm8sQNv7fpLL+6Ebm2wDtlaHdqV7qNChKKUohQNjGtAe6S0j1pe03ysx/h6wAUuaKB/DcgPtvKtyqus8zlH8ylHr83pGRe79pNeHEnc3lT5MWJW/zErwhpLz/Y7yc2M8ovEx9jxsXb9pRc3AsdQCAwEaF4iBXcE5HBrHTTjYgdy6cWd0K0N1iFbq0O70n1UiEQounhGDg+maEB7pLSPWl7TfFNs5T1oHA2ggR40ID/Yyrcqr7LO5xzNpxydWi12rVa7/tKLI4nbmyo/1oNP5hnILaRn+53kZkb5xVo/yrjY8VZ6cSNwDIXAQIDmJVJwR0AOl8AbO/DWrr/04k7o1gbrkK3VoV3pPipEKEopStHAuAa0R0r7qOU1zcd6jK8HXOCCBvrXgPxgK9+qvMo6n3M0n3L02pyecbFrP+nFkcTtTZUfI2b1H7MirLH0bL+T3Mwov0h8jB0fa9dfenEjcAyFwECA5iVScEdADrfWQTMudiCXXtwJ3dpgHbK1OrQr3UeFSISii2fk8GCKBrRHSvuo5TXNN8VW3oPG0QAa6EED8oOtfKvyKut8ztF8ytGp1WLXarXrL704kri9qfJjPfhknoHcQnq230luZpRfrPWjjIsdb6UXNwLHUAgMBGheIgV3BORwCbyxA2/t+ksv7oRubbAO2Vod2pXuo0KEopSiFA2Ma0B7pLSPWl7TfKzH+HrABS5ooH8NyA+28q3Kq6zzOUfzKUevzekZF7v2k14cSdzeVPkxYlb/MSvCGkvP9jvJzYzyi8TH2PGxdv2lFzcCx1AIDARoXiIFdwTkcGsdNONiB3LpxZ3QrQ3WIVurQ7vSfVSIRCi6eEYOD6ZoQHuktI9aXtN8U2zlPWgcDaCBHjQgP9jKtyqvss7nHM2nHJ1aLXatVrv+0osjidubKj/Wg0/mGcgtpGf7neRmRvnFWj/KuNjxVnpxI3AMhcBAgOYlUnBHQA6XwBs78Nauv/TiTujWBuuQrdWhXek+KkQoSilK0cC4BrRHSvuo5TXNx3qMrwdc4IIG+teA/GAr36q8yjqfczSfcvTanJ5xsWs/6cWRxO1NlR8jZvUfsyKssfRsv5PczCi/SHyMHR9r1196cSNwDIXAQIDmJVJwR0AOt9ZBMy52IJde3And2mAdsrU6tCvdR4VIhKKLZ+TwYIoGtEdK+6jlNc03xVbeg8bRABroQQPyg618q/Iq63zO0XzK0anVYtdqtesvvTiSuL2p8mM9+GSegdxCerbfSW5mlF+s9aOMix1vpRc3AsdQCAwEaF4iBXcE5HAJvLEDb+36Sy/uhG5tsA7ZWh3ale6jQoSilKIUDYxrQHuktI9aXtN8rMf4esAFLmigfw3ID7byrcqrrPM5R/MpR6/N6RkXu/aTXhxJ3N5U+TFiVv8xK8IaS8/2EUMcEAAAIABJREFUO8nNjPKLxMfY8bF2/aUXNwLHUAgMBGheIgV3BORwax0042IHcunFndCtDdYhW6tDu9J9VIhEKLp4Rg4PpmhAe6S0j1pe03xTbOU9aBwNoIEeNCA/2Mq3Kq+yzucczaccnVotdq1Wu/7SiyOJ25sqP9aDT+YZyC2kZ/ud5GZG+cVaP8q42PFWenEjcAyFwECA5iVScEdADpfAGzvw1q6/9OJO6NYG65Ct1aFd6T4qRChKKUrRwLgGtEdK+6jlNc3HeoyvB1zgggb614D8YCvfqrzKOp9zNJ9y9NqcnnGxaz/pxZHE7U2VHyNm9R+zIqyx9Gy/k9zMKL9IfIwdH2vXX3pxI3AMhcBAgOYlUnBHQA631kEzLnYgl17cCd3aYB2ytTq0K91HhUiEootn5PBgiga0R0r7qOU1zTfFVt6DxtEAGuhBA/KDrXyr8irrfM7RfMrRqdVi12q16y+9OJK4vanyYz34ZJ6B3EJ6tt9JbmaUX6z1o4yLHW+lFzcCx1AIDARoXiIFdwTkcAm8sQNv7fpLL+6Ebm2wDtlaHdqV7qNChKKUohQNjGtAe6S0j1pe03ysx/h6wAUuaKB/DcgPtvKtyqus8zlH8ylHr83pGRe79pNeHEnc3lT5MWJW/zErwhpLz/Y7yc2M8ovEx9jxsXb9pRc3AsdQCAwEaF4iBXcE5HBrHTTjYgdy6cWd0K0N1iFbq0O70n1UiEQounhGDg+maEB7pLSPWl7TfFNs5T1oHA2ggR40ID/Yyrcqr7LO5xzNpxydWi12rVa7/tKLI4nbmyo/1oNP5hnILaRn+53kZkb5xVo/yrjY8VZ6cSNwDIXAQIDmJVJwR0AOl8AbO/DWrr/04k7o1gbrkK3VoV3pPipEKEopStHAuAa0R0r7qOU1zcd6jK8HXOCCBvrXgPxgK9+qvMo6n3M0n3L02pyecbFrP+nFkcTtTZUfI2b1H7MirLH0bL+T3Mwov0h8jB0fa9dfenEjcAyFwECA5iVScEdADrfWQTMudiCXXtwJ3dpgHbK1OrQr3UeFSISii2fk8GCKBrRHSvuo5TXNN8VW3oPG0QAa6EED8oOtfKvyKut8ztF8ytGp1WLXarXrL704kri9qfJjPfhknoHcQnq230luZpRfrPWjjIsdb6UXNwLHUAgMBGheIgV3BORwCbyxA2/t+ksv7oRubbAO2Vod2pXuo0KEopSiFA2Ma0B7pLSPWl7TfKzH+HrABS5ooH8NyA+28q3Kq6zzOUfzKUevzekZF7v2k14cSdzeVPkxYlb/MSvCGkvP9jvJzYzyi8TH2PGxdv2lFzcCx1AIDARoXiIFdwTkcGsdNONiB3LpxZ3QrQ3WIVurQ7vSfVSIRCi6eEYOD6ZoQHuktI9aXtN8U2zlPWgcDaCBHjQgP9jKtyqvss7nHM2nHJ1aLXatVrv+0osjidubKj/Wg0/mGcgtpGf7neRmRvnFWj/KuNjxVnpxI3AMhcBAgOYlUnBHQA6XwBs78Nauv/TiTujWBuuQrdWhXek+KkQoSilK0cC4BrRHSvuo5TXNx3qMrwdc4IIG+teA/GAr36q8yjqfczSfcvTanJ5xsWs/6cWRxO1NlR8jZvUfsyKssfRsv5PczCi/SHyMHR9r1196cSNwDIXAQIDmJVJwR0AOt9ZBMy52IJde3And2mAdsrU6tCvdR4VIhKKLZ+TwYIoGtEdK+6jlNc03xVbeg8bRABroQQPyg618q/Iq63zO0XzK0anVYtdqtesvvTiSuL2p8mM9+GSegdxCerbfSW5mlF+s9aOMix1vpRc3AsdQCAwEaF4iBXcE5HAJvLEDb+36Sy/uhG5tsA7ZWh3ale6jQoSilKIUDYxrQHuktI9aXtN8rMf4esAFLmigfw3ID7byrcqrrPM5R/MpR6/N6RkXu/aTXhxJ3N5U+TFiVv8xK8IaS8/2O8nNjPKLxMfY8bF2/aUXNwLHUAgMBGheIgV3BORwax0042IHcunFndCtDdYhW6tDu9J9VIhEKLp4Rg4PpmhAe6S0j1pe03xTbOU9aBwNoIEeNCA/2Mq3Kq+yzucczaccnVotdq1Wu/7SiyOJ25sqP9aDT+YZyC2kZ/ud5GZG+cVaP8q42PFWenEjcAyFwECA5iVScEdADpfAGzvw1q6/9OJO6NYG65Ct1aFd6T4qRChKKUrRwLgGtEdK+6jlNc3HeoyvB1zgggb614D8YCvfqrzKOp9zNJ9y9NqcnnGxaz/pxZHE7U2VHyNm9R+zIqyx9Gy/k9zMKL9IfIwdH2vXX3pxI3AMhcBAgOYlUnBHQA631kEzLnYgl17cCd3aYB2ytTq0K91HhUiEootn5PBgiga0R0r7qOU1zTfFVt6DxtEAGuhBA/KDrXyr8irrfM7RfMrRqdVi12q16y+9OJK4vanyYz34ZJ6B3EJ6tt9JbmaUX6z1o4yLHW+lFzcCx1AIDARoXiIFdwTkcAm8sQNv7fpLL+6Ebm2wDtlaHdqV7qNChKKUohQNjGtAe6S0j1pe03ysx/h6wAUuaKB/DcgPtvKtyqus8zlH8ylHr83pGRe79pNeHEnc3lT5MWJW/zErwhpLz/Y7yc2M8ovEx9jxsXb9pRc3AsdQCAwEaF4iBXcE5HBrHTTjYgdy6cWd0K0N1iFbq0O70n1UiEQounhGDg+maEB7pLSPWl7TfFNs5T1oHA2ggR40ID/Yyrcqr7LO5xzNpxydWi12rVa7/tKLI4nbmyo/1oNP5hnILaRn+53kZkb5xVo/yrjY8VZ6cSNwDIXAQIDmJVJwR0AOl8AbO/DWrr/04k7o1gbrkK3VoV3pPipEKEopStHAuAa0R0r7qOU1zcd6jK8HXOCCBvrXgPxgK9+qvMo6n3M0n3L02pyecbFrP+nFkcTtTZUfI2b1H7MirLH0bL+T3Mwov0h8jB0fa9dfenEjcAyFwECA5iVScEdADrfWQTMudiCXXtwJ3dpgHbK1OrQr3UeFSISii2fk8GCKBrRHSvuo5TXNN8VW3oPG0QAa6EED8oOtfKvyKut8ztF8ytGp1WLXarXrL704kri9qfJjPfhknoHcQnq230luZpRfrPWjjIsdb6UXNwLHUAgMBGheIgV3BORwCbyxA2/t+ksv7oRubbAO2Vod2pXuo0KEopSiFA2Ma0B7pLSPWl7TfKzH+HrABS5ooH8NyA+28q3Kq6zzOUfzKUevzekZF7v2k14cSdzeVPkxYlb/MSvCGkvP9jvJzYzyi8TH2PGxdv2lFzcCx1AIDARoXiIFdwTkcGsdNONiB3LpxZ3QrQ3WIVurQ7vSfVSIRCi6eEYOD6ZoQHuktI9aXtN8U2zlPWgcDaCBHjQgP9jKtyqvss7nHM2nHJ1aLXatVrv+0osjidubKj/Wg0/mGcgtpGf7neRmRvnFWj/KuNjxVnpxI3AMhcBAgOYlUnBHQA6XwBs78Nauv/TiTujWBuuQrdWhXek+KkQoSilK0cC4BrRHSvuo5TXNx3qMrwdc4IIG+teA/GAr36q8yjqfczSfcvTanJ5xsWs/6cWRxO1NlR8jZvUfsyKssfRsv5PczCi/SHyMHR9r1196cSNwDIXAQIDmJVJwR0AOt9ZBMy52IJde3And2mAdsrU6tCvdR4VIhKKLZ+TwYIoGtEdK+6jlNc03xVbeg8bRABroQQPyg618q/Iq63zO0XzK0anVYtdqtesvvTiSuL2p8mM9+GSegdxCerbfSW5mlF+s9aOMix1vpRc3AsdQCAwEaF4iBXcE5HAJvLEDb+36Sy/uhG5tsA7ZWh3ale6jQoSilKIUDYxrQHuktI9aXtN8rMf4esAFLmigfw3ID7byrcqrrPM5R/MpR6/N6RkXu/aTXhxJ3N5U+TFiVv8xK8IaS8/2O8nNjPKLxMfY8bF2/aUXNwLHUAgMBGheIgV3BORwax0042IHcunFndCtDdYhW6tDu9J9VIhEKLp4Rg4PpmhAe6S0j1pe03xTbOU9aBwNoIEeNCA/2Mq3Kq+yzucczaccnVotdq1Wu/7SiyOJ25sqP9aDT+YZyC2kZ/ud5GZG+cVaP8q42PFWenEjcAyFwECA5iVScEdADpfAGzvw1q6/9OJO6NYG65Ct1aFd6T4qRChKKUrRwLgGtEdK+6jlNc3HeoyvB1zgggb614D8YCvfqrzKOp9zNJ9y9NqcnnGxaz/pxZHE7U2VHyNm9R+zIqyx9Gy/k9zMKL9IfIwdH2vXX3pxI3AMhcBAgOYlUnBHQA631kEzLnYgl17cCd3aYB2ytTq0K91HhUiEootn5PBgiga0R0r7qOU1zTfFVt6DxtEAGuhBA/KDrXyr8irrfM7RfMrRqdVi12q16y+9OJK4vanyYz34ZJ6B3EJ6tt9JbmaUX6z1o4yLHW+lFzcCx1AIDARoXiIFdwTkcAm8sQNv7fpLL+6Ebm2wDtlaHdqV7qNChKKUohQNjGtAe6S0j1pe03ysx/h6wAUuaKB/DcgPtvKtyqus8zlH8ylHr83pGRe79pNeHEnc3lT5MWJW/zErwhpLz/Y7yc2M8ovEx9jxsXb9pRc3AsdQCAwEaF4iBXcE5HBrHTTjYgdy6cWd0K0N1iFbq0O70n1UiEQounhGDg+maEB7pLSPWl7TfFNs5T1oHA2ggR40ID/Yyrcqr7LO5xzNpxydWi12rVa7/tKLI4nbmyo/1oNP5hnILaRn+53kZkb5xVo/yrjY8VZ6cSNwDIXAQIDmJVJwR0AOl8AbO/DWrr/04k7o1gbrkK3VoV3pPipEKEopStHAuAa0R0r7qOU1zcd6jK8HXOCCBvrXgPxgK9+qvMo6n3M0n3L02pyecbFrP+nFkcTtTZUfI2b1H7MirLH0bL+T3Mwov0h8jB0fa9dfenEjcAyFwECA5iVScEdADrfWQTMudiCXXtwJ3dpgHbK1OrQr3UeFSISii2fk8GCKBrRHSvuo5TXNN8VW3oPG0QAa6EED8oOtfKvyKut8ztF8ytGp1WLXarXrL704kri9qfJjPfhknoHcQnq230luZpRfrPWjjIsdb6UXNwLHUAgMBGheIgV3BORwCbyxA2/t+ksv7oRubbAO2Vod2pXuo0KEopSiFA2Ma0B7pLSPWl7TfKzH+HrABS5ooH8NyA+28q3Kq6zzOUfzKUevzekZF7v2k14cSdzeVPkxYlb/MSvCGkvP9jvJzYzyi8TH2PGxdv2lFzcCx1AIDARoXiIFdwTkcGsdNONiB3LpxZ3QrQ3WIVurQ7vSfVSIRCi6eEYOD6ZoQHuktI9aXtN8U2zlPWgcDaCBHjQgP9jKtyqvss7nHM2nHJ1aLXatVrv+0osjidubKj/Wg0/mGcgtpGf7neRmRvnFWj/KuNjxVnpxI3AMhcBAgOYlUnBHQA6XwBs78Nauv/TiTujWBuuQrdWhXek+KkQoSilK0cC4BrRHSvuo5TXNx3qMrwdc4IIG+teA/GAr36q8yjqfczSfcvTanJ5xsWs/6cWRxO1NlR8jZvUfsyKssfRsv5PczCi/SHyMHR9r1196cSNwDIXAQIDmJVJwR0AOt9ZBMy52IJde3And2mAdsrU6tCvdR4VIhKKLZ+TwYIoGtEdK+6jlNc03xVbeg8bRABroQQPyg618q/Iq63zO0XzK0anVYtdqtesvvTiSuL2p8mM9+GSegdxCerbfSW5mlF+s9aOMix1vpRc3AsdQCAwEaF4iBXcE5HAJvLEDb+36Sy/uhG5tsA7ZWh3ale6jQoSilKIUDYxrQHuktI9aXtN8rMf4esAFLmigfw3ID7byrcqrrPM5R/MpR6/N6RkXu/aTXhxJ3N5U+TFiVv8xK8IaS8/2O8nNjPKLxMfY8bF2/aUXNwLHUAgMBGheIgV3BORwax0042IHcunFndCtDdYhW6tDu9J9VIhEKLp4Rg4PpmhAe6S0j1pe03xTbOU9aBwNoIEeNCA/2Mq3Kq+yzucczaccnVotdq1Wu/7SiyOJ25sqP9aDT+YZyC2kZ/ud5GZG+cVaP8q42PFWenEjcAyFwECA5iVScEdADpfAGzvw1q6/9OJO6NYG65Ct1aFd6T4qRChKKUrRwLgGtEdK+6jlNc3HeoyvB1zgggb614D8YCvfqrzKOp9zNJ9y9NqcnnGxaz/pxZHE7U2VHyNm9R+zIqyx9Gy/k9zMKL9IfIwdH2vXX3pxI3AMhcBAgOYlUnBHQA631kEzLnYgl17cCd3aYB2ytTq0K91HhUiEootn5PBgiga0R0r7qOU1zTfFVt6DxtEAGuhBA/KDrXyr8irrfM7RfMrRqdVi12q16y+9OJK4vanyYz34ZJ6B3EJ6tt9JbmaUX6z1o4yLHW+lFzcCx1AIDARoXiIFdwTkcAm8sQNv7fpLL+6Ebm2wDtlaHdqV7qNChKKUohQNjGtAe6S0j1pe03ysx/h6wAUuaKB/DcgPtvKtyqus8zlH8ylHr83pGRe79pNeHEnc3lT5MWJW/zErwhpLz/Y7yc2M8ovEx9jxsXb9pRc3AsdQCAwEaF4iBXcE5HBrHTTjYgdy6cWd0K0N1iFbq0O70n1UiEQounhGDg+maEB7pLSPWl7TfFNs5T1oHA2ggR40ID/Yyrcqr7LO5xzNpxydWi12rVa7/tKLI4nbmyo/1oNP5hnILaRn+53kZkb5xVo/yrjY8VZ6cSNwDIXAQIDmJVJwR0AOl8AbO/DWrr/04k7o1gbrkK3VoV3pPipEKEopStHAuAa0R0r7qOU1zcd6jK8HXOCCBvrXgPxgK9+qvMo6n3M0n3L02pyecbFrP+nFkcTtTZUfI2b1H7MirLH0bL+T3Mwov0h8jB0fa9dfenEjcAyFwECA5iVScEdADrfWQTMudiCXXtwJ3dpgHbK1OrQr3UeFSISii2fk8GCKBrRHSvuo5TXNN8VW3oPG0QAa6EED8oOtfKvyKut8ztF8ytGp1WLXarXrL704kri9qfJjPfhknoHcQnq230luZpRfrPWjjIsdb6UXNwLHUAgMBGheIgV3BORwCbyxA2/t+ksv7oRubbAO2Vod2pXuo0KEopSiFA2Ma0B7pLSPWl7TfKzH+HrABS5ooH8NyA+28q3Kq6zzOUfzKUevzekZF7v2k14cSdzeVPkxYlb/MSvCGkvP9jvJzYzyi8TH2PGxdv2lFzcCx1AIDARoXiIFdwTkcGsdNONiB3LpxZ3QrQ3WIVurQ7vSfVSIRCi6eEYOD6ZoQHuktI9aXtN8U2zlPWgcDaCBHjQgP9jKtyqvss7nHM2nHJ1aLXatVrv+0osjidubKj/Wg0/mGcgtpGf7neRmRvnFWj/KuNjxVnpxI3AMhcBAgOYlUnBHQA6XwBs78Nauv/TiTujWBuuQrdWhXek+KkQoSilK0cC4BrRHSvuo5TXNx3qMrwdc4IIG+teA/GAr36q8yjqfczSfcvTanJ5xsWs/6cWRxO1NlR8jZvUfsyKssfRsv5PczCi/SHyMHR9r1196cSNwDIXAQIDmJVJwR0AOt9ZBMy52IJde3And2mAdsrU6tCvdR4VIhKKLZ+TwYIoGtEdK+6jlNc03xVbeg8bRABroQQPyg618q/Iq63zO0XzK0anVYtdqtesvvTiSuL2p8mM9+GSegdxCerbfSW5mlF+s9aOMix1vpRc3AsdQCAwEaF4iBXcE5HAJvLEDb+36Sy/uhG5tsA7ZWh3ale6jQoSilKIUDYxrQHuktI9aXtN8rMf4esAFLmigfw3ID7byrcqrrPM5R/MpR6/N6RkXu/aTXhxJ3N5U+TFiVv8xK8IaS8/2O8nNjPKLxMfY8bF2/aUXNwLHUAgMBGheIgV3BORwax0042IHcunFndCtDdYhW6tDu9J9VIhEKLp4Rg4PpmhAe6S0j1pe03xTbOU9aBwNoIEeNCA/2Mq3Kq+yzucczaccnVotdq1Wu/7SiyOJ25sqP9aDT+YZyC2kZ/ud5GZG+cVaP8q42PFWenEjcAyFwECA5iVScEdADpfAGzvw1q6/9OJO6NYG65Ct1aFd6T4qRChKKUrRwLgGtEdK+6jlNc3HeoyvB1zgggb614D8YCvfqrzKOp9zNJ9y9NqcnnGxaz/pxZHE7U2VHyNm9R+zIqyx9Gy/k9zMKL9IfIwdH2vXX3pxI3AMhcBAgOYlUnBHQA631kEzLnYgl17cCd3aYB2ytTq0K91HhUiEootn5PBgiga0R0r7qOU1zTfFVt6DxtEAGuhBA/KDrXyr8irrfM7RfMrRqdVi12q16y+9OJK4vanyYz34ZJ6B3EJ6tt9JbmaUX6z1o4yLHW+lFzcCx1AIDARoXiIFdwTkcAm8sQNv7fpLL+6Ebm2wDtlaHdqV7qNChKKUohQNjGtAe6S0j1pe03ysx/h6wAUuaKB/DcgPtvKtyqus8zlH8ylHr83pGRe79pNeHEnc3lT5MWJW/zErwhpLz/Y7yc2M8ovEx9jxsXb9pRc3AsdQCAwEaF4iBXcE5HBrHTTjYgdy6cWd0K0N1iFbq0O70n1UiEQounhGDg+maEB7pLSPWl7TfFNs5T1oHA2ggR40ID/Yyrcqr7LO5xzNpxydWi12rVa7/tKLI4nbmyo/1oNP5hnILaRn+53kZkb5xVo/yrjY8VZ6cSNwDIXAQIDmJVJwR0AOl8AbO/DWrr/04k7o1gbrkK3VoV3pPipEKEopStHAuAa0R0r7qOU1zcd6jK8HXOCCBvrXgPxgK9+qvMo6n3M0n3L02pyecbFrP+nFkcTtTZUfI2b1H7MirLH0bL+T3Mwov0h8jB0fa9dfenEjcAyFwECA5iVScEdADrfWQTMudiCXXtwJ3dpgHbK1OrQr3UeFSISii2fk8GCKBrRHSvuo5TXNN8VW3oPG0QAa6EED8oOtfKvyKut8ztF8ytGp1WLXarXrL704kri9qfJjPfhknoHcQnq230luZpRfrPWjjIsdb6UXNwLHUAgMBGheIgV3BORwCbyxA2/t+ksv7oRubbAO2Vod2pXuo0KEopSiFA2Ma0B7pLSPWl7TfKzH+HrABS5ooH8NyA+28q3Kq6zzOUfzKUevzekZF7v2k14cSdzeVPkxYlb/MSvCGkvP9jvJzYzyi8TH2PGxdv2lFzcCx1AIDARoXiIFdwTkcGsdNONiB3LpxZ3QrQ3WIVurQ7vSfVSIRCi6eEYOD6ZoQHuktI9aXtN8U2zlPWgcDaCBHjQgP9jKtyqvss7nHM2nHJ1aLXatVrv+0osjidubKj/Wg0/mGcgtpGf7neRmRvnFWj/KuNjxVnpxI3AMhcBAgOYlUnBHQA6XwBs78Nauv/TiTujWBuuQrdWhXek+KkQoSilK0cC4BrRHSvuo5TXNx3qMrwdc4IIG+teA/GAr36q8yjqfczSfcvTanJ5xsWs/6cWRxO1NlR8jZvUfsyKssfRsv5PczCi/SHyMHR9r1196cSNwDIXAQIDmJVJwR0AOt9ZBMy52IJde3And2mAdsrU6tCvdR4VIhKKLZ+TwYIoGtEdK+6jlNc03xVbeg8bRABroQQPyg618q/Iq63zO0XzK0anVYtdqtesvvTiSuL2p8mM9+GSegdxCerbfSW5mlF+s9aOMix1vpRc3AsdQCAwEaF4iBXcE5HAJvLEDb+36Sy/uhG5tsA7ZWh3ale6jQoSilKIUDYxrQHuktI9aXtN8rMf4esAFLmigfw3ID7byrcqrrPM5R/MpR6/N6RkXu/aTXhxJ3N5U+TFiVv8xK8IaS8/2O8nNjPKLxMfY8bF2/aUXNwLHUAgMBGheIgV3BORwax0042IHcunFndCtDdYhW6tDu9J9VIhEKLp4Rg4PpmhAe6S0j1pe03xTbOU9aBwNoIEeNCA/2Mq3Kq+yzucczaccnVotdq1Wu/7SiyOJ25sqP9aDT+YZyC2kZ/ud5GZG+cVaP8q42PFWenEjcAyFwECA5iVScEdADpfAGzvw1q6/9OJO6NYG65Ct1aFd6T4qRChKKUrRwLgGtEdK+6jlNc3HeoyvB1zgggb614D8YCvfqrzKOp9zNJ9y9NqcnnGxaz/pxZHE7U2VHyNm9R+zIqyx9Gy/k9zMKL9IfIwdH2vXX3pxI3AMhcBAgOYlUnBHQA631kEzLnYgl17cCd3aYB2ytTq0K91HhUiEootn5PBgiga0R0r7qOU1zTfFVt6DxtEAGuhBA/KDrXyr8irrfM7RfMrRqdVi12q16y+9OJK4vanyYz34ZJ6B3EJ6tt9JbmaUX6z1o4yLHW+lFzcCx1AIDARoXiIFdwTkcAm8sQNv7fpLL+6Ebm2wDtlaHdqV7qNChKKUohQNjGtAe6S0j1pe03ysx/h6wAUuaKB/DcgPtvKtyqus8zlH8ylHr83pGRe79pNeHEnc3lT5MWJW/zErwhpLz/Y7yc2M8ovEx9jxsXb9pRc3AsdQCAwEaF4iBXcE5HBrHTTjYgdy6cWd0K0N1iFbq0O70n1UiEQounhGDg+maEB7pLSPWl7TfFNs5T1oHA2ggR40ID/Yyrcqr7LO5xzNpxydWi12rVa7/tKLI4nbmyo/1oNP5hnILaRn+53kZkb5xVo/yrjY8VZ6cSNwDIXAQIDmJVJwR0AOl8AbO/DWrr/04k7o1gbrkK3VoV3pPipEKEopStHAuAa0R0r7qOU1zcd6jK8HXOCCBvrXgPxgK9+qvMo6n3M0n3L02pyecbFrP+nFkcTtTZUfI2b1H7MirLH0bL+T3Mwov0h8jB0fa9dfenEjcAyFwECA5iVScEdADrfWQTMudiCXXtwJ3dpgHbK1OrQr3UeFSISii2fk8GCKBrRHSvuo5TXNN8VW3oPG0QAa6EED8oOtfKvyKut8ztF8ytGp1WLXarXrL704kri9qfJjPfhknoHcQnq230luZpRfrPWjjIsdb6UXNwLHUAgMBGheIgV3BORwCbyxA2/t+ksv7oRubbAO2Vod2pXuo0KEopSiFA2Ma0B7pLSPWl40nkCQAAAgAElEQVTTfKzH+HrABS5ooH8NyA+28q3Kq6zzOUfzKUevzekZF7v2k14cSdzeVPkxYlb/MSvCGkvP9jvJzYzyi8TH2PGxdv2lFzcCx1AIDARoXiIFdwTkcGsdNONiB3LpxZ3QrQ3WIVurQ7vSfVSIRCi6eEYOD6ZoQHuktI9aXtN8U2zlPWgcDaCBHjQgP9jKtyqvss7nHM2nHJ1aLXatVrv+0osjidubKj/Wg0/mGcgtpGf7neRmRvnFWj/KuNjxVnpxI3AMhcBAgOYlUnBHQA6XwBs78Nauv/TiTujWBuuQrdWhXek+KkQoSilK0cC4BrRHSvuo5TXNx3qMrwdc4IIG+teA/GAr36q8yjqfczSfcvTanJ5xsWs/6cWRxO1NlR8jZvUfsyKssfRsv5PczCi/SHyMHR9r1196cSNwDIXAQIDmJVJwR0AOt9ZBMy52IJde3And2mAdsrU6tCvdR4VIhKKLZ+TwYIoGtEdK+6jlNc03xVbeg8bRABroQQPyg618q/Iq63zO0XzK0anVYtdqtesvvTiSuL2p8mM9+GSegdxCerbfSW5mlF+s9aOMix1vpRc3AsdQCAwEaF4iBXcE5HAJvLEDb+36Sy/uhG5tsA7ZWh3ale6jQoSilKIUDYxrQHuktI9aXtN8rMf4esAFLmigfw3ID7byrcqrrPM5R/MpR6/N6RkXu/aTXhxJ3N5U+TFiVv8xK8IaS8/2O8nNjPKLxMfY8bF2/aUXNwLHUAgMBGheIgV3BORwax0042IHcunFndCtDdYhW6tDu9J9VIhEKLp4Rg4PpmhAe6S0j1pe03xTbOU9aBwNoIEeNCA/2Mq3Kq+yzucczaccnVotdq1Wu/7SiyOJ25sqP9aDT+YZyC2kZ/ud5GZG+cVaP8q42PFWenEjcAyFwECA5iVScEdADpfAGzvw1q6/9OJO6NYG65Ct1aFd6T4qRChKKUrRwLgGtEdK+6jlNc3HeoyvB1zgggb614D8YCvfqrzKOp9zNJ9y9NqcnnGxaz/pxZHE7U2VHyNm9R+zIqyx9Gy/k9zMKL9IfIwdH2vXX3pxI3AMhcBAgOYlUnBHQA631kEzLnYgl17cCd3aYB2ytTq0K91HhUiEootn5PBgiga0R0r7qOU1zTfFVt6DxtEAGuhBA/KDrXyr8irrfM7RfMrRqdVi12q16y+9OJK4vanyYz34ZJ6B3EJ6tt9JbmaUX6z1o4yLHW+lFzcCx1AIDARoXiIFdwTkcAm8sQNv7fpLL+6Ebm2wDtlaHdqV7qNChKKUohQNjGtAe6S0j1pe03ysx/h6wAUuaKB/DcgPtvKtyqus8zlH8ylHr83pGRe79pNeHEnc3lT5MWJW/zErwhpLz/Y7yc2M8ovEx9jxsXb9pRc3AsdQCAwEaF4iBXcE5HBrHTTjYgdy6cWd0K0N1iFbq0O70n1UiEQounhGDg+maEB7pLSPWl7TfFNs5T1oHA2ggR40ID/Yyrcqr7LO5xzNpxydWi12rVa7/tKLI4nbmyo/1oNP5hnILaRn+53kZkb5xVo/yrjY8VZ6cSNwDIXAQIDmJVJwR0AOl8AbO/DWrr/04k7o1gbrkK3VoV3pPipEKEopStHAuAa0R0r7qOU1zcd6jK8HXOCCBvrXgPxgK9+qvMo6n3M0n3L02pyecbFrP+nFkcTtTZUfI2b1H7MirLH0bL+T3Mwov0h8jB0fa9dfenEjcAyFwECA5iVScEdADrfWQTMudiCXXtwJ3dpgHbK1OrQr3UeFSISii2fk8GCKBrRHSvuo5TXNN8VW3oPG0QAa6EED8oOtfKvyKut8ztF8ytGp1WLXarXrL704kri9qfJjPfhknoHcQnq230luZpRfrPWjjIsdb6UXNwLHUAgMBGheIgV3BORwCbyxA2/t+ksv7oRubbAO2Vod2pXuo0KEopSiFA2Ma0B7pLSPWl7TfKzH+HrABS5ooH8NyA+28q3Kq6zzOUfzKUevzekZF7v2k14cSdzeVPkxYlb/MSvCGkvP9jvJzYzyi8TH2PGxdv2lFzcCx1AIDARoXiIFdwTkcGsdNONiB3LpxZ3QrQ3WIVurQ7vSfVSIRCi6eEYOD6ZoQHuktI9aXtN8U2zlPWgcDaCBHjQgP9jKtyqvss7nHM2nHJ1aLXatVrv+0osjidubKj/Wg0/mGcgtpGf7neRmRvnFWj/KuNjxVnpxI3AMhcBAgOYlUnBHQA6XwBs78Nauv/TiTujWBuuQrdWhXek+KkQoSilK0cC4BrRHSvuo5TXNx3qMrwdc4IIG+teA/GAr36q8yjqfczSfcvTanJ5xsWs/6cWRxO1NlR8jZvUfsyKssfRsv5PczCi/SHyMHR9r1196cSNwDIXAQIDmJVJwR0AOt9ZBMy52IJde3And2mAdsrU6tCvdR4VIhKKLZ+TwYIoGtEdK+6jlNc03xVbeg8bRABroQQPyg618q/Iq63zO0XzK0anVYtdqtesvvTiSuL2p8mM9+GSegdxCerbfSW5mlF+s9aOMix1vpRc3AsdQCAwEaF4iBXcE5HAJvLEDb+36Sy/uhG5tsA7ZWh3ale6jQoSilKIUDYxrQHuktI9aXtN8rMf4esAFLmigfw3ID7byrcqrrPM5R/MpR6/N6RkXu/aTXhxJ3N5U+TFiVv8xK8IaS8/2O8nNjPKLxMfY8bF2/aUXNwLHUAgMBGheIgV3BORwax0042IHcunFndCtDdYhW6tDu9J9VIhEKLp4Rg4PpmhAe6S0j1pe03xTbOU9aBwNoIEeNCA/2Mq3Kq+yzucczaccnVotdq1Wu/7SiyOJ25sqP9aDT+YZyC2kZ/ud5GZG+cVaP8q42PFWenEjcAyFwECA5iVScEdADpfAGzvw1q6/9OJO6NYG65Ct1aFd6T4qRChKKUrRwLgGtEdK+6jlNc3HeoyvB1zgggb614D8YCvfqrzKOp9zNJ9y9NqcnnGxaz/pxZHE7U2VHyNm9R+zIqyx9Gy/k9zMKL9IfIwdH2vXX3pxI3AMhcBAgOYlUnBHQA631kEzLnYgl17cCd3aYB2ytTq0K91HhUiEootn5PBgiga0R0r7qOU1zTfFVt6DxtEAGuhBA/KDrXyr8irrfM7RfMrRqdVi12q16y+9OJK4vanyYz34ZJ6B3EJ6tt9JbmaUX6z1o4yLHW+lFzcCx1AIDARoXiIFdwTkcAm8sQNv7fpLL+6Ebm2wDtlaHdqV7qNChKKUohQNjGtAe6S0j1pe03ysx/h6wAUuaKB/DcgPtvKtyqus8zlH8ylHr83pGRe79pNeHEnc3lT5MWJW/zErwhpLz/Y7yc2M8ovEx9jxsXb9pRc3AsdQCAwEaF4iBXcE5HBrHTTjYgdy6cWd0K0N1iFbq0O70n1UiEQounhGDg+maEB7pLSPWl7TfFNs5T1oHA2ggR40ID/Yyrcqr7LO5xzNpxydWi12rVa7/tKLI4nbmyo/1oNP5hnILaRn+53kZkb5xVo/yrjY8VZ6cSNwDIXAQIDmJVJwR0AOl8AbO/DWrr/04k7o1gbrkK3VoV3pPipEKEopStHAuAa0R0r7qOU1zcd6jK8HXOCCBvrXgPxgK9+qvMo6n3M0n3L02pyecbFrP+nFkcTtTZUfI2b1H7MirLH0bL+T3Mwov0h8jB0fa9dfenEjcAyFwECA5iVScEdADrfWQTMudiCXXtwJ3dpgHbK1OrQr3UeFSISii2fk8GCKBrRHSvuo5TXNN8VW3oPG0QAa6EED8oOtfKvyKut8ztF8ytGp1WLXarXrL704kri9qfJjPfhknoHcQnq230luZpRfrPWjjIsdb6UXNwLHUAgMBGheIgV3BORwCbyxA2/t+ksv7oRubbAO2Vod2pXuo0KEopSiFA2Ma0B7pLSPWl7TfKzH+HrABS5ooH8NyA+28q3Kq6zzOUfzKUevzekZF7v2k14cSdzeVPkxYlb/MSvCGkvP9jvJzYzyi8TH2PGxdv2lFzcCx1AIDARoXiIFdwTkcGsdNONiB3LpxZ3QrQ3WIVurQ7vSfVSIRCi6eEYOD6ZoQHuktI9aXtN8U2zlPWgcDaCBHjQgP9jKtyqvss7nHM2nHJ1aLXatVrv+0osjidubKj/Wg0/mGcgtpGf7neRmRvnFWj/KuNjxVnpxI3AMhcBAgOYlUnBHQA6XwBs78Nauv/TiTujWBuuQrdWhXek+KkQoSilK0cC4BrRHSvuo5TXNx3qMrwdc4IIG+teA/GAr36q8yjqfczSfcvTanJ5xsWs/6cWRxO1NlR8jZvUfsyKssfRsv5PczCi/SHyMHR9r1196cSNwDIXAQIDmJVJwR0AOt9ZBMy52IJde3And2mAdsrU6tCvdR4VIhKKLZ+TwYIoGtEdK+6jlNc03xVbeg8bRABroQQPyg618q/Iq63zO0XzK0anVYtdqtesvvTiSuL2p8mM9+GSegdxCerbfSW5mlF+s9aOMix1vpRc3AsdQCAwEaF4iBXcE5HAJvLEDb+36Sy/uhG5tsA7ZWh3ale6jQoSilKIUDYxrQHuktI9aXtN8rMf4esAFLmigfw3ID7byrcqrrPM5R/MpR6/N6RkXu/aTXhxJ3N5U+TFiVv8xK8IaS8/2O8nNjPKLxMfY8bF2/aUXNwLHUAgMBGheIgV3BORwax0042IHcunFndCtDdYhW6tDu9J9VIhEKLp4Rg4PpmhAe6S0j1pe03xTbOU9aBwNoIEeNCA/2Mq3Kq+yzucczaccnVotdq1Wu/7SiyOJ25sqP9aDT+YZyC2kZ/ud5GZG+cVaP8q42PFWenEjcAyFwECA5iVScEdADpfAGzvw1q6/9OJO6NYG65Ct1aFd6T4qRChKKUrRwLgGtEdK+6jlNc3HeoyvB1zgggb614D8YCvfqrzKOp9zNJ9y9NqcnnGxaz/pxZHE7U2VHyNm9R+zIqyx9Gy/k9zMKL9IfIwdH2vXX3pxI3AMhcBAgOYlUnBHQA631kEzLnYgl17cCd3aYB2ytTq0K91HhUiEootn5PBgiga0R0r7qOU1zTfFVt6DxtEAGuhBA/KDrXyr8irrfM7RfMrRqdVi12q16y+9OJK4vanyYz34ZJ6B3EJ6tt9JbmaUX6z1o4yLHW+lFzcCx1AIDARoXiIFdwTkcAm8sQNv7fpLL+6Ebm2wDtlaHdqV7qNChKKUohQNjGtAe6S0j1pe03ysx/h6wAUuaKB/DcgPtvKtyqus8zlH8ylHr83pGRe79pNeHEnc3lT5MWJW/zErwhpLz/Y7yc2M8ovEx9jxsXb9pRc3AsdQCAwEaF4iBXcE5HBrHTTjYgdy6cWd0K0N1iFbq0O70n1UiEQounhGDg+maEB7pLSPWl7TfFNs5T1oHA2ggR40ID/Yyrcqr7LO5xzNpxydWi12rVa7/tKLI4nbmyo/1oNP5hnILaRn+53kZkb5xVo/yrjY8VZ6cSNwDIXAQIDmJVJwR0AOl8AbO/DWrr/04k7o1gbrkK3VoV3pPipEKEopStHAuAa0R0r7qOU1zcd6jK8HXOCCBvrXgPxgK9+qvMo6n3M0n3L02pyecbFrP+nFkcTtTZUfI2b1H7MirLH0bL+T3Mwov0h8jB0fa9dfenEjcAyFwECA5iVScEdADrfWQTMudiCXXtwJ3dpgHbK1OrQr3UeFSISii2fk8GCKBrRHSvuo5TXNN8VW3oPG0QAa6EED8oOtfKvyKut8ztF8ytGp1WLXarXrL704kri9qfJjPfhknoHcQnq230luZpRfrPWjjIsdb6UXNwLHUAgMBGheIgV3BORwCbyxA2/t+ksv7oRubbAO2Vod2pXuo0KEopSiFA2Ma0B7pLSPWl7TfKzH+HrABS5ooH8NyA+28q3Kq6zzOUfzKUevzekZF7v2k14cSdzeVPkxYlb/MSvCGkvP9jvJzYzyi8TH2PGxdv2lFzcCx1AIDARoXiIFdwTkcGsdNONiB3LpxZ3QrQ3WIVurQ7vSfVSIRCi6eEYOD6ZoQHuktI9aXtN8U2zlPWgcDaCBHjQgP9jKtyqvss7nHM2nHJ1aLXatVrv+0osjidubKj/Wg0/mGcgtpGf7neRmRvnFWj/KuNjxVnpxI3AMhcBAgOYlUnBHQA6XwBs78Nauv/TiTujWBuuQrdWhXek+KkQoSilK0cC4BrRHSvuo5TXNx3qMrwdc4IIG+teA/GAr36q8yjqfczSfcvTanJ5xsWs/6cWRxO1NlR8jZvUfsyKssfRsv5PczCi/SHyMHR9r1196cSNwDIXAQIDmJVJwR0AOt9ZBMy52IJde3And2mAdsrU6tCvdR4VIhKKLZ+TwYIoGtEdK+6jlNc03xVbeg8bRABroQQPyg618q/Iq63zO0XzK0anVYtdqtesvvTiSuL2p8mM9+GSegdxCerbfSW5mlF+s9aOMix1vpRc3AsdQCAwEaF4iBXcE5HAJvLEDb+36Sy/uhG5tsA7ZWh3ale6jQoSilKIUDYxrQHuktI9aXtN8rMf4esAFLmigfw3ID7byrcqrrPM5R/MpR6/N6RkXu/aTXhxJ3N5U+TFiVv8xK8IaS8/2O8nNjPKLxMfY8bF2/aUXNwLHUAgMBGheIgV3BORwax0042IHcunFndCtDdYhW6tDu9J9VIhEKLp4Rg4PpmhAe6S0j1pe03xTbOU9aBwNoIEeNCA/2Mq3Kq+yzucczaccnVotdq1Wu/7SiyOJ25sqP9aDT+YZyC2kZ/ud5GZG+cVaP8q42PFWenEjcAyFwECA5iVScEdADpfAGzvw1q6/9OJO6NYG65Ct1aFd6T4qRChKKUrRwLgGtEdK+6jlNc3HeoyvB1zgggb614D8YCvfqrzKOp9zNJ9y9NqcnnGxaz/pxZHE7U2VHyNm9R+zIqyx9Gy/k9zMKL9IfIwdH2vXX3pxI3AMhcBAgOYlUnBHQA631kEzLnYgl17cCd3aYB2ytTq0K91HhUiEootn5PBgiga0R0r7qOU1zTfFVt6DxtEAGuhBA/KDrXyr8irrfM7RfMrRqdVi12q16y+9OJK4vanyYz34ZJ6B3EJ6tt9JbmaUX6z1o4yLHW+lFzcCx1AIDARoXiIFdwTkcAm8sQNv7fpLL+6Ebm2wDtlaHdqV7qNChKKUohQNjGtAe6S0j1pe03ysx/h6wAUuaKB/DcgPtvKtyqus8zlH8ylHr83pGRe79pNeHEnc3lT5MWJW/zErwhpLz/Y7yc2M8ovEx9jxsXb9pRc3AsdQCAwEaF4iBXcE5HBrHTTjYgdy6cWd0K0N1iFbq0O70n1UiEQounhGDg+maEB7pLSPWl7TfFNs5T1oHA2ggR40ID/Yyrcqr7LO5xzNpxydWi12rVa7/tKLI4nbmyo/1oNP5hnILaRn+53kZkb5xVo/yrjY8VZ6cSNwDIXAQIDmJVJwR0AOl8AbO/DWrr/04k7o1gbrkK3VoV3pPipEKEopStHAuAa0R0r7qOU1zcd6jK8HXOCCBvrXgPxgK9+qvMo6n3M0n3L02pyecbFrP+nFkcTtTZUfI2b1H7MirLH0bL+T3Mwov0h8jB0fa9dfenEjcAyFwECA5iVScEdADrfWQTMudiCXXtwJ3dpgHbK1OrQr3UeFSISii2fk8GCKBrRHSvuo5TXNN8VW3oPG0QAa6EED8oOtfKvyKut8ztF8ytGp1WLXarXrL704kri9qfJjPfhknoHcQnq230luZpRfrPWjjIsdb6UXNwLHUAgMBGheIgV3BORwCbyxA2/t+ksv7oRubbAO2Vod2pXuo0KEopSiFA2Ma0B7pLSPWl7TfKzH+HrABS5ooH8NyA+28q3Kq6zzOUfzKUevzekZF7v2k14cSdzeVPkxYlb/MSvCGkvP9jvJzYzyi8TH2PGxdv2lFzcCx1AIDARoXiIFdwTkcGsdNONiB3LpxZ3QrQ3WIVurQ7vSfVSIRCi6eEYOD6ZoQHuktI9aXtN8U2zlPWgcDaCBHjQgP9jKtyqvss7nHM2nHJ1aLXatVrv+0osjidubKj/Wg0/mGcgtpGf7neRmRvnFWj/KuNjxVnpxI3AMhcBAgOYlUnBHQA6XwBs78Nauv/TiTujWBuuQrdWhXek+KkQoSilK0cC4BrRHSvuo5TXNx3qMrwdc4IIG+teA/GAr36q8yjqfczSfcvTanJ5xsWs/6cWRxO1NlR8jZvUfsyKssfRsv5PczCi/SHyMHR9r1196cSNwDIXAQIDmJVJwR0AOt9ZBMy52IJde3And2mAdsrU6tCvdR4VIhKKLZ+TwYIoGtEdK+6jlNc03xVbeg8bRABroQQPyg618q/Iq63zO0XzK0anVYtdqtesvvTiSuL2p8mM9+GSegdxCerbfSW5mlF+s9aOMix1vpRc3AsdQCAwEaF4iBXcE5HAJvLEDb+36Sy/uhG5tsA7ZWh3ale6jQoSilKIUDYxrQHuktI9aXtN8rMf4esAFLmigfw3ID7byrcqrrPM5R/MpR6/N6RkXu/aTXhxJ3N5U+TFiVv8xK8IaS8/2O8nNjPKLxMfY8bF2/aUXNwLHUAgMBGheIgV3BORwax0042IHcunFndCtDdYhW6tDu9J9VIhEKLp4Rg4PpmhAe6S0j1pe03xTbOU9aBwNoIEeNCA/2Mq3Kq+yzucczaccnVotdq1Wu/7SiyOJ25sqP9aDT+YZyC2kZ/ud5GZG+cVaP8q42PFWenEjcAyFwECA5iVScEdADpfAGzvw1q6/9OJO6NYG65Ct1aFd6T4qRChKKUrRwLgGtEdK+6jlNc3HeoyvB1zgggb614D8YCvfqrzKOp9zNJ9y9NqcnnGxaz/pxZHE7U2VHyNm9R+zIqyx9Gy/k9zMKL9IfIwdH2vXX3pxI3AMhcBAgOYlUnBHQA631kEzLnYgl17cCd3aYB2ytTq0K91HhUiEootn5PBgiga0R0r7qOU1zTfFVt6DxtEAGuhBA/KDrXyr8irrfM7RfMrRqdVi12q16y+9OJK4vanyYz34ZJ6B3EJ6tt9JbmaUX6z1o4yLHW+lFzcCx1AIDARoXiIFdwTkcAm8sQNv7fpLL+6Ebm2wDtlaHdqV7qNChKKUohQNjGtAe6S0j1pe03ysx/h6wAUuaKB/DcgPtvKtyqus8zlH8ylHr83pGRe79pNeHEnc3lT5MWJW/zErwhpLz/Y7yc2M8ovEx9jxsXb9pRc3AsdQCAwEaF4iBXcE5HBrHTTjYgdy6cWd0K0N1iFbq0O70n1UiEQounhGDg+maEB7pLSPWl7TfFNs5T1oHA2ggR40ID/Yyrcqr7LO5xzNpxydWi12rVa7/tKLI4nbmyo/1oNP5hnILaRn+53kZkb5xVo/yrjY8VZ6cSNwDIXAQIDmJVJwR0AOl8AbO/DWrr/04k7o1gbrkK3VoV3pPipEKEopStHAuAa0R0r7qOU1zcd6jK8HXOCCBvrXgPxgK9+qvMo6n3M0n3L02pyecbFrP+nFkcTtTZUfI2b1H7MirLH0bL+T3Mwov0h8jB0fa9dfenEjcAyFwECA5iVScEdADrfWQTMudiCXXtwJ3dpgHbK1OrQr3UeFSISii2fk8GCKBrRHSvuo5TXNN8VW3oPG0QAa6EED8oOtfKvyKut8ztF8ytGp1WLXarXrL704kri9qfJjPfhknoHcQnq230luZpRfrPWjjIsdb6UXNwLHUAgMBGheIgV3BORwCbyxA2/t+ksv7oRubbAO2Vod2pXuo0KEopSiFA2Ma0B7pLSPWl7TfKzH+HrABS5ooH8NyA+28q3Kq6zzOUfzKUevzekZF7v2k14cSdzeVPkxYlb/MSvCGkvP9jvJzYzyi8TH2PGxdv2lFzcCx1AIDARoXiIFdwTkcGsdNONiB3LpxZ3QrQ3WIVurQ7vSfVSIRCi6eEYOD6ZoQHuktI9aXtN8U2zlPWgcDaCBHjQgP9jKtyqvss7nHM2nHJ1aLXatVrv+0osjidubKj/Wg0/mGcgtpGf7neRmRvnFWj/KuNjxVnpxI3AMhcD/Z+8rgOU4smzXsTH7ZZRRkklmZmZmZmZmxjGTzMxsmdmWmS0wyczMTGMPw87sRP24qXdqqrsrq/N1ZWcnHEUoul8l33sud1X1UYDFS0IhOApA4dLwpm14TfkPvAQHdNcbRpLNVtKuah4EIgxKGZQSA+UYgIxUyZHNNqxHfpTzg3QhXYiB+DEAPWhLt8Kvcu3PBbQefHRTn5790o79gJeAIO5+q9BjtFnx26wUeAw8u5ekYFaEXqR9TNs+mvIfeAkG4NwoKdBHARYvCYXgKACFa6qg2S9tQw68BAd01xtGks1W0q5qHgQiKQRdPCOTB51gADJSJUc227BeJ3vlGGKcGCAGYsAA9KAt3Qq/yrU/F9B68NEZq6Udq5nyH3gJCOLutwo9FoNO5hnoWwDP7iUpmBWhF031KPulbW+Bl2AAzo2SAn0UYPGSUAiOAlC4NLxpG15T/gMvwQHd9YaRZLOVtKuaB4EIg1IGpcRAOQYgI1VyZLMN65Ef5fwgXUgXYiB+DEAP2tKt8Ktc+3MBrQcf3dSnZ7+0Yz/gJSCIu98q9BhtVvw2KwUeA8/uJSmYFaEXaR/Tto+m/AdeggE4N0oK9FGAxUtCITgKQOGaKmj2S9uQAy/BAd31hpFks5W0q5oHgUgKQRfPyORBJxiAjFTJkc02rNfJXjmGGCcGiIEYMAA9aEu3wq9y7c8FtB58dMZqacdqpvwHXgKCuPutQo/FoJN5BvoWwLN7SQpmRehFUz3KfmnbW+AlGIBzo6RAHwVYvCQUgqMAFC4Nb9qG15T/wEtwQHe9YSTZbCXtquZBIMKglEEpMVCOAchIlRzZbMN65Ec5P0gX0oUYiB8D0IO2dCv8Ktf+XEDrwUc39enZL+3YD3gJCOLutwo9RpsVv81KgcfAs3tJCmZF6EXax7Ttoyn/gZdgAM6NkgJ9FGDxklAIjgJQuKYKmv3SNuTAS3BAd8YrSEkAACAASURBVL1hJNlsJe2q5kEgkkLQxTMyedAJBiAjVXJksw3rdbJXjiHGiQFiIAYMQA/a0q3wq1z7cwGtBx+dsVrasZop/4GXgCDufqvQYzHoZJ6BvgXw7F6SglkRetFUj7Jf2vYWeAkG4NwoKdBHARYvCYXgKACFS8ObtuE15T/wEhzQXW8YSTZbSbuqeRCIMChlUEoMlGMAMlIlRzbbsB75Uc4P0oV0IQbixwD0oC3dCr/KtT8X0Hrw0U19evZLO/YDXgKCuPutQo/RZsVvs1LgMfDsXpKCWRF6kfYxbftoyn/gJRiAc6OkQB8FWLwkFIKjABSuqYJmv7QNOfASHNBdbxhJNltJu6p5EIikEHTxjEwedIIByEiVHNlsw3qd7JVjiHFigBiIAQPQg7Z0K/wq1/5cQOvBR2eslnasZsp/4CUgiLvfKvRYDDqZZ6BvATy7l6RgVoReNNWj7Je2vQVeggE4N0oK9FGAxUtCITgKQOHS8KZteE35D7wEB3TXG0aSzVbSrmoeBCIMShmUEgPlGICMVMmRzTasR36U84N0IV2IgfgxAD1oS7fCr3LtzwW0Hnx0U5+e/dKO/YCXgCDufqvQY7RZ8dusFHgMPLuXpGBWhF6kfUzbPpryH3gJBuDcKCnQRwEWLwmF4CgAhWuqoNkvbUMOvAQHdNcbRpLNVtKuah4EIikEXTwjkwedYAAyUiVHNtuwXid75RhinBggBmLAAPSgLd0Kv8q1PxfQevDRGaulHauZ8h94CQji7rcKPRaDTuYZ6FsAz+4lKZgVoRdN9Sj7pW1vgZdgAM6NkgJ9FGDxklAIjgJQuDS8aRteU/4DL8EB3fWGkWSzlbSrmgeBCINSBqXEQDkGICNVcmSzDeuRH+X8IF1IF2IgfgxAD9rSrfCrXPtzAa0HH93Up2e/tGM/4CUgiLvfKvQYbVb8NisFHgPP7iUpmBWhF2kf07aPpvwHXoIBODdKCvRRgMVLQiE4CkDhmipo9kvbkAMvwQHd9YaRZLOVtKuaB4FICkEXz8jkQScYgIxUyZHNNqzXyV45hhgnBoiBGDAAPWhLt8Kvcu3PBbQefHTGamnHaqb8B14Cgrj7rUKPxaCTeQb6FsCze0kKZkXoRVM9yn5p21vgJRiAc6OkQB8FWLwkFIKjABQuDW/ahteU/8BLcEB3vWEk2Wwl7armQSDCoJRBKTFQjgHISJUc2WzDeuRHOT9IF9KFGIgfA9CDtnQr/CrX/lxA68FHN/Xp2S/t2A94CQji7rcKPUabFb/NSoHHwLN7SQpmRehF2se07aMp/4GXYADOjZICfRRg8ZJQCI4CULimCpr90jbkwEtwQHe9YSTZbCXtquZBIJJC0MUzMnnQCQYgI1VyZLMN63WyV44hxokBYiAGDEAP2tKt8Ktc+3MBrQcfnbFa2rGaKf+Bl4Ag7n6r0GMx6GSegb4F8OxekoJZEXrRVI+yX9r2FngJBuDcKCnQRwEWLwmF4CgAhUvDm7bhNeU/8BIc0F1vGEk2W0m7qnkQiDAoZVBKDJRjADJSJUc227Ae+VHOD9KFdCEG4scA9KAt3Qq/yrU/F9B68NFNfXr2Szv2A14Cgrj7rUKP0WbFb7NS4DHw7F6SglkRepH2MW37aMp/4CUYgHOjpEAfBVi8JBSCowAUrqmCZr+0DTnwEhzQXW8YSTZbSbuqeRCIpBB08YxMHnSCAchIlRzZbMN6neyVY4hxYoAYiAED0IO2dCv8Ktf+XEDrwUdnrJZ2rGbKf+AlIIi73yr0WAw6mWegbwE8u5ekYFaEXjTVo+yXtr0FXoIBODdKCvRRgMVLQiE4CkDh0vCmbXhN+Q+8BAd01xtGks1W0q5qHgQiDEoZlBID5RiAjFTJkc02rEd+lPODdCFdiIH4MQA9aEu3wq9y7c8FtB58dFOfnv3Sjv2Al4Ag7n6r0GO0WfHbrBR4DDy7l6RgVoRepH1M2z6a8h94CQbg3Cgp0EcBFi8JheAoAIVrqqDZL21DDrwEB3TXG0aSzVbSrmoeBCIpBF08I5MHnWAAMlIlRzbbsF4ne+UYYpwYIAZiwAD0oC3dCr/KtT8X0Hrw0RmrpR2rmfIfeAkI4u63Cj0Wg07mGehbAM/uJSmYFaEXTfUo+6Vtb4GXYADOjZICfRRg8ZJQCI4CULg0vGkbXlP+Ay/BAd31hpFks5W0q5oHgQiDUgalxEA5BiAjVXJksw3rkR/l/CBdSBdiIH4MQA/a0q3wq1z7cwGtBx/d1Kdnv7RjP+AlIIi73yr0GG1W/DYrBR4Dz+4lKZgVoRdpH9O2j6b8B16CATg3Sgr0UYDFS0IhOApA4ZoqaPZL25ADL8EB3fWGkWSzlbSrmgeBSApBF8/I5EEnGICMVMmRzTas18leOYYYJwaIgRgwAD1oS7fCr3LtzwW0Hnx0xmppx2qm/AdeAoK4+61Cj8Wgk3kG+hbAs3tJCmZF6EVTPcp+adtb4CUYgHOjpEAfBVi8JBSCowAULg1v2obXlP/AS3BAd71hJNlsJe2q5kEgwqCUQSkxUI4ByEiVHNlsw3rkRzk/SBfShRiIHwPQg7Z0K/wq1/5cQOvBRzf16dkv7dgPeAkI4u63Cj1GmxW/zUqBx8Cze0kKZkXoRdrHtO2jKf+Bl2AAzo2SAn0UYPGSUAiOAlC4pgqa/dI25MBLcEB3vWEk2Wwl7armQSCSQtDFMzJ50AkGICNVcmSzDet1sleOIcaJAWIgBgxAD9rSrfCrXPtzAa0HH52xWtqxmin/gZeAIO5+q9BjMehknoG+BfDsXpKCWRF60VSPsl/a9hZ4CQbg3Cgp0EcBFi8JheAoAIVLw5u24TXlP/ASHNBdbxhJNltJu6p5EIgwKGVQSgyUYwAyUiVHNtuwHvlRzg/ShXQhBuLHAPSgLd0Kv8q1PxfQevDRTX169ks79gNeAoK4+61Cj9FmxW+zUuAx8OxekoJZEXqR9jFt+2jKf+AlGIBzo6RAHwVYvCQUgqMAFK6pgma/tA058BIc0F1vGEk2W0m7qnkQiKQQdPGMTB50ggHISJUc2WzDep3slWOIcWKAGIgBA9CDtnQr/CrX/lxA68FHZ6yWdqxmyn/gJSCIu98q9FgMOplnoG8BPLuXpGBWhF401aPsl7a9BV6CATg3Sgr0UYDFS0IhOApA4dLwpm14TfkPvAQHdNcbRpLNVtKuah4EIgxKGZQSA+UYgIxUyZHNNqxHfpTzg3QhXYiB+DEAPWhLt8Kvcu3PBbQefHRTn5790o79gJeAIO5+q9BjtFnx26wUeAw8u5ekYFaEXqR9TNs+mvIfeAkG4NwoKdBHARYvCYXgKACFa6qg2S9tQw68BAd01xtGks1W0q5qHgQiKQRdPCOTB51gADJSJUc227BeJ3vlGGKcGCAGYsAA9KAt3Qq/yrU/F9B68NEZq6Udq5nyH3gJCOLutwo9FoNO5hnoWwDP7iUpmBWhF031KPulbW+Bl2AAzo2SAn0UYPGSUAiOAlC4NLxpG15T/gMvwQHd9YaRZLOVtKuaB4EIg1IGpcRAOQYgI1VyZLMN65Ef5fwgXUgXYiB+DEAP2tKt8Ktc+3MBrQcf3dSnZ7+0Yz/gJSCIu98q9BhtVvw2KwUeA8/uJSmYFaEXaR/Tto+m/AdeggE4N0oK9FGAxUtCITgKQOGaKmj2S9uQAy/BAd31hpFks5W0q5oHgUgKQRfPyORBJxiAjFTJkc02rNfJXjmGGCcGiIEYMAA9aEu3wq9y7c8FtB58dMZqacdqpvwHXgKCuPutQo/FoJN5BvoWwLN7SQpmRehFUz3KfmnbW+AlGIBzo6RAHwVYvCQUgqMAFC4Nb9qG15T/wEtwQHe9YSTZbCXtquZBIMKglEEpMVCOAchIlRzZbMN65Ec5P0gX0oUYiB8D0IO2dCv8Ktf+XEDrwUc39enZL+3YD3gJCOLutwo9RpsVv81KgcfAs3tJCmZF6EXax7Ttoyn/gZdgAM6NkgJ9FGDxklAIjgJQuKYKmv3SNuTAS3BAd71hJNlsJe2q5kEgkkLQxTMyedAJBiAjVXJksw3rdbJXjiHGiQFiIAYMQA/a0q3wq1z7cwGtBx+dsVrasZop/4GXgCDufqvQYzHoZJ6BvgXw7F6SglkRetFUj7Jf2vYWeAkG4NwoKdBHARYvCYXgKACFS8ObtuE15T/wEhzQXW8YSTZbSbuqeRCIMChlUEoMlGMAMlIlRzbbsB75Uc4P0oV0IQbixwD0oC3dCr/KtT8X0Hrw0U19evZLO/YDXgKCuPutQo/RZsVvs1LgMfDsXpKCWRF6kfYxbftoyn/gJRiAc6OkQB8FWLwkFIKjABSuqYJmv7QNOfASHNBdbxhJNltJu6p5EIikEHTxjEwedIIByEiVHNlsw3qd7JVjiHFigBiIAQPQg7Z0K/wq1/5cQOvBR2eslnasZsp/4CUgiLvfKvRYDDqZZ6BvATy7l6RgVoReNNWj7Je2vQVeggE4N0oK9FGAxUtCITgKQOHS8KZteE35D7wEB3TXG0aSzVbSrmoeBCIMShmUEgPlGICMVMmRzTasR36U84N0IV2IgfgxAD1oS7fCr3LtzwW0Hnx0U5+e/dKO/YCXgCDufqvQY7RZ8dusFHgMPLuXpGBWhF6kfUzbPpryH3gJBuDcKCnQRwEWLwmF4CgAhWuqoNkvbUMOvAQHdNcbRpLNVtKuah4EIikEXTwjkwedYAAyUiVHNtuwXid75RhinBggBmLAAPSgLd0Kv8q1PxfQevDRGaulHauZ8h94CQji7rcKPRaDTuYZ6FsAz+4lKZgVoRdN9Sj7pW1vgZdgAM6NkgJ9FGDxklAIjgJQuDS8aRteU/4DL8EB3fWGkWSzlbSrmgeBCINSBqXEQDkGICNVcmSzDeuRH+X8IF1IF2IgfgxAD9rSrfCrXPtzAa0HH93Up2e/tGM/4CUgiLvfKvQYbVb8NisFHgPP7iUpmBWhF2kf07aPpvwHXoIBODdKCvRRgMVLQiE4CkDhmipo9kvbkAMvwQHd9YaRZLOVtKuaB4FICkEXz8jkQScYgIxUyZHNNqzXyV45hhgnBoiBGDAAPWhLt8Kvcu3PBbQefHTGamnHaqb8B14Cgrj7rUKPxaCTeQb6FsCze0kKZkXoRVM9yn5p21vgJRiAc6OkQB8FWLwkFIKjABQuDW/ahteU/8BLcEB3vWEk2Wwl7armQSDCoJRBKTFQjgHISJUc2WzDeuRHOT9IF9KFGIgfA9CDtnQr/CrX/lxA68FHN/Xp2S/t2A94CQji7rcKPUabFb/NSoHHwLN7SQpmRehF2se07aMp/4GXYADOjZICfRRg8ZJQCI4CULimCpr90jbkwEtwQHe9YSTZbCXtquZBIJJC0MUzMnnQCQYgI1VyZLMN63WyV44hxokBYiAGDEAP2tKt8Ktc+3MBrQcfnbFa2rGaKf+Bl4Ag7n6r0GMx6GSegb4F8OxekoJZEXrRVI+yX9r2FngJBuDcKCnQRwEWLwmF4CgAhUvDm7bhNeU/8BIc0F1vGEk2W0m7qnkQiDAoZVBKDJRjADJSJUc227Ae+VHOD9KFdCEG4scA9KAt3Qq/yrU/F9B68NFNfXr2Szv2A14Cgrj7rUKP0WbFb7NS4DHw7F6SglkRepH2MW37aMp/4CUYgHOjpEAfBVi8JBSCowAUrqmCZr+0DTnwEhzQXW8YSTZbSbuqeRCIpBB08YxMHnSCAchIlRzZbMN6neyVY4hxYoAYiAED0IO2dCv8Ktf+XEDrwUdnrJZ2rGbKf+AlIIi73yr0WAw6mWegbwE8u5ekYFaEXjTVo+yXtr0FXoIBODdKCvRRgMVLQiE4CkDh0vCmbXhN+Q+8BAd01xtGks1W0q5qHgQiDEoZlBID5RiAjFTJkc02rEd+lPODdCFdiIH4MQA9aEu3wq9y7c8FtB58dFOfnv3Sjv2Al4Ag7n6r0GO0WfHbrBR4DDy7l6RgVoRepH1M2z6a8h94CQbg3Cgp0EcBFi8JheAoAIVrqqDZL21DDrwEB3TXG0aSzVbSrmoeBCIpBF08I5MHnWAAMlIlRzbbsF4ne+UYYpwYIAZiwAD0oC3dCr/KtT8X0Hrw0RmrpR2rmfIfeAkI4u63Cj0Wg07mGehbAM/uJSmYFaEXTfUo+6Vtb4GXYADOjZICfRRg8ZJQCI4CULg0vGkbXlP+Ay/BAd31hpFks5W0q5oHgQiDUgalxEA5BiAjVXJksw3rkR/l/CBdSBdiIH4MQA/a0q3wq1z7cwGtBx/d1Kdnv7RjP+AlIIi73yr0GG1W/DYrBR4Dz+4lKZgVoRdpH9O2j6b8B16CATg3Sgr0UYDFS0IhOApA4ZoqaPZL25ADL8EB3fWGkWSzlbSrmgeBSApBF8/I5EEnGICMVMmRzTas18leOYYYJwaIgRgwAD1oS7fCr3LtzwW0Hnx0xmppx2qm/AdeAoK4+61Cj8Wgk3kG+hbAs3tJCmZF6EVTPcp+adtb4CUYgHOjpEAfBVi8JBSCowAULg1v2obXlP/AS3BAd71hJNlsJe2q5kEgwqCUQSkxUI4ByEiVHNlsw3rkRzk/SBfShRiIHwPQg7Z0K/wq1/5cQOvBRzf16dkv7dgPeAkI4u63Cj1GmxW/zUqBx8Cze0kKZkXoRdrHtO2jKf+Bl2AAzo2SAn0UYPGSUAiOAlC4pgqa/dI25MBLcEB3vWEk2Wwl7armQSCSQtDFMzJ50AkGICNVcmSzDet1sleOIcaJAWIgBgxAD9rSrfCrXPtzAa0HH52xWtqxmin/gZeAIO5+q9BjMehknoG+BfDsXpKCWRF60VSPsl/a9hZ4CQbg3Cgp0EcBFi8JheAoAIVLw5u24TXlP/ASHNBdbxhJNltJu6p5EIgwKGVQSgyUYwAyUiVHNtuwHvlRzg/ShXQhBuLHAPSgLd0Kv8q1PxfQevDRTX169ks79gNeAoK4+61Cj9FmxW+zUuAx8OxekoJZEXqR9jFt+2jKf+AlGIBzo6RAHwVYvCQUgqMAFK6pgma/tA058BIc0F1vGEk2W0m7qnkQiKQQdPGMTB50ggHISJUc2WzDep3slWOIcWKAGIgBA9CDtnQr/CrX/lxA68FHZ6yWdqxmyn/gJSCIu98q9FgMOplnoG8BPLuXpGBWhF401aPsl7a9BV6CATg3Sgr0UYDFS0IhOApA4dLwpm14TfkPvAQHdNcbRpLNVtKuah4EIgxKGZQSA+UYgIxUyZHNNqxHfpTzg3QhXYiB+DEAPWhLt8Kvcu3PBbQefHRTn5790o79gJeAIO5+q9BjtFnx26wUeAw8u5ekYFaEXqR9TNs+mvIfeAkG4NwoKdBHARYvCYXgKACFa6qg2S9tQw68BAd01xtGks1W0q5qHgQiKQRdPCOTB51gADJSJUc227BeJ3vlGGKcGCAGYsAA9KAt3Qq/yrU/F9B68NEZq6Udq5nyH3gJCOLutwo9FoNO5hnoWwDP7iUpmBWhF031KPulbW+Bl2AAzo2SAn0UYPGSUAiOAlC4NLxpG15T/gMvwQHd9YaRZLOVtKuaB4EIg1IGpcRAOQYgI1VyZLMN65Ef5fwgXUgXYiB+DEAP2tKt8Ktc+3MBrQcf3dSnZ7+0Yz/gJSCIu98q9BhtVvw2KwUeA8/uJSmYFaEXaR/Tto+m/AdeggE4N0oK9FGAxUtCITgKQOGaKmj2S9uQAy/BAd31hpFks5W0q5oHgUgKQRfPyORBJxiAjFTJkc02rNfJXjmGGCcGiIEYMAA9aEu3wq9y7c8FtB58dMZqacdqpvwHXgKCuPutQo/FoJN5BvoWwLN7SQpmRehFUz3KfmnbW+AlGIBzo6RAHwVYvCQUgqMAFC4Nb9qG15T/wEtwQHe9YSTZbCXtquZBIMKglEEpMVCOAchIlRzZbMN65Ec5P0gX0oUYiB8D0IO2dCv8Ktf+XEDrwUc39enZL+3YD3gJCOLutwo9RpsVv81KgcfAs3tJCmZF6EXax7Ttoyn/gZdgAM6NkgJ9FGDxklAIjgJQuKYKmv3SNuTAS3BAd71hJNlsJe2q5kEgkkLQxTMyedAJBiAjVXJksw3rdbJXjiHGiQFiIAYMQA/a0q3wq1z7cwGtBx+dsVrasZop/4GXgCDufqvQYzHoZJ6BvgXw7F6SglkRetFUj7Jf2vYWeAkG4NwoKdBHARYvCYXgKACFS8ObtuE15T/wEhzQXW8YSTZbSbuqeRCIMChlUEoMlGMAMlIlRzbbsB75Uc4P0oV0IQbixwD0oC3dCr/KtT8X0Hrw0U19evZLO/YDXgKCuPutQo/RZsVvs1LgMfDsXpKCWRF6kfYxbftoyn/gJRiAc6OkQB8FWLwkFIKjABSuqYJmv7QNOfASHNBdbxhJNltJu6p5EIikEHTxjEwedIIByEiVHNlsw3qd7JVjiHFigBiIAQPQg7Z0K/wq1/5cQOvBR2eslnasZsp/4CUgiLvfKvRYDDqZZ6BvATy7l6RgVoReNNWj7Je2vQVeggE4N0oK9FGAxUtCITgKQOHS8KZteE35D7wEB3TXG0aSzVbSrmoeBCIMShmUEgPlGICMVMmRzTasR36U84N0IV2IgfgxAD1oS7fCr3LtzwW0Hnx0U5+e/dKO/YCXgCDufqvQY7RZ8dusFHgMPLuXpGBWhF6kfUzbPpryH3gJBuDcKCnQRwEWLwmF4CgAhWuqoNkvbUMOvAQHdNcbRpLNVtKuah4EIikEXTwjkwedYAAyUiVHNtuwXid75RhinBggBmLAAPSgLd0Kv8q1PxfQevDRGaulHauZ8h94CQji7rcKPRaDTuYZ6FsAz+4lKZgVoRdN9Sj7pW1vgZdgAM6NkgJ9FGDxklAIjgJQuDS8aRteU/4DL8EB3fWGkWSzlbSrmgeBCINSBqXEQDkGICNVcmSzDeuRH+X8IF1IF2IgfgxAD9rSrfCrXPtzAa0HH93Up2e/tGM/4CUgiLvfKvQYbVb8NisFHgPP7iUpmBWhF2kf07aPpvwHXoIBODdKCvRRgMVLQiE4CkDhmipo9kvbkAMvwQHd9YaRZLOVtKuaB4FICkEXz8jkQScYgIxUyZHNNqzXyV45hhgnBoiBGDAAPWhLt8Kvcu3PBbQefHTGamnHaqb8B14Cgrj7rUKPxaCTeQb6FsCze0kKZkXoRVM9yn5p21vgJRiAc6OkQB8FWLwkFIKjABQuDW//De/nn/yY/dd//Vc2aNDgrA79HrzvSTXPGquvXWueOnswHQu8BAd01xtGks1W0q5qHgQiDEoZlBID5RiAjFTJkc02rEd+lPODdCFdiIH4MQA9aEu3wq9y7c8FtB58dFOf3vd+O2y/S7bdtjv1KzZaZ+31VUx1+y0jjMddedlwNaa/a/lOv3b7A14Cgrj7rUKP0WbFb7NS4DHw7F6SglkRerGd/mR7a+70s4++Z240GKRzo6lTgMXL1BEQ4PlDMdD773twttyyK2Q777h7ZTD64btfqX7S9+47HqzsW9fp+OLTn6wY6IcfeFrNs+Ya63R1v3XPK+OBlwCh7nbLSLLZStpVzYNAJIWgi2dk8qATDEBGquTIZhvW62SvHEOMEwPEQAwYgB60pVvhV7n15oJaDT66DX/fxhw3DL89W365FbOLzr9CG9988sG3qs9mm2zZ0OeJR59RsZH8SPSh+59qaKvaG4uXrQllHb2Al6BA7nqz0GMx6GSegb4F8OxajgJaD3pRpzd9uX7A/oca5UY/eOfLPDd61+0PGNvSTs5pq3jJ3GhAAsOtBksBFi+DZV26Gw/FQK+04ioqiB1vvPGyj977Wmt4Tz7h9DzYvfiCK7X9OjHIzWN452W6ctP25Eiy2UraVc2DQIRBKYNSYqAcA5CRKjmy2Yb1yI9yfpAupAsxED8GoAdt6Vb4VW0dsHQ7+BbTDTv5LBWTHXjAYdp47K3XP1Z9pp9+aEOfLz/7OVtxhZWzZZdZPpMfizbHYLq/Wbxk8dKqBoAeo82K32alwGPg2aqQxDWZb3ZUZ+tWXnHVfudGq35IpFunP9dtFS/5VLq4ZIqn8ZMCLF76yRfuqoICoRhoKV6OP/74ykifcuIZ2iB2/vkXzAYMGKD6XXLhVdp+/THEur6887ICWKk3IclmK2lXNQ8CkRSCLp6RyYNOMAAZqZIjm21Yr5O9cgwxTgwQAzFgAHrQlm6FX5W6f1lxft9iujrFS13s1e46i5csXlaISP+boMdi0Mk8A30L4Ln/kpDMCN/sqM7mrbLy6v3OjXb7xg5bxUveeZmMuPGgPaQAi5c9JD6X7owCoRhoKV7OMMOMmRQn5513/tKi5Gsvv6+Kluuus4GT4qX8KtjGOy9poDvDrtejkGSzlbSrmgeBCINSBqXEQDkGICNVcmSzDeuRH+X8IF1IF2IgfgxAD9rSrfCrvHb+ers532K6XhQv119vIxWb3XHrfaWxYlki+Oorb1Rjtt9uZ+MxZfOEdg146S1qPV8deow2K36blQKPgWfPxa6X24Ne9F2fS/FScqMLLrhw29woftTT7eIlb+zoJXK5NinQPwqweNk/erG3BxQIxUBL8XKySSfLTht2jgowX3nx3ZYA84jDjlFt5559sfrU3Xn5yIMjs4033CwbPHhINumkk2byrsl2Qa68t0UeXzThhBOquY875uTsx2//rL4PGjS4ZS/i8Lz75mfZrjvvmc0440yq38CBA7NDDjqypa/sR4qgfOelBwJhawtIstlK2lXNg0AkhaCLZ2TyoBMMQEaq5MhmG9brZK8cQ4wTA8RADBiAHrSlW+FX2fLTIpzHt5iubvFS4q6VV1qtJW6SGEseN7vLTntkQ4fOoGIoiRMl7tpy823U32Vx3U/f/SU74bhhKtkrcde0006X3X3Hg9lN19+pxuiKl/LOzbXXWi+bYvIpVL85Zp8zu/mGu1r2df65l6r3d0oC96UX3lYx4NxzJjXTxwAAIABJREFUzZNNNNFE2SILL5aNfe7NljG9TJADLxGKgr0jQY/FoJN5BvoWwLM9CYluJujFXupmk7VXXWWNtrnRIw8/Vtmsc866SH3qcqNi4/qbG71x+B0qNyr2Teyp5Ea///qP6jtzo9GJBQ8UIQVYvIyQqbEfKRQDLUGpGMaP3/9GfR568G9bAkApEkoB8LxzLlF9ygz06aeeq9pkrllnmU39Ukm+y/+yOcV5OOyQo/IxU04xpXr/ivSXu0Dls8xAPzf61WzyySZX7Rusv3G23z4HZXPNObf6e6cdd2vYO++8jFDKkGSzlbSrmgeBCINSBqXEQDkGICNVcmSzDeuRH+X8IF1IF2IgfgxAD9rSrfCrInQZbR3Jt5iubvFyvPHGy37zm980xEwSl4199g3141PEb0ssvlQ204wzq0fozT7bHCrWuvO2+xvGSeFyySWWVm0ybt555lMFRfm+0IKLqOs7bL9LwxhZ64LzLlNtQ4ZMne2+696Z9JFYUMbdfsuIhv4H7HeIui6vN5F2KY4uvdSy+Q9f5Qez3331h4YxJknqbvUBXmzhL8p5oMdos+K3WSnwGHiOUljtHAp6sVt619a8cuel2Jmq3KjYxbXWXDfPjZbdeVmVGy276UL2r8uNzjffAmpPzI3awSJnIQW6SQEWL7tJXc7dFQqEYqBRvPzlx79n8oJq+aVt0fiPemqsMpbDr701G3bSmep7c/HyqsuvV9flDs7RT7+Yj3/1pfcyCUrFATjz9PPz6zL/vXc9rK7Lr4oeGPFE3iZBsASxMqbZQP/wzZ+y6acfmk088cTZC8+8no+R+aS4KmMef2RMfp13XnYF2r2dFEk2W0m7qnkQiKQQdPGMTB50ggHISJUc2WzDep3slWOIcWKAGIgBA9CDtnQr/Kreender+5bTHfqKWermGfzTbfKJNYp+3/t1TerPvL4u2JcJ9/LipcSB0pCVmKpvffcP5N4DONG3P1INsEEE6i25uLlHrvto65LcvX9t7/Ix3zwzpf5D1mbi5dPPvasGiPFUbmjBOt89N7X6uk9ciem7AfXD9j/UNVf9rbbLnvle5OCpcwh15vjTIztxSfw4jWoe7056LEYdDLPQN8CeO61XHm8PvRiL3Ryf9aUOy/FpogNkjxpc250zMiXVPt119yizY1eedlw1Ud+WCO5VKxfzI2ecdp5+XVpL+ZGH7zvybxNnkgndk/2xNyoxwDn1kiBPgqweEkoBEeBUAw0ipcSAMLQSlAJI7vXHvupx/KIAT/x+FOV4WwuXuLRQpdedHU+DuPvufOh3HjjmnwuvNCi6roE18Xr8l33XPeTTjhNjZFHNDSPkV8Li1GXwifaeOdlcGLTfsNIstlK2lXNg0CEQSmDUmKgHAOQkSo5stmG9ciPcn6QLqQLMRA/BqAHbelW+FXtPbBke/gW0+HOS4l72v2XH30iLsJnWfFS7hyRueSORvQrfuLdXsW7Ij//5Ec1Rl798emH37WMQ1y53bY7NbQtt+wKatzrr3zQcF3WQ6wpj53F+ihe7r/vwfk1tKFIu8VmW7e0oY/rT+AlWYExOTj0GG1W/DYrBR4DzybYT7QP9KJrfdzf9XDnpeRGr7j0OmWrirnRffc+UD2N4Hc//C1DbrL5zsvppptejbvs4mta7JLYNrG1Utgs7q0qN/rZR9+rMc3FS6xflRuVwifWYW40UeHjsZ1SgMVLp+TmYjYoEIqBRvHy2y9/n8mdjQMGDFDvEoGRGzTVoGzbbXZURg8Gsli8fPH5t0oNMMbL58wzzaL6yC+D5e8P3/1K/S2PByr2w/cvP/u51EDjcbJff/FL6ThxBJZacpm8jXde2kCyZ3MgyWYraVc1DwKRFIIunpHJg04wABmpkiObbVivk71yDDFODBADMWAAetCWboVf5Zm759N2fIvpcOelxDxHHXl86X+5e1LiItM7L1dbdU3V/7ab783jKMRl8llWvLzw/MvVmK232r50TFnxEknYxRdbsnSMvCNM9n38safk7VK0lGvnnn1xfg17wxOClll6uZY29HH9Cbz4hGHv9gI9FoNO5hnoWwDP3gmaPxuCXnStj/u7Hu68lNyoPBmgJTc6aHC2zdY7KHtTlhuVp8OJvWouThb3ocuNDh48pNSOwW42Fy8XWGAhtRZzo/7gnDshBVi8JAaCo0AoBrpYvBSjutkmW2YDBw5UhhN3TUogKW1lBloeJSQGerFFlyg1tjJuvXU3VH2uuuIG1eexh0erv+UdKUVDju+64iVeXC2/2C37L/uYe6558jlZvAxObNpvGEk2W0m7qnkQiDAoZVBKDJRjADJSJUc227Ae+VHOD9KFdCEG4scA9KAt3Qq/qr0HlmwP32I63Hl54AGH5TEPYih8vvX6xyrWMr3zctZZZlP95bF2mKP4WVa8lPUl9jrhuGGlY8qKl089/pwaI0na5ZdbseX/IgsvptrlbkusX1W8xJN3ZBz69/oTeElWYEwODj1GmxW/zUqBx8CzCfYT7QO92Gv93G79YvFS+m668RYqNypPoUPeE6+8KsuNIn9avKGiec1119lA2bnm3KjuRzi64qVJbnSuOefObSNzo4kKH4/tlAIsXjolNxezQYFQDHRz8RKPMrjp+juzLTffJpt22ulyg1dmoG+96R5lfFdeabW8X7OBljs3JbiVX+hK2123P6D+lgJkc1/5W1e8lDnkf1nhEteK71WhgbaBZM/mQJLNVtKuah4EIikEXTwjkwedYAAyUiVHNtuwXid75RhinBggBmLAAPSgLd0Kv8ozd8+n7fgW03WjeDn11NOoGOvN1z4qjc3Kipd4D9ewk84sHVNWvLzvnkfVOnIHSVnxEteKT/lh8dInabC0F+ixGHQyz0DfAni2JB4xTuObHS3LQcq15uIl8pbDr70122qLbdV7mTG2Kjcqj59Fv+bPrbbcTtnB5tzoCsuvVDpGV7w0yY1uv93O+ZzMjcYoWTyTbxRg8dI3jnA/bSkQioFuLl6KcZ1i8imyDTfYJJt44omzgw48PDd48staMZLFgBK/oJVf7DYbZvy97DLLq3F33na/6oMxM804c+kYvEOl+dEI8resL49wwNxVn3j00JprrGPUv2qubrcBL22BlXoHJNlsJe2q5kEgwqCUQSkxUI4ByEiVHNlsw3rkRzk/SBfShRiIHwPQg7Z0K/yq1P3LivPDR+92LGA6fzeKl/PMPa+KseSdWGX7KCteHn7o0WqMPKK2bExZ8RJ3Si6x+FKlY8rmYfGyApyhNkGP0WbFb7NS4DHwHKo8Oti3b3a0zNbINbkhQ/KN8thY9Jl8ssmzDdbfOJtkkkmy4lMBULy86Pwr8r7Ic1blRuUOS1mjOTcqj5PFmsVPXfESPzoq7rU4rvk7c6MOgM4lkqcAi5fJQyA8AoRioMuKl3vuvq8yqGJUXx77Tm5ETzz+VHW9WLyURyhIkVP6vvHqh3lfGEsUIqX9q89/p9rlBdjyt/x/983PWsZ88elPqq25eCkFVRlz8w13tYzBesVPvpQ6PLlpu2Mk2Wwl7armQSCSQtDFMzJ50AkGICNVcmSzDet1sleOIcaJAWIgBgxAD9rSrfCr2jpg6XbwLabrRvFyi822VjHWYYccVRpjlRUvbxh+uxpTfCxdMQ4rK15Ku/xIdoIJJsh07+kqziHfWbyMUPagx2LQyTwDfQvgOUJRtXUk3+xos53B33LHpOQbiwXBPXbbR12T6/IDHPRF8fLiC67Mr7XLjX728Q/5XKa5UV3xUh5pK3u6cfgd+frYW9knc6O20Mx5SAE9BVi81NOGLZ5SIBQDXVa8HPXUWGUI55tvgQZDWFa8FMMov7gVwynvtmw2lDvtuJtqw4ut0b70Usuq61tvtX3LGHlcrczXXLx89KFR6vpkk06WPfnYsy3jPv3wu4ZrNNCeCkedbSHJZitpVzUPAhEGpQxKiYFyDEBGquTIZhvWIz/K+UG6kC7EQPwYgB60pVvhV9XxzSIf61tM143i5dVX3qhirKmmnCqT5CriNfmUd3gNGDBAtd9+y4i87ZsvflXXypKnkpRdcMGFVXvxlR4y3yEHHamuyzvBmmM3aW++xuJlhAIGPUabFb/NSoHHwHOEomrrSL7Z0aKNK34vK16OfPIFZbPmnGOu3P7JmLLipVzfa4/9VP+y3OiOO+yq2nS5UXndVnE/8h0/LmrOjT7+yBg1l9wRytyoLaRyHlKgHgVYvKxHP47uAQVCMdBlxUsxklKovH/E4w3GEwa6eOel9P35+79m8qtbCV7XWnPd7Nqrb87kXZibb7qVujZ06AyZBLhFQ/z0E8+rNhkjBln6n37quRkeW1RWvJTx++1zUD5OfgUsa8k+UfAs3sn5wjOvq74zzDBj9tjDoxvWL+7Fh+/ASw+g6s2Sv/76a/Z///d/1ftBks1W0q5qHgQiKQRdHZ5xxeWXVDL2/NN39iT4fnPsQ2r9Beabq1/rzzTj9Grc5++Nbhi39+7bZttutWHDtaxD2iQxDjJSJUc227AeeUKMEgPEQKoYgB60pVvhV1V7X1G3tvM/4aP7EC/IHrpRvJR55VGuEn/NMvOsmbyL65Yb784222RLdW3gwIHqE4+5Ay2OPfokdV3GHf3bE7K773gwO/jAI7JBUw1Sj9iT65KsRX/5/N0Pf8vmnWe+fF65q2XE3Y+o9RZacJGs+cezLF6GJ37tZCqDHktVj0dw7u222kjJ8I1Xn0N/BHgOT1St7bidzPtmR4s2qfi9+Z2XaJPXZ91/72MNtkyXG/3pu79kc8w+p5KPTnKj8m7N226+Nztt2Dltc6P77n1gboMlN3rdNbc05EbfeePTfM/IjUpulrlRa9DnRKRAAwVYvGwgB/8IgQKhGGhd8RKGuvipu/NS+kggKo8akmBVAlX5L78CkkfQFh+7UJxPfskrjw5Cf/lcecVVs/vueTST4LX510UYKy/MXmThxRrGydgD9jtEFVLRTz7lfZfSVvXc+WL/Xn0HXkLAdjf2+Msvv2QPPvhg9swzz2T/+te/9EsgyWYraVc1DwIRTwPMn798OZPiYdX/NVZdvqsBZUzFy1efuy/XKQ/cdVVX6RZNYRMyUiVHNtuwnqcyGQ1fA6DvY/cPV7rvzGFHUFYD4Bdl41N7OIUetKVb4VfpPa+oWyTh2s7/hI/eqxihed1uFS8lXkNciNhMfpwqd0rKO73kWvHOS+zriMOOyf0n6SOxnfyo9Nkxr6rr2227U548xRh5tN5RRx6f4Z1dWE9iv8svubahP4uXYYmgiUyxeDnOJnz5wTPKl9lpu00rbYQUCiXm+uL9MZX9XNra7bfeWMn3Tdec682eXJ6/YS3Y5bBE1dpuTWTeNzsKW9T8WXbnZXMf/I3iZfGxsWjT5UblrswfvvlTg43DmLLcqNhkKZpW5UavueqmbNFFFm+ww2JT5aYPKaRifvlEblR+pFS87tt34MUaSDkRKeCIAixeOiI0l7FHAShc3wyBi/28/soHDc+Db7emvNhaHsfQrl9zu9zNKY9IkF8O6ZwAGSPv7ZQ9NY/36W/gxR4Cw5rp3//+d/bss8+qBNKYMWP0BUwk2Wwl7armQSDiaWL464+ebXFSkfzB54AB/6+rAWVMxcs/fPdGJsXepZZYOPv2k+e7SreGgNdTfBntETJSJUc227BeyDTj3q3I1vArz1T6r13CzwjH5IkVnpDWFguUVZiEHrSlW+FXheU2Wtutif8JH92nuKGbe5G46ZEHR2byni3TdeT9lTLmxeffMh6Dud9/+4tMXg0iry3BtZA/gRdrIA1sIhOZYvFynL1479XHlC8zz9yzVdrh2WadUfV75+VHKvu5tMO887Jg82GXA5NVW9s1kXnoxZB1e6d7d5UblR8gMTdqC9WchxTojAIsXnZGN47qIQVSNtCdGvaUxwEvPYRsz5eWOy6lcCm/gJfPf/7zn617QpLNVtKuah4EIlVJxB62oXg5/XRT9yyQjal46TLgj2YtyEiVHNlsw3o9lLtoeBc4DVm8LCTNAuclZaqfvIQetKVb4Ve1elzJXGnnf8JHTzlO4dkz48Iq8JKMAJUctJ1MsXjJ4mVUth92uUQWUrnUTuahF2lLzG1JyrQCXlKRH54zHgqweBkPL5M5CRRuykaHZzd3ToCXZAREc1ApWKKAOWrUqOx///d/G3siyWYraVc1DwIRTxPDPhQvV15x3PuRxo66uycF1LdfekT9EnnB+efu1/qzzjKDGufT45eCDOIhI1VyZLMN63kqk0HyMFBasnjZz4JXoHymTJXwGXrQlm6FX9XobSX3V5X/CR+dcY15XJMyrYCX5ISo6cBVMsXiZfjFyx233UTFUnxs7KdZjucmGUjtzyqZh15M2Tbw7OY+BPCSmgzxvOFTgMXL8HmY3AmgcGmkzI1UyrQCXpITlJIDi+M7evRodQfmyJEjGwuYSLLZStpVzYMEoadJ306Kl6ccf7B6Z4okhJ988MZss43XzqaYYrJs5pmGZicfd1BeAJRHqB60387ZoEFTZEMGT5Vttfl62V9/fidvR0J5pRWWVIGrvC/ywbuvzuabdw71tzy2VuaWPaJv86esv97aq2STTz6pGiOPTLrvjiu0/a+57PRsuWUWy8Yff0A2ySQTZRedc3z26Tsj1Vhd8fKFkXdlm2+yTjbVVJOrfhJo//rNa9n8886p/m4uXq69xoo5fbDfv//ynrp2xinj3q0n66652grZwIETZ0Onn0bRCX2bP++6+RJFB7k7Vs4pd6oW/x924G75ef/y09uZ/D3H7DOrvck5Dz9o9+xPP7yZ92mev+d/Q0aq5MhmG9bzVCZ7zo+E6NJJ8VLkcYdtNs4WWmCeXMZ233nL7G+/ezeXsdGP3apk9OjD98mvNfN14w3WyFZZaemW9uuuODNbftnFswkmGF/NL/rqjbEPtvTbe/dtlU6VeUV3rrryMqr/8Uftn/cVfbfYIvPnc2260VpK3zXvhX+XFPdilwPoQVu6FX5ViT+W2iWd/wkfPeU4hWc3j2eBl9Tkp+y8OpnKiz2x6+s257P12NhrLz8jW3bpRXOfQfyPN8c+lPsU8BUklrvsgpMz8WNmmXncDzmnnHLy7LwzjmnpizESK+2zx3YqVpT4TtZ5/7XHsz133Vr5LixesnhZlH2dzEMv0paY25KUaQW8FLHF76RACBRg8TIELnGPDRSAwk3Z6PDs5s4J8NIAooT/kDsuiwXMf/zjH+OogSSbraRd1TxIELYJPBHcuf7spHi5zZYbqEDz9JMPV59SKJPCH96ReeC+O6mAVO5MlILmIgvNm7dtudm6LYEt7rxcf51VVb+FF5xXJf6nm3Zq9bcURpsLhEKn8888VrVLP0nk77z9ZqqIKvuQImgzLaUde5SCoQTl8jeKEGXFy3tuvSwfM+GEE6iighRjBw+aMptm6sGqrXlvE000obr+zz98kO9BAn1ZSwqbq6+ynPq+zFKLZHPOMYv6Lm3H/Xa/vD/2fun5J6l2KUJuu9WGmRRO5bv0l3fXSBHz0AP+U7xccvGFVNviiy6giph77bZNNumkk6hiJub07hMyUiVHNtuwnqcy6R1/IqZTf4uX0HPFHxGIfIk8yg8cwLt//PpeJvpC3hf85x/fyq+jHXd7y/txcU0+oVvnnWf27OD9d8k22XBNNbes8fFbTzX0XWKxBbPJJhuYyY8rRCfIDyFEH9x2/QWqn/xoQfY1w9BplX488pA9s9lnm0ld+/CNJxvmKu6B3xMpZEIP2tKt8KsS9jmLRy/zP+GjM64xj2tSphXwUsRVyt/LZIrFS3t3Xm69xfrKP5AfkDb7H5+8/XTuM3z27ij1o1TxLyTGE79DfnAlf8t/ic2a/QgpUkrshD7iv8AfQRzE4iWLl836rUzmoRdTtg08u7kPAbw0Y4t/kwK+U4DFS985xP21UAAKl0bK3EilTCvgRd73yP+tNHj22WfHyRiSbLaSdlXzIEHoaQGgk+KlFNEQgJ507H/utJTHvuK63NUoyXMEsK+/8EBedGu+kxLFS7mzsPnRsautvKyaUwp+mEs+n374JnVdCpB//P6NvO3z90arOySluFjsL78mlr1JIfT5p+/M2+TuUCk6SFtz8VKKkihEyp2SxfnkF8c4q0nxUu7KQn85p+wf88mdXNgbrsmn3C058cQTqf8fvP5E3l+SCEJfKfIW+4+4/XI1jxRpi9eFPq89f3/DtWJ7z79DRqrkyGYb1vNUJnvOj4To0t/i5f5775Cdc9pRDbL085cv53d+F+VUfjggci26p5mnJx5zoGqTuyzRdtawI9W1XXfcIr8mbU89NE7XrbX6Cg3X8UOFGWeYLttlh80b7vyUgqmsLT8gwfz4lPnwnZ+JFCrLZBp60JZu7fOr6Hu2+p5CE/E/4aOnHKfw7ObxLPBCmdLLFIuX42yYFAfF5s804/TZyEdu1v6X+EP6vfvKow1+gDwVRq6L31L0C+TpNnJ9nTVXarguT3qQ2KXY95knbld9m+Mv6SM/yJJ5JD4pxmwyv/zwStpYvPxP8ZIyr5d56EXaEnNbkjKtgJeWJDsvkAKeU4DFS88ZxO21UgAKN2Wjw7ObOyfAC51evdOrpIzFyzzgRPFSAsey//I4oGJwKt9RvDz71N+2tOHRhXKXT/M4ebyQrHH3LZc2tKF4KQF385gfPnsx35c8qhXt8qtdmUt+AYxr+JTHJkrb4/dfn7chYC8WDdFfHokk/ReYb668v7Ttu+f26vp+e23fcB3jJEkg46RgimvyiYJn2Z2X8ijI7z8b29BfxuAxr5KAwFwP3XONml8et4tr+Nxpu01VW/H8F559nLo27IRDWvpjnJeftpPo7ZLxWK8soc9rYWGnJr/6W7zUyY88RlZ0gcyHPm+9+LC6Jo/FxjV8yiOnf/Ob3+R3ZcqPG+ROTblLEn2Kn1K4lPmLOhDFS7mbu9hXviORKbq1uY1/J1ywLMoL9GA7fWnazuJl5Y8GWbw0j2UY942jFWO68lgOMa76QSr0WFG3Jfgdj40VP8Hk/zsvP5L7BvK6CXlKhPwQqsw/wNNiikXHsn5yDXdTFn/IdevwC9Se5Ck8ZeO222oj1X7j1eeUtpeNifZaH56BcX426gDaUdrR/voHsKOtWXZeIQX8pgCLl37zh7sroQAUbn8VNfunadyBlxIoJXmp7HEjihAsXuYB4jcfP6eCRvnlqxT9mv9fcNZxeV8Ei3i0UPOvbqV9j122UvNdfuEpLePwGMPmRwrJI4ck2C7eEYm15BPtD997jZpT7nSU/vKYomI/fH/0vutUu9zJJNdeHH2P+lt++Ys+xU9d8RKPhS0+Lqk4rj/FS0kOyJ7lcZPFOfBdChDS/sQDN+Ttd9x4kbrW/EtoGXPIAbuqtlGP3pL3f2nMveqavJszqF8wI/lkmiSv2w/rJZjgAt74Oa6AVad4KQXHl58Zkd187Xn5o6CL7/wVGsv7Jscbb7xM9CxoDv21wbqr5dcg6yLX6Ff8xJ2a8i5NXEfxsngNbfKJR7TJ3fG///b1fFyxD78nXMiEHqyrTzEeflWS3mbrocv8T/jojNHSjNH6y3fgpRVdaV4pkyneedl456XY/eY4rvi3PH1GYo3inZcoLhafllP0DWS8jHn2yTtK/QjxL8QPkXdsy+sspG/xCQ+bbby2ulb8cVdxfhYvC34I7HKaIt5y6jKZh17srz5l/zTtLvDSAi5eIAU8pwCLl54ziNtrpQAULg1umga3v3wHXlqRlN4V3YveFSWQZEPSrZufCEQ8LZTgzku5M7EYTFZ9rypeHrDPjipIlceqNs9x7JH7qjZ5PFGxDcVJXfESd3rK+x9lHB6jKMVFGdv8f9GF51PrHHPEPqr/Ldedr/7eaP3VG9bFHsqKl//644dqjBQe0K/502bxEnelFt/V+ek7I9Ue5C7T5rWXWmJh1fbdpy80tF158TD1C2pJHkw9ZFAm/Pj2k+cb+jTP1fO/ISPdlMPi3FjPU5nsOT8SoksnxUspWOJR0yJnxf/Nd5xfdcmpqr14N/SZw8Y9nk0ShuD1aScdpvrJHdjN+kz+xt0M8mhojJH32srab4x9ML+GNvmUHzNMO82QfH+bbrSW9gcixXH8XkgkxiwL0INF3VjnO/yq9NzNlhPr/E/46P317dk/zRgQeGkBWIIXdDLF4uU4e4U7L+eZe7ZSfwB2HcXF4p2X4p+ILyHvnizzPzDmgbuuapj79hsuzJZeclwsUvSD5Pt9d1yR95VXXMi1554qL36yeFnwOWCXE5Tx5iPrZB56kXYxTbvYX74DL8344t+kgO8UYPHSdw5xfy0UgMLtr6Jm/zQNOvDSAqTELojDO2bMGPUIr1GjRmXyy72Gf0iy1UnUmY5FIOJpEjSE4qU8NlUC3ysuGnc3J97tOGTwVKWBNoJv/MoXBYQtNl0nD6YRyMtnWfFS3mMna44//oDSMTKu28VLWQPF4O233jj7+K2n1GNy5Z0xsjcpIhfPge/yaMlTjj84f4+MvB+zWChBP28+ISOmMlW3H9bzVCa94UsC9Olv8fLAfXdSsifvot1ys3Uz+ZHGK8+OyPC+qCMO3qNBJuWOa3mM9Fxzzppflx8eyOOj//7Le/k1+aGFyLQUKaG/yj6L7wRuV7wEjm67/oJMHv8t88v/g/ffJV8XffhZSB4mgHvFb+jBuvoU4+FXNThb6f1R5X/CR2eMlmaM1l++Ay/pSVHjiatkisXL+sXL3x66l/INdD+egi8iP4gS2/HXn9/J5HH44k/ID1/33n1bFWPIo2LXX2dVdb34QyspikpfjG/2N1i8LPgfsMuNIpDcX1UyD73YX33K/mnaXeAlOSHigYOnAIuXwbMwvQNA4dLgpmlw+8t34CU9SfnPiYsOrxQw5e+Wf0iyIenWzU8EIp4mREMoXi6z1CIq8H1kxLUqcH5h5F3qbwmom4P+IVvTAAAgAElEQVTgsr/vufUy1V/mKWsvK15KPyT7f/fVK6XjXBQv5Z2W8i487EU+5bFPB+23cyaPrSw7D65J+yXnnZiPfe35+yv7Y5zzT8hIN+WwODfW81QmndM/YTr0p3h5/51XKlmS91X++PlLDbKkK14KL/Eo7ddfeCDDO3ybf3ggj+cW2dY9tq0ME6bFS4x97P7h2dDpp1HryN2fuM7PQuIwJVmAHizqxjrf4Ve1OFzpXPjXv/6V/3CuzP+Ej95f357904wBgZd0JKj1pO1kisXL+sXL8844RvkFUsQ08QdQ7JQfcDX3LyteLrv0omp+icWa+8vfLF4WfBDY5VZRSOZKO5mHXqRdTNMu9pfvwEsyAsSDRkMBFi+jYWU6B4HC7a+iZv80DTrwko6EtJ5UXuYuL7gvSxzlvZFkq5OoMx2LQMTTpKjvxUt5LOr//M//ZP/93/+d/fH7N1TgK3csyd2E8v8P3427VhYQ45q8sxLFv7J3v+mKl/KOTBkndy5hruKni+Kl3Im13DKLZd9/NjYb+cjN2YdvPFm6l+K+mr/LnVZyDklQNLd58TdkxFSm6vbDep7KpBc8SYQ2/Sle7r/3DkqO5L1OzTyqKl6++tx9apy8txKPsC4+Uk3mkh8WiIwustC8LXM3r4W/+1u8lHHy3mBZZ501VzJeB+vxs5BgjEE+oAfr6lOMh1+VO1rpfWnnf8JHZ4yWZozWX74DL+lJ0n9O3E6mWLysX7yUp0f0x/8QP0X6v//a4y1+RFnxcq/dtlH95Q7NMj+CxcuCbwG7/B8RSO5bO5mHXuyvPmX/NO0u8JKcIPHAwVOAxcvgWZjeAaBwaXDTNLj95Tvwkp6kjDvxL7/8ogqX4vjKL/e0/5BkQ9Ktm58IRDxNdvpQvFx5xaVUYHv5heMeC1sMbnfYZmPVtuF6qzUEvXh84/LLLt5yF5SMl2JfcR48NrH5sY5//vGtbNWVl1FrLDDfXA1jDjtwN3V9oQXmabnL8fSTD8/kfZgSwH/+3uiGcfKYSLn+zz98kF+Xx0fKtcknnzS/Vtxf2Tsv5QwyRgL/Yl/ddylMyDtomtuPOmxvNQ8eo9vc3vO/ISPdlMPi3FjPU5nsOT8Sokt/ipeiO0QepQhZ5JH8mAI6rPmdl+gn73ySux7lvZOiH3C9+CnvtpX5d9tpyxZ9I3dRN//woqp4KXd4nnD0AS3rPP3wTWoNeY9wcW1+LyQPU8E/9GBRN9b5Dr9K63jF3WDif8JH769vz/5pxoDAS9ySoz+diUyxeFm/eCn2H/6E+B/N/oD4H8UfiuJOyiceuKGhr8ST0007tfIx5EkVmAdPrZDH5X/6zsj8urTLj7sGDpxYjbnpmnMb2jA+qU/YZb1YRN1iIvPQi7SLadrF/vIdeIlacHi4KCnA4mWUbI37UFC4/VXUve5/yolnZKutumb27Ze/z3q9l5TWB17ilorq0/3666/Zv//97+pOSLLVSdSZjkUg4mlC9JuPn1NB44AB/6/yXWvFO/7kkYeSZL/r5ktaAk28o1HeBdcccB575L5qnNylVGxbZaWl1XUp7MkjGYedcIiaW95RKetMNtnA7Iv3xzSMkXeuyHvkpH3SSSfJ9ttr+0weK3v3LZdmC84/d8sdTA/cdZXqK/2lGCh3Pp120mHZbLPOqIoJcl3GFfclj4bEYxYlWL/+qrOyG68+J1tt5WXVXHLnp4xr3put4qXsZdpphqj3bspjYqUYgf9CX7kTs7hf3Akqj8c957Sjsqceukm9k0/e2ynzSKG22N+b75ARU5mq2w/reSqT3vAlAfrccNXZSoanHjJIq/+uu+JMJTeiM0TeRb6lSCm6Ztcdt1A/SMCdCLripfwwQ8bK/x233aRUDj968yml66TPjDNMlx1/1P5Khq+8eFg2aNAULT9iQLLxjbEPtswnCUiZZ+aZhmby4wX5YcO9t12m5pXrxXdnEm8JFi5FtqEH6+pTjIdfVe19Rd3azv+Ej55SXMKzdp5gBl6iFpo2h2snU7keS8BfqbLV7736mLL588w9W4s/UBwnMY/4AO+8/EhDP4nxJJaC/yGxhsQQV1x0Sov/IX6O9JP46KxhR6q4aKP1V1exivxQS9qKxUtZf/VVllPXpbh54dnHKX9EfCHpi1iKxcuCXW4jFzE3t5N56EXals5tS0q0A15ilhmeLU4KsHgZJ1+jPhUUbkhG5odv/qScUXFIh510JouXf3TnXAAvUQuFjcMhyYakWzc/kSD0NLDGnZcir1X/X35mRB7o2i5errTCkpkUD6RYiLuPsJetNl8v++rDZ/K1i0G43PEkCf4hg6dq2PvgQVNmUpQo9pXvN197Xh4ky/zyLsl111o5e+6pO7Jpph6cNd95KWPksUgokmJPskcJvuURSHKtW3deyvqSGMC6ZZ/TTzd1Jo98kr5ffvCMer+eFCqLfddYdflMEhvSx8v/kJFuymFxbqznKz24L2c4xZ2XRXlp/i4/uoDc4I5v9BG9Icm9d195VMlc853dGCd3XuPdtY/ed10+H9rxKXdMyjsy8QMIrCOPsH7midsbxlUVL+VOCdEd8mMQzCGfouOak4pYm5+e6sdu6QPowaJurPMdfpUNHy3SOeCjhxTTca/uYrhmWgMvkYqDnWNBj3VLTwYyb93ipdj/bz95Xv0gq53/IT8eXWG5JRp8C3lCjRQ7r770NHV9xO2XN/grMkbiraI/Muccs2TyhBs8Tl9+HJq8HwI825GOKGeBXmzWl/y7d7bKZ9oDL1EKAw8VNQVYvIyavXEeDgrXZ6NQtrdtt9kxm23W2bMXnnk9qOLlcsuukA0cODCoPRfpD7zEKQ0WT4UkW51EnelYBCKBBMA+BI4vjbk3e2HkXZkk/E33IwXEUY/ekr04+p7KMRJAj3n8tkzWMJ1b+kmBcPRjtzY8Oqk/4zvp+9aLD6tAf6ftNs1+/vJldael3G0p/x+///pskw3XVO3y6Nzm+aUQLI9jar7u5d+QEVOZqtsP61Emw8CHZ3ySOx1FBkXf9Eee5M7yqaaa3HiMJCNlHXknb3/Wae4rd1yLvvvTD2/Wmqd5Xv4deLETerCuPsV4+FUWXbXYpoKPXvTbQ//+2svvKz/kwAMOsxI7LbTgItmQIVNbmSt02gIvscmB1fNAj3nmJ4RuH+UHWeJ/SByiO4vEUtLn+afv1PZpHis/CJUxza/2aO6X7N/As1UhiWsy6MXQ9Xud/W+68RbK7v760z96aislzys/SDjy8GN7uo8qWgIvcUkBT5MCBVi8TIHLkZ0RCrdKKbPN3i+N5ppzbhYvI5Oh0uMgyYakWzc/EYgwsDYObpMNWpswgjtcpeBaRpM/fv+GChpmnWWG0vayMV5eg4x0Uw6Lc2O9Jnp7SRvuMWxs9/FPHmktAf7hB+0exXkoK4EXLgWX0INF3VjnO/yqUqeLF4UCMcZ0Tzz6jNJttoqXQ4fOwOJl3xN7gBdKTwUFoMfoK9G3iAEDwHMF5FNvgl5MOf+50oqrKLvb6+LlAyOeUPtg8TJ1qeT5u0EBFi+7QVXO2VUK0EDbK0yaODmDphrE4mVXEe3J5Eiy1UnUmY5FIBJDUMUzOE0OyHs2peAhj5IsKxbcceNFql0eX1vWHsw1yIipTNXth/WI57BxEwj/fv/t65k8Hm2CCcbPfvn6VdI8EL4Foz87pSf0YF19ivHwqzxx83zcRowx3W0336v8EFvFywknnJDFSxYvzcUXeqxTPchx9El8wgDwbC4ByfWM0Y6a5CiLfeabbwFld3tdvBx+7a1qHyxeJieGPLADCrB46YDIXMIuBUI10LvuvGcmj2B9541PGx4jsMlGm2e777q3unbNVTdl6627YTblFFNmUjTcbJMts5+++0tDfzHUe++5f7b+ehup67fedE8md0finQkbbrBJ9tF7X7eMkXdtyvoj7n6kpW3UU2NV22+POC5vO/vMC7MN1t84n1fG4v93X/0h71d0HHz8DrzYRWGEsyHJhqRbNz8RiPgUHHEvQQTrp510mNJJ8m47eYSTJNPlXXbyCEi8e0/eMyOPlA060Q4Z6aYcFufGepSDsHHjOf+OOWKfbPedt1Tv0xWf5bbrLyC9PedZ0Hq0v7SFHizqxjrf4VdF6DLaOhJ8dB/jh7I93T/i8WzZZZbPpph8CuWLLLnE0tnTTzyvYqLPPv4h22WnPbL5519QtU0//dBs+eVWVP+L8dX3X/8xO+uMC7J119kgk7sqRRcOGjQ4u+LS6xpiq9OGnaNiQsR3mEs+m/d29ZU3qnUmmmiifF/PjnqlpZ+MO/bok7K555pH9ZO599pjv+zrL34p7du8Tq//Bl5s4S/KeaDH+qv/2J/+iI8YAJ6jFFY7h4Je7LV+1q3//JjXsm223iETmyg2Su6SbLZ3GHvpRVerfOO1V9/cYpNef+UD1bbn7vvmbVdeNjzbeMPNsgEDBiibJvYZ+cp33/xM9ZNPuSZ28tsvf58dsP+heX+x5eeefXE+H/YhnzJmzTXWKW2THydJO14H9skH32Y77bhbNs/c86p9iG3HPo4/9pTSOYprufwOvNhBH2chBdxRgMVLd7TmSpYoAIXrUsnbWGvRRRZXxuzF599qMGBiyGeZedZst132Uu0S9OLXQxJUSjGyeX0xzNImRlI+5X0oYiCnnnoa9fdUU06Vvf/2Fw3jdth+F9VW5izce9e498gV11ps0cYXz8s6+P/lZz83zN28P5/+Bl4swS/eaZBkq5OoMx2LQMTHIIl78jp4//sv72WnnnhoJgVK6CN8TjzxRNlRh+3t9f6NCwGQEVOZqtsP6xH/ceDHUz7Kjw5EXqeYYrLsluvOJ6095ZOxnopt/9CDdfUpxsOvitdzrH0y+Og+xQ26vcgPTEV/TTbpZNlWW2yr3mm1+GJLqmu33zIiG/vsuMfWwycpfuIHp2Ofe1ONlzb54akUIpdacpncn5HkKtafd5758uvFueT7z9//Ne+3/XY7q35zzD5ntt8+B2Xyo1jpM/HEE2evvPhu3k/mXW3Vce8FX2CBhbID9jsk23fvA7PBg4eo4ukP3/ypoS/24dMn8FIbeDFPAD0Wm37medL0mYDnmGW25tmgF33S1djLDcNvz+2Y5DwXXHDh/O8tN9+mxeYcdshRqv3E409taXtm1MuqTWwm5pcfATXbR/yNnKt8yrXVV1srm3ba6ZRtlLxp0fZKThVzyufvfvibGjPJJJM0XEefVVdZQ7U/8uBI1T5m5EvafWyx2dalc2Au15/AS03YcTgp4JwCLF46JzkXrEsBKFzXir7ueigGvvTC2w0GDL+6lSDzqsuvz9ueG/1qbgQ/eOfL/LrsQwyuGOHppps+k7smsbdffvy7+jWTtK2x+tr5dWmvKl7K3Zgypli8lDE/fvtndX3gwIENc2G9ED6Bl7q4i348kmxIunXzE4EIA9E0A1FLfP/2k+ezG68+Jzv39KOzJx64IZPCZjRJd8hIN+WwODfWs8SbaPhAesQjU+QledkOA9CDRd1Y5zv8qugdyM4PCB89hHhixhlnUjHR55/82BATPXT/Uw1/Dzv5LNVP99hY+QFq85ibb7hLjZECZJEWn330vbo+ZMjUDdfRR+7glPhNiqm4Jp8SG8p1iRdx/cnHnlXX1lpz3fyatEmSFnePoq+vn8BL54hLYCT0WDt9x3baxBAwADwnILqdHhF60Te9/fADTyubI7ZInhSH/YkNxVPj5GlyuC6f/S1eYuwEE0yg1sLfxU8UL2Uf2227U8NT7Z56/Lls/PHHV2PvufOhfC/9LV5iPSm6yjrFpy2gzZdP4KVTvHEcKdArCrB42SvKc92OKQCF64sBMN1Hu+LlyCdfyA0m5pRf6ooBlPen4Jp8onj5+CNjGq5LmzwyVsbIf3k0EcaxeNkx5NIYiCRbnUSd6VgEIiEETdwjg/teYAAyYipTdfthvV6clWtSxogBYsAHDEAP1tWnGA+/Kg0vsqNThhTTSVwlr/VAXKX7bFe81I3Do2jlsXbo0654Oemkk6qn7kiiFWPwudGGm6pY8NMPv1NteBfXPnsd0NIXY3z/BF46Alsqg6DHfNCp3ANte10MAM+pyG8H54Re9E1/40lxRxx2TIvNeXnsO3m+sviDoG4WL+XpdmU0OvTg36q9bLvNjnk7i5cdAJFDSIEuU4DFyy4TmNPbp4CvBrrMGBavtStelj2KVR7pI8Gy/LK2OBeKl/L4hOJ1fF9m6eXUuPvueTRvZ/HSPhajmhFJNiTduvmJQKRuQMPxDIpjxQBkpJtyWJwb68VKT56LuoIYIAbaYQB6sKgb63yHXxWVs2j3MCHFdEsvtayKreQxrc1PxEH8JZ/9KV5K0vbRh0ZlF19wpXqcncR88vhZzFdVvLzr9gfUfnbfde+8P8bJ56mnnK3a5ek68vfbb3yi/pbH4F1y4VWlY4rjffwOvNhFYWSzQY+103dsp00MAQPAc2RiavM40Is+6Wy5gULsmfwvy3HKXuXdl9J++SXX5vbo8EOPVtdOOuG0/BrOVfbYWLRNOOGEahz+Ln7KU+9kneLjZovteOT7bLPOnq8pT7OTMbqnzzU/Nhbzyb5l3FFHHp/PhTZfPoEXmxjkXKSACwqweOmCylzDKgWgcH0xAKb7WGThxZQxk/edFMfIo1/FyBV/dYR2GHAJhHFNPlGcHP30iw3X0WfzTbdSc150/hV5O96JUnQQ0P/uOx5U/TdYf+O8v7TB8dAZboz3+RN4sQrCGCdDkq1Oos50LAKREIIm7pHBfS8wABkxlam6/bBeL87KNSljxAAx4AMGoAfr6lOMh18Vo89o6Uzw0X2OI7C3D9/9KkMsJ3HbKiuvnt1y490NcZP0NSleSiyme6dl8RGuVcVLPDJ21llmU+/OlPdnFv/POcdcKra7/rrb8j3edP2dmRQvZf9y16a85+u9tz7P23FWXz+BF0vwi3Ma6DEfdCr3QNteFwPAc5zSauVU0Is+6e1XX3pP2Rl5p7JuX/IUALFFR//2hLwP7oI84bhh+TWMR/FyySWWbmnDo19//ekfLW0oTso7qjFX8fOrz3+n9jFgwIC8/afv/qKuTTTRRPm14hix/7J3vPMSbccfe4q6fuThx5aOQ79efgIvVsDHSUgBhxRg8dIhsbmUHQpA4fZS6XeyNgJeF8XLTTbaXBnOSy+6OjecLF7awV+0syDJhqRbNz8RiNQNaDieQXGsGICMdFMOi3NjvVjpyXNRVxADxEA7DEAPFnVjne/wq6J1HOsfLMSY7oERT2SSBJXEpfxfb90NG17TUVW8/OaLX7NFF1lcjZtpxpmzffc+MLtx+B3qrkjc2Snv4EKcWVW8xB0eM880S0PRsljAlO/NrxiRH6aeefr52aCpBql9SML2/HMvzdfE2j5+Ai/1kRfxDNBj7fQd22kTQ8AA8ByxyNY9GvSiTzr7+TGvKfsiP67R7UvuThQbetCBh+d9uvnY2LKip+zti09/UvuQAij2ysfG1kUlx5MC9inA4qV9mnLGLlPARwMNQ1f1iWBVXhpd7Df99EOVwRTDWbwu33V3XuIZ8mNGvtQyRsbhEbX3j3g8b99xh13VOpddfE1+Devde9fDqm3DDTZpaPvhmz+p67zzssug9mF6JNnqJOpMxyIQCSFo4h4Z3PcCA5ARU5mq2w/r9eKsXJMyRgwQAz5gAHqwrj7FePhVPvh4nu4h1JhO4idJziK222rL7fL4qap4KXc6SrJ2t132yvsjFutv8VJ+oCpz7bn7vi1zYc52n1ddcUM2wQQTqHnuv/exjudpt46tduDFUzj7sS3oMR90KvdA214XA8CzH9Ll5S6gF23pWRvz4Ic3YqN08221xbbK9px95oV5H+Q+jzvm5PwaxuPOy7LHv8KOoW/xU3Kvsg9d8VLyqdJe9thYeRxtcS581z029sTjT1Vz/faI40rHYXwvP4EXL8HMTZECFRRg8bKCOGzykwJQuL1U+p2s7erOy4/f/0YZTTHCUnzEXuVXTXJt2Eln5tfQJu8+kbbm4iWe9657ZALG+/wJvPiJZo92hSQbkm7d/EQgUjeg4XgGxbFiADLSTTkszo31YqUnz0VdQQwQA+0wAD1Y1I11vsOv8sjV820r8NF9jiOq9iaPkpX4SV4Bgn5yV6NcO2C/Q/JraBs6dAbV9u2Xv29pKyte4nF2gwYNbun/1usfq7nmnmueljasZ/KJZKvc8WLSv5d9gBffcOzVfqDH2uk7ttMmhoAB4NkrIfNrM9CLvdTNZWvL0wXEFuK9y819pppyKtX+yovv5rbn9FPPVdcO2P/Q/BrG3Xnb/aqtrHg58cQTqza5YxL98SlPvZN9LLH4Ui1t0kce8Srtu+y0R0O7PJVArmOe4ice+9782NhTTjxDjfHZngIvfqGYuyEF2lOAxcv2NGIPzygAhVs0ICF8x69zbd55WXynJWiAXzE1v7/ynLMuUsa02eCLw4CXXDcXL2VOuetSDHfZOzmxps+fwItnMPZvO0iy1UnUmY5FIBJC0MQ9MrjvBQYgI6YyVbcf1uvFWbkmZYwYIAZ8wAD0YF19ivHwq/zz+LzZEXx0n+MI7E2SqfLYV/wtn19/8YuKkYoFxBuG366urbvOBg19pf8cs8+p2l545vWGtrff+CRDIrf4zksZIzGY/JfHvRbXlu8rr7Saatt6q+0zeUdXsV1+gFrcr8x75WXDG/pIfySLy37cWpzPh+/AizcA9nEj0GM+6FTugba9LgaAZx9lzZM9QS/6oKOLezjjtPOUfVpowUWyn7//a4Ptwbshl1l6uYbr8h5psXdzzTl3JjYM833wzpfZkCFTq7bmXKb0mX22OVRb8+u5pA13XsqPh+SOUMwpn++//YV6/7Os+djDoxva5JG3cv26a25puC4/TJLr8r+5eHn1lTeq6/IKr+I6Pn0HXjyBL7dBChhTgMVLY1Kxoy8UgML1yQiY7AWPcn3phbcbjBl+hfvlZz83XJc58egEeQRRcY3lll0hN5ryyx9578nNN9yVbbzhZur6pJNOmsmvgYtjio9vkDFyJ+Z++xyUTT7Z5NmuO++pxpUVLzGnOB7Dr701k0ceyd2dxbl9/g68+IJfb/eBJBuSbt38RCBSN6DheAbFsWIAMtJNOSzOjfVipSfPRV1BDBAD7TAAPVjUjXW+w6/y1vHr/cbgo/scR8je5LF2kqiUAuNee+yX3XbzvZm8mgPvvrz4givzuOizj3/IYzQpeMrrOiSek3nwCg9Jikpi9/JLrs3WXGMd9SPSeeedX40b+eQL+VwyZu211lPX5ZF3EoftsP0uGWJGifWmnGJK1S53fx5x2DHZg/c9qdYcPHhIts3WO+RzLbDAQqqfxHNyt6X0u+LS67JJJplExYLNSV0feQK89B65Hu8AeqydvmM7bWIIGACePRa5Xm8NetFHnb3iCisruyO2Uuyd3D25x277qGtyg4Q8QaC4bylySh5T7O0sM8+qnmBw8IFHZFNPPU1uP8uKl2KXZYwUMaXYKH/jhhHJvUob/q+z9vqZ/Mjo3LMvVvPK9e2327lhH7In3JEp7RttuGkm7+hcY/W11fuiZQ653ly8/OSDb/N1xP7L0+3ELhfP2OvvwEuvccv1SYH+UoDFy/5SjP17TgEo3F4r/v6u343ipQTE88w9b24kxYhuuvEW2uIiHmUg/eS/vJha3pkiZ5G/y4qX7775Wcsa99z5kFdGuIoXwEvPgev7BpBkq5OoMx2LQCSEoIl7ZHDfCwxARkxlqm4/rNeLs3JNyhgxQAz4gAHowbr6FOPhV/nu//Vwf/DRq/x4X9quuvx69dg5xFDyKclVuXOxeY94HyX6SuJV+sidkHiNCNqkKDnqqbHZySecrmKxpx5/rmG+N1/7SL2LC/3ls5gw/eLTn9SPUPGkHPSbc465socfeDqfS4qq8qNV/GgW/ZZdZnn1/s7mM/j4N/DSQ8j6vzT0mA86lXugba+LAeDZf8nr2Q6hF33U2bKnU085u8HuyONY5Yc1Uugr27PkN/HIVtgpuVFD+soPiMqKl2LfkGvFGDyhDsVLucvzhOOGNeRNp512OvXjpLJ9yJMVFlxw4Yb+Cy+0aPbRe19nZ51xgbpetMWY49ijT2oYM/30Q0vPif6uP4GXngGWC5MCHVKAxcsOCcdhvaMAFK5rRe/TehJoimF+bvSryhjKi6bll7rNjwwq2/N3X/1BBb1ibCXgLetTdk2KmI8+NCp79aX3jMeUzeP6GvDSO8QGsjKSbEi6dfMTgUjdgIbjGRTHigHISDflsDg31ouVnjwXdQUxQAy0wwD0YFE31vkOvyoQN7AX24SP7jo2qLveM6NebhtDybu3nh/zmoq5mh/5KvGUxGEyj+le5NGyMu71Vz7Qjnnt5ffVvLjjRDe3vEuzP2vr5nF9HXjpBVaDWRN6rJ2+YzttYggYAJ6DEUD3G4VedK2P+7ue5BKfHfWK1n4V55OcpthI+d+fJ77J42Xl8a/IkcqceGwsHlGLXOgbr35otBfY8eYfFhX32/xdnmSA/f/47Z+N1mmeo1t/Ay/ukcoVSYF6FGDxsh79OLoHFIDC7ZZCD2FeMb5SvBz99IteGUMfaQe89ACqYS2JJFudRJ3pWAQiIQRN3COD+15gADJiKlN1+2G9XpyVa1LGiAFiwAcMQA/W1acYD78qLG/Q6W7ho/sYP3BPmXcxJvDiFKShLQY95oNO5R5o2+tiAHgOTQ4d7hd6kTar3GaNffYNlTeVR9eSRlkGvDiEKJciBaxQgMVLK2TkJC4pAIWbsvFh8bLcOSnDBPDiEqNBroUkG5Ju3fxEIFI3oOF4BsWxYgAy0k05LM6N9WKlJ89FXUEMEAPtMAA9WNSNdb7DrwrSKXSzafjoZf47r5nHOqnQCnhxg85AV4Eea6fv2E6bGAIGgOdAxdHFtqEXU7ED/T0ni5eNvgTw4m1mSOYAACAASURBVAKbXIMUsEkBFi9tUpNzOaEAFG5/DVdM/Vm8bDTCVbwFXpyAM+RFkGSrk6gzHYtAJISgiXtkcN8LDEBGTGWqbj+s14uzck3KGDFADPiAAejBuvoU4+FXhewbdnnv8NGr/Hi2mcc8sdMKeOkyLMOeHnrMB53KPdC218UA8By2VHZ199CLsev/Ts/H4mWjDwG8dBWUnJwU6AIFWLzsAlE5ZXcpAIXbqQGLYRyLl41GuIqnwEt3URnB7EiyIenWzU8EInUDGo5nUBwrBiAj3ZTD4txYL1Z68lzUFcQAMdAOA9CDRd1Y5zv8qghcxG4dAT56lR/PNvOYJ3ZaAS/dwmMU80KPtdN3bKdNDAEDwHMUwtmdQ0Avxq7/Oz0fi5eNPgTw0h00clZSoHsUYPGye7TlzF2iABRupwaM4xoNWOz0AF66BMd4pkWSrU6iznQsApEQgibukcF9LzAAGTGVqbr9sF4vzso1KWPEADHgAwagB+vqU4yHXxWPp2j9JPDRY49FeD47sSfwYh2IMU0IPeaDTuUeaNvrYgB4jklGLZ8FepF2xo6diZ2OwItlGHI6UqDrFGDxsusk5gK2KQCFG7th4fnsOCDAi20cRjcfkmxIunXzE4FI3YCG4xkUx4oByEg35bA4N9aLlZ48F3UFMUAMtMMA9GBRN9b5Dr8qOofR3oHgozPmsRPzxE5H4MUeAiOcCXqsnb5jO21iCBgAniMUVVtHgl6MXf/zfHb8BODFFv44DyngigIsXrqiNNexRgEoXBowOwYsdjoCL9YAGOtESLLVSdSZjkUgEkLQxD0yuO8FBiAjpjJVtx/W68VZuSZljBggBnzAAPRgXX2K8fCrYvUbLZwLPnrssQjPZydmBV4sQC/eKaDHfNCp3ANte10MAM/xSmztk0Ev0s7YsTOx0xF4qQ08TkAKOKYAi5eOCc7l6lMACjd2w8Lz2XFAgJf6yIt8BiTZkHTr5icCkboBDcczKI4VA5CRbsphcW6sFys9eS7qCmKAGGiHAejBom6s8x1+VeTuY53jwUdnzGMn5omdjsBLHcxFPxZ6rJ2+YzttYggYAJ6jF9zODwi9GLv+5/ns+AnAS+eI40hSoDcUYPGyN3TnqjUoAIVLA2bHgMVOR+ClBuTSGIokW51EnelYBCIhBE3cI4P7XmAAMmIqU3X7Yb1enJVrUsaIAWLABwxAD9bVpxgPvyoNL7KjU8JHjz0W4fnsxKzAS0dgS2UQ9JgPOpV7oG2viwHgORX57eCc0Iu0M3bsTOx0BF46gBqHkAI9pQCLlz0lPxfvhAJQuLEbFp7PjgMCvHSCtaTGIMmGpFs3PxGI1A1oOJ5BcawYgIx0Uw6Lc2O9WOnJc1FXEAPEQDsMQA8WdWOd7/CrknIm+3dY+OiMeezEPLHTEXjpH8oS6w091k7fsZ02MQQMAM+JiXF/jgu9GLv+5/ns+AnAS38wxr6kgA8UYPHSBy5wD/2iABQuDZgdAxY7HYGXfoEsxc5IstVJ1JmORSASQtDEPTK47wUGICOmMlW3H9brxVm5JmWMGCAGfMAA9GBdfYrx8KtS9CkNzwwfPfZYhOezE7MCL4bwSrMb9JgPOpV7oG2viwHgOU1pNjo19CLtjB07EzsdgRcjcLETKeARBVi89IgZ3IoZBaBwYzcsPJ8dBwR4MUNXwr2QZEPSrZufCETqBjQcz6A4VgxARroph8W5sV6s9OS5qCuIAWKgHQagB4u6sc53+FUJu5btjg4fnTGPnZgndjoCL+1wlXQ79Fg7fcd22sQQMAA8Jy3U1YeHXoxd//N8dvwE4KUaVWwlBfyjAIuX/vGEO2pDAShcGjA7Bix2OgIvbWDFZiTZ6iTqTMciEAkhaOIeGdz3AgOQEVOZqtsP6/XirFyTMkYMEAM+YAB6sK4+xXj4VfQwtRSAjx57LMLz2YlZgRctoNiQZdBjPuhU7oG2vS4GgGfKtpYC0Iu0M3bsTOx0BF60gGIDKeApBVi89JQx3JaeAlC4sRsWns+OAwK86BHFFkUBJNmQdOvmJwKRugENxzMojhUDkJFuymFxbqwXKz15LuoKYoAYaIcB6MGibqzzHX4V3UwtBeCjM+axE/PETkfgRQsoNrB42U7Psz0sXwB2mbKtpQD0Yuz6n+ez4ycAL1pAsYEU8JQCLF56yhhuS08BKFwaMDsGLHY6Ai96RLFFUQBJtjqJOtOxCEQYQIYVQJJf7vgFGTGVqbr9sB557I7HpDVpTQz4hQHowbr6FOPhV9HN1FIAPnrssQjPZydmBV60gGIDi5e0q37Z1br8gF2mbGspAL1IO2PHzsROR+BFCyg2kAKeUoDFS08Zw23pKQCFG7th4fnsOCDAix5RbFEUQJINSbdufiIQqRvQcHxcASr5+R9+Qka6KYfFubEeefAfHpAWpAUxkBYGoAeLurHOd/hVdDO1FICPzpjHTswTOx2BFy2g2MDiJe12XHYbdpmyraUA9GLs+p/ns+MnAC9aQLGBFPCUAixeesoYbktPAShcGjA7Bix2OgIvekSxRVEASbY6iTrTsQhEGGDGFWCSn/b4CRkxlam6/bAeeWiPh6QlaUkMhIUB6MG6+hTj4VfRzdRSAD567LEIz2cnZgVetIBiA4uXtLth2d12/IJdpmxrKQC9SDtjx87ETkfgRQsoNpACnlKAxUtPGcNt6SkAhRu7YeH57DggwIseUWxRFECSDUm3bn4iEGkXsLA9rgCU/DTnJ2Skm3JYnBvrkUfmPCKtSCtiIC4MQA8WdWOd7/Cr6GZqKQAfnTGPnZgndjoCL1pAsYHFS9rlOO0yZVtLAejF2PU/z2fHTwBetIBiAyngKQVYvPSUMdyWngJQuDRgdgxY7HQEXvSIYouiAJJsdRJ1pmORIGSAGVeASX7a4ydkxFSm6vbDeuShPR6SlqQlMRAWBqAH6+pTjIdfRTdTSwH46LHHIjyfnZgVeNECig0sXtLuhmV32/ELdpmyraUA9CLtjB07EzsdgRctoNhACnhKARYvPWUMt6WnABRu7IaF57PjgAAvekSxRVEASTYk3br5iUCkXcDC9rgCUPLTnJ+QkW7KYXFurEcemfOItCKtiIG4MAA9WNSNdb7Dr6KbqaUAfHTGPHZintjpCLxoAcUGFi9pl+O0y5RtLQWgF2PX/zyfHT8BeNECig2kgKcUYPHSU8ZwW3oKQOHSgNkxYLHTEXjRI4otigJIstVJ1JmORYKQAWZcASb5aY+fkBFTmarbD+uRh/Z4SFqSlsRAWBiAHqyrTzEefhXdTC0F4KPHHovwfHZiVuBFCyg2sHhJuxuW3W3HL9hlyraWAtCLtDN27EzsdARetIBiAyngKQVYvPSUMdyWngJQuLEbFp7PjgMCvOgRxRZFASTZkHTr5icCkXYBC9vjCkDJT3N+Qka6KYfFubEeeWTOI9KKtCIG4sIA9GBRN9b5Dr+KbqaWAvDRGfPYiXlipyPwogUUG1i8pF2O0y5TtrUUgF6MXf/zfHb8BOBFCyg2kAKeUoDFS08Zw23pKQCFSwNmx4DFTkfgRY8otigKIMlWJ1FnOhYJQgaYcQWY5Kc9fkJGTGWqbj+sRx7a4yFpSVoSA2FhAHqwrj7FePhVdDO1FICPHnsswvPZiVmBFy2g2MDiJe1uWHa3Hb9glynbWgpAL9LO2LEzsdMReNECig2kgKcUYPHSU8ZwW3oKQOHGblh4PjsOCPCiRxRbFAWQZEPSrZufCETaBSxsjysAJT/N+QkZ6aYcFufGeuSROY9IK9KKGIgLA9CDRd1Y5zv8KrqZWgrAR2fMYyfmiZ2OwIsWUGxg8ZJ2OU67TNnWUgB6MXb9z/PZ8ROAFy2g2EAKeEoBFi89ZQy3pacAFC4NmB0DFjsdgRc9otiiKIAkW51EnelYJAgZYMYVYJKf9vgJGTGVqbr9sB55aI+HpCVpSQyEhQHowbr6FOPhV9HN1FIAPnrssQjPZydmBV60gGIDi5e0u2HZ3Xb8gl2mbGspAL1IO2PHzsROR+BFCyg2kAKeUoDFS08Zw23pKQCFG7th4fnsOCDAix5RbFEUQJINSbdufiIQaRewsD2uAJT8NOcnZKSbclicG+uRR+Y8Iq1IK2IgLgxADxZ1Y53v8KvoZmopAB+dMY+dmCd2OgIvWkCxgcVL2uU47TJlW0sB6MXY9T/PZ8dPAF60gGIDKeApBVi89JQx3JaeAlC4NGB2DFjsdARe9Ihii6IAkmx1EnWmY5EgZIAZV4BJftrjJ2TEVKbq9sN65KE9HpKWpCUxEBYGoAfr6lOMh19FN1NLAfjoscciPJ+dmBV40QKKDSxe0u6GZXfb8Qt2mbKtpQD0Iu2MHTsTOx2BFy2g2EAKeEoBFi89ZQy3pacAFG7shoXns+OAAC96RLFFUQBJNiTduvmJQKRdwML2uAJQ8tOcn5CRbsphcW6sRx6Z84i0Iq2IgbgwAD1Y1I11vsOvopuppQB8dMY8dmKe2OkIvGgBxQYWL2mX47TLlG0tBaAXY9f/PJ8dPwF40QKKDaSApxRg8dJTxnBbegpA4dKA2TFgsdMReNEjii2KAkiy1UnUmY5FgpABZlwBJvlpj5+QEVOZqtsP65GH9nhIWpKWxEBYGIAerKtPMR5+Fd1MLQXgo8cei/B8dmJW4EULKDaweEm7G5bdbccv2GXKtpYC0Iu0M3bsTOx0BF60gGIDKeApBVi89JQx3JaeAlC4sRsWns+OAwK86BHFFkUBJNmQdOvmJwKRdgEL2+MKQMlPc35CRroph8W5sR55ZM4j0oq0IgbiwgD0YFE31vkOv4puppYC8NEZ89iJeWKnI/CiBRQbWLykXY7TLlO2tRSAXoxd//N8dvwE4EULKDaQAp5SgMVLTxnDbekpAIVLA2bHgMVOR+BFjyi2KAogyVYnUWc6FglCBphxBZjkpz1+QkZMZapuP6xHHtrjIWlJWhIDYWEAerCuPsV4+FV0M7UUgI8eeyzC89mJWYEXLaDYwOIl7W5Ydrcdv2CXKdtaCkAv0s7YsTOx0xF40QKKDaSApxRg8dJTxnBbegpA4cZuWHg+Ow4I8KJHFFsUBZBkQ9Ktm58IRNoFLGyPKwAlP835CRnpphwW58Z65JE5j0gr0ooYiAsD0INF3VjnO/wquplaCsBHZ8xjJ+aJnY7AixZQbGDxknY5TrtM2dZSAHoxdv3P89nxE4AXLaDYQAp4SgEWLz1lDLelpwAULg2YHQMWOx2BFz2i2KIogCRbnUSd6VgkCBlgxhVgkp/2+AkZMZWpuv2wHnloj4ekJWlJDISFAejBuvoU4+FX0c3UUgA+euyxCM9nJ2YFXrSAYgOLl7S7YdnddvyCXaZsaykAvUg7Y8fOxE5H4EULKDaQAp5SgMVLTxnDbekpAIUbu2Hh+ew4IMCLHlFsURRAkg1Jt25+IhBpF7CwPa4AlPw05ydkpJtyWJwb65FH5jwirUgrYiAuDEAPFnVjne/wq+hmaikAH50xj52YJ3Y6Ai9aQLGBxUva5TjtMmVbSwHoxdj1P89nx08AXrSAYgMp4CkFWLz0lDHclp4CULg0YHYMWOx0BF70iGKLogCSbHUSdaZjkSBkgBlXgEl+2uMnZMRUpur2w3rkoT0ekpakJTEQFgagB+vqU4yHX0U3U0sB+OixxyI8n52YFXjRAooNLF7S7oZld9vxC3aZsq2lAPQi7YwdOxM7HYEXLaDYQAp4SgEWLz1lDLelpwAUbuyGheez44AAL3pEsUVRAEk2JN26+YlApF3Awva4AlDy05yfkJFuymFxbqxHHpnziLQirYiBuDAAPVjUjXW+w6+im6mlAHx0xjx2Yp7Y6Qi8aAHFBhYvaZfjtMuUbS0FoBdj1/88nx0/AXjRAooNpICnFGDx0lPGcFt6CkDh0oDZMWCx0xF40SOKLYoCSLLVSdSZjkWCkAFmXAEm+WmPn5ARU5mq2w/rkYf2eEhakpbEQFgYgB6sq08xHn4V3UwtBeCjxx6L8Hx2YlbgRQsoNrB4Sbsblt1txy/YZcq2lgLQi7QzduxM7HQEXrSAYgMp4CkFWLz0lDHclp4CULixGxaez44DArzoEcUWRQEk2ZB06+YnApF2AQvb4wpAyU9zfkJGuimHxbmxHnlkziPSirQiBuLCAPRgUTfW+Q6/im6mlgLw0Rnz2Il5Yqcj8KIFFBtYvKRdjtMuU7a1FIBejF3/83x2/ATgRQsoNpACnlKAxUtPGcNt6SkAhUsDZseAxU5H4EWPKLYoCiDJVidRZzoWCUIGmHEFmOSnPX5CRkxlqm4/rEce2uMhaUlaEgNhYQB6sK4+xXj4VXQztRSAjx57LMLz2YlZgRctoNjA4iXtblh2tx2/YJcp21oKQC/SztixM7HTEXjRAooNpICnFGDx0lPGcFt6CkDhxm5YeD47DgjwokcUWxQFkGRD0q2bnwhE2gUsbI8rACU/zfkJGemmHBbnxnrkkTmPSCvSihiICwPQg0XdWOc7/Cq6mVoKwEdnzGMn5omdjsCLFlBsYPGSdjlOu0zZ1lIAejF2/c/z2fETgBctoNhACnhKARYvPWUMt6WnABQuDZgdAxY7HYEXPaLYoiiAJFudRJ3pWCQIGWDGFWCSn/b4CRkxlam6/bAeeWiPh6QlaUkMhIUB6MG6+hTj4VfRzdRSAD567LEIz2cnZgVetIBiA4uXtLth2d12/IJdpmxrKQC9SDtjx87ETkfgRQsoNpACnlKAxUtPGcNt6SkAhRu7YeH57DggwIseUWxRFECSDUm3bn4iEGkXsLA9rgCU/DTnJ2Skm3JYnBvrkUfmPCKtSCtiIC4MQA8WdWOd7/Cr6GZqKQAfnTGPnZgndjoCL1pAsYHFS9rlOO0yZVtLAejF2PU/z2fHTwBetIBiAyngKQVYvPSUMdyWngJQuDRgdgxY7HQEXvSIYouiAJJsdRJ1pmORIGSAGVeASX7a4ydkxFSm6vbDeuShPR6SlqQlMRAWBqAH6+pTjIdfRTdTSwH46LHHIjyfnZgVeNECig0sXtLuhmV32/ELdpmyraUA9CLtjB07EzsdgRctoNhACnhKARYvPWUMt6WnABRu7IaF57PjgAAvekSxRVEASTYk3br5iUCkXcDC9rgCUPLTnJ+QkW7KYXFurEcemfOItCKtiIG4MAA9WNSNdb7Dr6KbqaUAfHTGPHZintjpCLxoAcUGFi9pl+O0y5RtLQWgF2PX/zyfHT8BeNECig2kgKcUYPHSU8ZwW3oKQOHSgNkxYLHTEXjRI4otigJIstVJ1JmORYKQAWZcASb5aY+fkBFTmarbD+uRh/Z4SFqSlsRAWBiAHqyrTzEefhXdTC0F4KPHHovwfHZiVuBFCyg2sHhJuxuW3W3HL9hlyraWAtCLtDN27EzsdARetIBiAyngKQVYvPSUMdyWngJQuLEbFp7PjgMCvOgRxRZFASTZkHTr5icCkXYBC9vjCkDJT3N+Qka6KYfFubEeeWTOI9KKtCIG4sIA9GBRN9b5Dr+KbqaWAvDRGfPYiXlipyPwogUUG1i8pF2O0y5TtrUUgF6MXf/zfHb8BOBFCyg2kAKeUoDFS08Zw23pKQCFSwNmx4DFTkfgRY8otigKIMlWJ1FnOhYJQgaYcQWY5Kc9fkJGTGWqbj+sRx7a4yFpSVoSA2FhAHqwrj7FePhVdDO1FICPHnsswvPZiVmBFy2g2MDiJe1uWHa3Hb9glynbWgpAL9LO2LEzsdMReNECig2kgKcUYPHSU8ZwW3oKQOHGblh4PjsOCPCiRxRbFAWQZEPSrZufCETaBSxsjysAJT/N+QkZ6aYcFufGeuSROY9IK9KKGIgLA9CDRd1Y5zv8KrqZWgrAR2fMYyfmiZ2OwIsWUGxg8ZJ2OU67TNnWUgB6MXb9z/PZ8ROAFy2g2EAKeEoBFi89ZQy3pacAFC4NmB0DFjsdgRc9otiiKIAkW51EnelYJAgZYMYVYJKf9vgJGTGVqbr9sB55aI+HpCVpSQyEhQHowbr6FOPhV9HN1FIAPnrssQjPZydmBV60gGIDi5e0u2HZ3Xb8gl2mbGspAL1IO2PHzsROR+BFCyg2kAKeUoDFS08Zw23pKQCFG7th4fnsOCDAix5RbFEUQJINSbdufiIQaRewsD2uAJT8NOcnZKSbclicG+uRR+Y8Iq1IK2IgLgxADxZ1Y53v8KvoZmopAB+dMY+dmCd2OgIvWkCxgcVL2uU47TJlW0sB6MXY9T/PZ8dPAF60gGIDKeApBVi89JQx3JaeAlC4NGB2DFjsdARe9Ihii6IAkmx1EnWmY5EgZIAZV4BJftrjJ2TEVKbq9sN65KE9HpKWpCUxEBYGoAfr6lOMh19FN1NLAfjoscciPJ+dmBV40QKKDSxe0u6GZXfb8Qt2mbKtpQD0Iu2MHTsTOx2BFy2g2EAKeEoBFi89ZQy3pacAFG7shoXns+OAAC96RLFFUQBJNiTduvmJQKRdwML2uAJQ8tOcn5CRbsphcW6sRx6Z84i0Iq2IgbgwAD1Y1I11vsOvopuppQB8dMY8dmKe2OkIvGgBxQYWL2mX47TLlG0tBaAXY9f/PJ8dPwF40QKKDaSApxRg8dJTxnBbegpA4dKA2TFgsdMReNEjii2KAkiy1UnUmY5FgpABZlwBJvlpj5+QEVOZqtsP65GH9nhIWpKWxEBYGIAerKtPMR5+Fd1MLQXgo8cei/B8dmJW4EULKDaweEm7G5bdbccv2GXKtpYC0Iu0M3bsTOx0BF60gGIDKeApBVi89JQx3JaeAlC4sRsWns+OAwK86BHFFkUBJNmQdOvmJwKRdgEL2+MKQMlPc35CRroph8W5sR55ZM4j0oq0IgbiwgD0YFE31vkOv4puppYC8NEZ89iJeWKnI/CiBRQbWLykXY7TLlO2tRSAXoxd//N8dvwE4EULKDaQAp5SgMVLTxnDbekpAIVLA2bHgMVOR+BFjyi2KAogyVYnUWc6FglCBphxBZjkpz1+QkZMZapuP6xHHtrjIWlJWhIDYWEAerCuPsV4+FV0M7UUgI8eeyzC89mJWYEXLaDYwOIl7W5Ydrcdv2CXKdtaCkAv0s7YsTOx0xF40QKKDaSApxRg8dJTxnBbegpA4cZuWHg+Ow4I8KJHFFsUBZBkQ9Ktm58IRNoFLGyPKwAlP835CRnpphwW58Z65JE5j0gr0ooYiAsD0INF3VjnO/wquplaCsBHZ8xjJ+aJnY7AixZQbGDxknY5TrtM2dZSAHoxdv3P89nxE4AXLaDYQAp4SgEWLz1lDLelpwAULg2YHQMWOx2BFz2i2KIogCRbnUSd6VgkCBlgxhVgkp/2+AkZMZWpuv2wHnloj4ekJWlJDISFAejBuvoU4+FX0c3UUgA+euyxCM9nJ2YFXrSAYgOLl7S7YdnddvyCXaZsaykAvUg7Y8fOxE5H4EULKDaQAp5SgMVLTxnDbekpAIUbu2Hh+ew4IMCLHlFsURRAkg1Jt25+IhBpF7CwPa4AlPw05ydkpJtyWJwb65FH5jwirUgrYiAuDEAPFnVjne/wq+hmaikAH50xj52YJ3Y6Ai9aQLGBxUva5TjtMmVbSwHoxdj1P89nx08AXrSAYgMp4CkFWLz0lDHclp4CULg0YHYMWOx0BF70iGKLogCSbHUSdaZjkSBkgBlXgEl+2uMnZMRUpur2w3rkoT0ekpakJTEQFgagB+vqU4yHX0U3U0sB+OixxyI8n52YFXjRAooNLF7S7oZld9vxC3aZsq2lAPQi7YwdOxM7HYEXLaDYQAp4SgEWLz1lDLelpwAUbuyGheez44AAL3pEsUVRAEk2JN26+YlApF3Awva4AlDy05yfkJFuymFxbqxHHpnziLQirYiBuDAAPVjUjXW+w6+im6mlAHx0xjx2Yp7Y6Qi8aAHFBhYvaZfjtMuUbS0FoBdj1/88nx0/AXjRAooNpICnFGDx0lPGcFt6CkDh0oDZMWCx0xF40SOKLYoCSLLVSdSZjkWCkAFmXAEm+WmPn5ARU5mq2w/rkYf2eEhakpbEQFgYgB6sq08xHn4V3UwtBeCjxx6L8Hx2YlbgRQsoNrB4Sbsblt1txy/YZcq2lgLQi7QzduxM7HQEXrSAYgMp4CkFWLz0lDHclp4CULixGxaez44DArzoEcUWRQEk2ZB06+YnApF2AQvb4wpAyU9zfkJGuimHxbmxHnlkziPSirQiBuLCAPRgUTfW+Q6/im6mlgLw0Rnz2Il5Yqcj8KIFFBtYvKRdjtMuU7a1FIBejF3/83x2/ATgRQsoNpACnlKAxUtPGcNt6SkAhUsDZseAxU5H4EWPKLYoCiDJVidRZzoWCUIGmHEFmOSnPX5CRkxlqm4/rEce2uMhaUlaEgNhYQB6sK4+xXj4VXQztRSAjx57LMLz2YlZgRctoNjA4iXtblh2tx2/YJcp21oKQC/SztixM7HTEXjRAooNpICnFGDx0lPGcFt6CkDhxm5YeD47DgjwokcUWxQFkGRD0q2bnwhE2gUsbI8rACU/zfkJGemmHBbnxnrkkTmPSCvSihj4/+3da6ht2ZnXf182f8VW0RZvre0Fr4jdKNiojSiorZIWW30lNiooXkClVVAbbBBfiKJ4yQvxhYhIBwRRTFX6kpikO6lULlWVW3eSuiSp67nVOVWnzqmqVCWp+WeuVb9zVlVq7DVP5lh7z/nMz4aqtc4ec645x/f5jecynr3WqqWB+MFD3zjnefIqaWaTQHJ0NU+fmqc6x+ilKSgDmpfics24bG03CcQvVvf/5tcnT4hemoIygMBCCWheLtQwbqtNIA5XAOsTwKpzjF7aijKyI5BNtjkbdVPPzQahArNWgcme/eyZNTJ1Tc09Ltdjw342xBJLGliXBuIH5/rTnJ+8SprZJJAcvXotYn59atbopSkoA5qX4u664u4xeyUuW9tNAvGL4kyfOFOdY/TSI7ZYTwAAIABJREFUFJQBBBZKQPNyoYZxW20CcbjVA4v59UlAope2oozsCGSTLZtup3xMIXKsYDFeqwBlz+n2zBo55To8fO1cj42m2wgrrGiglgbiBw9945znyaukmU0CydHVPH1qnuoco5emoAxoXorLNeOytd0kEL9Y3f+bX588IXppCsoAAgsloHm5UMO4rTaBOFwBrE8Aq84xemkrysiOQDbZ5mzUTT03G4QKzFoFJnv2s2fWyNQ1Nfe4XI8N+9kQSyxpYF0aiB+c609zfvIqaWaTQHL06rWI+fWpWaOXpqAMaF6Ku+uKu8fslbhsbTcJxC+KM33iTHWO0UtTUAYQWCgBzcuFGsZttQnE4VYPLObXJwGJXtqKMrIjkE22bLqd8jGFyLGCxXitApQ9p9sza+SU6/DwtXM9NppuI6ywooFaGogfPPSNc54nr5JmNgkkR1fz9Kl5qnOMXpqCMqB5KS7XjMvWdpNA/GJ1/29+ffKE6KUpKAMILJSA5uVCDeO22gTicAWwPgGsOsfopa0oIzsC2WSbs1E39dxsECowaxWY7NnPnlkjU9fU3ONyPTbsZ0MssaSBdWkgfnCuP835yaukmU0CydGr1yLm16dmjV6agjKgeSnurivuHrNX4rK13SQQvyjO9Ikz1TlGL01BGUBgoQQ0LxdqGLfVJhCHWz2wmF+fBCR6aSvKyI5ANtmy6XbKxxQixwoW47UKUPacbs+skVOuw8PXzvXYaLqNsMKKBmppIH7w0DfOeZ68SprZJJAcXc3Tp+apzjF6aQrKgOaluFwzLlvbTQLxi9X9v/n1yROil6agDCCwUAKalws1jNtqE4jDFcD6BLDqHKOXtqKM7Ahkk23ORt3Uc7NBqMCsVWCyZz97Zo1MXVNzj8v12LCfDbHEkgbWpYH4wbn+NOcnr5JmNgkkR69ei5hfn5o1emkKyoDmpbi7rrh7zF6Jy9Z2k0D8ojjTJ85U5xi9NAVlAIGFEtC8XKhh3FabQBxu9cBifn0SkOilrSgjOwLZZMum2ykfU4gcK1iM1ypA2XO6PbNGTrkOD18712Oj6TbCCisaqKWB+MFD3zjnefIqaWaTQHJ0NU+fmqc6x+ilKSgDmpfics24bG03CcQvVvf/5tcnT4hemoIygMBCCWheLtQwbqtNIA5XAOsTwKpzjF7aijKyI5BNtjkbdVPPzQahArNWgcme/eyZNTJ1Tc09Ltdjw342xBJLGliXBuIH5/rTnJ+8SprZJJAcvXotYn59atbopSkoA5qX4u664u4xeyUuW9tNAvGL4kyfOFOdY/TSFJQBBBZKQPNyoYZxW20CcbjVA4v59UlAope2oozsCGSTLZtup3xMIXKsYDFeqwBlz+n2zBo55To8fO1cj42m2wgrrGiglgbiBw9945znyaukmU0CydHVPH1qnuoco5emoAxoXorLNeOytd0kEL9Y3f+bX588IXppCsoAAgsloHm5UMO4rTaBOFwBrE8Aq84xemkrysiOQDbZ5mzUTT03G4QKzFoFJnv2s2fWyNQ1Nfe4XI8N+9kQSyxpYF0aiB+c609zfvIqaWaTQHL06rWI+fWpWaOXpqAMaF6Ku+uKu8fslbhsbTcJxC+KM33iTHWO0UtTUAYQWCgBzcuFGsZttQnE4VYPLObXJwGJXtqKMrIjkE22bLqd8jGFyLGCxXitApQ9p9sza+SU6/DwtXM9NppuI6ywooFaGogfPPSNc54nr5JmNgkkR1fz9Kl5qnOMXpqCMqB5KS7XjMvWdpNA/GJ1/29+ffKE6KUpKAMILJSA5uVCDeO22gTicAWwPgGsOsfopa0oIzsC2WSbs1E39dxsECowaxWY7NnPnlkjU9fU3ONyPTbsZ0MssaSBdWkgfnCuP835yaukmU0CydGr1yLm16dmjV6agjKgeSnurivuHrNX4rK13SQQvyjO9Ikz1TlGL01BGUBgoQQ0LxdqGLfVJhCHWz2wmF+fBCR6aSvKyI5ANtmy6XbKxxQixwoW47UKUPacbs+skVOuw8PXzvXYaLqNsMKKBmppIH7w0DfOeZ68SprZJJAcXc3Tp+apzjF6aQrKgOaluFwzLlvbTQLxi9X9v/n1yROil6agDCCwUAKalws1jNtqE4jDFcD6BLDqHKOXtqKM7Ahkk23ORt3Uc7NBqMCsVWCyZz97Zo1MXVNzj8v12LCfDbHEkgbWpYH4wbn+NOcnr5JmNgkkR69ei5hfn5o1emkKyoDmpbi7rrh7zF6Jy9Z2k0D8ojjTJ85U5xi9NAVlAIGFEtC8XKhh3FabQBxu9cBifn0SkOilrSgjOwLZZMum2ykfU4gcK1iM1ypA2XO6PbNGTrkOD18712Oj6TbCCisaqKWB+MFD3zjnefIqaWaTQHJ0NU+fmqc6x+ilKSgDmpfics24bG03CcQvVvf/5tcnT4hemoIygMBCCWheLtQwbqtNIA5XAOsTwKpzjF7aijKyI5BNtjkbdVPPzQahArNWgcme/eyZNTJ1Tc09Ltdjw342xBJLGliXBuIH5/rTnJ+8SprZJJAcvXotYn59atbopSkoA5qX4u664u4xeyUuW9tNAvGL4kyfOFOdY/TSFJQBBBZKQPNyoYZxW20CcbjVA4v59UlAope2oozsCGSTLZtup3xMIXKsYDFeqwBlz+n2zBo55To8fO1cj42m2wgrrGiglgbiBw9945znyaukmU0CydHVPH1qnuoco5emoAxoXorLNeOytd0kEL9Y3f+bX588IXppCsoAAgsloHm5UMO4rTaBOFwBrE8Aq84xemkrysiOQDbZ5mzUTT03G4QKzFoFJnv2s2fWyNQ1Nfe4XI8N+9kQSyxpYF0aiB+c609zfvIqaWaTQHL06rWI+fWpWaOXpqAMaF6Ku+uKu8fslbhsbTcJxC+KM33iTHWO0UtTUAYQWCgBzcuFGsZttQnE4VYPLObXJwGJXtqKMrIjkE22bLqd8jGFyLGCxXitApQ9p9sza+SU6/DwtXM9NppuI6ywooFaGogfPPSNc54nr5JmNgkkR1fz9Kl5qnOMXpqCMqB5KS7XjMvWdpNA/GJ1/29+ffKE6KUpKAMILJSA5uVCDeO22gTicAWwPgGsOsfopa0oIzsC2WSbs1E39dxsECowaxWY7NnPnlkjU9fU3ONyPTbsZ0MssaSBdWkgfnCuP835yaukmU0CydGr1yLm16dmjV6agjKgeSnurivuHrNX4rK13SQQvyjO9Ikz1TlGL01BGUBgoQQ0LxdqGLfVJhCHWz2wmF+fBCR6aSvKyI5ANtmy6XbKxxQixwoW47UKUPacbs+skVOuw8PXzvXYaLqNsMKKBmppIH7w0DfOeZ68SprZJJAcXc3Tp+apzjF6aQrKgOaluFwzLlvbTQLxi9X9v/n1yROil6agDCCwUAKalws1jNtqE4jDFcD6BLDqHKOXtqKM7Ahkk23ORt3Uc7NBqMCsVWCyZz97Zo1MXVNzj8v12LCfDbHEkgbWpYH4wbn+NOcnr5JmNgkkR69ei5hfn5o1emkKyoDmpbi7rrh7zF6Jy9Z2k0D8ojjTJ85U5xi9NAVlAIGFEtC8XKhh3FabQBxu9cBifn0SkOilrSgjOwLZZMum2ykfU4gcK1iM1ypA2XO6PbNGTrkOD18712Oj6TbCCisaqKWB+MFD3zjnefIqaWaTQHJ0NU+fmqc6x+ilKSgDmpfics24bG03CcQvVvf/5tcnT4hemoIygMBCCWheLtQwbqtNIA5XAOsTwKpzjF7aijKyI5BNtjkbdVPPzQahArNWgcme/eyZNTJ1Tc09Ltdjw342xBJLGliXBuIH5/rTnJ+8SprZJJAcvXotYn59atbopSkoA5qX4u664u4xeyUuW9tNAvGL4kyfOFOdY/TSFJQBBBZKQPNyoYZxW20CcbjVA4v59UlAope2oozsCGSTLZtup3xMIXKsYDFeqwBlz+n2zBo55To8fO1cj42m2wgrrGiglgbiBw9945znyaukmU0CydHVPH1qnuoco5emoAxoXorLNeOytd0kEL9Y3f+bX588IXppCsoAAgsloHm5UMO4rTaBOFwBrE8Aq84xemkrysiOQDbZ5mzUTT03G4QKzFoFJnv2s2fWyNQ1Nfe4XI8N+9kQSyxpYF0aiB+c609zfvIqaWaTQHL06rWI+fWpWaOXpqAMaF6Ku+uKu8fslbhsbTcJxC+KM33iTHWO0UtTUAYQWCgBzcuFGsZttQnE4VYPLObXJwGJXtqKMrIjkE22bLqd8jGFyLGCxXitApQ9p9sza+SU6/DwtXM9NppuI6ywooFaGogfPPSNc54nr5JmNgkkR1fz9Kl5qnOMXpqCMqB5KS7XjMvWdpNA/GJ1/29+ffKE6KUpKAMILJSA5uVCDeO22gTicAWwPgGsOsfopa0oIzsC2WSbs1E39dxsECowaxWY7NnPnlkjU9fU3ONyPTbsZ0MssaSBdWkgfnCuP835yaukmU0CydGr1yLm16dmjV6agjKgeSnurivuHrNX4rK13SQQvyjO9Ikz1TlGL01BGUBgoQQ0LxdqGLfVJhCHWz2wmF+fBCR6aSvKyI5ANtmy6XbKxxQixwoW47UKUPacbs+skVOuw8PXzvXYaLqNsMKKBmppIH7w0DfOeZ68SprZJJAcXc3Tp+apzjF6aQrKgOaluFwzLlvbTQLxi9X9v/n1yROil6agDCCwUAKalws1jNtqE4jDFcD6BLDqHKOXtqKM7Ahkk23ORt3Uc7NBqMCsVWCyZz97Zo1MXVNzj8v12LCfDbHEkgbWpYH4wbn+NOcnr5JmNgkkR69ei5hfn5o1emkKyoDmpbi7rrh7zF6Jy9Z2k0D8ojjTJ85U5xi9NAVlAIGFEtC8XKhh3FabQBxu9cBifn0SkOilrSgjOwLZZMum2ykfU4gcK1iM1ypA2XO6PbNGTrkOD18712Oj6TbCCisaqKWB+MFD3zjnefIqaWaTQHJ0NU+fmqc6x+ilKSgDmpfics24bG03CcQvVvf/5tcnT4hemoIygMBCCWheLtQwbqtNIA5XAOsTwKpzjF7aijKyI5BNtjkbdVPPzQahArNWgcme/eyZNTJ1Tc09Ltdjw342xBJLGliXBuIH5/rTnJ+8SprZJJAcvXotYn59atbopSkoA5qX4u664u4xeyUuW9tNAvGL4kyfOFOdY/TSFJQBBBZKQPNyoYZxW20CcbjVA4v59UlAope2oozsCGSTLZtup3xMIXKsYDFeqwBlz+n2zBo55To8fO1cj42m2wgrrGiglgbiBw9945znyaukmU0CydHVPH1qnuoco5emoAxoXorLNeOytd0kEL9Y3f+bX588IXppCsoAAgsloHm5UMO4rTaBOFwBrE8Aq84xemkrysiOQDbZ5mzUTT03G4QKzFoFJnv2s2fWyNQ1Nfe4XI8N+9kQSyxpYF0aiB+c609zfvIqaWaTQHL06rWI+fWpWaOXpqAMaF6Ku+uKu8fslbhsbTcJxC+KM33iTHWO0UtTUAYQWCgBzcuFGsZttQnE4VYPLObXJwGJXtqKMrIjkE22bLqd8jGFyLGCxXitApQ9p9sza+SU6/DwtXM9NppuI6ywooFaGogfPPSNc54nr5JmNgkkR1fz9Kl5qnOMXpqCMqB5KS7XjMvWdpNA/GJ1/29+ffKE6KUpKAMILJSA5uVCDeO22gTicAWwPgGsOsfopa0oIzsC2WSbs1E39dxsECowaxWY7NnPnlkjU9fU3ONyPTbsZ0MssaSBdWkgfnCuP835yaukmU0CydGr1yLm16dmjV6agjKgeSnurivuHrNX4rK13SQQvyjO9Ikz1TlGL01BGUBgoQQ0LxdqGLfVJhCHWz2wmF+fBCR6aSvKyI5ANtmy6XbKxxQixwoW47UKUPacbs+skVOuw8PXzvXYaLqNsMKKBmppIH7w0DfOeZ68SprZJJAcXc3Tp+apzjF6aQrKgOaluFwzLlvbTQLxi9X9v/n1yROil6agDCCwUAKalws1jNtqE4jDFcD6BLDqHKOXtqKM7Ahkk23ORt3Uc7NBqMCsVWCyZz97Zo1MXVNzj8v12LCfDbHEkgbWpYH4wbn+NOcnr5JmNgkkR69ei5hfn5o1emkKyoDmpbi7rrh7zF6Jy9Z2k0D8ojjTJ85U5xi9NAVlAIGFEtC8XKhh3FabQBxu9cBifn0SkOilrSgjOwLZZMum2ykfU4gcK1iM1ypA2XO6PbNGTrkOD18712Oj6TbCCisaqKWB+MFD3zjnefIqaWaTQHJ0NU+fmqc6x+ilKSgDmpfics24bG03CcQvVvf/5tcnT4hemoIygMBCCWheLtQwbqtNIA5XAOsTwKpzjF7aijKyI5BNtjkbdVPPzQahArNWgcme/eyZNTJ1Tc09Ltdjw342xBJLGliXBuIH5/rTnJ+8SprZJJAcvXotYn59atbopSkoA5qX4u664u4xeyUuW9tNAvGL4kyfOFOdY/TSFJQBBBZKQPNyoYZxW20CcbjVA4v59UlAope2oozsCGSTLZtup3xMIXKsYDFeqwBlz+n2zBo55To8fO1cj42m2wgrrGiglgbiBw9945znyaukmU0CydHVPH1qnuoco5emoAxoXorLNeOytd0kEL9Y3f+bX588IXppCsoAAgsloHm5UMO4rTaBOFwBrE8Aq84xemkrysiOQDbZ5mzUTT03G4QKzFoFJnv2s2fWyNQ1Nfe4XI8N+9kQSyxpYF0aiB+c609zfvIqaWaTQHL06rWI+fWpWaOXpqAMaF6Ku+uKu8fslbhsbTcJxC+KM33iTHWO0UtTUAYQWCgBzcuFGsZttQnE4VYPLObXJwGJXtqKMrIjkE22bLqd8jGFyLGCxXitApQ9p9sza+SU6/DwtXM9NppuI6ywooFaGogfPPSNc54nr5JmNgkkR1fz9Kl5qnOMXpqCMqB5KS7XjMvWdpNA/GJ1/29+ffKE6KUpKAMILJSA5uVCDeO22gTicAWwPgGsOsfopa0oIzsC2WSbs1E39dxsECowaxWY7NnPnlkjU9fU3ONyPTbsZ0MssaSBdWkgfnCuP835yaukmU0CydGr1yLm16dmjV6agjKgeSnurivuHrNX4rK13SQQvyjO9Ikz1TlGL01BGUBgoQQ0LxdqGLfVJhCHWz2wmF+fBCR6aSvKyI5ANtmy6XbKxxQixwoW47UKUPacbs+skVOuw8PXzvXYaLqNsMKKBmppIH7w0DfOeZ68SprZJJAcXc3Tp+apzjF6aQrKgOaluFwzLlvbTQLxi9X9v/n1yROil6agDCCwUAKalws1jNtqE4jDFcD6BLDqHKOXtqKM7Ahkk23ORt3Uc7NBqMCsVWCyZz97Zo1MXVNzj8v12LCfDbHEkgbWpYH4wbn+NOcnr5JmNgkkR69ei5hfn5o1emkKyoDmpbi7rrh7zF6Jy9Z2k0D8ojjTJ85U5xi9NAVlAIGFEtC8XKhh3FabQBxu9cBifn0SkOilrSgjOwLZZMum2ykfU4gcK1iM1ypA2XO6PbNGTrkOD18712Oj6TbCCisaqKWB+MFD3zjnefIqaWaTQHJ0NU+fmqc6x+ilKSgDmpfics24bG03CcQvVvf/5tcnT4hemoIygMBCCWheLtQwbqtNIA5XAOsTwKpzjF7aijKyI5BNtjkbdVPPzQahArNWgcme/eyZNTJ1Tc09Ltdjw342xBJLGliXBuIH5/rTnJ+8SprZJJAcvXotYn59atbopSkoA5qX4u664u4xeyUuW9tNAvGL4kyfOFOdY/TSFJQBBBZKQPNyoYZxW20CcbjVA4v59UlAope2oozsCGSTLZtup3xMIXKsYDFeqwBlz+n2zBo55To8fO1cj42m2wgrrGiglgbiBw9945znyaukmU0CydHVPH1qnuoco5emoAxoXorLNeOytd0kEL9Y3f+bX588IXppCsoAAgsloHm5UMO4rTaBOFwBrE8Aq84xemkrysiOQDbZ5mzUTT03G4QKzFoFJnv2s2fWyNQ1Nfe4XI8N+9kQSyxpYF0aiB+c609zfvIqaWaTQHL06rWI+fWpWaOXpqAMaF6Ku+uKu8fslbhsbTcJxC+KM33iTHWO0UtTUAYQWCgBzcuFGsZttQnE4VYPLObXJwGJXtqKMrIjkE22bLqd8jGFyLGCxXitApQ9p9sza+SU6/DwtXM9NppuI6ywooFaGogfPPSNc54nr5JmNgkkR1fz9Kl5qnOMXpqCMqB5KS7XjMvWdpNA/GJ1/29+ffKE6KUpKAMILJSA5uVCDeO22gTicAWwPgGsOsfopa0oIzsC2WSbs1E39dxsECowaxWY7NnPnlkjU9fU3ONyPTbsZ0MssaSBdWkgfnCuP835yaukmU0CydGr1yLm16dmjV6agjKgeSnurivuHrNX4rK13SQQvyjO9Ikz1TlGL01BGUBgoQQ0LxdqGLfVJhCHWz2wmF+fBCR6aSvKyI5ANtmy6XbKxxQixwoW47UKUPacbs+skVOuw8PXzvXYaLqNsMKKBmppIH7w0DfOeZ68SprZJJAcXc3Tp+apzjF6aQrKgOaluFwzLlvbTQLxi9X9v/n1yROil6agDCCwUAKalws1jNtqE4jDFcD6BLDqHKOXtqKM7Ahkk23ORt3Uc7NBqMCsVWCyZz97Zo1MXVNzj8v12LCfDbHEkgbWpYH4wbn+NOcnr5JmNgkkR69ei5hfn5o1emkKyoDmpbi7rrh7zF6Jy9Z2k0D8ojjTJ85U5xi9NAVlAIGFEtC8XKhh3FabQBxu9cBifn0SkOilrSgjOwLZZMum2ykfU4gcK1iM1ypA2XO6PbNGTrkOD18712Oj6TbCCisaqKWB+MFD3zjnefIqaWaTQHJ0NU+fmqc6x+ilKSgDmpfics24bG03CcQvVvf/5tcnT4hemoIygMBCCWheLtQwbqtNIA5XAOsTwKpzjF7aijKyI5BNtjkbdVPPzQahArNWgcme/eyZNTJ1Tc09Ltdjw342xBJLGliXBuIH5/rTnJ+8SprZJJAcvXotYn59atbopSkoA5qX4u664u4xeyUuW9tNAvGL4kyfOFOdY/TSFJQBBBZKQPNyoYZxW20CcbjVA4v59UlAope2oozsCGSTLZtup3xMIXKsYDFeqwBlz+n2zBo55To8fO1cj42m2wgrrGiglgbiBw9945znyaukmU0CydHVPH1qnuoco5emoAxoXorLNeOytd0kEL9Y3f+bX588IXppCsoAAgsloHm5UMO4rTaBOFwBrE8Aq84xemkrysiOQDbZ5mzUTT03G4QKzFoFJnv2s2fWyNQ1Nfe4XI8N+9kQSyxpYF0aiB+c609zfvIqaWaTQHL06rWI+fWpWaOXpqAMaF6Ku+uKu8fslbhsbTcJxC+KM33iTHWO0UtTUAYQWCgBzcuFGsZttQnE4VYPLObXJwGJXtqKMrIjkE22bLqd8jGFyLGCxXitApQ9p9sza+SU6/DwtXM9NppuI6ywooFaGogfPPSNc54nr5JmNgkkR1fz9Kl5qnOMXpqCMqB5KS7XjMvWdpNA/GJ1/29+ffKE6KUpKAMILJSA5uVCDeO22gTicAWwPgGsOsfopa0oIzsC2WSbs1E39dxsECowaxWY7NnPnlkjU9fU3ONyPTbsZ0MssaSBdWkgfnCuP835yaukmU0CydGr1yLm16dmjV6agjKgeSnurivuHrNX4rK13SQQvyjO9Ikz1TlGL01BGUBgoQQ0LxdqGLfVJhCHWz2wmF+fBCR6aSvKyI5ANtmy6XbKxxQixwoW47UKUPacbs+skVOuw8PXzvXYaLqNsMKKBmppIH7w0DfOeZ68SprZJJAcXc3Tp+apzjF6aQrKgOaluFwzLlvbTQLxi9X9v/n1yROil6agDCCwUAKalws1jNtqE4jDFcD6BLDqHKOXtqKM7Ahkk23ORt3Uc7NBqMCsVWCyZz97Zo1MXVNzj8v12LCfDbHEkgbWpYH4wbn+NOcnr5JmNgkkR69ei5hfn5o1emkKyoDmpbi7rrh7zF6Jy9Z2k0D8ojjTJ85U5xi9NAVlAIGFEtC8XKhh3FabQBxu9cBifn0SkOilrSgjOwLZZMum2ykfU4gcK1iM1ypA2XO6PbNGTrkOD18712Oj6TbCCisaqKWB+MFD3zjnefIqaWaTQHJ0NU+fmqc6x+ilKSgDmpfics24bG03CcQvVvf/5tcnT4hemoIygMBCCWheLtQwbqtNIA5XAOsTwKpzjF7aijKyI5BNtjkbdVPPzQahArNWgcme/eyZNTJ1Tc09Ltdjw342xBJLGliXBuIH5/rTnJ+8SprZJJAcvXotYn59atbopSkoA5qX4u664u4xeyUuW9tNAvGL4kyfOFOdY/TSFJQBBBZKQPNyoYZxW20CcbjVA4v59UlAope2oozsCGSTLZtup3xMIXKsYDFeqwBlz+n2zBo55To8fO1cj42m2wgrrGiglgbiBw9945znyaukmU0CydHVPH1qnuoco5emoAxoXorLNeOytd0kEL9Y3f+bX588IXppCsoAAgsloHm5UMO4rTaBOFwBrE8Aq84xemkrysiOQDbZ5mzUTT03G4QKzFoFJnv2s2fWyNQ1Nfe4XI8N+9kQSyxpYF0aiB+c609zfvIqaWaTQHL06rWI+fWpWaOXpqAMaF6Ku+uKu8fslbhsbTcJxC+KM33iTHWO0UtTUAYQWCgBzcuFGsZttQnE4VYPLObXJwGJXtqKMrIjkE22bLqd8jGFyLGCxXitApQ9p9sza+SU6/DwtXM9NppuI6ywooFaGogfPPSNc54nr5JmNgkkR1fz9Kl5qnOMXpqCMqB5KS7XjMvWdpNA/GJ1/29+ffKE6KUpKAMILJSA5uVCDeO22gTicAWwPgGsOsfopa0oIzsC2WSbs1E39dxsECowaxWY7NnPnlkjU9fU3ONyPTbsZ0MssaSBdWkgfnCuP835yatX1IXkAAAgAElEQVSkmU0CydGr1yLm16dmjV6agjKgeSnurivuHrNX4rK13SQQvyjO9Ikz1TlGL01BGUBgoQQ0LxdqGLfVJhCHWz2wmF+fBCR6aSvKyI5ANtmy6XbKxxQixwoW47UKUPacbs+skVOuw8PXzvXYaLqNsMKKBmppIH7w0DfOeZ68SprZJJAcXc3Tp+apzjF6aQrKgOaluFwzLlvbTQLxi9X9v/n1yROil6agDCCwUAKalws1jNtqE4jDFcD6BLDqHKOXtqKM7Ahkk23ORt3Uc7NBqMCsVWCyZz97Zo1MXVNzj8v12LCfDbHEkgbWpYH4wbn+NOcnr5JmNgkkR69ei5hfn5o1emkKyoDmpbi7rrh7zF6Jy9Z2k0D8ojjTJ85U5xi9NAVlAIGFEtC8XKhh3FabQBxu9cBifn0SkOilrSgjOwLZZMum2ykfU4gcK1iM1ypA2XO6PbNGTrkOD18712Oj6TbCCisaqKWB+MFD3zjnefIqaWaTQHJ0NU+fmqc6x+ilKSgDmpfics24bG03CcQvVvf/5tcnT4hemoIygMBCCWheLtQwbqtNIA5XAOsTwKpzjF7aijKyI5BNtjkbdVPPzQahArNWgcme/eyZNTJ1Tc09Ltdjw342xBJLGliXBuIH5/rTnJ+8SprZJJAcvXotYn59atbopSkoA5qX4u664u4xeyUuW9tNAvGL4kyfOFOdY/TSFJQBBBZKQPNyoYZxW20CcbjVA4v59UlAope2oozsCGSTLZtup3xMIXKsYDFeqwBlz+n2zBo55To8fO1cj42m2wgrrGiglgbiBw9945znyaukmU0CydHVPH1qnuoco5emoAxoXorLNeOytd0kEL9Y3f+bX588IXppCsoAAgsloHm5UMO4rTaBOFwBrE8Aq84xemkrysiOQDbZ5mzUTT03G4QKzFoFJnv2s2fWyNQ1Nfe4XI8N+9kQSyxpYF0aiB+c609zfvIqaWaTQHL06rWI+fWpWaOXpqAMaF6Ku+uKu8fslbhsbTcJxC+KM33iTHWO0UtTUAYQWCgBzcuFGsZttQnE4VYPLObXJwGJXtqKMrIjkE22bLqd8jGFyLGCxXitApQ9p9sza+SU6/DwtXM9NppuI6ywooFaGogfPPSNc54nr5JmNgkkR1fz9Kl5qnOMXpqCMqB5KS7XjMvWdpNA/GJ1/29+ffKE6KUpKAMILJSA5uVCDeO22gTicAWwPgGsOsfopa0oIzsC2WSbs1E39dxsECowaxWY7NnPnlkjU9fU3ONyPTbsZ0MssaSBdWkgfnCuP835yaukmU0CydGr1yLm16dmjV6agjKgeSnurivuHrNX4rK13SQQvyjO9Ikz1TlGL01BGUBgoQQ0LxdqGLfVJhCHWz2wmF+fBCR6aSvKyI5ANtmy6XbKxxQixwoW47UKUPacbs+skVOuw8PXzvXYaLqNsMKKBmppIH7w0DfOeZ68SprZJJAcXc3Tp+apzjF6aQrKgOaluFwzLlvbTQLxi9X9v/n1yROil6agDCCwUAKalws1jNtqE4jDFcD6BLDqHKOXtqKM7Ahkk23ORt3Uc7NBqMCsVWCyZz97Zo1MXVNzj8v12LCfDbHEkgbWpYH4wbn+NOcnr5JmNgkkR69ei5hfn5o1emkKyoDmpbi7rrh7zF6Jy9Z2k0D8ojjTJ85U5xi9NAVlAIGFEtC8XKhh3FabQBxu9cBifn0SkOilrSgjOwLZZMum2ykfU4gcK1iM1ypA2XO6PbNGTrkOD18712Oj6TbCCisaqKWB+MFD3zjnefIqaWaTQHJ0NU+fmqc6x+ilKSgDmpfics24bG03CcQvVvf/5tcnT4hemoIygMBCCWheLtQwbqtNIA5XAOsTwKpzjF7aijKyI5BNtjkbdVPPzQahArNWgcme/eyZNTJ1Tc09Ltdjw342xBJLGliXBuIH5/rTnJ+8SprZJJAcvXotYn59atbopSkoA5qX4u664u4xeyUuW9tNAvGL4kyfOFOdY/TSFJQBBBZKQPNyoYZxW20CcbjVA4v59UlAope2oozsCGSTLZtup3xMIXKsYDFeqwBlz+n2zBo55To8fO1cj42m2wgrrGiglgbiBw9945znyaukmU0CydHVPH1qnuoco5emoAxoXorLNeOytd0kEL9Y3f+bX588IXppCsoAAgsloHm5UMO4rTaBOFwBrE8Aq84xemkrysiOQDbZ5mzUTT03G4QKzFoFJnv2s2fWyNQ1Nfe4XI8N+9kQSyxpYF0aiB+c609zfvIqaWaTQHL06rWI+fWpWaOXpqAMaF6Ku+uKu8fslbhsbTcJxC+KM33iTHWO0UtTUAYQWCgBzcuFGsZttQnE4VYPLObXJwGJXtqKMrIjkE22bLqd8jGFyLGCxXitApQ9p9sza+SU6/DwtXM9NppuI6ywooFaGogfPPSNc54nr5JmNgkkR1fz9Kl5qnOMXpqCMqB5KS7XjMvWdpNA/GJ1/29+ffKE6KUpKAMILJSA5uVCDeO22gTicAWwPgGsOsfopa0oIzsC2WSbs1E39dxsECowaxWY7NnPnlkjU9fU3ONyPTbsZ0MssaSBdWkgfnCuP835yaukmU0CydGr1yLm16dmjV6agjKgeSnurivuHrNX4rK13SQQvyjO9Ikz1TlGL01BGUBgoQQ0LxdqGLfVJhCHWz2wmF+fBCR6aSvKyI5ANtmy6XbKxxQixwoW47UKUPacbs+skVOuw8PXzvXYaLqNsMKKBmppIH7w0DfOeZ68SprZJJAcXc3Tp+apzjF6aQrKgOaluFwzLlvbTQLxi9X9v/n1yROil6agDCCwUAKalws1jNtqE4jDFcD6BLDqHKOXtqKM7Ahkk23ORt3Uc7NBqMCsVWCyZz97Zo1MXVNzj8v12LCfDbHEkgbWpYH4wbn+NOcnr5JmNgkkR69ei5hfn5o1emkKyoDmpbi7rrh7zF6Jy9Z2k0D8ojjTJ85U5xi9NAVlAIGFEtC8XKhh3FabQBxu9cBifn0SkOilrSgjOwLZZMum2ykfU4gcK1iM1ypA2XO6PbNGTrkOD18712Oj6TbCCisaqKWB+MFD3zjnefIqaWaTQHJ0NU+fmqc6x+ilKSgDmpfics24bG03CcQvVvf/5tcnT4hemoIygMBCCWheLtQwbqtNIA5XAOsTwKpzjF7aijKyI5BNtjkbdVPPzQahArNWgcme/eyZNTJ1Tc09Ltdjw342xBJLGliXBuIH5/rTnJ+8SprZJJAcvXotYn59atbopSkoA5qX4u664u4xeyUuW9tNAvGL4kyfOFOdY/TSFJQBBBZKQPNyoYZxW20CcbjVA4v59UlAope2oozsCGSTLZtup3xMIXKsYDFeqwBlz+n2zBo55To8fO1cj42m2wgrrGiglgbiBw9945znyaukmU0CydHVPH1qnuoco5emoAxoXorLNeOytd0kEL9Y3f+bX588IXppCsoAAgsloHm5UMO4rTaBOFwBrE8Aq84xemkrysiOQDbZ5mzUTT03G4QKzFoFJnv2s2fWyNQ1Nfe4XI8N+9kQSyxpYF0aiB+c609zfvIqaWaTQHL06rWI+fWpWaOXpqAMaF6Ku+uKu8fslbhsbTcJxC+KM33iTHWO0UtTUAYQWCgBzcuFGsZttQnE4VYPLObXJwGJXtqKMrIjkE22bLqd8jGFyLGCxXitApQ9p9sza+SU6/DwtXM9NppuI6ywooFaGogfPPSNc54nr5JmNgkkR1fz9Kl5qnOMXpqCMqB5KS7XjMvWdpNA/GJ1/29+ffKE6KUpKAMILJSA5uVCDeO22gTicAWwPgGsOsfopa0oIzsC2WSbs1E39dxsECowaxWY7NnPnlkjU9fU3ONyPTbsZ0MssaSBdWkgfnCuP835yaukmU0CydGr1yLm16dmjV6agjKgeSnurivuHrNX4rK13SQQvyjO9Ikz1TlGL01BGUBgoQQ0LxdqGLfVJhCHWz2wmF+fBCR6aSvKyI5ANtmy6XbKxxQixwoW47UKUPacbs+skVOuw8PXzvXYaLqNsMKKBmppIH7w0DfOeZ68SprZJJAcXc3Tp+apzjF6aQrKgOaluFwzLlvbTQLxi9X9v/n1yROil6agDCCwUAKalws1jNtqE4jDFcD6BLDqHKOXtqKM7Ahkk23ORt3Uc7NBqMCsVWCyZz97Zo1MXVNzj8v12LCfDbHEkgbWpYH4wbn+NOcnr5JmNgkkR69ei5hfn5o1emkKyoDmpbi7rrh7zF6Jy9Z2k0D8ojjTJ85U5xi9NAVlAIGFEtC8XKhh3FabQBxu9cBifn0SkOilrSgjOwLZZMum2ykfU4gcK1iM1ypA2XO6PbNGTrkOD18712Oj6TbCCisaqKWB+MFD3zjnefIqaWaTQHJ0NU+fmqc6x+ilKSgDmpfics24bG03CcQvVvf/5tcnT4hemoIygMBCCWheLtQwbqtNIA5XAOsTwKpzjF7aijKyI5BNtjkbdVPPzQahArNWgcme/eyZNTJ1Tc09Ltdjw342xBJLGliXBuIH5/rTnJ+8SprZJJAcvXotYn59atbopSkoA5qX4u664u4xeyUuW9tNAvGL4kyfOFOdY/TSFJQBBBZKQPNyoYZxW20CcbjVA4v59UlAope2oozsCGSTLZtup3xMIXKsYDFeqwBlz+n2zBo55To8fO1cj42m2wgrrGiglgbiBw9945znyaukmU0CydHVPH1qnuoco5emoAxoXorLNeOytd0kEL9Y3f+bX588IXppCsoAAgsloHm5UMO4rTaBOFwBrE8Aq84xemkrysiOQDbZ5mzUTT03G4QKzFoFJnv2s2fWyNQ1Nfe4XI8N+9kQSyxpYF0aiB+c609zfvIqaWaTQHL06rWI+fWpWaOXpqAMaF6Ku+uKu8fslbhsbTcJxC+KM33iTHWO0UtTUAYQWCgBzcuFGsZttQnE4VYPLObXJwGJXtqKMrIjkE22bLqd8jGFyLGCxXitApQ9p9sza+SU6/DwtXM9NppuI6ywooFaGogfPPSNc54nr5JmNgkkR1fz9Kl5qnOMXpqCMqB5KS7XjMvWdpNA/GJ1/29+ffKE6KUpKAMILJSA5uVCDeO22gTicAWwPgGsOsfopa0oIzsC2WSbs1E39dxsECowaxWY7NnPnlkjU9fU3ONyPTbsZ0MssaSBdWkgfnCuP835yaukmU0CydGr1yLm16dmjV6agjKgeSnurivuHrNX4rK13SQQvyjO9Ikz1TlGL01BGUBgoQQ0LxdqGLfVJhCHWz2wmF+fBCR6aSvKyI5ANtmy6XbKxxQixwoW47UKUPacbs+skVOuw8PXzvXYaLqNsMKKBmppIH7w0DfOeZ68SprZJJAcXc3Tp+apzjF6aQrKgOaluFwzLlvbTQLxi9X9v/n1yROil6agDCCwUAKalws1jNtqE4jDFcD6BLDqHKOXtqKM7Ahkk23ORt3Uc7NBqMCsVWCyZz97Zo1MXVNzj8v12LCfDbHEkgbWpYH4wbn+NOcnr5JmNgkkR69ei5hfn5o1emkKyoDmpbi7rrh7zF6Jy9Z2k0D8ojjTJ85U5xi9NAVlAIGFEtC8XKhh3FabQBxu9cBifn0SkOilrSgjOwLZZMum2ykfU4gcK1iM1ypA2XO6PbNGTrkOD18712Oj6TbCCisaqKWB+MFD3zjnefIqaWaTQHJ0NU+fmqc6x+ilKSgDmpfics24bG03CcQvVvf/5tcnT4hemoIygMBCCWheLtQwbqtNIA5XAOsTwKpzjF7aijKyI5BNtjkbdVPPzQahArNWgcme/eyZNTJ1Tc09Ltdjw342xBJLGliXBuIH5/rTnJ+8SprZJJAcvXotYn59atbopSkoA5qX4u664u4xeyUuW9tNAvGL4kyfOFOdY/TSFJQBBBZKQPNyoYZxW20CcbjVA4v59UlAope2oozsCGSTLZtup3xMIXKsYDFeqwBlz+n2zBo55To8fO1cj42m2wgrrGiglgbiBw9945znyaukmU0CydHVPH1qnuoco5emoAxoXorLNeOytd0kEL9Y3f+bX588IXppCsoAAgsloHm5UMO4rTaBOFwBrE8Aq84xemkrysiOQDbZ5mzUTT03G4QKzFoFJnv2s2fWyNQ1Nfe4XI8N+9kQSyxpYF0aiB+c609zfvIqaWaTQHL06rWI+fWpWaOXpqAMaF6Ku+uKu8fslbhsbTcJxC+KM33iTHWO0UtTUAYQWCgBzcuFGsZttQnE4VYPLObXJwGJXtqKMrIjkE22bLqd8jGFyLGCxXitApQ9p9sza+SU6/DwtXM9NppuI6ywooFaGogfPPSNc54nr5JmNgkkR1fz9Kl5qnOMXpqCMqB5KS7XjMvWdpNA/GJ1/29+ffKE6KUpKAMILJSA5uVCDeO22gTicAWwPgGsOsfopa0oIzsC2WSbs1E39dxsECowaxWY7NnPnlkjU9fU3ONyPTbsZ0MssaSBdWkgfnCuP835yaukmU0CydGr1yLm16dmjV6agjKgeSnurivuHrNX4rK13SQQvyjO9Ikz1TlGL01BGUBgoQQ0LxdqGLfVJhCHWz2wmF+fBCR6aSvKyI5ANtmy6XbKxxQixwoW47UKUPacbs+skVOuw8PXzvXYaLqNsMKKBmppIH7w0DfOeZ68SprZJJAcXc3Tp+apzjF6aQrKgOaluFwzLlvbTQLxi9X9v/n1yROil6agDCCwUAKalws1jNtqE4jDFcD6BLDqHKOXtqKM7Ahkk23ORt3Uc7NBqMCsVWCyZz97Zo1MXVNzj8v12LCfDbHEkgbWpYH4wbn+NOcnr5JmNgkkR69ei5hfn5o1emkKyoDmpbi7rrh7zF6Jy9Z2k0D8ojjTJ85U5xi9NAVlAIGFEtC8XKhh3FabQBxu9cBifn0SkOilrSgjOwLZZMum2ykfU4gcK1iM1ypA2XO6PbNGTrkOD18712Oj6TbCCisaqKWB+MFD3zjnefIqaWaTQHJ0NU+fmqc6x+ilKSgDmpfics24bG03CcQvVvf/5tcnT4hemoIygMBCCWheLtQwbqtNIA5XAOsTwKpzjF7aijKyI5BNtjkbdVPPzQahArNWgcme/eyZNTJ1Tc09Ltdjw342xBJLGliXBuIH5/rTnJ+8SprZJJAcvXotYn59atbopSkoA5qX4u664u4xeyUuW9tNAvGL4kyfOFOdY/TSFJQBBBZKQPNyoYZxW20CcbjVA4v59UlAope2oozsCGSTLZtup3xMIXKsYDFeqwBlz+n2zBo55To8fO1cj42m2wgrrGiglgbiBw9945znyaukmU0CydHVPH1qnuoco5emoAxoXorLNeOytd0kEL9Y3f+bX588IXppCsoAAgsloHm5UMO4rTaBOFwBrE8Aq84xemkrysiOQDbZ5mzUTT03G4QKzFoFJnv2s2fWyNQ1Nfe4XI8N+9kQSyxpYF0aiB+c609zfvIqaWaTQHL06rWI+fWpWaOXpqAMaF6Ku+uKu8fslbhsbTcJxC+KM33iTHWO0UtTUAYQWCgBzcuFGsZttQnE4VYPLObXJwGJXtqKMrIjkE22bLqd8jGFyLGCxXitApQ9p9sza+SU6/DwtXM9NppuI6ywooFaGogfPPSNc54nr5JmNgkkR1fz9Kl5qnOMXpqCMqB5KS7XjMvWdpNA/GJ1/29+ffKE6KUpKAMILJSA5uVCDeO22gTicAWwPgGsOsfopa0oIzsC2WSbs1E39dxsECowaxWY7NnPnlkjU9fU3ONyPTbsZ0MssaSBdWkgfnCuP835yaukmU0CydGr1yLm16dmjV6agjKgeSnurivuHrNX4rK13SQQvyjO9Ikz1TlGL01BGUBgoQQ0LxdqGLfVJhCHWz2wmF+fBCR6aSvKyI5ANtmy6XbKxxQixwoW47UKUPacbs+skVOuw8PXzvXYaLqNsMKKBmppIH7w0DfOeZ68SprZJJAcXc3Tp+apzjF6aQrKgOaluFwzLlvbTQLxi9X9v/n1yROil6agDCCwUAKalws1jNtqE4jDFcD6BLDqHKOXtqKM7Ahkk23ORt3Uc7NBqMCsVWCyZz97Zo1MXVNzj8v12LCfDbHEkgbWpYH4wbn+NOcnr5JmNgkkR69ei5hfn5o1emkKyoDmpbi7rrh7zF6Jy9Z2k0D8ojjTJ85U5xi9NAVlAIGFEtC8XKhh3FabQBxu9cBifn0SkOilrSgjOwLZZMum2ykfU4gcK1iM1ypA2XO6PbNGTrkOD18712Oj6TbCCisaqKWB+MFD3zjnefIqaWaTQHJ0NU+fmqc6x+ilKSgDmpfics24bG03CcQvVvf/5tcnT4hemoIygMBCCWheLtQwbqtNIA5XAOsTwKpzjF7aijKyI5BNtjkbdVPPzQahArNWgcme/eyZNTJ1Tc09Ltdjw342xBJLGliXBuIH5/rTnJ+8SprZJJAcvXotYn59atbopSkoA5qX4u664u4xeyUuW9tNAvGL4kyfOFOdY/TSFJQBBBZKQPNyoYZxW20CcbjVA4v59UlAope2oozsCGSTLZtup3xMIXKsYDFeqwBlz+n2zBo55To8fO1cj42m2wgrrGiglgbiBw9945znyaukmU0CydHVPH1qnuoco5emoAxoXorLNeOytd0kEL9Y3f+bX588IXppCsoAAgsloHm5UMO4rTaBOFwBrE8Aq84xemkrysiOQDbZ5mzUTT03G4QKzFoFJnv2s2fWyNQ1Nfe4XI8N+9kQSyxpYF0aiB+c609zfvIqaWaTQHL06rWI+fWpWaOXpqAMaF6Ku+uKu8fslbhsbTcJxC+KM33iTHWO0UtTUAYQWCgBzcuFGsZttQnE4VYPLObXJwGJXtqKMrIjkE22bLqd8jGFyLGCxXitApQ9p9sza+SU6/DwtXM9NppuI6ywooFaGogfPPSNc54nr5JmNgkkR1fz9Kl5qnOMXpqCMqB5KS7XjMvWdpNA/GJ1/29+ffKE6KUpKAMILJSA5uVCDeO22gTicAWwPgGsOsfopa0oIzsC2WSbs1E39dxsECowaxWY7NnPnlkjU9fU3ONyPTbsZ0MssaSBdWkgfnCuP835yaukmU0CydGr1yLm16dmjV6agjKgeSnurivuHrNX4rK13SQQvyjO9Ikz1TlGL01BGUBgoQQ0LxdqGLfVJhCHWz2wmF+fBCR6aSvKyI5ANtmy6XbKxxQixwoW47UKUPacbs+skVOuw8PXzvXYaLqNsMKKBmppIH7w0DfOeZ68SprZJJAcXc3Tp+apzjF6aQrKgOaluFwzLlvbTQLxi9X9v/n1yROil6agDCCwUAKalws1jNtqE4jDFcD6BLDqHKOXtqKM7Ahkk23ORt3Uc7NBqMCsVWCyZz97Zo1MXVNzj8v12LCfDbHEkgbWpYH4wbn+NOcnr5JmNgkkR69ei5hfn5o1emkKyoDmpbi7rrh7zF6Jy9Z2k0D8ojjTJ85U5xi9NAVlAIGFEtC8XKhh3FabQBxu9cBifn0SkOilrSgjOwLZZMum2ykfU4gcK1iM1ypA2XO6PbNGTrkOD18712Oj6TbCCisaqKWB+MFD3zjnefIqaWaTQHJ0NU+fmqc6x+ilKSgDmpfics24bG03CcQvVvf/5tcnT4hemoIygMBCCWheLtQwbqtNIA5XAOsTwKpzjF7aijKyI5BNtjkbdVPPzQahArNWgcme/eyZNTJ1Tc09Ltdjw342xBJLGliXBuIH5/rTnJ+8SprZJJAcvXotYn59atbopSkoA5qX4u664u4xeyUuW9tNAvGL4kyfOFOdY/TSFJQBBBZKQPNyoYZxW20CcbjVA4v59UlAope2oozsCGSTLZtup3xMIXKsYDFeqwBlz+n2zBo55To8fO1cj42m2wgrrGiglgbiBw9945znyaukmU0CydHVPH1qnuoco5emoAxoXorLNeOytd0kEL9Y3f+bX588IXppCsoAAgsloHm5UMO4rTaBOFwBrE8Aq84xemkrysiOQDbZ5mzUTT03G4QKzFoFJnv2s2fWyNQ1Nfe4XI8N+9kQSyxpYF0aiB+c609zfvIqaWaTQHL06rWI+fWpWaOXpqAMaF6Ku+uKu8fslbhsbTcJxC+KM33iTHWO0UtTUAYQWCgBzcuFGsZttQnE4VYPLObXJwGJXtqKMrIjkE22bLqd8jGFyLGCxXitApQ9p9sza+SU6/DwtXM9NppuI6ywooFaGogfPPSNc54nr5JmNgkkR1fz9Kl5qnOMXpqCMqB5KS7XjMvWdpNA/GJ1/29+ffKE6KUpKAMILJSA5uVCDeO22gTicAWwPgGsOsfopa0oIzsC2WSbs1E39dxsECowaxWY7NnPnlkjU9fU3ONyPTbsZ0MssaSBdWkgfnCuP835yaukmU0CydGr1yLm16dmjV6agjKgeSnurivuHrNX4rK13SQQvyjO9Ikz1TlGL01BGUBgoQQ0LxdqGLfVJhCHWz2wmF+fBCR6aSvKyI5ANtmy6XbKxxQixwoW47UKUPacbs+skVOuw8PXzvXYaLqNsMKKBmppIH7w0DfOeZ68SprZJJAcXc3Tp+apzjF6aQrKgOaluFwzLlvbTQLxi9X9v/n1yROil6agDCCwUAKalws1jNtqE4jDFcD6BLDqHKOXtqKM7Ahkk23ORt3Uc7NBqMCsVWCyZz97Zo1MXVNzj8v12LCfDbHEkgbWpYH4wbn+NOcnr5JmNgkkR69ei5hfn5o1emkKyoDmpbi7rrh7zF6Jy9Z2k0D8ojjTJ85U5xi9NAVlAIGFEtC8XKhh3FabQBxu9cBifn0SkOilrSgjOwLZZMum2ykfn3rfvri+/VitAutYAWacvadoYFwXY7E+rpNTrsPD17YmaXOKNh1DJ1U1cAq/m7xKmtkkkBxdzdOn5qnOMXppCsqA5mXVGLXVeWleHvVq8YvV/b/59ckTopejwnIAAgsjoHm5MIO4neME4nAFsD4BrDrH6OpPEs4AACAASURBVOW4sjZ+RDbZDhsap3r+7Pv3xfVLX7ARvNVi1Lzb2h/XxVisj+vkVGvw7a9rTbbtQavY0EB9DZzC7yav2nh6edb0k6NXr0XMr0/NGr2cpanNj6XZI27Vj1tbsHH0vPmF3QYQvyjO9Ikz1TlGL21FGUFgmQQ0L5dpF3d1BoE43OqBxfz6JCDRyxmSMjQSyCbb25sap/j3pZ/dN2de/JzCcguFpznem85f/Px+fVz68Pk1L63Je7MRTeNFA7U0cAq/m7xKltkkkBxdzdOn5qnOMXppCsrAPn8cGz5iFAYVNKB5edSrxS9W9//m1ydPiF6OCssBCCyMgOblwgzido4TiMMVwPoEsOoco5fjytr4EdlkO0Wz8u2veeVj++L6hUcUlhUKS3Poq+Mbn96vj6sfO7/mpTXZ14bWBJ40sC4NnMLvJq/aeHp51vSTo1evRcyvT80avZylqc2PpdkjBq0rBrHXO9sret78wm4DiF8UZ/rEmeoco5e2oowgsEwCmpfLtIu7OoNAHG71wGJ+fRKQ6OUMSRkaCWST7e2NxlP8+9qn9s2Z6w+9c6GigMNlyxq4/ub6eP6h82teWpPW3JbXnLnT/yn8bvIqWWaTQHJ0NU+fmqc6x+ilKSgD3nkpnteK55qXR71a/GJ1/29+ffKE6OWosByAwMIIaF4uzCBu5ziBOFwBrE8Aq84xejmurI0fkU22UzQr3/6aNz67L66vfbxWgaVgZs8eGrj24H593Pjc+TUvrUna7aFdr0FHa9XAKfxu8qqNp5dnTT85evVaxPz61KzRy1ma2vxYmj1r9cXuWx5xqIHoefMLuw0gflGc6RNnqnOMXtqKMoLAMgloXi7TLu7qDAJxuNUDi/n1SUCilzMkZWgkkE22tzcaT/HvW0/smzOXPqRAOyzQPKeHUQPPfXC/Pm5/+fyal9Yk7fE/NLBlDZzC7yavkmU2CSRHV/P0qXmqc4xemoIysM8fx4bPlv25udexv+blUa8Wv1jd/5tfnzwhejkqLAcgsDACmpcLM4jbOU4gDlcA6xPAqnOMXo4ra+NHZJPtFM3Kt7/m69eH4cn73mzQPFanwFIss+VcDdx69M2Np/uHYVwnb187p/q3NUm7c7XrfBpaqwZO5XeTV208vTxr+snRq9ci5tenZo1eztLU5sfS7FmrP3bfcolDDUTPm1/YbQDxi+JMnzhTnWP00laUEQSWSUDzcpl2cVdnEIjDrR5YzK9PAhK9nCEpQyOBbLKdqjny9te9/NF9k+bGI4q0wyLN823rYVwPY6F+5YHza1xmbVqT29Ye38P+W9XAqfxu8ipZZpNAcnQ1T5+apzrH6KUpKANv/gGcd1565+kTNXIazcujXi1+sbr/N78+eUL0clRYDkBgYQQ0LxdmELdznEAcrgDWJ4BV5xi9HFfWxo/IJlsaGad+vPkL+wL78s/WKK62uulr3n31O66HsVB/8Qvn37y0Jvva0trAkwbWoYFT+d3kVRtPL8+afnL06rWI+fWpWaOXszS1+bE0e8SfdcQfdjrbTtHz5hd2G0D8ojjTJ85U5xi9tBVlBIFlEtC8XKZd3NUZBOJwqwcW8+uTgEQvZ0jK0Eggm2ynblrm9b92Zd+keer+Ybj9+NmFi8IOny1oYFwH+Tjl166ef/PSmrTOtrDOzJHODzVwSr+bvEqW2SSQHF3N06fmqc4xemkKyoB3Xh76d8/XH+81L496tfjF6v7f/PrkCdHLUWE5AIGFEdC8XJhB3M5xAnG4AlifAFadY/RyXFkbPyKbbGkunsfjc/9vX2Rf/9T6iysFMhvO1cC4DsYi/bkPnX/jMuvdmqTjuTp2Pg2tSQOn9LvJqzaeXp41/eTo1WsR8+tTs0YvZ2lq82Np9qzJD7tXeUNLA9Hz5hd2G0D8ojjTJ85U5xi9tBVlBIFlEtC8XKZd3NUZBOJwqwcW8+uTgEQvZ0jK0Ejg8gP7d1++fv38Gic3v/jmuy/fNwy3H1O4tQo3v6+vjVH/47uQxyL95qPntwbTtMyjNVlfa/wJG9PAXgOn9LtjLjU2L8fcyk+TQHJ0NU+fmqc6x+ilKSgD+zxyzCX5eQwqaEDz8qhXi1+s7v/Nr0+eEL0cFZYDEFgYAc3LhRnE7RwnEIcrgPUJYNU5Ri/HlbXxI65+cr/RNn50ZBoZp358/cYwPPuBfaF97UFFZoUi0xy+PR1f/dh+HTz7wfNbf++0vq3Jb89+dI8bDaxPA6f0u2MuNTYvr35q48nl2dNPjl69FjG/PjVr9HK2qjY+mmaPmLS+mMRm32qz6Hnjy/qs6ccvijN94kx1jtHLWZoyhsASCWheLtEq7ulMAnG41QOL+fVJQKKXM0VlcBie/8x+o+3VZ8+3eXL7q2/+lfB9w3DrS99atCjkMKmugZfGdyDft18HLz91vuvvnRqY1qQ1V33NmR+Nn9rvvvrMPqcacys/TQLJ0dU8fWqe6hyjl6agDLxZU3nnpXeePlEjzmteHvVq8YvV/b/59ckTopejwnIAAgsjoHm5MIO4neME4nAFsD4BrDrH6OW4sjZ+xI1f2G+03X7y/JsnVx7YF9vj9+3dfrxGsWVznB2naGDUe959fPXB819779S8HH9nTdLvFP06hk7WqIHz8LtjLjW+8/KFL2w8uTx7+snRq9ci5tenZo1ezlbVxkfT7Fmjb3bPcoq3ayB63viyPmv68YviTJ84U51j9HKWpowhsEQCmpdLtIp7OpNAHG71wGJ+fRKQ6OVMURkchpuP7zfabj1x/g2UVy/dfefZ1QcUbm8v3Py7riaufvTuO4/P8yObW03L/N6arKs5/oRtt66B8/C7Yy41Ni/H3MpPk0BydDVPn5qnOsfopSkoA955ufX4Vm3+mpdHvVr8YnX/b3598oTo5aiwHIDAwghoXi7MIG7nOIE4XAGsTwCrzjF6Oa6sjR9x6813Cdx89Pybl2PD5Ob40Znv3f93/WGby9WKT/P5Vk1ff+iu5i9q3aVZ+U6P1uS32oyOMaGBdWvgvPzuzS+9+QdhT208uTx7+snRq9ci5tenZo1ezlbVxkdTS4lV645V7Le3X/S88WV91vTjF8WZPnGmOsfo5SxNGUNgiQQ0L5doFfd0JoE43OqBxfz6JCDRy5miMjgML1968yPOfv5impdj8+T5h99s5tw3DDc/r+hUuNbVwIufv9u4vP7pi1tz79S0PPydNVlXg/wL225NA+fpd1/4+X1ONeZWfpoEkqOrefrUPNU5Ri9NQRm4m1tuzb+bb82cRvPyqFeLX6zu/82vT54QvRwVlgMQWBgBzcuFGcTtHCcQhyuA9Qlg1TlGL8eVtfEjXn1+v9F2/TMX20i58ubHaD71k8Nw60s1CzEF9rbtOur6qfftN5guf+xi19tho7L13Jrctl75K/avoIHz9rtjLjV+bOzXrm88uTx7+snRq9ci5tenZo1ezlbVxkfT7Kngt81B/hE9b3xZnzX9+EVxpk+cqc4xejlLU8YQWCIBzcslWsU9nUkgDrd6YDG/PglI9HKmqAwOwzde22+0XXnwYpsprz0/DM9+YN/Yefonh+HmzyvcFO91NDDqOY3LZ//fMLz+/MWut1bD8vD31mQd/fElbLlFDVyE37384D6nGnMrP00CydHVPH1qnuoco5emoAx45+UWY1zlOWteHvVq8YvV/b/59ckTopejwnIAAgsjoHm5MIO4neME4nAFsD4BrDrH6OW4shwxXHt4v9n26qWLbah87eowPPvBuwX4C5+24Vy5MN3K3F545K6mn/vgMLx29WLX2WGD8thza5IP2so6Nc9aWr8Iv/vqc/tc6tojEssjBJKjV69FzK9PzRq9HJHVtofT7BHLasWyrdozet72qj5z9vGL4kyfOFOdY/RypqgMIrBAApqXCzSKWzqbwBe/PAyj0739ogBVPbjOnd+okVEro2b8TCDw0lf3G243v3TxTZXx3V5XHrjb7Ln2cUXoVgvXCvO++rG7Wh51/fr1i19jxxqWbx+3JvmgCmvRHLaj44vyuy9+cZ9L3XpyQuK17UPUdGrZqbWemm6ir8ine9x+bDu+XlyvaetRw2PzctS0nyYBcVQcFUeby8NAIQKal4WMuZWpPP7kviF184ZANTVQbfW4my/stTJqxs8EAq+/9Oa7BT61nMbKjc/cbfo8+/5hePHzNQs0hXdNu456HXWbvxwe9fz2puDa/m1N1tQqH8SuVTRw0X732qf2udTrtyYkXts+RE2nlp1ao6rpJvqK8SsJxpzzpS+IaVVi2lbnMWp41PKoaT9NAuKoOCqONpeHgUIENC8LGXMrU/nqM/uG1I3rAtXUQLXV4248v9fKV5/dyuqYOc833hiGfE/T164sp8ny0viXl/fdbQBd+tlhuPVFRflWi9k1zPvWl4bh0ofvanbU70uPL2dNzW2YWpP8zxrWoXvclk6X4HfH3OnSR/a51JhT+TmTgJpOLTu1RlXTnbmU7g5e/ug+93zxc9vy/+J9PXuPf4g0Ni9HTftpEhBHxVFxtLk8DBQioHlZyJhbmcrTl/cNqeevClRTA9VWj7t2da+VZy5vZXV0mOeLj775cWcLa7S8dnkYrhx89ObYDBo/Eu724/WKNQX4im362F6Xh832Kw8Ow6jfuQ3DpZ1vTa5Yp0+4d362kAYW5HfHP+wYm5cvPtYhIav/Emo6tezUGlVNN9EfXP3UvuEzft+vOIfBmjVw49N7LY+fZuCnSUAcFUfF0ebyMFCIgOZlIWNuZSqXru0bUleuCFRTA9VWj7t8Za+Vy9e2sjo6zPPV5/cbb88/ssxmy8tPD8Nzb3tH2/jvGw8Pw+1HFalrLlLXeu+j7m48NAyXPjQMT92/L7THvxQe3yH8ytPLXEc9G6HWJL+z1rXrvter3aX63WsP73Oor13vkJDVfwk1nVp2ao2qppvoD65/bp+HXn9ovf5dbGa7UQPX32zE3/j8RPFv8zBxVBwVR7e59rc2a83LrVm8wHyv3dg3pJ67JFBNDVRbPW7UyBeeGIbnXygg/POawhvfHIYrn9hvvr16abmNl/Edl88cfJfg2CzafS/G+4fh2oPDMBbtL3x6/x2ZPmJWETx7I+Tx/UcVjx9hNOpqLKhHnR1+n2U0OOry1peXu3Z6Ni4PX8uatM5mrzPvCPVOmUMNrMzvvvrcPncac6gxl/JzlICaTi07tUZV0x1dTvsDxk/QGfPRax+Xk8hJ1q2Bsc4ateyTDM5c/OKoOCqOnrlEDBYhoHlZxJBbmsatl/cNqa8+LVBNDVRbPe4rT+21cvvlLa2QDnN95fKb7758ePkNmPGdbTc+OwzPfWhf4KSB5BGP89TAqL9Rh1t4p+Vhw/KdnluT1t55rj3X2q7eluZ3r43vwP/IMLxypUMito2XUNOpZafWqGq6iT5hrOHGuDh+GojmHQZr1sBzH9xr+dWrE8W/zcPEUXFUHN3m2t/arDUvt2bxAvN94419Q2p8R92tFwWrqcFqa8fdemGvky9+eRhGzfi5BwIjsKtvbsK9/NTyG5hpoLx2bRheenQYrj8yDFc/PgyXP7Jvaj7908Pw1H3b3eC1uT/f9qN+nv6ZvZ5GXV39xF5no95G3UWDHt/Kwpqcrz3rF8OtamBNfnfMlcbG5fh9c5LOyQmnmk4dO6U+VdNNXlL7d33vvnf9vmG4/Zjm3Zqbd1u+91vjO4jv238dh08yONMBiKPiqDh65hIxWISA5mURQ25tGk+9+XGg164KVlOC1RaPuXp137x8+tLWVken+ea7L8ePP3v9xlsbEho0eNAADdAADdAADdDAPkfKx+37rst7TkLVdGrZY3Wqmu4el9WVj+//6OfGI5qXW24Arnnuo3bHP9y6+sl7FP82DxdHxVFxdJtrf0uz1rzckrULzfWFm/vG1FPPCFTHAtVWx598eq+RF14qJPzznsrzn96/k+DWEzZobdDSAA3QAA3QAA3QwNs1MOZI47surz1y3llaieup6dSyx2pVNd09LvVbX903fi7/rOblmht4W773Ubtj8/LWk/co/m0eLo6Ko+LoNtf+lmatebklaxea6+tfv/uRoLd9dOxwLFhtbXzUxBef2GvkG98oJPzznsprL+435C5/bBhev27D8u0blv5NEzRAAzRAAzSwXQ289vwwXH5gnyu9dvO8s7QS11PT2XQ9q05V030by/zrr+4bP0/dPwy3H9fA3HITcI1zHzW7++jj9w7DN177NhbA9k4RR8VRcXR7635rM9a83JrFC833y2++s+7KZcHqrGC1xbHLV/aNy688XUjwFzWV5z+735S7/hkfH2uDersb1GzP9jRAAzRAA4caGD9SP59Qcf3zF5Wllbiumk4t26pX1XTf5hJ/7sP7Bub1T2lerrGBt+V7HjU7vuvy0s99m+Lf5mniqDgqjm5z7W9l1pqXW7F0wXm++NK+QfWlLw/DLe++9O7Lm/uEZdTCF7+818aLtwoK/7ynNP717uUH9w3Mm1+0cXm4cek5PdAADdAADdDANjXw4hfvfjrFN7523tlZqeup6Wy6vtOmq5puxjK//dSb77583zDcfkwDc8vNwDXNfdTq+I7hsXl5+5kZC2B7p4qj4qg4ur11v6UZa15uydrF5vrGG8PwxFP7JtVzlwSrdwpWW/zds8/tNTH+9ZmfTgTGj0Ibv89p/O/WV7a5SWlzmt1pgAZogAZogAZGDYy50C4v+ugw+LjY2cmmmk4d+041q5puxtIaF9WzH9o3ga49qHm5pgbelu/16sf2mn3uZ2eIf5uniqPiqDi6zbW/lVlrXm7F0kXn+fIr+0bVF54YhpdeELDeKWBt6Xc3b9zVwyuvFhX9RU3r5Ut3G5ivPGvz0gY2DdAADdAADdDA9jQw5kD5g65Xrl5UVlbuumo6dexhzaqm67DEX31+3wgavz/w1pc0MLfcFFzD3F/64t3vuvzajQ4LYHsvIY6Ko+Lo9tb9VmasebkVSxee59OX3nyn3VPDcNvHx27242NH23/5yb0WnrlcWPAXObWbT+w37C4/MAxfu7K9DUub1GxOAzRAAzRAA9vVwNcuD8OYA43Ny5e+fJEZWclrq+lsvI4br2q6jsv76ifffCfb/xuG249rYK6hibfFexy1+ewH3nyn8EMdF8D2XkocFUfF0e2t+y3MWPNyC1YuPsfXX7/7brvx42UO/9rE8+3weObZvQ6++MQwfP3rxUV/kdO7/vn9pt2VTwzD689vdwPT5jXb0wAN0AAN0MB2NPDa88Mw5j5j4/LGz19kJlb22mq67dRtZ9XoarqOS/zrL999N9vVBzQvt9gYXMOcr370zXcJ3z8M3/DxWXM8gDgqjo7xVRyds4qcu0QCmpdLtIp7umcCL7x0t4F59YqAdVZBWHHsypW79n/x1j3Lxwn3QuCbXx+G8a94x827Kx8fhlcvb2fj0iY1W9MADdAADdDA9jQw5jpjzjPmPlc/NQzf/Ma9ZE6OvQcCarpt17FquntYLFMPvfXUm42h9w7D9Yc1MNfQzNvSPV5/6K4+bz8zVdWOO4OAOCqOjl+rNv5nb/SMhWJoVQQ0L1dlLjd7FoHLz99tYL1wfdsBq2KDsjWnGwd2v3r9LIUY60bgG18bhqsP7Tfxxo9Pe/np7W1k2rxmcxqgARqgARqor4Exx8lHxV57aBjGHMjPSQmo6bZZx6rpTrisxneLP/ne/bswb35eA3NLzcElz/XFz99tXL7whRMugO29tDgqjtob3d66rzxjzcvK1t3g3PIZ71/6yjC85Psvy3+E7mjj0dbjXxU97Xsuz3fFj+/AvP65fQNz991Pj9ffwLRJzcY0QAM0QAM0sB0NvPT43TxnzHnG3MfPuRBQ021r41VNdw7L6uon9o2ip35yGG59SQNzyU29LdzbqMGn3rfX5PiJBn66ExBHxdHuovKCCFwQAc3LCwLvsqch8M1vDsMTT+2bWV/68jB4B2bdgD3adrTx2Lj88tPDMNrezwUQuPnluxt7Nz43DK/f2M6mpg1stqYBGqABGqCBehp4/fowjDnN+MdZ439jruPnXAmo6erWcG//NB013TktrfGPL5790JsNzPcNw82f18DcQpNwiXMctZfG5XMf9lHsJ3IB4qg4eiJpeVkEzp2A5uW5I3fBUxP4+jf2zax8zve1q9sJWm8vBqv+e7Rp7PuVp4fhG7566NTL6uzXf/ny3Q2+8SPVXrtWbyPT5jSb0gAN0AAN0EB9DYw5zLVP3c1rxhzHz4UQUNPVr2HVdOe8tMaPvX7uZw8+qvMRDcwlNvcq39MLj9zV36WfHYZv+ij2U3oBcVQcPaW+vDYC50VA8/K8SLvOuRIY/8ooH5MwNrmeu1Q/aFVtVL59Xs8+d7dxOdrYOy7PdWm1L/bazWG4/LH9Zt/4OH7U2te9C3Ow0V1/o5uN2ZgGaIAGCmjgxj53uZPLPDgMY27j50IJqOnq1rBqugtaWt/8xjBc/eTdBtK1BzUwKzcLlzS3qx+7q7tRg2/4C/Tz8ALiqDh6HjpzDQROSUDz8pR0vfaFE7h2426j64knh+HG83UD19ubfNX+PdputGHecTna1s/CCHzz9WF48bG771a4/OAw3PqyJqZN7QKb2i+YAx3TAA3QQEkN3BiGW08Mw5UH7+YvNx8fhjd8v+WSskw1XZ0adqzpHv+qmu7C19eLX7rbSHr2/cPw4uc1MZfU6Kt0L6O2Ro09+d79f6P2/Jw7AXFUHD130bkgAp0IaF52Aulllkvg5q1h+OKb3404Nr6efGYYbr5QJ3BVa1K+fT4vvTAMX336boE72vKl28vVmzsbhuHrrwzDjc/f3QS88vFhuP0Vm74lN3019by7lgZogAZoYKUaGHOTMUfJd1ve+Plh+MYrUrmFElDTrbt+VdMtcGG9/NwwPHn/3abS+DGet76oiVmpcXiRc7n1pWG49OG7+hq19vKlBS6E7dySOCqObkftZlqJgOZlJWuaS5PA618fhmcuv7UBNn5Uze2b6w5eb2/0Vfr3aJtnnhuGLz5x127PXhmG0ZZ+VkLgtReH4epDdzcFr3xsGG58bhheeWoYXveRsja7V7rZrQntDxFogAZoYJ0aGHOPl8ePYvn8W99pOeYqY87iZ/EE1HTrq113Nd2zarrFLq7xDzauPXTQYLpvGK4+MAy3H9fEvMjG36qv/dgw7D4i9r67urr2sD8OWogTEEfF0YVI0W0gMJmA5uVkVA6sQOCVrw3DV5+52wwb34k5vqvv6tVhuPXi+oJYpWblOJfRBqMtvvrUWwvcrz47DK/6Lvf1LsFXLr/1nQ15h8P1T+8/Vva159e5CWrzmt1ogAZogAZoYNkaeO3aPtcYc47kH3kc33U55ih+VkdATbfsulVNt7olNQxfe2EYLn30brPpyfuG4bkPD8ONh4fh9qMamatuJj5xevuNGrkx/tHyh4bhqYN3815+wB8HLdQdiKPi6EKl6bYQ+BYCmpffgsQvtkBg/NjRJ556axNzbGR++clheO7SMFy5MgzXru2/I3P8iJtqTcKLnM/417cj0/H7TkbGI+uR+eH3WeZ7LUcb3Xp5C4rcwhzfGIbXXhiGm08Mw9VPfusG4uWP7f/q9/pnhuHFX9h//9T4Ds2vXfIuTRvjy94YZx/2oQEaoIGL08Dr1/e5wpgz3Hp8n0OMucTVTw3DmFukUZnHMQcZc5ExJxne2EICVnqOarqLq1PVdEWX1iuXhuHZDx40Md/8nsLxOwuvPTgM1x8ahhc+vf+OTB8xe/qm4KKapo/vP1Z4/A7LUQPXP7XXxOH3WeZ7LUcNvXKl6CKpNS1xVBytpWizqUhA87KiVc1pMoHx3XzjF1d/5W3vxkzzzOO3NnhPzWR8Z+xoE++0nCzjdR749ZeH4dbTw/D8Z751YzEbjB6xoQEaoAEaoAEamKuBMde4/fQwjLmHn5IE1HTnX7MdqwnVdCtfauNHab/46D7+pCHl8VubupjcZTLG6lEzPoZ9lYtfHBVHVylcN70JApqXmzCzSU4h8I1vDsP4BdZXrw/Dc1eG4ann9k3Nx54chi9+eXmB7FjBuNTxkeXIdGwYP3Vpz3pkPrL/5jenWMox9Qi8MQzfeHVf6Ix/oXnrqWF48bH9d1KN34/xTu+cmLuR6Xyb4TRAAzRAAzSwfg3sPrnh4WG48fP73GHMIcZcYtw8HXML766slzYemZGa7nzqVjXdESFWGv7m68Nw+5lheOELw/D8I29+HcjPDcMz73/rR4Rq5N1t5FVkMX4c7DMfGIZLP7fXwPOf3mti1MaoET9lCIij4mgZMZtICQKalyXMaBIIIIAAAggggAACCCCAAAIIIIAAAggggAACCCCAAAIIrJ+A5uX6bWgGCCCAAAIIIIAAAggggAACCCCAAAIIIIAAAggggAACCJQgoHlZwowmgQACCCCAAAIIIIAAAggggAACCCCAAAIIIIAAAggggMD6CWhert+GZoAAAggggAACCCCAAAIIIIAAAggggAACCCCAAAIIIIBACQKalyXMaBIIIIAAAggggAACCCCAAAIIIIAAAggggAACCCCAAAIIrJ+A5uX6bWgGCCCAAAIIIIAAAggggAACCCCAAAIIIIAAAggggAACCJQgoHlZwowmgQACCCCAAAIIIIAAAggggAACCCCAAAIIIIAAAggggMD6CWhert+GZoAAAggggAACCCCAAAIIIIAAAggggAACCCCAAAIIIIBACQKalyXMaBIIIIAAAggggAACCCCAAAIIIIAAAggggAACCCCAAAIIrJ+A5uX6bWgGCCCAAAIIIIAAAggggAACCCCAAAIIIIAAAggggAACCJQgoHlZwowmgQACCCCAAAIIIIAAAggggAACCCCAAAIIIIAAAggggMD6CWhert+GZoAAAggggAACCCCAAAIIIIAAAggggAACCCCAAAIIIIBAiO0I/AAAFzNJREFUCQKalyXMaBIIIIAAAggggAACCCCAAAIIIIAAAggggAACCCCAAAIIrJ+A5uX6bWgGCCCAAAIIIIAAAggggAACCCCAAAIIIIAAAggggAACCJQgoHlZwowmgQACCCCAAAIIIIAAAggggAACCCCAAAIIIIAAAggggMD6CWhert+GZoAAAggggAACCCCAAAIIIIAAAggggAACCCCAAAIIIIBACQKalyXMaBIIIIDAt0/gE5/4xDD+5wcBBBBAAAEEEEAAAQQQQAABBBC4aAL2KS7aAq6PAAIIXDwBzcuLt4E7QAABBC6UgKLgQvG7OAIIIIAAAggggAACCCCAAAIIHBCwT3EAw1MEEEBgowQ0LzdqeNNGAAEEQkBREBIeEUAAAQQQQAABBBBAAAEEEEDgognYp7hoC7g+AgggcPEENC8v3gbuAAEEELhQAoqCC8Xv4ggggAACCCCAAAIIIIAAAgggcEDAPsUBDE8RQACBjRLQvNyo4U0bAQQQCAFFQUh4RAABBBBAAAEEEEAAAQQQQACBiyZgn+KiLeD6CCCAwMUT0Ly8eBu4AwQQQOBCCSgKLhS/iyOAAAIIIIAAAggggAACCCCAwAEB+xQHMDxFAAEENkpA83KjhjdtBBBAIAQUBSHhEQEEEEAAAQQQQAABBBBAAAEELpqAfYqLtoDrI4AAAhdPQPPy4m3gDhBAAIELJaAouFD8Lo4AAggggAACCCCAAAIIIIAAAgcE7FMcwPAUAQQQ2CgBzcuNGt60EUAAgRB45JFHho985CP5p0cEEEAAAQQQQAABBBBAAAEEEEDgwgiMexTjXoUfBBBAAIHtEtC83K7tzRwBBBDYEXj00UeHn/qpn0IDAQQQQAABBBBAAAEEEEAAAQQQuHAC4x7FuFfhBwEEEEBguwQ0L7drezNHAAEEdgSeeeaZ4Sd/8ifRQAABBBBAAAEEEEAAAQQQQAABBC6cwPve977hueeeu/D7cAMIIIAAAhdHQPPy4ti7MgIIILAIAm+88cbw7ne/exH34iYQQAABBBBAAAEEEEAAAQQQQGC7BOxRbNf2Zo4AAggcEtC8PKThOQIIILBRAu9973uHr3zlKxudvWkjgAACCCCAAAIIIIAAAggggMASCDzxxBPD/fffv4RbcQ8IIIAAAhdIQPPyAuG7NAIIILAUAuN3STzwwANLuR33gQACCCCAAAIIIIAAAggggAACGyTw0Y9+dHjsscc2OHNTRgABBBA4JKB5eUjDcwQQQGDDBH7iJ35ieP755zdMwNQRQAABBBBAAAEEEEAAAQQQQOCiCFy7dm14z3vec1GXd10EEEAAgQUR0LxckDHcCgIIIHCRBJ588snhp3/6py/yFlwbAQQQQAABBBBAAAEEEEAAAQQ2SmDck3j66ac3OnvTRgABBBA4JKB5eUjDcwQQQGDjBMaPZ3n44Yc3TsH0EUAAAQQQQAABBBBAAAEEEEDgPAk89NBDvs7mPIG7FgIIILBwApqXCzeQ20MAAQTOm8D4l46f+cxnzvuyrocAAggggAACCCCAAAIIIIAAAhsk8Mgjjww/8zM/s8GZmzICCCCAQIuA5mWLjN8jgAACGybwUz/1U96BuWH7mzoCCCCAAAIIIIAAAggggAAC50FgfMelxuV5kHYNBBBAYF0ENC/XZS93iwACCJwbgfEjZMd3YV67du3crulCCCCAAAIIIIAAAggggAACCCBQn8C41zD+4fQDDzxQf7JmiAACCCBwzwQ0L+8ZmRMQQACB7RB48sknh/e85z27YuKJJ54Y3njjje1M3kwRQAABBBBAAAEEEEAAAQQQQKAbgXFPYdxbGBuW417DU0891e21vRACCCCAQC0Cmpe17Gk2CCCAwEkIPPbYY8P9998/vPvd7x7e97737f468iMf+cjwiU98wn8Y0AANDJ/97GfpgA5ogAZogAZogAbuaEBuoE5SK9JANDDuHYzvsBz3EsY9hXFv4fHHHz/J3oUXRQABBBCoQ0Dzso4tzQQBBBA4FwLPPvvs8Oijjw6PPPLInc2JFCUeFag0sE0NfPrTn+YPbFjTAA3QAA3QAA3c0YDcYJs5oVqA3d9JA+PewbiH8Nxzz53LnoWLIIAAAgjUIKB5WcOOZoEAAggggAACCCCAAAIIIIAAAggggAACCCCAAAIIIIDA6gloXq7ehCaAAAIIIIAAAggggAACCCyDwPhxcH4QQAABBBBAAAEEEEAAAQQQmENA83IOPecigAACCCCAAAIIIIAAAgjcIaB5eQeFJwgggAACCCCAAAIIIIAAAt8mAc3LbxOc0xBAAAEEEEAAAQQQQAABBN5KQPPyrTz8CwEEEEAAAQQQQAABBBBA4N4JaF7eOzNnIIAAAggggAACCCCAAAIIvAMBzct3gOJXCCCAAAIIIIAAAggggAAC90RA8/KecDkYAQQQQAABBBBAAAEEEECgRUDzskXG7xFAAAEEEEAAAQQQQAABBKYS0LycSspxCCCAAAIIIIAAAggggAACZxLQvDwTj0EEEEAAAQQQQAABBBBAAIEJBDQvJ0ByCAIIIIAAAggggAACCCCAwHECmpfHGTkCAQQQQAABBBBAAAEEEEDgbAKal2fzMYoAAggggAACCCCAAAIIIDCRgOblRFAOQwABBBBAAAEEEEAAAQQQaBLQvGyiMYAAAggggAACCCCAAAIIIHAvBDQv74WWYxFAAAEEEEAAAQQQQAABBN6JgOblO1HxOwQQQAABBBBAAAEEEEAAgXsmoHl5z8icgAACCCCAAAIIIIAAAggg8DYCmpdvA+KfCCCAAAIIIIAAAggggAAC3x4Bzctvj5uzEEAAAQQQQAABBBBAAAEE7hLQvLzLwjMEEEAAAQQQQAABBBBAAIEZBDQvZ8BzKgIIIIAAAggggAACCCCAwI6A5iUhIIAAAggggAACCCCAAAIIdCGgedkFoxdBAAEEEEAAAQQQQAABBDZNQPNy0+Y3eQQQQAABBBBAAAEEEECgHwHNy34svRICCCCAAAIIIIAAAgggsFUCmpdbtbx5I4AAAggggAACCCCAAAKdCWhedgbq5RBAAAEEEEAAAQQQQACBDRLQvNyg0U0ZAQQQQAABBBBAAAEEEDgFAc3LU1D1mggggAACCCCAAAIIIIDAtghoXm7L3maLAAIIIIAAAggggAACCJyMgOblydB6YQQQQAABBBBAAAEEEEBgMwQ0LzdjahNFAAEEEEAAAQQQQAABBE5LQPPytHy9OgIIIIAAAggggAACCCCwBQKal1uwsjkigAACCCCAAAIIIIAAAudAQPPyHCC7BAIIIIAAAggggAACCCBQnIDmZXEDmx4CCCCAAAIIIIAAAgggcF4ENC/Pi7TrIIAAAggggAACCCCAAAJ1CWhe1rWtmSGAAAIIIIAAAggggAACCCCAAAIIIIAAAggggAACCCCwKgKal6syl5tFAAEEEEAAAQQQQAABBBBAAAEEEEAAAQQQQAABBBBAoC4Bzcu6tjUzBBBAAAEEEEAAAQQQQAABBBBAAAEEEEAAAQQQQAABBFZFQPNyVeZyswgggAACCCCAAAIIIIAAAggggAACCCCAAAIIIIAAAgjUJaB5Wde2ZoYAAggggAACCCCAAAIIIIAAAggggAACCCCAAAIIIIDAqghoXq7KXG4WAQQQQAABBBBAAAEEEEAAAQQQQAABBBBAAAEEEEAAgboENC/r2tbMEEAAAQQQQAABBBBAAAEEEEAAAQQQQAABBBBAAAEEEFgVAc3LVZnLzSKAAAIIIIAAAggggAACCCCAAAIIIIAAAggggAACCCBQl4DmZV3bmhkCCCCAAAIIIIAAAggggAACCCCAAAIIIIAAAggggAACqyKgebkqc7lZBBBAAAEEEEAAAQQQQAABBBBAAAEEEEAAAQQQQAABBOoS0Lysa1szQwABBBBAAAEEEEAAAQQQQAABBBBAAAEEEEAAAQQQQGBVBDQvV2UuN4sAAggggAACCCCAAAIIIIAAAggggAACCCCAAAIIIIBAXQKal3Vta2YIIIAAAggggAACCCCAwJkE/sbf+BvDP//n//zOMV/4wheGP/pH/+jw8MMP3/ndUp78zb/5N4cf+7Efu6fb+V//63/t5vPqq6/e03kORgABBBBAAAEEEEAAAQQQuDgCmpcXx96VEUAAAQQQQAABBBBAAIF7JnDr1q1dQ25sMr79vx/90R+9p9f7vu/7vuEv/IW/cOecj3/848Mv+kW/aPjABz5w53dLefL7f//vH/7cn/tz93Q7/+E//IfdfG7fvn1P5zkYAQQQQAABBBBAAAEEEEDg4ghoXl4ce1dGAAEEEEAAAQQQQAABBO6ZwAsvvLBryP3gD/7g7l2T4zsn899/+2//7Z5e73u/93uHH/7hH75zzoMPPrh77fe///13freUJ2Oj9V3vetc93c6///f/fjefseHrBwEEEEAAAQQQQAABBBBAYB0ENC/XYSd3iQACCCCAAAIIIIAAAgjsCNy4cWPXkBsbc3N/1tS8/AN/4A/c8zsvNS/nKsT5CCCAAAIIIIAAAggggMD5E9C8PH/mrogAAggggAACCCCAAAIIfNsEpjQv/9E/+kfD3/27f/ct1/jc5z63+5jZT3/603d+/+00L8ePqh1f6z//5/88/H//3/+3a6SO30c5/nz0ox8dvud7vmf4ju/4juGHfuiHhpdeeunOtfLkn/yTfzKMHwH7nd/5ncOf+TN/ZrjvvvsydOdx/O7Nv/SX/tLwq37Vrxp+8S/+xcPf//t/f/gjf+SPfMs7L59++unhR37kR4Zf+2t/7fBrfs2vGf723/7bd15jfKJ5+RYc/oEAAggggAACCCCAAAIIrIKA5uUqzOQmEUAAAQQQQAABBBBAAIE9gSnNyz/xJ/7E8P3f//1vQfaRj3xk12j80Ic+dOf3307zcvxOzPG88bsy//f//t/D3/pbf2v3un/tr/214ff+3t87/MRP/MTwr//1vx5+2S/7ZbvG4p2LDcOuoTme/y/+xb/Ynftn/+yf3Z37Mz/zM3cOG+f3Xd/1Xbtm5P/5P/9nuP/++4ccd/idly+++OLw3d/93cNv+22/bfiv//W/Dv/pP/2n4Vf/6l89pJE6vqDm5R2sniCAAAIIIIAAAggggAACqyGgebkaU7lRBBBAAAEEEEAAAQQQQGAYDr/z8sd//MeH/Pev/tW/uoPn1M3LP/2n//Sda41PfvNv/s27ZuOzzz575/f/4B/8g+GX//Jffuff4/dojo3L//7f//ud341PxndU/vbf/tvv/O4f/sN/uDtufHfn4c/v/t2/e9f8zO/+6T/9p8Nv+k2/6S3v7nz44Yd35z755JO7wzQvQ8sjAggggAACCCCAAAIIILAeApqX67GVO0UAAQQQQAABBBBAAAEE7jQvx3ccjh/hmv/e9a533aFzqubla6+9tmsO/pt/82/uXGt88sf/+B8ffuAHfuAtv/u3//bf7o7NL//O3/k7w6/4Fb8i/7zz+J73vGd33C/8wi/sfvdbfstvGf7kn/yTd8bz5Pu+7/ve8rGxv/N3/s7hH//jf5zhO4/jR9n+3//7f3f/1ry8g8UTBBBAAAEEEEAAAQQQQGA1BDQvV2MqN4oAAggggAACCCCAAAIIDMNFfmxsq3n5p/7Unxr+8B/+w28xz3/8j/9x15S8efPm7vc/+IM/OPy+3/f73nLM+I8HH3xwd9z4EbHjzy/5Jb/kW76vc/z925uX47s4W/+NHyM7/mhe7jD4HwIIIIAAAggggAACCCCwKgKal6syl5tFAAEEEEAAAQQQQACBrROY0rwcG4V/8A/+wbeg6vGdl3Oalz/8wz88/Ibf8Bveck/jP+67775dE/IDH/jAbuzX//pfP/yVv/JXvuW4tzcvx4+k/dEf/dFvOe7wF5qXhzQ8RwABBBBAAAEEEEAAAQTWQUDzch12cpcIIIAAAggggAACCCCAwI7AlOblX/7Lf3n4db/u172F2P/8n/9z1yT88Ic/fOf33/u93zuMTcX85F2Q4/dTvtPPnOblu9/97t31P/nJT77lpX/kR35k+KW/9JcOL7/88u7348fg/tbf+lvfcsz4j9/1u37XW77z8i/+xb84jB+de9aP5uVZdIwhgAACCCCAAAIIIIAAAsskoHm5TLu4KwQQQAABBBBAAAEEEEDgHQlMaV6mafdzP/dzu+/I/Hf/7t8Nv/E3/sZd83D8XX7+0B/6Q8P3f//355/DZz/72d0x/+N//I87vzt8Mqd5Ob7O7/gdv2P47u/+7mF8F+iLL7445Hsxx/vLz/3337+7h7E5eenSpeGrX/3q8Ff/6l/d/e6HfuiHctjwpS99afiO7/iO4c//+T8/PPTQQ7vff+hDHxr+5b/8l3eO+S//5b/sznv00Ufv/M4TBBBAAAEEEEAAAQQQQACBZRPQvFy2fdwdAggggAACCCCAAAIIIPAWAlOal6+88srwx/7YH9s17sbvhfyBH/iB4YEHHtj9e2zw5efHfuzHdr/78R//8fxq+K7v+q7d7y5fvnznd3kyt3n5la98Zfg9v+f33Lmv8d7+3t/7e3n5O495l+Y4/p3f+Z2778D863/9rw/vete77hwzPvnpn/7p4Vf+yl/5ltf7Z//sn9055gtf+MJu7Hu+53vu/M4TBBBAAAEEEEAAAQQQQACBZRPQvFy2fdwdAggggAACCCCAAAIIIPBtE/j85z8/XL169czzP/jBDw5Xrly5c8z4TsfDj5a9M9Dxyfjuz/G6jz32WPNVb968OXziE59ojmfg1q1bu9caX+/ZZ5/Nr+88ju8m/cxnPnPn354ggAACCCCAAAIIIIAAAggsm4Dm5bLt4+4QQAABBBBAAAEEEEAAAQQQQAABBBBAAAEEEEAAAQQQ2AwBzcvNmNpEEUAAAQQQQAABBBBAAAEEEEAAAQQQQAABBBBAAAEEEFg2Ac3LZdvH3SGAAAIIIIAAAggggAACCCCAAAIIIIAAAggggAACCCCwGQKal5sxtYkigAACCCCAAAIIIIAAAggggAACCCCAAAIIIIAAAgggsGwCmpfLto+7QwABBBBAAAEEEEAAAQQQQAABBBBAAAEEEEAAAQQQQGAzBDQvN2NqE0UAAQQQQAABBBBAAAEEEEAAAQQQQAABBBBAAAEEEEBg2QQ0L5dtH3eHAAIIIIAAAggggAACCCCAAAIIIIAAAggggAACCCCAwGYIaF5uxtQmigACCCCAAAIIIIAAAggggAACCCCAAAIIIIAAAggggMCyCWheLts+7g4BBBBAAAEEEEAAAQQQQAABBBBAAAEEEEAAAQQQQACBzRDQvNyMqU0UAQQQQAABBBBAAAEEEEAAAQQQQAABBBBAAAEEEEAAgWUT0Lxctn3cHQIIIIAAAggggAACCCCAAAIIIIAAAggggAACCCCAAAKbIaB5uRlTmygCCCCAAAIIIIAAAggggAACCCCAAAIIIIAAAggggAACyyagebls+7g7BBBAAAEEEEAAAQQQQAABBBBAAAEEEEAAAQQQQAABBDZDQPNyM6Y2UQQQQAABBBBAAAEEEEAAAQQQQAABBBBAAAEEEEAAAQSWTUDzctn2cXcIIIAAAggggAACCCCAAAIIIIAAAggggAACCCCAAAIIbIaA5uVmTG2iCCCAAAIIIIAAAggggAACCCCAAAIIIIAAAggggAACCCybgOblsu3j7hBAAAEEEEAAAQQQQAABBBBAAAEEEEAAAQQQQAABBBDYDAHNy82Y2kQRQAABBBBAAAEEEEAAAQQQQAABBBBAAAEEEEAAAQQQWDYBzctl28fdIYAAAggggAACCCCAAAIIIIAAAggggAACCCCAAAIIILAZApqXmzG1iSKAAAIIIIAAAggggAACCCCAAAIIIIAAAggggAACCCCwbAL/P3Y6jM7vgkXIAAAAAElFTkSuQmCC)"
      ],
      "metadata": {
        "id": "DgIQEcwXh7a7"
      }
    },
    {
      "cell_type": "markdown",
      "source": [
        "The output of the Transformer model is sent directly to the model head to be processed.\n",
        "\n",
        "In this diagram, the model is represented by its embeddings layer and the subsequent layers. The embeddings layer converts each input ID in the tokenized input into a vector that represents the associated token. The subsequent layers manipulate those vectors using the attention mechanism to produce the final representation of the sentences.\n",
        "\n",
        "There are many different architectures available in Hugginface Transformers, with each one designed around tackling a specific task. Here is a non-exhaustive list:\n",
        "\n",
        "* Model (retrieve the hidden states)\n",
        "* ForCausalLM\n",
        "* ForMaskedLM\n",
        "* ForMultipleChoice\n",
        "* ForQuestionAnswering\n",
        "* ForSequenceClassification\n",
        "* ForTokenClassification  \n",
        "and others  \n",
        "\n",
        "For our example, we will need a model with a sequence classification head (to be able to classify the sentences as positive or negative). So, we won’t actually use the AutoModel class, but AutoModelForSequenceClassification:\n",
        "\n"
      ],
      "metadata": {
        "id": "t7_zH2p-h_rg"
      }
    },
    {
      "cell_type": "code",
      "execution_count": null,
      "metadata": {
        "id": "FyuH8pSge5h2"
      },
      "outputs": [],
      "source": [
        "from transformers import AutoModelForSequenceClassification\n",
        "\n",
        "checkpoint = \"distilbert-base-uncased-finetuned-sst-2-english\"\n",
        "model = AutoModelForSequenceClassification.from_pretrained(checkpoint)\n",
        "outputs = model(**inputs)"
      ]
    },
    {
      "cell_type": "markdown",
      "source": [
        "Now if we look at the shape of our outputs, the dimensionality will be much lower: the model head takes as input the high-dimensional vectors we saw before, and outputs vectors containing two values (one per label):"
      ],
      "metadata": {
        "id": "C0yYAD2SiRxt"
      }
    },
    {
      "cell_type": "code",
      "execution_count": null,
      "metadata": {
        "id": "NEnYg8Rce5h3",
        "outputId": "e3baa961-9253-47a9-92e5-ccf9aefec68e",
        "colab": {
          "base_uri": "https://localhost:8080/"
        }
      },
      "outputs": [
        {
          "output_type": "stream",
          "name": "stdout",
          "text": [
            "torch.Size([2, 2])\n"
          ]
        }
      ],
      "source": [
        "print(outputs.logits.shape)"
      ]
    },
    {
      "cell_type": "markdown",
      "source": [
        "Since we have just two sentences and two labels, the result we get from our model is of shape 2 x 2."
      ],
      "metadata": {
        "id": "BmdrDMlDiUBw"
      }
    },
    {
      "cell_type": "markdown",
      "source": [
        "## Postprocessing the output\n",
        "\n",
        "The values we get as output from our model don’t necessarily make sense by themselves. Let’s take a look:"
      ],
      "metadata": {
        "id": "JaMg0TpViXgf"
      }
    },
    {
      "cell_type": "code",
      "execution_count": null,
      "metadata": {
        "id": "dD1EHWHZe5h4",
        "outputId": "dec3596a-9c5b-43c1-c98d-86c92f1321ba",
        "colab": {
          "base_uri": "https://localhost:8080/"
        }
      },
      "outputs": [
        {
          "output_type": "stream",
          "name": "stdout",
          "text": [
            "tensor([[-4.2052,  4.5049],\n",
            "        [ 4.1692, -3.3464]], grad_fn=<AddmmBackward0>)\n"
          ]
        }
      ],
      "source": [
        "print(outputs.logits)"
      ]
    },
    {
      "cell_type": "markdown",
      "source": [
        "Our model predicted [-4.2052,  4.5049] for the first sentence and [ 4.1692, -3.3464] for the second one. Those are not probabilities but logits, the raw, unnormalized scores outputted by the last layer of the model. To be converted to probabilities, they need to go through a SoftMax layer (all Huggingface Transformers models output the logits, as the loss function for training will generally fuse the last activation function, such as SoftMax, with the actual loss function, such as cross entropy):"
      ],
      "metadata": {
        "id": "PHRV3yyVidDU"
      }
    },
    {
      "cell_type": "code",
      "execution_count": null,
      "metadata": {
        "id": "5bNuHNZLe5h5",
        "outputId": "f5123dae-ac88-4587-d098-e19b33bd692f",
        "colab": {
          "base_uri": "https://localhost:8080/"
        }
      },
      "outputs": [
        {
          "output_type": "stream",
          "name": "stdout",
          "text": [
            "tensor([[1.6488e-04, 9.9984e-01],\n",
            "        [9.9946e-01, 5.4418e-04]], grad_fn=<SoftmaxBackward0>)\n"
          ]
        }
      ],
      "source": [
        "import torch\n",
        "\n",
        "predictions = torch.nn.functional.softmax(outputs.logits, dim=-1)\n",
        "print(predictions)"
      ]
    },
    {
      "cell_type": "markdown",
      "source": [
        "These are recognizable probability scores.\n",
        "\n",
        "To get the labels corresponding to each position, we can inspect the id2label attribute of the model config:"
      ],
      "metadata": {
        "id": "fMcyFgAziugy"
      }
    },
    {
      "cell_type": "code",
      "execution_count": null,
      "metadata": {
        "id": "Rvr-kbc7e5h6",
        "outputId": "e552f9a4-40b9-4a39-d7c8-12bb57d91aa6",
        "colab": {
          "base_uri": "https://localhost:8080/"
        }
      },
      "outputs": [
        {
          "output_type": "execute_result",
          "data": {
            "text/plain": [
              "{0: 'NEGATIVE', 1: 'POSITIVE'}"
            ]
          },
          "metadata": {},
          "execution_count": 11
        }
      ],
      "source": [
        "model.config.id2label"
      ]
    }
  ],
  "metadata": {
    "colab": {
      "provenance": [],
      "gpuType": "T4",
      "include_colab_link": true
    },
    "language_info": {
      "name": "python"
    },
    "kernelspec": {
      "name": "python3",
      "display_name": "Python 3"
    },
    "accelerator": "GPU",
    "widgets": {
      "application/vnd.jupyter.widget-state+json": {
        "07c9b14ac84b490ba59f787a497a0bc7": {
          "model_module": "@jupyter-widgets/controls",
          "model_name": "HBoxModel",
          "model_module_version": "1.5.0",
          "state": {
            "_dom_classes": [],
            "_model_module": "@jupyter-widgets/controls",
            "_model_module_version": "1.5.0",
            "_model_name": "HBoxModel",
            "_view_count": null,
            "_view_module": "@jupyter-widgets/controls",
            "_view_module_version": "1.5.0",
            "_view_name": "HBoxView",
            "box_style": "",
            "children": [
              "IPY_MODEL_104afbce107e4420b1d11986712d2bc5",
              "IPY_MODEL_1850cb1e0e0a4da8993680ce5e5d29b9",
              "IPY_MODEL_aabb77768f0f4c3fbd46a416fca72037"
            ],
            "layout": "IPY_MODEL_60cbd797a10147f4af730c158b64b26a"
          }
        },
        "104afbce107e4420b1d11986712d2bc5": {
          "model_module": "@jupyter-widgets/controls",
          "model_name": "HTMLModel",
          "model_module_version": "1.5.0",
          "state": {
            "_dom_classes": [],
            "_model_module": "@jupyter-widgets/controls",
            "_model_module_version": "1.5.0",
            "_model_name": "HTMLModel",
            "_view_count": null,
            "_view_module": "@jupyter-widgets/controls",
            "_view_module_version": "1.5.0",
            "_view_name": "HTMLView",
            "description": "",
            "description_tooltip": null,
            "layout": "IPY_MODEL_6ab9127ef370410aa665eb33f280856a",
            "placeholder": "​",
            "style": "IPY_MODEL_59fc1c20da3e4addae72a60e4646798f",
            "value": "config.json: 100%"
          }
        },
        "1850cb1e0e0a4da8993680ce5e5d29b9": {
          "model_module": "@jupyter-widgets/controls",
          "model_name": "FloatProgressModel",
          "model_module_version": "1.5.0",
          "state": {
            "_dom_classes": [],
            "_model_module": "@jupyter-widgets/controls",
            "_model_module_version": "1.5.0",
            "_model_name": "FloatProgressModel",
            "_view_count": null,
            "_view_module": "@jupyter-widgets/controls",
            "_view_module_version": "1.5.0",
            "_view_name": "ProgressView",
            "bar_style": "success",
            "description": "",
            "description_tooltip": null,
            "layout": "IPY_MODEL_936dead6c9464f5c901d8a4202de7b3f",
            "max": 629,
            "min": 0,
            "orientation": "horizontal",
            "style": "IPY_MODEL_0bfb4c17dd174096b8dc7030b757733d",
            "value": 629
          }
        },
        "aabb77768f0f4c3fbd46a416fca72037": {
          "model_module": "@jupyter-widgets/controls",
          "model_name": "HTMLModel",
          "model_module_version": "1.5.0",
          "state": {
            "_dom_classes": [],
            "_model_module": "@jupyter-widgets/controls",
            "_model_module_version": "1.5.0",
            "_model_name": "HTMLModel",
            "_view_count": null,
            "_view_module": "@jupyter-widgets/controls",
            "_view_module_version": "1.5.0",
            "_view_name": "HTMLView",
            "description": "",
            "description_tooltip": null,
            "layout": "IPY_MODEL_a08d2af3b6644ac1b69f9be076178e32",
            "placeholder": "​",
            "style": "IPY_MODEL_76a43b4b05cc4d4c88ab45a3570cd46e",
            "value": " 629/629 [00:00&lt;00:00, 15.1kB/s]"
          }
        },
        "60cbd797a10147f4af730c158b64b26a": {
          "model_module": "@jupyter-widgets/base",
          "model_name": "LayoutModel",
          "model_module_version": "1.2.0",
          "state": {
            "_model_module": "@jupyter-widgets/base",
            "_model_module_version": "1.2.0",
            "_model_name": "LayoutModel",
            "_view_count": null,
            "_view_module": "@jupyter-widgets/base",
            "_view_module_version": "1.2.0",
            "_view_name": "LayoutView",
            "align_content": null,
            "align_items": null,
            "align_self": null,
            "border": null,
            "bottom": null,
            "display": null,
            "flex": null,
            "flex_flow": null,
            "grid_area": null,
            "grid_auto_columns": null,
            "grid_auto_flow": null,
            "grid_auto_rows": null,
            "grid_column": null,
            "grid_gap": null,
            "grid_row": null,
            "grid_template_areas": null,
            "grid_template_columns": null,
            "grid_template_rows": null,
            "height": null,
            "justify_content": null,
            "justify_items": null,
            "left": null,
            "margin": null,
            "max_height": null,
            "max_width": null,
            "min_height": null,
            "min_width": null,
            "object_fit": null,
            "object_position": null,
            "order": null,
            "overflow": null,
            "overflow_x": null,
            "overflow_y": null,
            "padding": null,
            "right": null,
            "top": null,
            "visibility": null,
            "width": null
          }
        },
        "6ab9127ef370410aa665eb33f280856a": {
          "model_module": "@jupyter-widgets/base",
          "model_name": "LayoutModel",
          "model_module_version": "1.2.0",
          "state": {
            "_model_module": "@jupyter-widgets/base",
            "_model_module_version": "1.2.0",
            "_model_name": "LayoutModel",
            "_view_count": null,
            "_view_module": "@jupyter-widgets/base",
            "_view_module_version": "1.2.0",
            "_view_name": "LayoutView",
            "align_content": null,
            "align_items": null,
            "align_self": null,
            "border": null,
            "bottom": null,
            "display": null,
            "flex": null,
            "flex_flow": null,
            "grid_area": null,
            "grid_auto_columns": null,
            "grid_auto_flow": null,
            "grid_auto_rows": null,
            "grid_column": null,
            "grid_gap": null,
            "grid_row": null,
            "grid_template_areas": null,
            "grid_template_columns": null,
            "grid_template_rows": null,
            "height": null,
            "justify_content": null,
            "justify_items": null,
            "left": null,
            "margin": null,
            "max_height": null,
            "max_width": null,
            "min_height": null,
            "min_width": null,
            "object_fit": null,
            "object_position": null,
            "order": null,
            "overflow": null,
            "overflow_x": null,
            "overflow_y": null,
            "padding": null,
            "right": null,
            "top": null,
            "visibility": null,
            "width": null
          }
        },
        "59fc1c20da3e4addae72a60e4646798f": {
          "model_module": "@jupyter-widgets/controls",
          "model_name": "DescriptionStyleModel",
          "model_module_version": "1.5.0",
          "state": {
            "_model_module": "@jupyter-widgets/controls",
            "_model_module_version": "1.5.0",
            "_model_name": "DescriptionStyleModel",
            "_view_count": null,
            "_view_module": "@jupyter-widgets/base",
            "_view_module_version": "1.2.0",
            "_view_name": "StyleView",
            "description_width": ""
          }
        },
        "936dead6c9464f5c901d8a4202de7b3f": {
          "model_module": "@jupyter-widgets/base",
          "model_name": "LayoutModel",
          "model_module_version": "1.2.0",
          "state": {
            "_model_module": "@jupyter-widgets/base",
            "_model_module_version": "1.2.0",
            "_model_name": "LayoutModel",
            "_view_count": null,
            "_view_module": "@jupyter-widgets/base",
            "_view_module_version": "1.2.0",
            "_view_name": "LayoutView",
            "align_content": null,
            "align_items": null,
            "align_self": null,
            "border": null,
            "bottom": null,
            "display": null,
            "flex": null,
            "flex_flow": null,
            "grid_area": null,
            "grid_auto_columns": null,
            "grid_auto_flow": null,
            "grid_auto_rows": null,
            "grid_column": null,
            "grid_gap": null,
            "grid_row": null,
            "grid_template_areas": null,
            "grid_template_columns": null,
            "grid_template_rows": null,
            "height": null,
            "justify_content": null,
            "justify_items": null,
            "left": null,
            "margin": null,
            "max_height": null,
            "max_width": null,
            "min_height": null,
            "min_width": null,
            "object_fit": null,
            "object_position": null,
            "order": null,
            "overflow": null,
            "overflow_x": null,
            "overflow_y": null,
            "padding": null,
            "right": null,
            "top": null,
            "visibility": null,
            "width": null
          }
        },
        "0bfb4c17dd174096b8dc7030b757733d": {
          "model_module": "@jupyter-widgets/controls",
          "model_name": "ProgressStyleModel",
          "model_module_version": "1.5.0",
          "state": {
            "_model_module": "@jupyter-widgets/controls",
            "_model_module_version": "1.5.0",
            "_model_name": "ProgressStyleModel",
            "_view_count": null,
            "_view_module": "@jupyter-widgets/base",
            "_view_module_version": "1.2.0",
            "_view_name": "StyleView",
            "bar_color": null,
            "description_width": ""
          }
        },
        "a08d2af3b6644ac1b69f9be076178e32": {
          "model_module": "@jupyter-widgets/base",
          "model_name": "LayoutModel",
          "model_module_version": "1.2.0",
          "state": {
            "_model_module": "@jupyter-widgets/base",
            "_model_module_version": "1.2.0",
            "_model_name": "LayoutModel",
            "_view_count": null,
            "_view_module": "@jupyter-widgets/base",
            "_view_module_version": "1.2.0",
            "_view_name": "LayoutView",
            "align_content": null,
            "align_items": null,
            "align_self": null,
            "border": null,
            "bottom": null,
            "display": null,
            "flex": null,
            "flex_flow": null,
            "grid_area": null,
            "grid_auto_columns": null,
            "grid_auto_flow": null,
            "grid_auto_rows": null,
            "grid_column": null,
            "grid_gap": null,
            "grid_row": null,
            "grid_template_areas": null,
            "grid_template_columns": null,
            "grid_template_rows": null,
            "height": null,
            "justify_content": null,
            "justify_items": null,
            "left": null,
            "margin": null,
            "max_height": null,
            "max_width": null,
            "min_height": null,
            "min_width": null,
            "object_fit": null,
            "object_position": null,
            "order": null,
            "overflow": null,
            "overflow_x": null,
            "overflow_y": null,
            "padding": null,
            "right": null,
            "top": null,
            "visibility": null,
            "width": null
          }
        },
        "76a43b4b05cc4d4c88ab45a3570cd46e": {
          "model_module": "@jupyter-widgets/controls",
          "model_name": "DescriptionStyleModel",
          "model_module_version": "1.5.0",
          "state": {
            "_model_module": "@jupyter-widgets/controls",
            "_model_module_version": "1.5.0",
            "_model_name": "DescriptionStyleModel",
            "_view_count": null,
            "_view_module": "@jupyter-widgets/base",
            "_view_module_version": "1.2.0",
            "_view_name": "StyleView",
            "description_width": ""
          }
        },
        "1b9ab98359094e8d8db2e104329899da": {
          "model_module": "@jupyter-widgets/controls",
          "model_name": "HBoxModel",
          "model_module_version": "1.5.0",
          "state": {
            "_dom_classes": [],
            "_model_module": "@jupyter-widgets/controls",
            "_model_module_version": "1.5.0",
            "_model_name": "HBoxModel",
            "_view_count": null,
            "_view_module": "@jupyter-widgets/controls",
            "_view_module_version": "1.5.0",
            "_view_name": "HBoxView",
            "box_style": "",
            "children": [
              "IPY_MODEL_6693624cdd814859a1ac6c93e3d41442",
              "IPY_MODEL_69b774efbee344b2986e3dafbf6abdda",
              "IPY_MODEL_9e67f571132c424c81a9f5a55a50b678"
            ],
            "layout": "IPY_MODEL_1ddb55adce2c4ab8839704024f7845b0"
          }
        },
        "6693624cdd814859a1ac6c93e3d41442": {
          "model_module": "@jupyter-widgets/controls",
          "model_name": "HTMLModel",
          "model_module_version": "1.5.0",
          "state": {
            "_dom_classes": [],
            "_model_module": "@jupyter-widgets/controls",
            "_model_module_version": "1.5.0",
            "_model_name": "HTMLModel",
            "_view_count": null,
            "_view_module": "@jupyter-widgets/controls",
            "_view_module_version": "1.5.0",
            "_view_name": "HTMLView",
            "description": "",
            "description_tooltip": null,
            "layout": "IPY_MODEL_349542565017444fb67cc86fc8107ebc",
            "placeholder": "​",
            "style": "IPY_MODEL_3fb57cbeeffe47b49148b530830ff8b0",
            "value": "model.safetensors: 100%"
          }
        },
        "69b774efbee344b2986e3dafbf6abdda": {
          "model_module": "@jupyter-widgets/controls",
          "model_name": "FloatProgressModel",
          "model_module_version": "1.5.0",
          "state": {
            "_dom_classes": [],
            "_model_module": "@jupyter-widgets/controls",
            "_model_module_version": "1.5.0",
            "_model_name": "FloatProgressModel",
            "_view_count": null,
            "_view_module": "@jupyter-widgets/controls",
            "_view_module_version": "1.5.0",
            "_view_name": "ProgressView",
            "bar_style": "success",
            "description": "",
            "description_tooltip": null,
            "layout": "IPY_MODEL_9fff6698ff40449bb53ed01ca71a6f8b",
            "max": 267832558,
            "min": 0,
            "orientation": "horizontal",
            "style": "IPY_MODEL_740f48c5ad1b412c90c02ae52462ae12",
            "value": 267832558
          }
        },
        "9e67f571132c424c81a9f5a55a50b678": {
          "model_module": "@jupyter-widgets/controls",
          "model_name": "HTMLModel",
          "model_module_version": "1.5.0",
          "state": {
            "_dom_classes": [],
            "_model_module": "@jupyter-widgets/controls",
            "_model_module_version": "1.5.0",
            "_model_name": "HTMLModel",
            "_view_count": null,
            "_view_module": "@jupyter-widgets/controls",
            "_view_module_version": "1.5.0",
            "_view_name": "HTMLView",
            "description": "",
            "description_tooltip": null,
            "layout": "IPY_MODEL_a0dd004475704101925c45415d8a0e52",
            "placeholder": "​",
            "style": "IPY_MODEL_83bbf3b0581f4df4aaf744b9e0d50f1a",
            "value": " 268M/268M [00:01&lt;00:00, 185MB/s]"
          }
        },
        "1ddb55adce2c4ab8839704024f7845b0": {
          "model_module": "@jupyter-widgets/base",
          "model_name": "LayoutModel",
          "model_module_version": "1.2.0",
          "state": {
            "_model_module": "@jupyter-widgets/base",
            "_model_module_version": "1.2.0",
            "_model_name": "LayoutModel",
            "_view_count": null,
            "_view_module": "@jupyter-widgets/base",
            "_view_module_version": "1.2.0",
            "_view_name": "LayoutView",
            "align_content": null,
            "align_items": null,
            "align_self": null,
            "border": null,
            "bottom": null,
            "display": null,
            "flex": null,
            "flex_flow": null,
            "grid_area": null,
            "grid_auto_columns": null,
            "grid_auto_flow": null,
            "grid_auto_rows": null,
            "grid_column": null,
            "grid_gap": null,
            "grid_row": null,
            "grid_template_areas": null,
            "grid_template_columns": null,
            "grid_template_rows": null,
            "height": null,
            "justify_content": null,
            "justify_items": null,
            "left": null,
            "margin": null,
            "max_height": null,
            "max_width": null,
            "min_height": null,
            "min_width": null,
            "object_fit": null,
            "object_position": null,
            "order": null,
            "overflow": null,
            "overflow_x": null,
            "overflow_y": null,
            "padding": null,
            "right": null,
            "top": null,
            "visibility": null,
            "width": null
          }
        },
        "349542565017444fb67cc86fc8107ebc": {
          "model_module": "@jupyter-widgets/base",
          "model_name": "LayoutModel",
          "model_module_version": "1.2.0",
          "state": {
            "_model_module": "@jupyter-widgets/base",
            "_model_module_version": "1.2.0",
            "_model_name": "LayoutModel",
            "_view_count": null,
            "_view_module": "@jupyter-widgets/base",
            "_view_module_version": "1.2.0",
            "_view_name": "LayoutView",
            "align_content": null,
            "align_items": null,
            "align_self": null,
            "border": null,
            "bottom": null,
            "display": null,
            "flex": null,
            "flex_flow": null,
            "grid_area": null,
            "grid_auto_columns": null,
            "grid_auto_flow": null,
            "grid_auto_rows": null,
            "grid_column": null,
            "grid_gap": null,
            "grid_row": null,
            "grid_template_areas": null,
            "grid_template_columns": null,
            "grid_template_rows": null,
            "height": null,
            "justify_content": null,
            "justify_items": null,
            "left": null,
            "margin": null,
            "max_height": null,
            "max_width": null,
            "min_height": null,
            "min_width": null,
            "object_fit": null,
            "object_position": null,
            "order": null,
            "overflow": null,
            "overflow_x": null,
            "overflow_y": null,
            "padding": null,
            "right": null,
            "top": null,
            "visibility": null,
            "width": null
          }
        },
        "3fb57cbeeffe47b49148b530830ff8b0": {
          "model_module": "@jupyter-widgets/controls",
          "model_name": "DescriptionStyleModel",
          "model_module_version": "1.5.0",
          "state": {
            "_model_module": "@jupyter-widgets/controls",
            "_model_module_version": "1.5.0",
            "_model_name": "DescriptionStyleModel",
            "_view_count": null,
            "_view_module": "@jupyter-widgets/base",
            "_view_module_version": "1.2.0",
            "_view_name": "StyleView",
            "description_width": ""
          }
        },
        "9fff6698ff40449bb53ed01ca71a6f8b": {
          "model_module": "@jupyter-widgets/base",
          "model_name": "LayoutModel",
          "model_module_version": "1.2.0",
          "state": {
            "_model_module": "@jupyter-widgets/base",
            "_model_module_version": "1.2.0",
            "_model_name": "LayoutModel",
            "_view_count": null,
            "_view_module": "@jupyter-widgets/base",
            "_view_module_version": "1.2.0",
            "_view_name": "LayoutView",
            "align_content": null,
            "align_items": null,
            "align_self": null,
            "border": null,
            "bottom": null,
            "display": null,
            "flex": null,
            "flex_flow": null,
            "grid_area": null,
            "grid_auto_columns": null,
            "grid_auto_flow": null,
            "grid_auto_rows": null,
            "grid_column": null,
            "grid_gap": null,
            "grid_row": null,
            "grid_template_areas": null,
            "grid_template_columns": null,
            "grid_template_rows": null,
            "height": null,
            "justify_content": null,
            "justify_items": null,
            "left": null,
            "margin": null,
            "max_height": null,
            "max_width": null,
            "min_height": null,
            "min_width": null,
            "object_fit": null,
            "object_position": null,
            "order": null,
            "overflow": null,
            "overflow_x": null,
            "overflow_y": null,
            "padding": null,
            "right": null,
            "top": null,
            "visibility": null,
            "width": null
          }
        },
        "740f48c5ad1b412c90c02ae52462ae12": {
          "model_module": "@jupyter-widgets/controls",
          "model_name": "ProgressStyleModel",
          "model_module_version": "1.5.0",
          "state": {
            "_model_module": "@jupyter-widgets/controls",
            "_model_module_version": "1.5.0",
            "_model_name": "ProgressStyleModel",
            "_view_count": null,
            "_view_module": "@jupyter-widgets/base",
            "_view_module_version": "1.2.0",
            "_view_name": "StyleView",
            "bar_color": null,
            "description_width": ""
          }
        },
        "a0dd004475704101925c45415d8a0e52": {
          "model_module": "@jupyter-widgets/base",
          "model_name": "LayoutModel",
          "model_module_version": "1.2.0",
          "state": {
            "_model_module": "@jupyter-widgets/base",
            "_model_module_version": "1.2.0",
            "_model_name": "LayoutModel",
            "_view_count": null,
            "_view_module": "@jupyter-widgets/base",
            "_view_module_version": "1.2.0",
            "_view_name": "LayoutView",
            "align_content": null,
            "align_items": null,
            "align_self": null,
            "border": null,
            "bottom": null,
            "display": null,
            "flex": null,
            "flex_flow": null,
            "grid_area": null,
            "grid_auto_columns": null,
            "grid_auto_flow": null,
            "grid_auto_rows": null,
            "grid_column": null,
            "grid_gap": null,
            "grid_row": null,
            "grid_template_areas": null,
            "grid_template_columns": null,
            "grid_template_rows": null,
            "height": null,
            "justify_content": null,
            "justify_items": null,
            "left": null,
            "margin": null,
            "max_height": null,
            "max_width": null,
            "min_height": null,
            "min_width": null,
            "object_fit": null,
            "object_position": null,
            "order": null,
            "overflow": null,
            "overflow_x": null,
            "overflow_y": null,
            "padding": null,
            "right": null,
            "top": null,
            "visibility": null,
            "width": null
          }
        },
        "83bbf3b0581f4df4aaf744b9e0d50f1a": {
          "model_module": "@jupyter-widgets/controls",
          "model_name": "DescriptionStyleModel",
          "model_module_version": "1.5.0",
          "state": {
            "_model_module": "@jupyter-widgets/controls",
            "_model_module_version": "1.5.0",
            "_model_name": "DescriptionStyleModel",
            "_view_count": null,
            "_view_module": "@jupyter-widgets/base",
            "_view_module_version": "1.2.0",
            "_view_name": "StyleView",
            "description_width": ""
          }
        },
        "80626f301e5b4867b72508da05615e27": {
          "model_module": "@jupyter-widgets/controls",
          "model_name": "HBoxModel",
          "model_module_version": "1.5.0",
          "state": {
            "_dom_classes": [],
            "_model_module": "@jupyter-widgets/controls",
            "_model_module_version": "1.5.0",
            "_model_name": "HBoxModel",
            "_view_count": null,
            "_view_module": "@jupyter-widgets/controls",
            "_view_module_version": "1.5.0",
            "_view_name": "HBoxView",
            "box_style": "",
            "children": [
              "IPY_MODEL_c2e418be3e10474aa2214f48d64f02d0",
              "IPY_MODEL_09be80f445ea4c06a2788f2ea3cf2643",
              "IPY_MODEL_cc3bb77e14df4de6a36f2a4b55db854d"
            ],
            "layout": "IPY_MODEL_8f9bc36f9d24421ca59153b653952dac"
          }
        },
        "c2e418be3e10474aa2214f48d64f02d0": {
          "model_module": "@jupyter-widgets/controls",
          "model_name": "HTMLModel",
          "model_module_version": "1.5.0",
          "state": {
            "_dom_classes": [],
            "_model_module": "@jupyter-widgets/controls",
            "_model_module_version": "1.5.0",
            "_model_name": "HTMLModel",
            "_view_count": null,
            "_view_module": "@jupyter-widgets/controls",
            "_view_module_version": "1.5.0",
            "_view_name": "HTMLView",
            "description": "",
            "description_tooltip": null,
            "layout": "IPY_MODEL_73818ac2c9654001885b6feae73da2eb",
            "placeholder": "​",
            "style": "IPY_MODEL_0e493c8f853745c2b6e3372a9139a809",
            "value": "tokenizer_config.json: 100%"
          }
        },
        "09be80f445ea4c06a2788f2ea3cf2643": {
          "model_module": "@jupyter-widgets/controls",
          "model_name": "FloatProgressModel",
          "model_module_version": "1.5.0",
          "state": {
            "_dom_classes": [],
            "_model_module": "@jupyter-widgets/controls",
            "_model_module_version": "1.5.0",
            "_model_name": "FloatProgressModel",
            "_view_count": null,
            "_view_module": "@jupyter-widgets/controls",
            "_view_module_version": "1.5.0",
            "_view_name": "ProgressView",
            "bar_style": "success",
            "description": "",
            "description_tooltip": null,
            "layout": "IPY_MODEL_577c100afeb84cc6b3c677fdc82c4a79",
            "max": 48,
            "min": 0,
            "orientation": "horizontal",
            "style": "IPY_MODEL_04f59f5fa5ec448baa9e1824c8a5f321",
            "value": 48
          }
        },
        "cc3bb77e14df4de6a36f2a4b55db854d": {
          "model_module": "@jupyter-widgets/controls",
          "model_name": "HTMLModel",
          "model_module_version": "1.5.0",
          "state": {
            "_dom_classes": [],
            "_model_module": "@jupyter-widgets/controls",
            "_model_module_version": "1.5.0",
            "_model_name": "HTMLModel",
            "_view_count": null,
            "_view_module": "@jupyter-widgets/controls",
            "_view_module_version": "1.5.0",
            "_view_name": "HTMLView",
            "description": "",
            "description_tooltip": null,
            "layout": "IPY_MODEL_1d5aa24562424ff8a04739d50e90200c",
            "placeholder": "​",
            "style": "IPY_MODEL_2989db5d4f274a2ba7398102dbaf36e2",
            "value": " 48.0/48.0 [00:00&lt;00:00, 1.29kB/s]"
          }
        },
        "8f9bc36f9d24421ca59153b653952dac": {
          "model_module": "@jupyter-widgets/base",
          "model_name": "LayoutModel",
          "model_module_version": "1.2.0",
          "state": {
            "_model_module": "@jupyter-widgets/base",
            "_model_module_version": "1.2.0",
            "_model_name": "LayoutModel",
            "_view_count": null,
            "_view_module": "@jupyter-widgets/base",
            "_view_module_version": "1.2.0",
            "_view_name": "LayoutView",
            "align_content": null,
            "align_items": null,
            "align_self": null,
            "border": null,
            "bottom": null,
            "display": null,
            "flex": null,
            "flex_flow": null,
            "grid_area": null,
            "grid_auto_columns": null,
            "grid_auto_flow": null,
            "grid_auto_rows": null,
            "grid_column": null,
            "grid_gap": null,
            "grid_row": null,
            "grid_template_areas": null,
            "grid_template_columns": null,
            "grid_template_rows": null,
            "height": null,
            "justify_content": null,
            "justify_items": null,
            "left": null,
            "margin": null,
            "max_height": null,
            "max_width": null,
            "min_height": null,
            "min_width": null,
            "object_fit": null,
            "object_position": null,
            "order": null,
            "overflow": null,
            "overflow_x": null,
            "overflow_y": null,
            "padding": null,
            "right": null,
            "top": null,
            "visibility": null,
            "width": null
          }
        },
        "73818ac2c9654001885b6feae73da2eb": {
          "model_module": "@jupyter-widgets/base",
          "model_name": "LayoutModel",
          "model_module_version": "1.2.0",
          "state": {
            "_model_module": "@jupyter-widgets/base",
            "_model_module_version": "1.2.0",
            "_model_name": "LayoutModel",
            "_view_count": null,
            "_view_module": "@jupyter-widgets/base",
            "_view_module_version": "1.2.0",
            "_view_name": "LayoutView",
            "align_content": null,
            "align_items": null,
            "align_self": null,
            "border": null,
            "bottom": null,
            "display": null,
            "flex": null,
            "flex_flow": null,
            "grid_area": null,
            "grid_auto_columns": null,
            "grid_auto_flow": null,
            "grid_auto_rows": null,
            "grid_column": null,
            "grid_gap": null,
            "grid_row": null,
            "grid_template_areas": null,
            "grid_template_columns": null,
            "grid_template_rows": null,
            "height": null,
            "justify_content": null,
            "justify_items": null,
            "left": null,
            "margin": null,
            "max_height": null,
            "max_width": null,
            "min_height": null,
            "min_width": null,
            "object_fit": null,
            "object_position": null,
            "order": null,
            "overflow": null,
            "overflow_x": null,
            "overflow_y": null,
            "padding": null,
            "right": null,
            "top": null,
            "visibility": null,
            "width": null
          }
        },
        "0e493c8f853745c2b6e3372a9139a809": {
          "model_module": "@jupyter-widgets/controls",
          "model_name": "DescriptionStyleModel",
          "model_module_version": "1.5.0",
          "state": {
            "_model_module": "@jupyter-widgets/controls",
            "_model_module_version": "1.5.0",
            "_model_name": "DescriptionStyleModel",
            "_view_count": null,
            "_view_module": "@jupyter-widgets/base",
            "_view_module_version": "1.2.0",
            "_view_name": "StyleView",
            "description_width": ""
          }
        },
        "577c100afeb84cc6b3c677fdc82c4a79": {
          "model_module": "@jupyter-widgets/base",
          "model_name": "LayoutModel",
          "model_module_version": "1.2.0",
          "state": {
            "_model_module": "@jupyter-widgets/base",
            "_model_module_version": "1.2.0",
            "_model_name": "LayoutModel",
            "_view_count": null,
            "_view_module": "@jupyter-widgets/base",
            "_view_module_version": "1.2.0",
            "_view_name": "LayoutView",
            "align_content": null,
            "align_items": null,
            "align_self": null,
            "border": null,
            "bottom": null,
            "display": null,
            "flex": null,
            "flex_flow": null,
            "grid_area": null,
            "grid_auto_columns": null,
            "grid_auto_flow": null,
            "grid_auto_rows": null,
            "grid_column": null,
            "grid_gap": null,
            "grid_row": null,
            "grid_template_areas": null,
            "grid_template_columns": null,
            "grid_template_rows": null,
            "height": null,
            "justify_content": null,
            "justify_items": null,
            "left": null,
            "margin": null,
            "max_height": null,
            "max_width": null,
            "min_height": null,
            "min_width": null,
            "object_fit": null,
            "object_position": null,
            "order": null,
            "overflow": null,
            "overflow_x": null,
            "overflow_y": null,
            "padding": null,
            "right": null,
            "top": null,
            "visibility": null,
            "width": null
          }
        },
        "04f59f5fa5ec448baa9e1824c8a5f321": {
          "model_module": "@jupyter-widgets/controls",
          "model_name": "ProgressStyleModel",
          "model_module_version": "1.5.0",
          "state": {
            "_model_module": "@jupyter-widgets/controls",
            "_model_module_version": "1.5.0",
            "_model_name": "ProgressStyleModel",
            "_view_count": null,
            "_view_module": "@jupyter-widgets/base",
            "_view_module_version": "1.2.0",
            "_view_name": "StyleView",
            "bar_color": null,
            "description_width": ""
          }
        },
        "1d5aa24562424ff8a04739d50e90200c": {
          "model_module": "@jupyter-widgets/base",
          "model_name": "LayoutModel",
          "model_module_version": "1.2.0",
          "state": {
            "_model_module": "@jupyter-widgets/base",
            "_model_module_version": "1.2.0",
            "_model_name": "LayoutModel",
            "_view_count": null,
            "_view_module": "@jupyter-widgets/base",
            "_view_module_version": "1.2.0",
            "_view_name": "LayoutView",
            "align_content": null,
            "align_items": null,
            "align_self": null,
            "border": null,
            "bottom": null,
            "display": null,
            "flex": null,
            "flex_flow": null,
            "grid_area": null,
            "grid_auto_columns": null,
            "grid_auto_flow": null,
            "grid_auto_rows": null,
            "grid_column": null,
            "grid_gap": null,
            "grid_row": null,
            "grid_template_areas": null,
            "grid_template_columns": null,
            "grid_template_rows": null,
            "height": null,
            "justify_content": null,
            "justify_items": null,
            "left": null,
            "margin": null,
            "max_height": null,
            "max_width": null,
            "min_height": null,
            "min_width": null,
            "object_fit": null,
            "object_position": null,
            "order": null,
            "overflow": null,
            "overflow_x": null,
            "overflow_y": null,
            "padding": null,
            "right": null,
            "top": null,
            "visibility": null,
            "width": null
          }
        },
        "2989db5d4f274a2ba7398102dbaf36e2": {
          "model_module": "@jupyter-widgets/controls",
          "model_name": "DescriptionStyleModel",
          "model_module_version": "1.5.0",
          "state": {
            "_model_module": "@jupyter-widgets/controls",
            "_model_module_version": "1.5.0",
            "_model_name": "DescriptionStyleModel",
            "_view_count": null,
            "_view_module": "@jupyter-widgets/base",
            "_view_module_version": "1.2.0",
            "_view_name": "StyleView",
            "description_width": ""
          }
        },
        "33250913d4b64efdb5dbbdabf5a7767e": {
          "model_module": "@jupyter-widgets/controls",
          "model_name": "HBoxModel",
          "model_module_version": "1.5.0",
          "state": {
            "_dom_classes": [],
            "_model_module": "@jupyter-widgets/controls",
            "_model_module_version": "1.5.0",
            "_model_name": "HBoxModel",
            "_view_count": null,
            "_view_module": "@jupyter-widgets/controls",
            "_view_module_version": "1.5.0",
            "_view_name": "HBoxView",
            "box_style": "",
            "children": [
              "IPY_MODEL_f640069b0ad345b396534f147a8e1071",
              "IPY_MODEL_af5df9fd6c554c18b2f7af2af0562f87",
              "IPY_MODEL_bc23613dc9384647b0fa59261d7460ff"
            ],
            "layout": "IPY_MODEL_5157cd82766846168619b70115e8c4ef"
          }
        },
        "f640069b0ad345b396534f147a8e1071": {
          "model_module": "@jupyter-widgets/controls",
          "model_name": "HTMLModel",
          "model_module_version": "1.5.0",
          "state": {
            "_dom_classes": [],
            "_model_module": "@jupyter-widgets/controls",
            "_model_module_version": "1.5.0",
            "_model_name": "HTMLModel",
            "_view_count": null,
            "_view_module": "@jupyter-widgets/controls",
            "_view_module_version": "1.5.0",
            "_view_name": "HTMLView",
            "description": "",
            "description_tooltip": null,
            "layout": "IPY_MODEL_663996729842462dbda7753c3faf14bf",
            "placeholder": "​",
            "style": "IPY_MODEL_35536fec16ac4701b9ade46390218169",
            "value": "vocab.txt: 100%"
          }
        },
        "af5df9fd6c554c18b2f7af2af0562f87": {
          "model_module": "@jupyter-widgets/controls",
          "model_name": "FloatProgressModel",
          "model_module_version": "1.5.0",
          "state": {
            "_dom_classes": [],
            "_model_module": "@jupyter-widgets/controls",
            "_model_module_version": "1.5.0",
            "_model_name": "FloatProgressModel",
            "_view_count": null,
            "_view_module": "@jupyter-widgets/controls",
            "_view_module_version": "1.5.0",
            "_view_name": "ProgressView",
            "bar_style": "success",
            "description": "",
            "description_tooltip": null,
            "layout": "IPY_MODEL_80d5ecd747194b2da65b0997e70825a4",
            "max": 231508,
            "min": 0,
            "orientation": "horizontal",
            "style": "IPY_MODEL_06fe245a2d474b68b88d441cbfbcb51b",
            "value": 231508
          }
        },
        "bc23613dc9384647b0fa59261d7460ff": {
          "model_module": "@jupyter-widgets/controls",
          "model_name": "HTMLModel",
          "model_module_version": "1.5.0",
          "state": {
            "_dom_classes": [],
            "_model_module": "@jupyter-widgets/controls",
            "_model_module_version": "1.5.0",
            "_model_name": "HTMLModel",
            "_view_count": null,
            "_view_module": "@jupyter-widgets/controls",
            "_view_module_version": "1.5.0",
            "_view_name": "HTMLView",
            "description": "",
            "description_tooltip": null,
            "layout": "IPY_MODEL_ff30861ed198482fad9eb3ada0355249",
            "placeholder": "​",
            "style": "IPY_MODEL_b6e9438457744591a717ec8a81ec17cd",
            "value": " 232k/232k [00:00&lt;00:00, 2.73MB/s]"
          }
        },
        "5157cd82766846168619b70115e8c4ef": {
          "model_module": "@jupyter-widgets/base",
          "model_name": "LayoutModel",
          "model_module_version": "1.2.0",
          "state": {
            "_model_module": "@jupyter-widgets/base",
            "_model_module_version": "1.2.0",
            "_model_name": "LayoutModel",
            "_view_count": null,
            "_view_module": "@jupyter-widgets/base",
            "_view_module_version": "1.2.0",
            "_view_name": "LayoutView",
            "align_content": null,
            "align_items": null,
            "align_self": null,
            "border": null,
            "bottom": null,
            "display": null,
            "flex": null,
            "flex_flow": null,
            "grid_area": null,
            "grid_auto_columns": null,
            "grid_auto_flow": null,
            "grid_auto_rows": null,
            "grid_column": null,
            "grid_gap": null,
            "grid_row": null,
            "grid_template_areas": null,
            "grid_template_columns": null,
            "grid_template_rows": null,
            "height": null,
            "justify_content": null,
            "justify_items": null,
            "left": null,
            "margin": null,
            "max_height": null,
            "max_width": null,
            "min_height": null,
            "min_width": null,
            "object_fit": null,
            "object_position": null,
            "order": null,
            "overflow": null,
            "overflow_x": null,
            "overflow_y": null,
            "padding": null,
            "right": null,
            "top": null,
            "visibility": null,
            "width": null
          }
        },
        "663996729842462dbda7753c3faf14bf": {
          "model_module": "@jupyter-widgets/base",
          "model_name": "LayoutModel",
          "model_module_version": "1.2.0",
          "state": {
            "_model_module": "@jupyter-widgets/base",
            "_model_module_version": "1.2.0",
            "_model_name": "LayoutModel",
            "_view_count": null,
            "_view_module": "@jupyter-widgets/base",
            "_view_module_version": "1.2.0",
            "_view_name": "LayoutView",
            "align_content": null,
            "align_items": null,
            "align_self": null,
            "border": null,
            "bottom": null,
            "display": null,
            "flex": null,
            "flex_flow": null,
            "grid_area": null,
            "grid_auto_columns": null,
            "grid_auto_flow": null,
            "grid_auto_rows": null,
            "grid_column": null,
            "grid_gap": null,
            "grid_row": null,
            "grid_template_areas": null,
            "grid_template_columns": null,
            "grid_template_rows": null,
            "height": null,
            "justify_content": null,
            "justify_items": null,
            "left": null,
            "margin": null,
            "max_height": null,
            "max_width": null,
            "min_height": null,
            "min_width": null,
            "object_fit": null,
            "object_position": null,
            "order": null,
            "overflow": null,
            "overflow_x": null,
            "overflow_y": null,
            "padding": null,
            "right": null,
            "top": null,
            "visibility": null,
            "width": null
          }
        },
        "35536fec16ac4701b9ade46390218169": {
          "model_module": "@jupyter-widgets/controls",
          "model_name": "DescriptionStyleModel",
          "model_module_version": "1.5.0",
          "state": {
            "_model_module": "@jupyter-widgets/controls",
            "_model_module_version": "1.5.0",
            "_model_name": "DescriptionStyleModel",
            "_view_count": null,
            "_view_module": "@jupyter-widgets/base",
            "_view_module_version": "1.2.0",
            "_view_name": "StyleView",
            "description_width": ""
          }
        },
        "80d5ecd747194b2da65b0997e70825a4": {
          "model_module": "@jupyter-widgets/base",
          "model_name": "LayoutModel",
          "model_module_version": "1.2.0",
          "state": {
            "_model_module": "@jupyter-widgets/base",
            "_model_module_version": "1.2.0",
            "_model_name": "LayoutModel",
            "_view_count": null,
            "_view_module": "@jupyter-widgets/base",
            "_view_module_version": "1.2.0",
            "_view_name": "LayoutView",
            "align_content": null,
            "align_items": null,
            "align_self": null,
            "border": null,
            "bottom": null,
            "display": null,
            "flex": null,
            "flex_flow": null,
            "grid_area": null,
            "grid_auto_columns": null,
            "grid_auto_flow": null,
            "grid_auto_rows": null,
            "grid_column": null,
            "grid_gap": null,
            "grid_row": null,
            "grid_template_areas": null,
            "grid_template_columns": null,
            "grid_template_rows": null,
            "height": null,
            "justify_content": null,
            "justify_items": null,
            "left": null,
            "margin": null,
            "max_height": null,
            "max_width": null,
            "min_height": null,
            "min_width": null,
            "object_fit": null,
            "object_position": null,
            "order": null,
            "overflow": null,
            "overflow_x": null,
            "overflow_y": null,
            "padding": null,
            "right": null,
            "top": null,
            "visibility": null,
            "width": null
          }
        },
        "06fe245a2d474b68b88d441cbfbcb51b": {
          "model_module": "@jupyter-widgets/controls",
          "model_name": "ProgressStyleModel",
          "model_module_version": "1.5.0",
          "state": {
            "_model_module": "@jupyter-widgets/controls",
            "_model_module_version": "1.5.0",
            "_model_name": "ProgressStyleModel",
            "_view_count": null,
            "_view_module": "@jupyter-widgets/base",
            "_view_module_version": "1.2.0",
            "_view_name": "StyleView",
            "bar_color": null,
            "description_width": ""
          }
        },
        "ff30861ed198482fad9eb3ada0355249": {
          "model_module": "@jupyter-widgets/base",
          "model_name": "LayoutModel",
          "model_module_version": "1.2.0",
          "state": {
            "_model_module": "@jupyter-widgets/base",
            "_model_module_version": "1.2.0",
            "_model_name": "LayoutModel",
            "_view_count": null,
            "_view_module": "@jupyter-widgets/base",
            "_view_module_version": "1.2.0",
            "_view_name": "LayoutView",
            "align_content": null,
            "align_items": null,
            "align_self": null,
            "border": null,
            "bottom": null,
            "display": null,
            "flex": null,
            "flex_flow": null,
            "grid_area": null,
            "grid_auto_columns": null,
            "grid_auto_flow": null,
            "grid_auto_rows": null,
            "grid_column": null,
            "grid_gap": null,
            "grid_row": null,
            "grid_template_areas": null,
            "grid_template_columns": null,
            "grid_template_rows": null,
            "height": null,
            "justify_content": null,
            "justify_items": null,
            "left": null,
            "margin": null,
            "max_height": null,
            "max_width": null,
            "min_height": null,
            "min_width": null,
            "object_fit": null,
            "object_position": null,
            "order": null,
            "overflow": null,
            "overflow_x": null,
            "overflow_y": null,
            "padding": null,
            "right": null,
            "top": null,
            "visibility": null,
            "width": null
          }
        },
        "b6e9438457744591a717ec8a81ec17cd": {
          "model_module": "@jupyter-widgets/controls",
          "model_name": "DescriptionStyleModel",
          "model_module_version": "1.5.0",
          "state": {
            "_model_module": "@jupyter-widgets/controls",
            "_model_module_version": "1.5.0",
            "_model_name": "DescriptionStyleModel",
            "_view_count": null,
            "_view_module": "@jupyter-widgets/base",
            "_view_module_version": "1.2.0",
            "_view_name": "StyleView",
            "description_width": ""
          }
        },
        "e0951c520985463aa85903a042d0d4e0": {
          "model_module": "@jupyter-widgets/controls",
          "model_name": "HBoxModel",
          "model_module_version": "1.5.0",
          "state": {
            "_dom_classes": [],
            "_model_module": "@jupyter-widgets/controls",
            "_model_module_version": "1.5.0",
            "_model_name": "HBoxModel",
            "_view_count": null,
            "_view_module": "@jupyter-widgets/controls",
            "_view_module_version": "1.5.0",
            "_view_name": "HBoxView",
            "box_style": "",
            "children": [
              "IPY_MODEL_f0bbaa6e3ea3470e9c85315fd5083f7b",
              "IPY_MODEL_de715cff43ed4eeb920ee7e6f5dbf9b2",
              "IPY_MODEL_425ea21f070944358acb59585b850f33"
            ],
            "layout": "IPY_MODEL_4df0871b5d454ea094de88d408498447"
          }
        },
        "f0bbaa6e3ea3470e9c85315fd5083f7b": {
          "model_module": "@jupyter-widgets/controls",
          "model_name": "HTMLModel",
          "model_module_version": "1.5.0",
          "state": {
            "_dom_classes": [],
            "_model_module": "@jupyter-widgets/controls",
            "_model_module_version": "1.5.0",
            "_model_name": "HTMLModel",
            "_view_count": null,
            "_view_module": "@jupyter-widgets/controls",
            "_view_module_version": "1.5.0",
            "_view_name": "HTMLView",
            "description": "",
            "description_tooltip": null,
            "layout": "IPY_MODEL_6107963834a74f768e1f3ff556ec598c",
            "placeholder": "​",
            "style": "IPY_MODEL_687e15a034ee46c193f0d7ac035a4732",
            "value": "tokenizer_config.json: 100%"
          }
        },
        "de715cff43ed4eeb920ee7e6f5dbf9b2": {
          "model_module": "@jupyter-widgets/controls",
          "model_name": "FloatProgressModel",
          "model_module_version": "1.5.0",
          "state": {
            "_dom_classes": [],
            "_model_module": "@jupyter-widgets/controls",
            "_model_module_version": "1.5.0",
            "_model_name": "FloatProgressModel",
            "_view_count": null,
            "_view_module": "@jupyter-widgets/controls",
            "_view_module_version": "1.5.0",
            "_view_name": "ProgressView",
            "bar_style": "success",
            "description": "",
            "description_tooltip": null,
            "layout": "IPY_MODEL_3b26146b53824cd78560648045b0ab57",
            "max": 48,
            "min": 0,
            "orientation": "horizontal",
            "style": "IPY_MODEL_735815c304e445279c2e9bac3d8d3248",
            "value": 48
          }
        },
        "425ea21f070944358acb59585b850f33": {
          "model_module": "@jupyter-widgets/controls",
          "model_name": "HTMLModel",
          "model_module_version": "1.5.0",
          "state": {
            "_dom_classes": [],
            "_model_module": "@jupyter-widgets/controls",
            "_model_module_version": "1.5.0",
            "_model_name": "HTMLModel",
            "_view_count": null,
            "_view_module": "@jupyter-widgets/controls",
            "_view_module_version": "1.5.0",
            "_view_name": "HTMLView",
            "description": "",
            "description_tooltip": null,
            "layout": "IPY_MODEL_f2c16f9c9e4543e0afeb2755322c88e4",
            "placeholder": "​",
            "style": "IPY_MODEL_c532e2ae27c04e02881d940b0a2ff649",
            "value": " 48.0/48.0 [00:00&lt;00:00, 2.03kB/s]"
          }
        },
        "4df0871b5d454ea094de88d408498447": {
          "model_module": "@jupyter-widgets/base",
          "model_name": "LayoutModel",
          "model_module_version": "1.2.0",
          "state": {
            "_model_module": "@jupyter-widgets/base",
            "_model_module_version": "1.2.0",
            "_model_name": "LayoutModel",
            "_view_count": null,
            "_view_module": "@jupyter-widgets/base",
            "_view_module_version": "1.2.0",
            "_view_name": "LayoutView",
            "align_content": null,
            "align_items": null,
            "align_self": null,
            "border": null,
            "bottom": null,
            "display": null,
            "flex": null,
            "flex_flow": null,
            "grid_area": null,
            "grid_auto_columns": null,
            "grid_auto_flow": null,
            "grid_auto_rows": null,
            "grid_column": null,
            "grid_gap": null,
            "grid_row": null,
            "grid_template_areas": null,
            "grid_template_columns": null,
            "grid_template_rows": null,
            "height": null,
            "justify_content": null,
            "justify_items": null,
            "left": null,
            "margin": null,
            "max_height": null,
            "max_width": null,
            "min_height": null,
            "min_width": null,
            "object_fit": null,
            "object_position": null,
            "order": null,
            "overflow": null,
            "overflow_x": null,
            "overflow_y": null,
            "padding": null,
            "right": null,
            "top": null,
            "visibility": null,
            "width": null
          }
        },
        "6107963834a74f768e1f3ff556ec598c": {
          "model_module": "@jupyter-widgets/base",
          "model_name": "LayoutModel",
          "model_module_version": "1.2.0",
          "state": {
            "_model_module": "@jupyter-widgets/base",
            "_model_module_version": "1.2.0",
            "_model_name": "LayoutModel",
            "_view_count": null,
            "_view_module": "@jupyter-widgets/base",
            "_view_module_version": "1.2.0",
            "_view_name": "LayoutView",
            "align_content": null,
            "align_items": null,
            "align_self": null,
            "border": null,
            "bottom": null,
            "display": null,
            "flex": null,
            "flex_flow": null,
            "grid_area": null,
            "grid_auto_columns": null,
            "grid_auto_flow": null,
            "grid_auto_rows": null,
            "grid_column": null,
            "grid_gap": null,
            "grid_row": null,
            "grid_template_areas": null,
            "grid_template_columns": null,
            "grid_template_rows": null,
            "height": null,
            "justify_content": null,
            "justify_items": null,
            "left": null,
            "margin": null,
            "max_height": null,
            "max_width": null,
            "min_height": null,
            "min_width": null,
            "object_fit": null,
            "object_position": null,
            "order": null,
            "overflow": null,
            "overflow_x": null,
            "overflow_y": null,
            "padding": null,
            "right": null,
            "top": null,
            "visibility": null,
            "width": null
          }
        },
        "687e15a034ee46c193f0d7ac035a4732": {
          "model_module": "@jupyter-widgets/controls",
          "model_name": "DescriptionStyleModel",
          "model_module_version": "1.5.0",
          "state": {
            "_model_module": "@jupyter-widgets/controls",
            "_model_module_version": "1.5.0",
            "_model_name": "DescriptionStyleModel",
            "_view_count": null,
            "_view_module": "@jupyter-widgets/base",
            "_view_module_version": "1.2.0",
            "_view_name": "StyleView",
            "description_width": ""
          }
        },
        "3b26146b53824cd78560648045b0ab57": {
          "model_module": "@jupyter-widgets/base",
          "model_name": "LayoutModel",
          "model_module_version": "1.2.0",
          "state": {
            "_model_module": "@jupyter-widgets/base",
            "_model_module_version": "1.2.0",
            "_model_name": "LayoutModel",
            "_view_count": null,
            "_view_module": "@jupyter-widgets/base",
            "_view_module_version": "1.2.0",
            "_view_name": "LayoutView",
            "align_content": null,
            "align_items": null,
            "align_self": null,
            "border": null,
            "bottom": null,
            "display": null,
            "flex": null,
            "flex_flow": null,
            "grid_area": null,
            "grid_auto_columns": null,
            "grid_auto_flow": null,
            "grid_auto_rows": null,
            "grid_column": null,
            "grid_gap": null,
            "grid_row": null,
            "grid_template_areas": null,
            "grid_template_columns": null,
            "grid_template_rows": null,
            "height": null,
            "justify_content": null,
            "justify_items": null,
            "left": null,
            "margin": null,
            "max_height": null,
            "max_width": null,
            "min_height": null,
            "min_width": null,
            "object_fit": null,
            "object_position": null,
            "order": null,
            "overflow": null,
            "overflow_x": null,
            "overflow_y": null,
            "padding": null,
            "right": null,
            "top": null,
            "visibility": null,
            "width": null
          }
        },
        "735815c304e445279c2e9bac3d8d3248": {
          "model_module": "@jupyter-widgets/controls",
          "model_name": "ProgressStyleModel",
          "model_module_version": "1.5.0",
          "state": {
            "_model_module": "@jupyter-widgets/controls",
            "_model_module_version": "1.5.0",
            "_model_name": "ProgressStyleModel",
            "_view_count": null,
            "_view_module": "@jupyter-widgets/base",
            "_view_module_version": "1.2.0",
            "_view_name": "StyleView",
            "bar_color": null,
            "description_width": ""
          }
        },
        "f2c16f9c9e4543e0afeb2755322c88e4": {
          "model_module": "@jupyter-widgets/base",
          "model_name": "LayoutModel",
          "model_module_version": "1.2.0",
          "state": {
            "_model_module": "@jupyter-widgets/base",
            "_model_module_version": "1.2.0",
            "_model_name": "LayoutModel",
            "_view_count": null,
            "_view_module": "@jupyter-widgets/base",
            "_view_module_version": "1.2.0",
            "_view_name": "LayoutView",
            "align_content": null,
            "align_items": null,
            "align_self": null,
            "border": null,
            "bottom": null,
            "display": null,
            "flex": null,
            "flex_flow": null,
            "grid_area": null,
            "grid_auto_columns": null,
            "grid_auto_flow": null,
            "grid_auto_rows": null,
            "grid_column": null,
            "grid_gap": null,
            "grid_row": null,
            "grid_template_areas": null,
            "grid_template_columns": null,
            "grid_template_rows": null,
            "height": null,
            "justify_content": null,
            "justify_items": null,
            "left": null,
            "margin": null,
            "max_height": null,
            "max_width": null,
            "min_height": null,
            "min_width": null,
            "object_fit": null,
            "object_position": null,
            "order": null,
            "overflow": null,
            "overflow_x": null,
            "overflow_y": null,
            "padding": null,
            "right": null,
            "top": null,
            "visibility": null,
            "width": null
          }
        },
        "c532e2ae27c04e02881d940b0a2ff649": {
          "model_module": "@jupyter-widgets/controls",
          "model_name": "DescriptionStyleModel",
          "model_module_version": "1.5.0",
          "state": {
            "_model_module": "@jupyter-widgets/controls",
            "_model_module_version": "1.5.0",
            "_model_name": "DescriptionStyleModel",
            "_view_count": null,
            "_view_module": "@jupyter-widgets/base",
            "_view_module_version": "1.2.0",
            "_view_name": "StyleView",
            "description_width": ""
          }
        },
        "3ef48c08e3bf42a59ea8bb732a182cbe": {
          "model_module": "@jupyter-widgets/controls",
          "model_name": "HBoxModel",
          "model_module_version": "1.5.0",
          "state": {
            "_dom_classes": [],
            "_model_module": "@jupyter-widgets/controls",
            "_model_module_version": "1.5.0",
            "_model_name": "HBoxModel",
            "_view_count": null,
            "_view_module": "@jupyter-widgets/controls",
            "_view_module_version": "1.5.0",
            "_view_name": "HBoxView",
            "box_style": "",
            "children": [
              "IPY_MODEL_ceb6ff315b614a788d55965b131e1d9b",
              "IPY_MODEL_01733691829d4ffb925f7d9d5ed43ed3",
              "IPY_MODEL_a7321e70d4314cf79c3e5719d779ec77"
            ],
            "layout": "IPY_MODEL_49a5bb37917f42f8977d65b7ea93d82e"
          }
        },
        "ceb6ff315b614a788d55965b131e1d9b": {
          "model_module": "@jupyter-widgets/controls",
          "model_name": "HTMLModel",
          "model_module_version": "1.5.0",
          "state": {
            "_dom_classes": [],
            "_model_module": "@jupyter-widgets/controls",
            "_model_module_version": "1.5.0",
            "_model_name": "HTMLModel",
            "_view_count": null,
            "_view_module": "@jupyter-widgets/controls",
            "_view_module_version": "1.5.0",
            "_view_name": "HTMLView",
            "description": "",
            "description_tooltip": null,
            "layout": "IPY_MODEL_5e1112a734394c8fb2eb0bf5e1393d1a",
            "placeholder": "​",
            "style": "IPY_MODEL_b5c125ca098245b099acd7242ec39c5f",
            "value": "config.json: 100%"
          }
        },
        "01733691829d4ffb925f7d9d5ed43ed3": {
          "model_module": "@jupyter-widgets/controls",
          "model_name": "FloatProgressModel",
          "model_module_version": "1.5.0",
          "state": {
            "_dom_classes": [],
            "_model_module": "@jupyter-widgets/controls",
            "_model_module_version": "1.5.0",
            "_model_name": "FloatProgressModel",
            "_view_count": null,
            "_view_module": "@jupyter-widgets/controls",
            "_view_module_version": "1.5.0",
            "_view_name": "ProgressView",
            "bar_style": "success",
            "description": "",
            "description_tooltip": null,
            "layout": "IPY_MODEL_c1ec2962cc4543d99e5faa2a1fd0d6b3",
            "max": 629,
            "min": 0,
            "orientation": "horizontal",
            "style": "IPY_MODEL_376fd3acae7340cbbf124284edc9ede5",
            "value": 629
          }
        },
        "a7321e70d4314cf79c3e5719d779ec77": {
          "model_module": "@jupyter-widgets/controls",
          "model_name": "HTMLModel",
          "model_module_version": "1.5.0",
          "state": {
            "_dom_classes": [],
            "_model_module": "@jupyter-widgets/controls",
            "_model_module_version": "1.5.0",
            "_model_name": "HTMLModel",
            "_view_count": null,
            "_view_module": "@jupyter-widgets/controls",
            "_view_module_version": "1.5.0",
            "_view_name": "HTMLView",
            "description": "",
            "description_tooltip": null,
            "layout": "IPY_MODEL_7404faf2d7b64cf69cccaa6d3d05423d",
            "placeholder": "​",
            "style": "IPY_MODEL_a028f2931dd14120bc29889200a66da2",
            "value": " 629/629 [00:00&lt;00:00, 25.5kB/s]"
          }
        },
        "49a5bb37917f42f8977d65b7ea93d82e": {
          "model_module": "@jupyter-widgets/base",
          "model_name": "LayoutModel",
          "model_module_version": "1.2.0",
          "state": {
            "_model_module": "@jupyter-widgets/base",
            "_model_module_version": "1.2.0",
            "_model_name": "LayoutModel",
            "_view_count": null,
            "_view_module": "@jupyter-widgets/base",
            "_view_module_version": "1.2.0",
            "_view_name": "LayoutView",
            "align_content": null,
            "align_items": null,
            "align_self": null,
            "border": null,
            "bottom": null,
            "display": null,
            "flex": null,
            "flex_flow": null,
            "grid_area": null,
            "grid_auto_columns": null,
            "grid_auto_flow": null,
            "grid_auto_rows": null,
            "grid_column": null,
            "grid_gap": null,
            "grid_row": null,
            "grid_template_areas": null,
            "grid_template_columns": null,
            "grid_template_rows": null,
            "height": null,
            "justify_content": null,
            "justify_items": null,
            "left": null,
            "margin": null,
            "max_height": null,
            "max_width": null,
            "min_height": null,
            "min_width": null,
            "object_fit": null,
            "object_position": null,
            "order": null,
            "overflow": null,
            "overflow_x": null,
            "overflow_y": null,
            "padding": null,
            "right": null,
            "top": null,
            "visibility": null,
            "width": null
          }
        },
        "5e1112a734394c8fb2eb0bf5e1393d1a": {
          "model_module": "@jupyter-widgets/base",
          "model_name": "LayoutModel",
          "model_module_version": "1.2.0",
          "state": {
            "_model_module": "@jupyter-widgets/base",
            "_model_module_version": "1.2.0",
            "_model_name": "LayoutModel",
            "_view_count": null,
            "_view_module": "@jupyter-widgets/base",
            "_view_module_version": "1.2.0",
            "_view_name": "LayoutView",
            "align_content": null,
            "align_items": null,
            "align_self": null,
            "border": null,
            "bottom": null,
            "display": null,
            "flex": null,
            "flex_flow": null,
            "grid_area": null,
            "grid_auto_columns": null,
            "grid_auto_flow": null,
            "grid_auto_rows": null,
            "grid_column": null,
            "grid_gap": null,
            "grid_row": null,
            "grid_template_areas": null,
            "grid_template_columns": null,
            "grid_template_rows": null,
            "height": null,
            "justify_content": null,
            "justify_items": null,
            "left": null,
            "margin": null,
            "max_height": null,
            "max_width": null,
            "min_height": null,
            "min_width": null,
            "object_fit": null,
            "object_position": null,
            "order": null,
            "overflow": null,
            "overflow_x": null,
            "overflow_y": null,
            "padding": null,
            "right": null,
            "top": null,
            "visibility": null,
            "width": null
          }
        },
        "b5c125ca098245b099acd7242ec39c5f": {
          "model_module": "@jupyter-widgets/controls",
          "model_name": "DescriptionStyleModel",
          "model_module_version": "1.5.0",
          "state": {
            "_model_module": "@jupyter-widgets/controls",
            "_model_module_version": "1.5.0",
            "_model_name": "DescriptionStyleModel",
            "_view_count": null,
            "_view_module": "@jupyter-widgets/base",
            "_view_module_version": "1.2.0",
            "_view_name": "StyleView",
            "description_width": ""
          }
        },
        "c1ec2962cc4543d99e5faa2a1fd0d6b3": {
          "model_module": "@jupyter-widgets/base",
          "model_name": "LayoutModel",
          "model_module_version": "1.2.0",
          "state": {
            "_model_module": "@jupyter-widgets/base",
            "_model_module_version": "1.2.0",
            "_model_name": "LayoutModel",
            "_view_count": null,
            "_view_module": "@jupyter-widgets/base",
            "_view_module_version": "1.2.0",
            "_view_name": "LayoutView",
            "align_content": null,
            "align_items": null,
            "align_self": null,
            "border": null,
            "bottom": null,
            "display": null,
            "flex": null,
            "flex_flow": null,
            "grid_area": null,
            "grid_auto_columns": null,
            "grid_auto_flow": null,
            "grid_auto_rows": null,
            "grid_column": null,
            "grid_gap": null,
            "grid_row": null,
            "grid_template_areas": null,
            "grid_template_columns": null,
            "grid_template_rows": null,
            "height": null,
            "justify_content": null,
            "justify_items": null,
            "left": null,
            "margin": null,
            "max_height": null,
            "max_width": null,
            "min_height": null,
            "min_width": null,
            "object_fit": null,
            "object_position": null,
            "order": null,
            "overflow": null,
            "overflow_x": null,
            "overflow_y": null,
            "padding": null,
            "right": null,
            "top": null,
            "visibility": null,
            "width": null
          }
        },
        "376fd3acae7340cbbf124284edc9ede5": {
          "model_module": "@jupyter-widgets/controls",
          "model_name": "ProgressStyleModel",
          "model_module_version": "1.5.0",
          "state": {
            "_model_module": "@jupyter-widgets/controls",
            "_model_module_version": "1.5.0",
            "_model_name": "ProgressStyleModel",
            "_view_count": null,
            "_view_module": "@jupyter-widgets/base",
            "_view_module_version": "1.2.0",
            "_view_name": "StyleView",
            "bar_color": null,
            "description_width": ""
          }
        },
        "7404faf2d7b64cf69cccaa6d3d05423d": {
          "model_module": "@jupyter-widgets/base",
          "model_name": "LayoutModel",
          "model_module_version": "1.2.0",
          "state": {
            "_model_module": "@jupyter-widgets/base",
            "_model_module_version": "1.2.0",
            "_model_name": "LayoutModel",
            "_view_count": null,
            "_view_module": "@jupyter-widgets/base",
            "_view_module_version": "1.2.0",
            "_view_name": "LayoutView",
            "align_content": null,
            "align_items": null,
            "align_self": null,
            "border": null,
            "bottom": null,
            "display": null,
            "flex": null,
            "flex_flow": null,
            "grid_area": null,
            "grid_auto_columns": null,
            "grid_auto_flow": null,
            "grid_auto_rows": null,
            "grid_column": null,
            "grid_gap": null,
            "grid_row": null,
            "grid_template_areas": null,
            "grid_template_columns": null,
            "grid_template_rows": null,
            "height": null,
            "justify_content": null,
            "justify_items": null,
            "left": null,
            "margin": null,
            "max_height": null,
            "max_width": null,
            "min_height": null,
            "min_width": null,
            "object_fit": null,
            "object_position": null,
            "order": null,
            "overflow": null,
            "overflow_x": null,
            "overflow_y": null,
            "padding": null,
            "right": null,
            "top": null,
            "visibility": null,
            "width": null
          }
        },
        "a028f2931dd14120bc29889200a66da2": {
          "model_module": "@jupyter-widgets/controls",
          "model_name": "DescriptionStyleModel",
          "model_module_version": "1.5.0",
          "state": {
            "_model_module": "@jupyter-widgets/controls",
            "_model_module_version": "1.5.0",
            "_model_name": "DescriptionStyleModel",
            "_view_count": null,
            "_view_module": "@jupyter-widgets/base",
            "_view_module_version": "1.2.0",
            "_view_name": "StyleView",
            "description_width": ""
          }
        },
        "0db8151ce62f429daefafa270d5678ab": {
          "model_module": "@jupyter-widgets/controls",
          "model_name": "HBoxModel",
          "model_module_version": "1.5.0",
          "state": {
            "_dom_classes": [],
            "_model_module": "@jupyter-widgets/controls",
            "_model_module_version": "1.5.0",
            "_model_name": "HBoxModel",
            "_view_count": null,
            "_view_module": "@jupyter-widgets/controls",
            "_view_module_version": "1.5.0",
            "_view_name": "HBoxView",
            "box_style": "",
            "children": [
              "IPY_MODEL_028ecb91f8e14459b24b7403ffa1645b",
              "IPY_MODEL_328e36d9378f4b3aaad3b7c7e12401b7",
              "IPY_MODEL_82f0ef35ffc94f6d891c28c6290ffa31"
            ],
            "layout": "IPY_MODEL_01a2f58dafd643aaa5656c96060feaaa"
          }
        },
        "028ecb91f8e14459b24b7403ffa1645b": {
          "model_module": "@jupyter-widgets/controls",
          "model_name": "HTMLModel",
          "model_module_version": "1.5.0",
          "state": {
            "_dom_classes": [],
            "_model_module": "@jupyter-widgets/controls",
            "_model_module_version": "1.5.0",
            "_model_name": "HTMLModel",
            "_view_count": null,
            "_view_module": "@jupyter-widgets/controls",
            "_view_module_version": "1.5.0",
            "_view_name": "HTMLView",
            "description": "",
            "description_tooltip": null,
            "layout": "IPY_MODEL_50b5b58b663440eab5d57ef256042608",
            "placeholder": "​",
            "style": "IPY_MODEL_8629981546d540c8ba6d726b1252ebff",
            "value": "vocab.txt: 100%"
          }
        },
        "328e36d9378f4b3aaad3b7c7e12401b7": {
          "model_module": "@jupyter-widgets/controls",
          "model_name": "FloatProgressModel",
          "model_module_version": "1.5.0",
          "state": {
            "_dom_classes": [],
            "_model_module": "@jupyter-widgets/controls",
            "_model_module_version": "1.5.0",
            "_model_name": "FloatProgressModel",
            "_view_count": null,
            "_view_module": "@jupyter-widgets/controls",
            "_view_module_version": "1.5.0",
            "_view_name": "ProgressView",
            "bar_style": "success",
            "description": "",
            "description_tooltip": null,
            "layout": "IPY_MODEL_4a091fbf94ef4da9a7ef0f0da1e775af",
            "max": 231508,
            "min": 0,
            "orientation": "horizontal",
            "style": "IPY_MODEL_c12bf7729a324fc6b9ec2153f75127fb",
            "value": 231508
          }
        },
        "82f0ef35ffc94f6d891c28c6290ffa31": {
          "model_module": "@jupyter-widgets/controls",
          "model_name": "HTMLModel",
          "model_module_version": "1.5.0",
          "state": {
            "_dom_classes": [],
            "_model_module": "@jupyter-widgets/controls",
            "_model_module_version": "1.5.0",
            "_model_name": "HTMLModel",
            "_view_count": null,
            "_view_module": "@jupyter-widgets/controls",
            "_view_module_version": "1.5.0",
            "_view_name": "HTMLView",
            "description": "",
            "description_tooltip": null,
            "layout": "IPY_MODEL_14d94468aeb34f38b5f0998dbb18efa8",
            "placeholder": "​",
            "style": "IPY_MODEL_414b98ec53a34e13b1e706d18815a713",
            "value": " 232k/232k [00:00&lt;00:00, 12.5MB/s]"
          }
        },
        "01a2f58dafd643aaa5656c96060feaaa": {
          "model_module": "@jupyter-widgets/base",
          "model_name": "LayoutModel",
          "model_module_version": "1.2.0",
          "state": {
            "_model_module": "@jupyter-widgets/base",
            "_model_module_version": "1.2.0",
            "_model_name": "LayoutModel",
            "_view_count": null,
            "_view_module": "@jupyter-widgets/base",
            "_view_module_version": "1.2.0",
            "_view_name": "LayoutView",
            "align_content": null,
            "align_items": null,
            "align_self": null,
            "border": null,
            "bottom": null,
            "display": null,
            "flex": null,
            "flex_flow": null,
            "grid_area": null,
            "grid_auto_columns": null,
            "grid_auto_flow": null,
            "grid_auto_rows": null,
            "grid_column": null,
            "grid_gap": null,
            "grid_row": null,
            "grid_template_areas": null,
            "grid_template_columns": null,
            "grid_template_rows": null,
            "height": null,
            "justify_content": null,
            "justify_items": null,
            "left": null,
            "margin": null,
            "max_height": null,
            "max_width": null,
            "min_height": null,
            "min_width": null,
            "object_fit": null,
            "object_position": null,
            "order": null,
            "overflow": null,
            "overflow_x": null,
            "overflow_y": null,
            "padding": null,
            "right": null,
            "top": null,
            "visibility": null,
            "width": null
          }
        },
        "50b5b58b663440eab5d57ef256042608": {
          "model_module": "@jupyter-widgets/base",
          "model_name": "LayoutModel",
          "model_module_version": "1.2.0",
          "state": {
            "_model_module": "@jupyter-widgets/base",
            "_model_module_version": "1.2.0",
            "_model_name": "LayoutModel",
            "_view_count": null,
            "_view_module": "@jupyter-widgets/base",
            "_view_module_version": "1.2.0",
            "_view_name": "LayoutView",
            "align_content": null,
            "align_items": null,
            "align_self": null,
            "border": null,
            "bottom": null,
            "display": null,
            "flex": null,
            "flex_flow": null,
            "grid_area": null,
            "grid_auto_columns": null,
            "grid_auto_flow": null,
            "grid_auto_rows": null,
            "grid_column": null,
            "grid_gap": null,
            "grid_row": null,
            "grid_template_areas": null,
            "grid_template_columns": null,
            "grid_template_rows": null,
            "height": null,
            "justify_content": null,
            "justify_items": null,
            "left": null,
            "margin": null,
            "max_height": null,
            "max_width": null,
            "min_height": null,
            "min_width": null,
            "object_fit": null,
            "object_position": null,
            "order": null,
            "overflow": null,
            "overflow_x": null,
            "overflow_y": null,
            "padding": null,
            "right": null,
            "top": null,
            "visibility": null,
            "width": null
          }
        },
        "8629981546d540c8ba6d726b1252ebff": {
          "model_module": "@jupyter-widgets/controls",
          "model_name": "DescriptionStyleModel",
          "model_module_version": "1.5.0",
          "state": {
            "_model_module": "@jupyter-widgets/controls",
            "_model_module_version": "1.5.0",
            "_model_name": "DescriptionStyleModel",
            "_view_count": null,
            "_view_module": "@jupyter-widgets/base",
            "_view_module_version": "1.2.0",
            "_view_name": "StyleView",
            "description_width": ""
          }
        },
        "4a091fbf94ef4da9a7ef0f0da1e775af": {
          "model_module": "@jupyter-widgets/base",
          "model_name": "LayoutModel",
          "model_module_version": "1.2.0",
          "state": {
            "_model_module": "@jupyter-widgets/base",
            "_model_module_version": "1.2.0",
            "_model_name": "LayoutModel",
            "_view_count": null,
            "_view_module": "@jupyter-widgets/base",
            "_view_module_version": "1.2.0",
            "_view_name": "LayoutView",
            "align_content": null,
            "align_items": null,
            "align_self": null,
            "border": null,
            "bottom": null,
            "display": null,
            "flex": null,
            "flex_flow": null,
            "grid_area": null,
            "grid_auto_columns": null,
            "grid_auto_flow": null,
            "grid_auto_rows": null,
            "grid_column": null,
            "grid_gap": null,
            "grid_row": null,
            "grid_template_areas": null,
            "grid_template_columns": null,
            "grid_template_rows": null,
            "height": null,
            "justify_content": null,
            "justify_items": null,
            "left": null,
            "margin": null,
            "max_height": null,
            "max_width": null,
            "min_height": null,
            "min_width": null,
            "object_fit": null,
            "object_position": null,
            "order": null,
            "overflow": null,
            "overflow_x": null,
            "overflow_y": null,
            "padding": null,
            "right": null,
            "top": null,
            "visibility": null,
            "width": null
          }
        },
        "c12bf7729a324fc6b9ec2153f75127fb": {
          "model_module": "@jupyter-widgets/controls",
          "model_name": "ProgressStyleModel",
          "model_module_version": "1.5.0",
          "state": {
            "_model_module": "@jupyter-widgets/controls",
            "_model_module_version": "1.5.0",
            "_model_name": "ProgressStyleModel",
            "_view_count": null,
            "_view_module": "@jupyter-widgets/base",
            "_view_module_version": "1.2.0",
            "_view_name": "StyleView",
            "bar_color": null,
            "description_width": ""
          }
        },
        "14d94468aeb34f38b5f0998dbb18efa8": {
          "model_module": "@jupyter-widgets/base",
          "model_name": "LayoutModel",
          "model_module_version": "1.2.0",
          "state": {
            "_model_module": "@jupyter-widgets/base",
            "_model_module_version": "1.2.0",
            "_model_name": "LayoutModel",
            "_view_count": null,
            "_view_module": "@jupyter-widgets/base",
            "_view_module_version": "1.2.0",
            "_view_name": "LayoutView",
            "align_content": null,
            "align_items": null,
            "align_self": null,
            "border": null,
            "bottom": null,
            "display": null,
            "flex": null,
            "flex_flow": null,
            "grid_area": null,
            "grid_auto_columns": null,
            "grid_auto_flow": null,
            "grid_auto_rows": null,
            "grid_column": null,
            "grid_gap": null,
            "grid_row": null,
            "grid_template_areas": null,
            "grid_template_columns": null,
            "grid_template_rows": null,
            "height": null,
            "justify_content": null,
            "justify_items": null,
            "left": null,
            "margin": null,
            "max_height": null,
            "max_width": null,
            "min_height": null,
            "min_width": null,
            "object_fit": null,
            "object_position": null,
            "order": null,
            "overflow": null,
            "overflow_x": null,
            "overflow_y": null,
            "padding": null,
            "right": null,
            "top": null,
            "visibility": null,
            "width": null
          }
        },
        "414b98ec53a34e13b1e706d18815a713": {
          "model_module": "@jupyter-widgets/controls",
          "model_name": "DescriptionStyleModel",
          "model_module_version": "1.5.0",
          "state": {
            "_model_module": "@jupyter-widgets/controls",
            "_model_module_version": "1.5.0",
            "_model_name": "DescriptionStyleModel",
            "_view_count": null,
            "_view_module": "@jupyter-widgets/base",
            "_view_module_version": "1.2.0",
            "_view_name": "StyleView",
            "description_width": ""
          }
        },
        "7c9d442e435a457d904dba33b37064f9": {
          "model_module": "@jupyter-widgets/controls",
          "model_name": "HBoxModel",
          "model_module_version": "1.5.0",
          "state": {
            "_dom_classes": [],
            "_model_module": "@jupyter-widgets/controls",
            "_model_module_version": "1.5.0",
            "_model_name": "HBoxModel",
            "_view_count": null,
            "_view_module": "@jupyter-widgets/controls",
            "_view_module_version": "1.5.0",
            "_view_name": "HBoxView",
            "box_style": "",
            "children": [
              "IPY_MODEL_8581b2cbccfd41e4b0b841aab7f11f11",
              "IPY_MODEL_5488d17dba704b3f991c394ae0575bab",
              "IPY_MODEL_84f2c6277f5f4c668ced482df4dc8a24"
            ],
            "layout": "IPY_MODEL_558f111bdf14423fb06ce6e6d57d5ba1"
          }
        },
        "8581b2cbccfd41e4b0b841aab7f11f11": {
          "model_module": "@jupyter-widgets/controls",
          "model_name": "HTMLModel",
          "model_module_version": "1.5.0",
          "state": {
            "_dom_classes": [],
            "_model_module": "@jupyter-widgets/controls",
            "_model_module_version": "1.5.0",
            "_model_name": "HTMLModel",
            "_view_count": null,
            "_view_module": "@jupyter-widgets/controls",
            "_view_module_version": "1.5.0",
            "_view_name": "HTMLView",
            "description": "",
            "description_tooltip": null,
            "layout": "IPY_MODEL_23900f5e241c4ebb993ead10675987c3",
            "placeholder": "​",
            "style": "IPY_MODEL_5746a64707c743a1a035b1c7a8f734fc",
            "value": "model.safetensors: 100%"
          }
        },
        "5488d17dba704b3f991c394ae0575bab": {
          "model_module": "@jupyter-widgets/controls",
          "model_name": "FloatProgressModel",
          "model_module_version": "1.5.0",
          "state": {
            "_dom_classes": [],
            "_model_module": "@jupyter-widgets/controls",
            "_model_module_version": "1.5.0",
            "_model_name": "FloatProgressModel",
            "_view_count": null,
            "_view_module": "@jupyter-widgets/controls",
            "_view_module_version": "1.5.0",
            "_view_name": "ProgressView",
            "bar_style": "success",
            "description": "",
            "description_tooltip": null,
            "layout": "IPY_MODEL_1ee9463cd17e4e48af0b699f521ab397",
            "max": 267832558,
            "min": 0,
            "orientation": "horizontal",
            "style": "IPY_MODEL_6f41043856594bc89a810d704373cc06",
            "value": 267832558
          }
        },
        "84f2c6277f5f4c668ced482df4dc8a24": {
          "model_module": "@jupyter-widgets/controls",
          "model_name": "HTMLModel",
          "model_module_version": "1.5.0",
          "state": {
            "_dom_classes": [],
            "_model_module": "@jupyter-widgets/controls",
            "_model_module_version": "1.5.0",
            "_model_name": "HTMLModel",
            "_view_count": null,
            "_view_module": "@jupyter-widgets/controls",
            "_view_module_version": "1.5.0",
            "_view_name": "HTMLView",
            "description": "",
            "description_tooltip": null,
            "layout": "IPY_MODEL_7b511c2bb51f447fadbb9b764122f246",
            "placeholder": "​",
            "style": "IPY_MODEL_31d600a682164527a0a5e62be83e1bb0",
            "value": " 268M/268M [00:01&lt;00:00, 279MB/s]"
          }
        },
        "558f111bdf14423fb06ce6e6d57d5ba1": {
          "model_module": "@jupyter-widgets/base",
          "model_name": "LayoutModel",
          "model_module_version": "1.2.0",
          "state": {
            "_model_module": "@jupyter-widgets/base",
            "_model_module_version": "1.2.0",
            "_model_name": "LayoutModel",
            "_view_count": null,
            "_view_module": "@jupyter-widgets/base",
            "_view_module_version": "1.2.0",
            "_view_name": "LayoutView",
            "align_content": null,
            "align_items": null,
            "align_self": null,
            "border": null,
            "bottom": null,
            "display": null,
            "flex": null,
            "flex_flow": null,
            "grid_area": null,
            "grid_auto_columns": null,
            "grid_auto_flow": null,
            "grid_auto_rows": null,
            "grid_column": null,
            "grid_gap": null,
            "grid_row": null,
            "grid_template_areas": null,
            "grid_template_columns": null,
            "grid_template_rows": null,
            "height": null,
            "justify_content": null,
            "justify_items": null,
            "left": null,
            "margin": null,
            "max_height": null,
            "max_width": null,
            "min_height": null,
            "min_width": null,
            "object_fit": null,
            "object_position": null,
            "order": null,
            "overflow": null,
            "overflow_x": null,
            "overflow_y": null,
            "padding": null,
            "right": null,
            "top": null,
            "visibility": null,
            "width": null
          }
        },
        "23900f5e241c4ebb993ead10675987c3": {
          "model_module": "@jupyter-widgets/base",
          "model_name": "LayoutModel",
          "model_module_version": "1.2.0",
          "state": {
            "_model_module": "@jupyter-widgets/base",
            "_model_module_version": "1.2.0",
            "_model_name": "LayoutModel",
            "_view_count": null,
            "_view_module": "@jupyter-widgets/base",
            "_view_module_version": "1.2.0",
            "_view_name": "LayoutView",
            "align_content": null,
            "align_items": null,
            "align_self": null,
            "border": null,
            "bottom": null,
            "display": null,
            "flex": null,
            "flex_flow": null,
            "grid_area": null,
            "grid_auto_columns": null,
            "grid_auto_flow": null,
            "grid_auto_rows": null,
            "grid_column": null,
            "grid_gap": null,
            "grid_row": null,
            "grid_template_areas": null,
            "grid_template_columns": null,
            "grid_template_rows": null,
            "height": null,
            "justify_content": null,
            "justify_items": null,
            "left": null,
            "margin": null,
            "max_height": null,
            "max_width": null,
            "min_height": null,
            "min_width": null,
            "object_fit": null,
            "object_position": null,
            "order": null,
            "overflow": null,
            "overflow_x": null,
            "overflow_y": null,
            "padding": null,
            "right": null,
            "top": null,
            "visibility": null,
            "width": null
          }
        },
        "5746a64707c743a1a035b1c7a8f734fc": {
          "model_module": "@jupyter-widgets/controls",
          "model_name": "DescriptionStyleModel",
          "model_module_version": "1.5.0",
          "state": {
            "_model_module": "@jupyter-widgets/controls",
            "_model_module_version": "1.5.0",
            "_model_name": "DescriptionStyleModel",
            "_view_count": null,
            "_view_module": "@jupyter-widgets/base",
            "_view_module_version": "1.2.0",
            "_view_name": "StyleView",
            "description_width": ""
          }
        },
        "1ee9463cd17e4e48af0b699f521ab397": {
          "model_module": "@jupyter-widgets/base",
          "model_name": "LayoutModel",
          "model_module_version": "1.2.0",
          "state": {
            "_model_module": "@jupyter-widgets/base",
            "_model_module_version": "1.2.0",
            "_model_name": "LayoutModel",
            "_view_count": null,
            "_view_module": "@jupyter-widgets/base",
            "_view_module_version": "1.2.0",
            "_view_name": "LayoutView",
            "align_content": null,
            "align_items": null,
            "align_self": null,
            "border": null,
            "bottom": null,
            "display": null,
            "flex": null,
            "flex_flow": null,
            "grid_area": null,
            "grid_auto_columns": null,
            "grid_auto_flow": null,
            "grid_auto_rows": null,
            "grid_column": null,
            "grid_gap": null,
            "grid_row": null,
            "grid_template_areas": null,
            "grid_template_columns": null,
            "grid_template_rows": null,
            "height": null,
            "justify_content": null,
            "justify_items": null,
            "left": null,
            "margin": null,
            "max_height": null,
            "max_width": null,
            "min_height": null,
            "min_width": null,
            "object_fit": null,
            "object_position": null,
            "order": null,
            "overflow": null,
            "overflow_x": null,
            "overflow_y": null,
            "padding": null,
            "right": null,
            "top": null,
            "visibility": null,
            "width": null
          }
        },
        "6f41043856594bc89a810d704373cc06": {
          "model_module": "@jupyter-widgets/controls",
          "model_name": "ProgressStyleModel",
          "model_module_version": "1.5.0",
          "state": {
            "_model_module": "@jupyter-widgets/controls",
            "_model_module_version": "1.5.0",
            "_model_name": "ProgressStyleModel",
            "_view_count": null,
            "_view_module": "@jupyter-widgets/base",
            "_view_module_version": "1.2.0",
            "_view_name": "StyleView",
            "bar_color": null,
            "description_width": ""
          }
        },
        "7b511c2bb51f447fadbb9b764122f246": {
          "model_module": "@jupyter-widgets/base",
          "model_name": "LayoutModel",
          "model_module_version": "1.2.0",
          "state": {
            "_model_module": "@jupyter-widgets/base",
            "_model_module_version": "1.2.0",
            "_model_name": "LayoutModel",
            "_view_count": null,
            "_view_module": "@jupyter-widgets/base",
            "_view_module_version": "1.2.0",
            "_view_name": "LayoutView",
            "align_content": null,
            "align_items": null,
            "align_self": null,
            "border": null,
            "bottom": null,
            "display": null,
            "flex": null,
            "flex_flow": null,
            "grid_area": null,
            "grid_auto_columns": null,
            "grid_auto_flow": null,
            "grid_auto_rows": null,
            "grid_column": null,
            "grid_gap": null,
            "grid_row": null,
            "grid_template_areas": null,
            "grid_template_columns": null,
            "grid_template_rows": null,
            "height": null,
            "justify_content": null,
            "justify_items": null,
            "left": null,
            "margin": null,
            "max_height": null,
            "max_width": null,
            "min_height": null,
            "min_width": null,
            "object_fit": null,
            "object_position": null,
            "order": null,
            "overflow": null,
            "overflow_x": null,
            "overflow_y": null,
            "padding": null,
            "right": null,
            "top": null,
            "visibility": null,
            "width": null
          }
        },
        "31d600a682164527a0a5e62be83e1bb0": {
          "model_module": "@jupyter-widgets/controls",
          "model_name": "DescriptionStyleModel",
          "model_module_version": "1.5.0",
          "state": {
            "_model_module": "@jupyter-widgets/controls",
            "_model_module_version": "1.5.0",
            "_model_name": "DescriptionStyleModel",
            "_view_count": null,
            "_view_module": "@jupyter-widgets/base",
            "_view_module_version": "1.2.0",
            "_view_name": "StyleView",
            "description_width": ""
          }
        }
      }
    }
  },
  "nbformat": 4,
  "nbformat_minor": 0
}