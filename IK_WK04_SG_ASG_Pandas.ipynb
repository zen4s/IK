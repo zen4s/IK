{
  "nbformat": 4,
  "nbformat_minor": 0,
  "metadata": {
    "colab": {
      "provenance": [],
      "authorship_tag": "ABX9TyM4VUhPXJn1uMJG7wC08dy1"
    },
    "kernelspec": {
      "name": "python3",
      "display_name": "Python 3"
    },
    "language_info": {
      "name": "python"
    }
  },
  "cells": [
    {
      "cell_type": "markdown",
      "source": [
        "Assignment Week - Pandas"
      ],
      "metadata": {
        "id": "rCUPHUewvFt8"
      }
    },
    {
      "cell_type": "code",
      "source": [
        "import numpy as np\n",
        "a1 = np.array([1,2,3,45,6,7,8,9,10,11])\n",
        "print(a1)\n",
        "print(a1.shape)\n",
        "a2 = a1.reshape(1,-1)\n",
        "print(a2, a2.shape)\n",
        "\n",
        "arr = np.random.randint(1, 101, 100)\n",
        "arr1 = arr.reshape(10, -1)\n",
        "\n",
        "print(arr, arr.shape)\n",
        "print(arr1, arr1.shape)\n"
      ],
      "metadata": {
        "colab": {
          "base_uri": "https://localhost:8080/"
        },
        "id": "NhKZNkmWLCnx",
        "outputId": "639f87b6-8309-42c1-e0c1-993d40e68b59"
      },
      "execution_count": null,
      "outputs": [
        {
          "output_type": "stream",
          "name": "stdout",
          "text": [
            "[ 1  2  3 45  6  7  8  9 10 11]\n",
            "(10,)\n",
            "[[ 1  2  3 45  6  7  8  9 10 11]] (1, 10)\n",
            "[ 10  12  96  29  83  19  67  82  13  62  10  59  92   5  41  50   9  66\n",
            "  96  12  39  26  88  66  29  21  81  88  86  17  20  55  12  98  83  44\n",
            "  29  81  97  39  33  55  87  41  57  46  67  71  14   9  46  20  45  38\n",
            "  28  61  90  32  56  54   2  16  75  94  50  38  28  66  51   3  21 100\n",
            "  56   2  23  46  28  89  58  29  44  60  58  45  17  39  83  30  24 100\n",
            "  80  32  25  95  50  88  57  77   8  67] (100,)\n",
            "[[ 10  12  96  29  83  19  67  82  13  62]\n",
            " [ 10  59  92   5  41  50   9  66  96  12]\n",
            " [ 39  26  88  66  29  21  81  88  86  17]\n",
            " [ 20  55  12  98  83  44  29  81  97  39]\n",
            " [ 33  55  87  41  57  46  67  71  14   9]\n",
            " [ 46  20  45  38  28  61  90  32  56  54]\n",
            " [  2  16  75  94  50  38  28  66  51   3]\n",
            " [ 21 100  56   2  23  46  28  89  58  29]\n",
            " [ 44  60  58  45  17  39  83  30  24 100]\n",
            " [ 80  32  25  95  50  88  57  77   8  67]] (10, 10)\n"
          ]
        }
      ]
    },
    {
      "cell_type": "code",
      "source": [
        "import numpy as np\n",
        "A = np.array([1, 2, 3])\n",
        "B = A * 2\n",
        "print(B)"
      ],
      "metadata": {
        "colab": {
          "base_uri": "https://localhost:8080/"
        },
        "id": "o9J7arcSTmCR",
        "outputId": "c52f4e63-2e5b-4dcc-920b-20e7c4bc5675"
      },
      "execution_count": null,
      "outputs": [
        {
          "output_type": "stream",
          "name": "stdout",
          "text": [
            "[2 4 6]\n"
          ]
        }
      ]
    },
    {
      "cell_type": "code",
      "source": [
        "matrix = np.eye(4)\n",
        "print(matrix)\n",
        "result = np.diagonal(matrix)\n",
        "print(result)"
      ],
      "metadata": {
        "colab": {
          "base_uri": "https://localhost:8080/"
        },
        "id": "Xnye0jlsUK7k",
        "outputId": "edc01997-36bd-4df2-eff7-3e1d15fbff12"
      },
      "execution_count": null,
      "outputs": [
        {
          "output_type": "stream",
          "name": "stdout",
          "text": [
            "[[1. 0. 0. 0.]\n",
            " [0. 1. 0. 0.]\n",
            " [0. 0. 1. 0.]\n",
            " [0. 0. 0. 1.]]\n",
            "[1. 1. 1. 1.]\n"
          ]
        }
      ]
    },
    {
      "cell_type": "code",
      "source": [],
      "metadata": {
        "id": "MSthOD6T3ux8"
      },
      "execution_count": null,
      "outputs": []
    },
    {
      "cell_type": "markdown",
      "source": [
        "Pandas-MCQ1"
      ],
      "metadata": {
        "id": "b2dfvJ3E3yCj"
      }
    },
    {
      "cell_type": "markdown",
      "source": [
        "Pandas-MCQ2"
      ],
      "metadata": {
        "id": "wEgYuK1K3zBz"
      }
    },
    {
      "cell_type": "markdown",
      "source": [
        "Pandas-MCQ3"
      ],
      "metadata": {
        "id": "PYz8HbvK3ztk"
      }
    },
    {
      "cell_type": "markdown",
      "source": [
        "Pandas-MCQ4"
      ],
      "metadata": {
        "id": "ewDqYdPl4B9Y"
      }
    },
    {
      "cell_type": "markdown",
      "source": [
        "Pandas-MCQ5"
      ],
      "metadata": {
        "id": "BRwc3NCg4Dcq"
      }
    },
    {
      "cell_type": "markdown",
      "source": [
        "Pandas-MCQ6"
      ],
      "metadata": {
        "id": "ge1sqq_t4F2U"
      }
    },
    {
      "cell_type": "markdown",
      "source": [
        "Pandas-MCQ7"
      ],
      "metadata": {
        "id": "JQqTej2z4HgV"
      }
    },
    {
      "cell_type": "markdown",
      "source": [
        "Pandas-MCQ8"
      ],
      "metadata": {
        "id": "NWItt_lY4JrI"
      }
    },
    {
      "cell_type": "markdown",
      "source": [
        "Pandas-MCQ9"
      ],
      "metadata": {
        "id": "45zknzPe4Miy"
      }
    },
    {
      "cell_type": "markdown",
      "source": [
        "Pandas-MCQ10"
      ],
      "metadata": {
        "id": "tuP6ei6o4PEu"
      }
    },
    {
      "cell_type": "markdown",
      "source": [
        "Pandas-FF1\n",
        "\n",
        "Write a Python program using Pandas to create a DataFrame from the given data and calculate the average rating of movies directed by Christopher Nolan.\n",
        "\n",
        "\n",
        "data = {\n",
        "    'Title': ['Inception', 'Dunkirk', 'Interstellar', 'The Prestige', 'Memento'],\n",
        "    'Director': ['Christopher Nolan', 'Christopher Nolan', 'Christopher Nolan', 'Christopher Nolan', 'Christopher Nolan'],\n",
        "    'Rating': [8.8, 7.9, 8.6, 8.5, 8.4]\n",
        "}\n"
      ],
      "metadata": {
        "id": "AA97uhFk5ekg"
      }
    },
    {
      "cell_type": "markdown",
      "source": [
        "Pandas-FF2\n",
        "\n",
        "Given the following DataFrame, write a Python program using Pandas to extract all rows where the price is greater than or equal to 20,000 and sort them in descending order by price.\n",
        "\n",
        "data = {\n",
        "    'Product': ['Laptop', 'Desktop', 'Tablet', 'Phone', 'Smartwatch'],\n",
        "    'Price': [25000, 12000, 8000, 22000, 5000]\n",
        "}\n",
        "\n",
        "df = pd.DataFrame(data)\n"
      ],
      "metadata": {
        "id": "Y4146ODf5n0s"
      }
    },
    {
      "cell_type": "markdown",
      "source": [
        "Pandas-FF3\n",
        "\n",
        "Write a Python program using Pandas to create a DataFrame from the given data and find the total revenue and average price of items sold in each store.\n",
        "\n",
        "data = {\n",
        "    'Store': ['A', 'B', 'A', 'B', 'A', 'B', 'A', 'B'],\n",
        "    'Item': ['Apple', 'Banana', 'Orange', 'Grape', 'Apple', 'Banana', 'Orange', 'Grape'],\n",
        "    'Price': [50, 20, 30, 60, 55, 22, 33, 65],\n",
        "    'Quantity': [10, 12, 15, 16, 20, 25, 30, 35]\n",
        "}"
      ],
      "metadata": {
        "id": "goKirqid5pbW"
      }
    },
    {
      "cell_type": "markdown",
      "source": [
        "Pandas-FF4\n",
        "\n",
        "Write a Python program using Pandas to create a DataFrame from the given data and calculate the total amount spent by each customer.\n",
        "\n",
        "data = {\n",
        "    'Customer': ['Alice', 'Bob', 'Alice', 'Alice', 'Bob', 'Bob', 'Alice', 'Bob'],\n",
        "    'Item': ['Pen', 'Pencil', 'Notebook', 'Eraser', 'Pen', 'Pencil', 'Notebook', 'Eraser'],\n",
        "    'Price': [10, 5, 50, 20, 10, 5, 50, 20],\n",
        "    'Quantity': [3, 4, 2, 5, 10, 6, 1, 2]\n",
        "}"
      ],
      "metadata": {
        "id": "YlA3Sknr5rXE"
      }
    },
    {
      "cell_type": "markdown",
      "source": [
        "Pandas-FF5\n",
        "\n",
        "Write a Python program using Pandas to create a DataFrame from the given data and find the month with the highest average temperature.\n",
        "\n",
        "data = {\n",
        "    'Month': ['Jan', 'Feb', 'Mar', 'Apr', 'May', 'Jun', 'Jul', 'Aug', 'Sep', 'Oct', 'Nov', 'Dec'],\n",
        "    'Temperature': [20, 22, 25, 27, 30, 32, 35, 34, 30, 28, 24, 21]\n",
        "}\n",
        "\n",
        "df = pd.DataFrame(data)\n",
        "\n"
      ],
      "metadata": {
        "id": "aLFdqx035stf"
      }
    },
    {
      "cell_type": "markdown",
      "source": [
        "Pandas-FF6\n",
        "\n",
        "Given the following DataFrame and code snippet, predict the output of the code.\n",
        "\n",
        "data = {\n",
        "    'Category': ['Fruit', 'Vegetable', 'Fruit', 'Vegetable', 'Fruit', 'Vegetable'],\n",
        "    'Name': ['Apple', 'Carrot', 'Banana', 'Potato', 'Grape', 'Onion'],\n",
        "    'Price': [2, 1, 1.5, 0.5, 3, 1],\n",
        "    'Quantity': [10, 20, 15, 30, 5, 40]\n",
        "}\n",
        "\n",
        "df = pd.DataFrame(data)\n",
        "\n",
        "fruits = df[df['Category'] == 'Fruit']\n",
        "total_fruit_value = fruits['Price'].sum() * fruits['Quantity'].sum()\n",
        "print(total_fruit_value)\n"
      ],
      "metadata": {
        "id": "6FMewRC06OaX"
      }
    },
    {
      "cell_type": "markdown",
      "source": [
        "Pandas-FF7\n",
        "\n",
        "Given the following DataFrame and code snippet, predict the output of the code.\n",
        "\n",
        "import pandas as pd\n",
        "\n",
        "data = {\n",
        "    'Name': ['Alice', 'Bob', 'Charlie', 'David'],\n",
        "    'Age': [25, 30, 35, 40],\n",
        "    'City': ['New York', 'San Francisco', 'Los Angeles', 'Chicago']\n",
        "}\n",
        "\n",
        "df = pd.DataFrame(data)\n",
        "\n",
        "result = df[df['Age'] >= 30].sort_values(by='Age', ascending=False).iloc[0]['City']\n",
        "print(result)"
      ],
      "metadata": {
        "id": "Xnu5WRHt5udt"
      }
    },
    {
      "cell_type": "markdown",
      "source": [
        "Pandas-FF8\n",
        "\n",
        "Given the following DataFrame and code snippet, predict the output of the code.\n",
        "\n",
        "import pandas as pd\n",
        "\n",
        "data = {\n",
        "    'Product': ['A', 'B', 'C', 'A', 'B', 'C'],\n",
        "    'Price': [100, 200, 300, 150, 250, 350],\n",
        "    'Quantity': [10, 5, 7, 12, 8, 5]\n",
        "}\n",
        "\n",
        "df = pd.DataFrame(data)\n",
        "\n",
        "total_revenue = (df['Price'] * df['Quantity']).sum()\n",
        "average_price = df['Price'].mean()\n",
        "print(total_revenue, average_price)"
      ],
      "metadata": {
        "id": "8sgFiGVP5wIR"
      }
    },
    {
      "cell_type": "markdown",
      "source": [
        "Pandas-FF9\n",
        "\n",
        "Write a Python program using Pandas to create a DataFrame from the given data and find the total amount spent per item, as well as the total amount spent by all customers.\n",
        "\n",
        "data = {\n",
        "    'Customer': ['Alice', 'Bob', 'Alice', 'Alice', 'Bob', 'Bob', 'Alice', 'Bob'],\n",
        "    'Item': ['Pen', 'Pencil', 'Notebook', 'Eraser', 'Pen', 'Pencil', 'Notebook', 'Eraser'],\n",
        "    'Price': [10, 5, 50, 20, 10, 5, 50, 20],\n",
        "    'Quantity': [3, 4, 2, 5, 10, 6, 1, 2]\n",
        "}"
      ],
      "metadata": {
        "id": "AnXgjS4B5ynr"
      }
    },
    {
      "cell_type": "markdown",
      "source": [
        "Pandas-FF10\n",
        "\n",
        " Write a Python program using Pandas to create a DataFrame from the given data and calculate the monthly average temperature difference between two cities.\n",
        "\n",
        "data = {\n",
        "    'Month': ['Jan', 'Feb', 'Mar', 'Apr', 'May', 'Jun', 'Jul', 'Aug', 'Sep', 'Oct', 'Nov', 'Dec'],\n",
        "    'City_A_Temp': [20, 22, 25, 27, 30, 32, 35, 34, 30, 28, 24, 21],\n",
        "    'City_B_Temp': [10, 12, 15, 17, 20, 22, 25, 24, 20, 18, 14, 11]\n",
        "}\n",
        "\n",
        "df = pd.DataFrame(data)\n"
      ],
      "metadata": {
        "id": "TYh0o6Oe5gXn"
      }
    }
  ]
}