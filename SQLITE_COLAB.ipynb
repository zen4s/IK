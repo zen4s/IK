{
  "nbformat": 4,
  "nbformat_minor": 0,
  "metadata": {
    "colab": {
      "provenance": [],
      "authorship_tag": "ABX9TyOZeJVmluuGkyPvxp7nswUr"
    },
    "kernelspec": {
      "name": "python3",
      "display_name": "Python 3"
    },
    "language_info": {
      "name": "python"
    }
  },
  "cells": [
    {
      "cell_type": "markdown",
      "source": [
        "Working with SQLITE on COLAB\n"
      ],
      "metadata": {
        "id": "2rajPQcaPg2w"
      }
    },
    {
      "cell_type": "code",
      "source": [
        "%load_ext sql"
      ],
      "metadata": {
        "id": "PmwEMEBnO4oZ"
      },
      "execution_count": 1,
      "outputs": []
    },
    {
      "cell_type": "code",
      "execution_count": 3,
      "metadata": {
        "id": "7Qh5WWOZ41Di"
      },
      "outputs": [],
      "source": [
        "#Creates empty DB test.db\n",
        "%%sql\n",
        "sqlite:///test.db"
      ]
    },
    {
      "cell_type": "markdown",
      "source": [],
      "metadata": {
        "id": "ocATLMPiPfoV"
      }
    }
  ]
}