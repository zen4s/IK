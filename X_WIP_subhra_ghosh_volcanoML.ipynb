{
  "cells": [
    {
      "cell_type": "markdown",
      "metadata": {
        "id": "view-in-github",
        "colab_type": "text"
      },
      "source": [
        "<a href=\"https://colab.research.google.com/github/zen4s/IK/blob/master/X_WIP_subhra_ghosh_volcanoML.ipynb\" target=\"_parent\"><img src=\"https://colab.research.google.com/assets/colab-badge.svg\" alt=\"Open In Colab\"/></a>"
      ]
    },
    {
      "cell_type": "markdown",
      "metadata": {
        "id": "-O8P1ZAd7HHJ"
      },
      "source": [
        "Your Full Name - Subhra Ghosh\n",
        "\n",
        "Your Uplevel Email Address - b206423@gmail.com\n",
        "\n",
        "**Name of the Problem Statement of Submission** -\n"
      ]
    },
    {
      "cell_type": "markdown",
      "metadata": {
        "id": "1zlN8dVz6inV"
      },
      "source": [
        "# Mini ML Project 1 - Volcano ML (MLSU August 2023)\n"
      ]
    },
    {
      "cell_type": "code",
      "execution_count": null,
      "metadata": {
        "id": "nZ2Kt4v56iB8"
      },
      "outputs": [],
      "source": [
        "import numpy as np\n",
        "import pandas as pd\n",
        "import matplotlib.pyplot as plt\n",
        "import re\n",
        "import glob\n",
        "import csv"
      ]
    },
    {
      "cell_type": "code",
      "execution_count": null,
      "metadata": {
        "colab": {
          "base_uri": "https://localhost:8080/"
        },
        "id": "xiJKrJ1cjc-W",
        "outputId": "71c4aedf-6eb0-4829-a10e-7fe1609c8a6e"
      },
      "outputs": [
        {
          "name": "stdout",
          "output_type": "stream",
          "text": [
            "Mounted at /gdrive\n",
            "/gdrive\n"
          ]
        }
      ],
      "source": [
        "from google.colab import drive\n",
        "drive.mount('/gdrive')\n",
        "%cd /gdrive"
      ]
    },
    {
      "cell_type": "code",
      "execution_count": null,
      "metadata": {
        "id": "XH_6zMViYlFU"
      },
      "outputs": [],
      "source": [
        "import os\n",
        "\n",
        "def get_subdirectory_names(directory_path):\n",
        "  \"\"\"Returns an array of names of subdirectories in the given directory.\"\"\"\n",
        "\n",
        "  subdirectory_names = []\n",
        "  for entry in os.listdir(directory_path):\n",
        "    full_path = os.path.join(directory_path, entry)\n",
        "    if os.path.isdir(full_path):\n",
        "      subdirectory_names.append(entry)\n",
        "\n",
        "  subdirectory_names.sort()  # Sort the list of names\n",
        "\n",
        "  return subdirectory_names"
      ]
    },
    {
      "cell_type": "code",
      "execution_count": null,
      "metadata": {
        "id": "gs0KDIWivH1C"
      },
      "outputs": [],
      "source": [
        "#Convert Nano Radiant to scientific_notation Convertor\n",
        "def nrad_to_scientific(nardstr):\n",
        "\n",
        "  # Extract the numeric part and unit\n",
        "  match = re.match(r\"([0-9\\.]+)nrad\", nardstr)\n",
        "  if match:\n",
        "    radians = float(match.group(1)) * 1e-9\n",
        "    scientific_notation = f\"{radians:.6e}\"\n",
        "    return(scientific_notation)\n",
        "  else:\n",
        "    raise ValueError(f\"Invalid format for nanoradian string: {tilt_sensor_value}\")"
      ]
    },
    {
      "cell_type": "code",
      "execution_count": null,
      "metadata": {
        "id": "moQz52OLdupf"
      },
      "outputs": [],
      "source": [
        "#Convert Nano Radiant for Tilt Angle at Eruption into its scentific format for use in graphs (as it repsents data at time greater than zero)\n",
        "\n",
        "def df_nrad_to_num(df_nard):\n",
        "  # Access the tilt_sensor value and its index\n",
        "  tilt_sensor_value = df_nard.loc[df_nard[0] == 'tilt_erupt', 1].iloc[0]\n",
        "  tilt_sensor_index = df_nard.index[df_nard[0] == 'tilt_erupt'].tolist()[0]  # Get the first index\n",
        "\n",
        "  # Update the value directly using at\n",
        "  df_nard.at[tilt_sensor_index, 1] = nrad_to_scientific(tilt_sensor_value)\n",
        "\n",
        "  return(df_nard)"
      ]
    },
    {
      "cell_type": "code",
      "execution_count": null,
      "metadata": {
        "colab": {
          "base_uri": "https://localhost:8080/"
        },
        "id": "xZoLVHS8zcwL",
        "outputId": "5b31fbbd-b77c-4a62-a2cc-d692b24d783b"
      },
      "outputs": [
        {
          "name": "stdout",
          "output_type": "stream",
          "text": [
            "['Poissons Ratio' 'Atmospheric Pressure' 'Gravity'\n",
            " 'Radial Distance Tilt Station' 'Shear Modulus' 'Magma Density'\n",
            " 'Magma Viscosity' 'Conduit Radius' 'Gas Mass' 'Standard Deviation'\n",
            " 'Tilt Angle at Eruption (nrad)']\n"
          ]
        }
      ],
      "source": [
        "# create a dictionary of Sensor Parameters\n",
        "dict_sensor_parm = {\n",
        "    'v': 'Poissons Ratio',\n",
        "    'Patm': 'Atmospheric Pressure',\n",
        "    'g': 'Gravity',\n",
        "    'r': 'Radial Distance Tilt Station',\n",
        "    'G': 'Shear Modulus',\n",
        "    'rho': 'Magma Density',\n",
        "    'mu': 'Magma Viscosity',\n",
        "    'rc': 'Conduit Radius',\n",
        "    'M': 'Gas Mass',\n",
        "    'sigma': 'Standard Deviation',\n",
        "    'tilt_erupt': 'Tilt Angle at Eruption (nrad)',\n",
        "}\n",
        "parm_full_name = np.array(list(dict_sensor_parm .values()))\n",
        "print(parm_full_name)\n"
      ]
    },
    {
      "cell_type": "code",
      "execution_count": null,
      "metadata": {
        "colab": {
          "base_uri": "https://localhost:8080/"
        },
        "id": "x5oh7RWKh3eE",
        "outputId": "2cb9637c-e0de-4620-83b4-01761caef982"
      },
      "outputs": [
        {
          "name": "stdout",
          "output_type": "stream",
          "text": [
            "['Volcano1', 'Volcano10', 'Volcano2', 'Volcano3', 'Volcano4', 'Volcano5', 'Volcano6', 'Volcano7', 'Volcano8', 'Volcano9']\n"
          ]
        }
      ],
      "source": [
        "# Example usage:\n",
        "directory_path = '/gdrive/MyDrive/IK/datasets/proj/volcano/' # Replace with the actual path\n",
        "volcano_names = get_subdirectory_names(directory_path)\n",
        "print(volcano_names)"
      ]
    },
    {
      "cell_type": "code",
      "execution_count": null,
      "metadata": {
        "colab": {
          "base_uri": "https://localhost:8080/",
          "height": 143
        },
        "id": "L7PRLDLChh2e",
        "outputId": "453f5772-b72d-4796-db83-42a785c8c61a"
      },
      "outputs": [
        {
          "data": {
            "text/html": [
              "\n",
              "  <div id=\"df-0a038255-68e7-42a8-8638-8e400fb5f329\" class=\"colab-df-container\">\n",
              "    <div>\n",
              "<style scoped>\n",
              "    .dataframe tbody tr th:only-of-type {\n",
              "        vertical-align: middle;\n",
              "    }\n",
              "\n",
              "    .dataframe tbody tr th {\n",
              "        vertical-align: top;\n",
              "    }\n",
              "\n",
              "    .dataframe thead th {\n",
              "        text-align: right;\n",
              "    }\n",
              "</style>\n",
              "<table border=\"1\" class=\"dataframe\">\n",
              "  <thead>\n",
              "    <tr style=\"text-align: right;\">\n",
              "      <th></th>\n",
              "      <th>id</th>\n",
              "      <th>0</th>\n",
              "      <th>1</th>\n",
              "    </tr>\n",
              "  </thead>\n",
              "  <tbody>\n",
              "    <tr>\n",
              "      <th>0</th>\n",
              "      <td>XX</td>\n",
              "      <td>1.0</td>\n",
              "      <td>a</td>\n",
              "    </tr>\n",
              "    <tr>\n",
              "      <th>1</th>\n",
              "      <td>XX</td>\n",
              "      <td>2.0</td>\n",
              "      <td>b</td>\n",
              "    </tr>\n",
              "    <tr>\n",
              "      <th>2</th>\n",
              "      <td>XX</td>\n",
              "      <td>3.0</td>\n",
              "      <td>c</td>\n",
              "    </tr>\n",
              "  </tbody>\n",
              "</table>\n",
              "</div>\n",
              "    <div class=\"colab-df-buttons\">\n",
              "\n",
              "  <div class=\"colab-df-container\">\n",
              "    <button class=\"colab-df-convert\" onclick=\"convertToInteractive('df-0a038255-68e7-42a8-8638-8e400fb5f329')\"\n",
              "            title=\"Convert this dataframe to an interactive table.\"\n",
              "            style=\"display:none;\">\n",
              "\n",
              "  <svg xmlns=\"http://www.w3.org/2000/svg\" height=\"24px\" viewBox=\"0 -960 960 960\">\n",
              "    <path d=\"M120-120v-720h720v720H120Zm60-500h600v-160H180v160Zm220 220h160v-160H400v160Zm0 220h160v-160H400v160ZM180-400h160v-160H180v160Zm440 0h160v-160H620v160ZM180-180h160v-160H180v160Zm440 0h160v-160H620v160Z\"/>\n",
              "  </svg>\n",
              "    </button>\n",
              "\n",
              "  <style>\n",
              "    .colab-df-container {\n",
              "      display:flex;\n",
              "      gap: 12px;\n",
              "    }\n",
              "\n",
              "    .colab-df-convert {\n",
              "      background-color: #E8F0FE;\n",
              "      border: none;\n",
              "      border-radius: 50%;\n",
              "      cursor: pointer;\n",
              "      display: none;\n",
              "      fill: #1967D2;\n",
              "      height: 32px;\n",
              "      padding: 0 0 0 0;\n",
              "      width: 32px;\n",
              "    }\n",
              "\n",
              "    .colab-df-convert:hover {\n",
              "      background-color: #E2EBFA;\n",
              "      box-shadow: 0px 1px 2px rgba(60, 64, 67, 0.3), 0px 1px 3px 1px rgba(60, 64, 67, 0.15);\n",
              "      fill: #174EA6;\n",
              "    }\n",
              "\n",
              "    .colab-df-buttons div {\n",
              "      margin-bottom: 4px;\n",
              "    }\n",
              "\n",
              "    [theme=dark] .colab-df-convert {\n",
              "      background-color: #3B4455;\n",
              "      fill: #D2E3FC;\n",
              "    }\n",
              "\n",
              "    [theme=dark] .colab-df-convert:hover {\n",
              "      background-color: #434B5C;\n",
              "      box-shadow: 0px 1px 3px 1px rgba(0, 0, 0, 0.15);\n",
              "      filter: drop-shadow(0px 1px 2px rgba(0, 0, 0, 0.3));\n",
              "      fill: #FFFFFF;\n",
              "    }\n",
              "  </style>\n",
              "\n",
              "    <script>\n",
              "      const buttonEl =\n",
              "        document.querySelector('#df-0a038255-68e7-42a8-8638-8e400fb5f329 button.colab-df-convert');\n",
              "      buttonEl.style.display =\n",
              "        google.colab.kernel.accessAllowed ? 'block' : 'none';\n",
              "\n",
              "      async function convertToInteractive(key) {\n",
              "        const element = document.querySelector('#df-0a038255-68e7-42a8-8638-8e400fb5f329');\n",
              "        const dataTable =\n",
              "          await google.colab.kernel.invokeFunction('convertToInteractive',\n",
              "                                                    [key], {});\n",
              "        if (!dataTable) return;\n",
              "\n",
              "        const docLinkHtml = 'Like what you see? Visit the ' +\n",
              "          '<a target=\"_blank\" href=https://colab.research.google.com/notebooks/data_table.ipynb>data table notebook</a>'\n",
              "          + ' to learn more about interactive tables.';\n",
              "        element.innerHTML = '';\n",
              "        dataTable['output_type'] = 'display_data';\n",
              "        await google.colab.output.renderOutput(dataTable, element);\n",
              "        const docLink = document.createElement('div');\n",
              "        docLink.innerHTML = docLinkHtml;\n",
              "        element.appendChild(docLink);\n",
              "      }\n",
              "    </script>\n",
              "  </div>\n",
              "\n",
              "\n",
              "<div id=\"df-9d8dfc29-de1b-4628-828c-bb45268d05e7\">\n",
              "  <button class=\"colab-df-quickchart\" onclick=\"quickchart('df-9d8dfc29-de1b-4628-828c-bb45268d05e7')\"\n",
              "            title=\"Suggest charts\"\n",
              "            style=\"display:none;\">\n",
              "\n",
              "<svg xmlns=\"http://www.w3.org/2000/svg\" height=\"24px\"viewBox=\"0 0 24 24\"\n",
              "     width=\"24px\">\n",
              "    <g>\n",
              "        <path d=\"M19 3H5c-1.1 0-2 .9-2 2v14c0 1.1.9 2 2 2h14c1.1 0 2-.9 2-2V5c0-1.1-.9-2-2-2zM9 17H7v-7h2v7zm4 0h-2V7h2v10zm4 0h-2v-4h2v4z\"/>\n",
              "    </g>\n",
              "</svg>\n",
              "  </button>\n",
              "\n",
              "<style>\n",
              "  .colab-df-quickchart {\n",
              "      --bg-color: #E8F0FE;\n",
              "      --fill-color: #1967D2;\n",
              "      --hover-bg-color: #E2EBFA;\n",
              "      --hover-fill-color: #174EA6;\n",
              "      --disabled-fill-color: #AAA;\n",
              "      --disabled-bg-color: #DDD;\n",
              "  }\n",
              "\n",
              "  [theme=dark] .colab-df-quickchart {\n",
              "      --bg-color: #3B4455;\n",
              "      --fill-color: #D2E3FC;\n",
              "      --hover-bg-color: #434B5C;\n",
              "      --hover-fill-color: #FFFFFF;\n",
              "      --disabled-bg-color: #3B4455;\n",
              "      --disabled-fill-color: #666;\n",
              "  }\n",
              "\n",
              "  .colab-df-quickchart {\n",
              "    background-color: var(--bg-color);\n",
              "    border: none;\n",
              "    border-radius: 50%;\n",
              "    cursor: pointer;\n",
              "    display: none;\n",
              "    fill: var(--fill-color);\n",
              "    height: 32px;\n",
              "    padding: 0;\n",
              "    width: 32px;\n",
              "  }\n",
              "\n",
              "  .colab-df-quickchart:hover {\n",
              "    background-color: var(--hover-bg-color);\n",
              "    box-shadow: 0 1px 2px rgba(60, 64, 67, 0.3), 0 1px 3px 1px rgba(60, 64, 67, 0.15);\n",
              "    fill: var(--button-hover-fill-color);\n",
              "  }\n",
              "\n",
              "  .colab-df-quickchart-complete:disabled,\n",
              "  .colab-df-quickchart-complete:disabled:hover {\n",
              "    background-color: var(--disabled-bg-color);\n",
              "    fill: var(--disabled-fill-color);\n",
              "    box-shadow: none;\n",
              "  }\n",
              "\n",
              "  .colab-df-spinner {\n",
              "    border: 2px solid var(--fill-color);\n",
              "    border-color: transparent;\n",
              "    border-bottom-color: var(--fill-color);\n",
              "    animation:\n",
              "      spin 1s steps(1) infinite;\n",
              "  }\n",
              "\n",
              "  @keyframes spin {\n",
              "    0% {\n",
              "      border-color: transparent;\n",
              "      border-bottom-color: var(--fill-color);\n",
              "      border-left-color: var(--fill-color);\n",
              "    }\n",
              "    20% {\n",
              "      border-color: transparent;\n",
              "      border-left-color: var(--fill-color);\n",
              "      border-top-color: var(--fill-color);\n",
              "    }\n",
              "    30% {\n",
              "      border-color: transparent;\n",
              "      border-left-color: var(--fill-color);\n",
              "      border-top-color: var(--fill-color);\n",
              "      border-right-color: var(--fill-color);\n",
              "    }\n",
              "    40% {\n",
              "      border-color: transparent;\n",
              "      border-right-color: var(--fill-color);\n",
              "      border-top-color: var(--fill-color);\n",
              "    }\n",
              "    60% {\n",
              "      border-color: transparent;\n",
              "      border-right-color: var(--fill-color);\n",
              "    }\n",
              "    80% {\n",
              "      border-color: transparent;\n",
              "      border-right-color: var(--fill-color);\n",
              "      border-bottom-color: var(--fill-color);\n",
              "    }\n",
              "    90% {\n",
              "      border-color: transparent;\n",
              "      border-bottom-color: var(--fill-color);\n",
              "    }\n",
              "  }\n",
              "</style>\n",
              "\n",
              "  <script>\n",
              "    async function quickchart(key) {\n",
              "      const quickchartButtonEl =\n",
              "        document.querySelector('#' + key + ' button');\n",
              "      quickchartButtonEl.disabled = true;  // To prevent multiple clicks.\n",
              "      quickchartButtonEl.classList.add('colab-df-spinner');\n",
              "      try {\n",
              "        const charts = await google.colab.kernel.invokeFunction(\n",
              "            'suggestCharts', [key], {});\n",
              "      } catch (error) {\n",
              "        console.error('Error during call to suggestCharts:', error);\n",
              "      }\n",
              "      quickchartButtonEl.classList.remove('colab-df-spinner');\n",
              "      quickchartButtonEl.classList.add('colab-df-quickchart-complete');\n",
              "    }\n",
              "    (() => {\n",
              "      let quickchartButtonEl =\n",
              "        document.querySelector('#df-9d8dfc29-de1b-4628-828c-bb45268d05e7 button');\n",
              "      quickchartButtonEl.style.display =\n",
              "        google.colab.kernel.accessAllowed ? 'block' : 'none';\n",
              "    })();\n",
              "  </script>\n",
              "</div>\n",
              "\n",
              "  <div id=\"id_95a1f97c-6e27-40b2-bc48-43a27593e036\">\n",
              "    <style>\n",
              "      .colab-df-generate {\n",
              "        background-color: #E8F0FE;\n",
              "        border: none;\n",
              "        border-radius: 50%;\n",
              "        cursor: pointer;\n",
              "        display: none;\n",
              "        fill: #1967D2;\n",
              "        height: 32px;\n",
              "        padding: 0 0 0 0;\n",
              "        width: 32px;\n",
              "      }\n",
              "\n",
              "      .colab-df-generate:hover {\n",
              "        background-color: #E2EBFA;\n",
              "        box-shadow: 0px 1px 2px rgba(60, 64, 67, 0.3), 0px 1px 3px 1px rgba(60, 64, 67, 0.15);\n",
              "        fill: #174EA6;\n",
              "      }\n",
              "\n",
              "      [theme=dark] .colab-df-generate {\n",
              "        background-color: #3B4455;\n",
              "        fill: #D2E3FC;\n",
              "      }\n",
              "\n",
              "      [theme=dark] .colab-df-generate:hover {\n",
              "        background-color: #434B5C;\n",
              "        box-shadow: 0px 1px 3px 1px rgba(0, 0, 0, 0.15);\n",
              "        filter: drop-shadow(0px 1px 2px rgba(0, 0, 0, 0.3));\n",
              "        fill: #FFFFFF;\n",
              "      }\n",
              "    </style>\n",
              "    <button class=\"colab-df-generate\" onclick=\"generateWithVariable('df2_timeline')\"\n",
              "            title=\"Generate code using this dataframe.\"\n",
              "            style=\"display:none;\">\n",
              "\n",
              "  <svg xmlns=\"http://www.w3.org/2000/svg\" height=\"24px\"viewBox=\"0 0 24 24\"\n",
              "       width=\"24px\">\n",
              "    <path d=\"M7,19H8.4L18.45,9,17,7.55,7,17.6ZM5,21V16.75L18.45,3.32a2,2,0,0,1,2.83,0l1.4,1.43a1.91,1.91,0,0,1,.58,1.4,1.91,1.91,0,0,1-.58,1.4L9.25,21ZM18.45,9,17,7.55Zm-12,3A5.31,5.31,0,0,0,4.9,8.1,5.31,5.31,0,0,0,1,6.5,5.31,5.31,0,0,0,4.9,4.9,5.31,5.31,0,0,0,6.5,1,5.31,5.31,0,0,0,8.1,4.9,5.31,5.31,0,0,0,12,6.5,5.46,5.46,0,0,0,6.5,12Z\"/>\n",
              "  </svg>\n",
              "    </button>\n",
              "    <script>\n",
              "      (() => {\n",
              "      const buttonEl =\n",
              "        document.querySelector('#id_95a1f97c-6e27-40b2-bc48-43a27593e036 button.colab-df-generate');\n",
              "      buttonEl.style.display =\n",
              "        google.colab.kernel.accessAllowed ? 'block' : 'none';\n",
              "\n",
              "      buttonEl.onclick = () => {\n",
              "        google.colab.notebook.generateWithVariable('df2_timeline');\n",
              "      }\n",
              "      })();\n",
              "    </script>\n",
              "  </div>\n",
              "\n",
              "    </div>\n",
              "  </div>\n"
            ],
            "text/plain": [
              "   id    0  1\n",
              "0  XX  1.0  a\n",
              "1  XX  2.0  b\n",
              "2  XX  3.0  c"
            ]
          },
          "execution_count": 8,
          "metadata": {},
          "output_type": "execute_result"
        }
      ],
      "source": [
        "df1_timeline = pd.DataFrame({0: [1, 2, 3], 1: ['a', 'b', 'c']})\n",
        "\n",
        "df2_timeline = pd.DataFrame(columns=['id'])\n",
        "df2_timeline = pd.concat([df2_timeline , df1_timeline], ignore_index=True)\n",
        "\n",
        "df2_timeline['id'] = 'XX'\n",
        "df2_timeline"
      ]
    },
    {
      "cell_type": "code",
      "execution_count": null,
      "metadata": {
        "colab": {
          "background_save": true
        },
        "id": "Iii5TSbNIBXW",
        "outputId": "b6ede28d-6e18-444a-8950-393087e08491"
      },
      "outputs": [
        {
          "name": "stdout",
          "output_type": "stream",
          "text": [
            "df_sensor_meta:\n",
            "     parameters Volcano9_obs_1 Volcano9_obs_2 Volcano9_obs_3 Volcano9_obs_4  \\\n",
            "0            v           0.25           0.25           0.25           0.25   \n",
            "1         Patm         100000         100000         100000         100000   \n",
            "2            g           9.81           9.81           9.81           9.81   \n",
            "3            r            500            500            500            500   \n",
            "4            G       10^11.44       10^11.44       10^11.44       10^11.44   \n",
            "5          rho           2400           2400           2400           2400   \n",
            "6           mu        10^4.55        10^4.55        10^4.55        10^4.55   \n",
            "7           rc             15             15             15             15   \n",
            "8            M         10^5.9         10^5.9         10^5.9         10^6.3   \n",
            "9        sigma            0.1           0.25            0.5           0.25   \n",
            "10  tilt_erupt   1.152900e-09   1.152900e-09   1.152900e-09   2.012500e-09   \n",
            "\n",
            "   Volcano9_obs_5 Volcano9_obs_6 Volcano9_obs_7 Volcano9_obs_8 Volcano9_obs_9  \\\n",
            "0            0.25           0.25           0.25           0.25           0.25   \n",
            "1          100000         100000         100000         100000         100000   \n",
            "2            9.81           9.81           9.81           9.81           9.81   \n",
            "3             500            500            500            500            500   \n",
            "4        10^11.44       10^11.44       10^11.44       10^11.44       10^11.44   \n",
            "5            2400           2400           2400           2400           2400   \n",
            "6         10^4.55        10^4.55        10^4.55        10^4.55        10^4.55   \n",
            "7              15             15             15             15             15   \n",
            "8          10^6.3         10^6.3        10^5.91        10^5.91        10^5.91   \n",
            "9             0.1            0.5           0.25            0.1            0.5   \n",
            "10   2.012500e-09   2.012500e-09   1.204500e-09   1.204500e-09   1.204500e-09   \n",
            "\n",
            "   Volcano9_obs_10 Volcano9_obs_11 Volcano9_obs_12  \n",
            "0             0.25            0.25            0.25  \n",
            "1           100000          100000          100000  \n",
            "2             9.81            9.81            9.81  \n",
            "3              500             500             500  \n",
            "4         10^11.44        10^11.44        10^11.44  \n",
            "5             2400            2400            2400  \n",
            "6          10^4.55         10^4.55         10^4.55  \n",
            "7               15              15              15  \n",
            "8          10^6.12         10^6.12         10^6.12  \n",
            "9              0.1            0.25             0.5  \n",
            "10    1.582100e-09    1.582100e-09    1.582100e-09  \n",
            "dfs_timeline:\n",
            "         time  time_Volcano1_obs_1  s_Volcano1_obs_1  time_Volcano1_obs_2  \\\n",
            "0        0.0                  0.0      3.215824e-09                  0.0   \n",
            "1       -1.0                 -1.0      2.746501e-09                 -1.0   \n",
            "2       -2.0                 -2.0      2.390970e-09                 -2.0   \n",
            "3       -3.0                 -3.0      1.985431e-09                 -3.0   \n",
            "4       -4.0                 -4.0      1.609824e-09                 -4.0   \n",
            "...      ...                  ...               ...                  ...   \n",
            "1661 -1661.0                  0.0      0.000000e+00                  0.0   \n",
            "1662 -1662.0                  0.0      0.000000e+00                  0.0   \n",
            "1663 -1663.0                  0.0      0.000000e+00                  0.0   \n",
            "1664 -1664.0                  0.0      0.000000e+00                  0.0   \n",
            "1665 -1665.0                  0.0      0.000000e+00                  0.0   \n",
            "\n",
            "      s_Volcano1_obs_2  time_Volcano1_obs_3  s_Volcano1_obs_3  \\\n",
            "0         2.693709e-09                  0.0      2.822080e-09   \n",
            "1         2.536098e-09                 -1.0      2.361730e-09   \n",
            "2         2.092652e-09                 -2.0      1.604247e-09   \n",
            "3         2.139587e-09                 -3.0      2.157700e-09   \n",
            "4         1.695865e-09                 -4.0      1.934484e-09   \n",
            "...                ...                  ...               ...   \n",
            "1661      0.000000e+00                  0.0      0.000000e+00   \n",
            "1662      0.000000e+00                  0.0      0.000000e+00   \n",
            "1663      0.000000e+00                  0.0      0.000000e+00   \n",
            "1664      0.000000e+00                  0.0      0.000000e+00   \n",
            "1665      0.000000e+00                  0.0      0.000000e+00   \n",
            "\n",
            "      time_Volcano1_obs_4  s_Volcano1_obs_4  time_Volcano1_obs_5  ...  \\\n",
            "0                     0.0      6.749010e-09                  0.0  ...   \n",
            "1                    -1.0      6.194296e-09                 -1.0  ...   \n",
            "2                    -2.0      5.616931e-09                 -2.0  ...   \n",
            "3                    -3.0      5.121538e-09                 -3.0  ...   \n",
            "4                    -4.0      4.497787e-09                 -4.0  ...   \n",
            "...                   ...               ...                  ...  ...   \n",
            "1661                  0.0      0.000000e+00                  0.0  ...   \n",
            "1662                  0.0      0.000000e+00                  0.0  ...   \n",
            "1663                  0.0      0.000000e+00                  0.0  ...   \n",
            "1664                  0.0      0.000000e+00                  0.0  ...   \n",
            "1665                  0.0      0.000000e+00                  0.0  ...   \n",
            "\n",
            "      time_Volcano9_obs_8  s_Volcano9_obs_8  time_Volcano9_obs_9  \\\n",
            "0                     0.0      1.240014e-09                  0.0   \n",
            "1                    -1.0      1.275382e-09                 -1.0   \n",
            "2                    -2.0      1.182042e-09                 -2.0   \n",
            "3                    -3.0      9.946629e-10                 -3.0   \n",
            "4                    -4.0      1.101099e-09                 -4.0   \n",
            "...                   ...               ...                  ...   \n",
            "1661                  0.0      0.000000e+00                  0.0   \n",
            "1662                  0.0      0.000000e+00                  0.0   \n",
            "1663                  0.0      0.000000e+00                  0.0   \n",
            "1664                  0.0      0.000000e+00                  0.0   \n",
            "1665                  0.0      0.000000e+00                  0.0   \n",
            "\n",
            "      s_Volcano9_obs_9  time_Volcano9_obs_10  s_Volcano9_obs_10  \\\n",
            "0         1.043285e-09                   0.0       1.629548e-09   \n",
            "1         1.190009e-09                  -1.0       1.346101e-09   \n",
            "2         1.082893e-09                  -2.0       1.496785e-09   \n",
            "3         1.042613e-09                  -3.0       1.615883e-09   \n",
            "4         1.062846e-09                  -4.0       1.349780e-09   \n",
            "...                ...                   ...                ...   \n",
            "1661      0.000000e+00                   0.0       0.000000e+00   \n",
            "1662      0.000000e+00                   0.0       0.000000e+00   \n",
            "1663      0.000000e+00                   0.0       0.000000e+00   \n",
            "1664      0.000000e+00                   0.0       0.000000e+00   \n",
            "1665      0.000000e+00                   0.0       0.000000e+00   \n",
            "\n",
            "      time_Volcano9_obs_11  s_Volcano9_obs_11  time_Volcano9_obs_12  \\\n",
            "0                      0.0       1.583240e-09                   0.0   \n",
            "1                     -1.0       1.646410e-09                  -1.0   \n",
            "2                     -2.0       1.545174e-09                  -2.0   \n",
            "3                     -3.0       1.544626e-09                  -3.0   \n",
            "4                     -4.0       1.479810e-09                  -4.0   \n",
            "...                    ...                ...                   ...   \n",
            "1661                   0.0       0.000000e+00                   0.0   \n",
            "1662                   0.0       0.000000e+00                   0.0   \n",
            "1663                   0.0       0.000000e+00                   0.0   \n",
            "1664                   0.0       0.000000e+00                   0.0   \n",
            "1665                   0.0       0.000000e+00                   0.0   \n",
            "\n",
            "      s_Volcano9_obs_12  \n",
            "0          1.638080e-09  \n",
            "1          2.297608e-09  \n",
            "2          9.932948e-10  \n",
            "3          8.307329e-10  \n",
            "4          1.697631e-09  \n",
            "...                 ...  \n",
            "1661       0.000000e+00  \n",
            "1662       0.000000e+00  \n",
            "1663       0.000000e+00  \n",
            "1664       0.000000e+00  \n",
            "1665       0.000000e+00  \n",
            "\n",
            "[1666 rows x 379 columns]\n",
            "dfs_timeline_Seq:\n",
            "                      id    time  sensor_reading\n",
            "0        Volcano1_obs_1 -1052.0   -4.877751e-12\n",
            "1        Volcano1_obs_1 -1051.0   -5.417697e-11\n",
            "2        Volcano1_obs_1 -1050.0    6.289086e-11\n",
            "3        Volcano1_obs_1 -1049.0    8.049237e-11\n",
            "4        Volcano1_obs_1 -1048.0    1.697267e-10\n",
            "...                 ...     ...             ...\n",
            "242633  Volcano9_obs_12    -5.0    1.493256e-09\n",
            "242634  Volcano9_obs_12    -4.0    1.697631e-09\n",
            "242635  Volcano9_obs_12    -3.0    8.307329e-10\n",
            "242636  Volcano9_obs_12    -2.0    9.932948e-10\n",
            "242637  Volcano9_obs_12    -1.0    2.297608e-09\n",
            "\n",
            "[242638 rows x 3 columns]\n"
          ]
        },
        {
          "name": "stderr",
          "output_type": "stream",
          "text": [
            "<ipython-input-9-481b4b9212f5>:81: PerformanceWarning: DataFrame is highly fragmented.  This is usually the result of calling `frame.insert` many times, which has poor performance.  Consider joining all columns at once using pd.concat(axis=1) instead. To get a de-fragmented frame, use `newframe = frame.copy()`\n",
            "  dfs_timeline.insert(0, 'time', longest_timeline_list)\n"
          ]
        }
      ],
      "source": [
        "import pandas as pd    # Import pandas for data manipulation\n",
        "import glob            # Import glob for finding files\n",
        "import csv             # Import csv for reading text files\n",
        "\n",
        "# **Pre-allocate DataFrames for storing data**\n",
        "dfs_timeline = pd.DataFrame()               # Combined timeline data from all files\n",
        "dfs_timeline_seq_with_id = pd.DataFrame()   # Timeline data with sequential IDs\n",
        "df_sensor_timeline = pd.DataFrame()         # Sensor metadata\n",
        "min_time = 0                                # Variable to track the earliest time\n",
        "\n",
        "for volcano_name in volcano_names:\n",
        "  #Folder name / Volcano name\n",
        "  observationloc = directory_path + volcano_name +'/'\n",
        "  # **Find all .txt files in the specified directory**\n",
        "  observation_files = glob.glob(observationloc + '/*.txt')\n",
        "  observation_count = 1                       # Counter for observation files\n",
        "\n",
        "  # **Process each observation file**\n",
        "  for file in observation_files:\n",
        "      # **Create unique column names for each observation**\n",
        "      obs_col_name = f'{volcano_name}_obs_{observation_count}'    # Column name for observation values\n",
        "      sensor_col_name = f's_{obs_col_name}'                       # Column name for sensor values\n",
        "      time_col_name = f'time_{obs_col_name}'                      # Column name for time values\n",
        "\n",
        "      # **Read the file, skipping empty lines**\n",
        "      with open(file, 'r') as f:\n",
        "          non_empty_lines = [line.strip() for line in f if line.strip()]  # Filter empty lines\n",
        "          all_rows = list(csv.reader(non_empty_lines))\n",
        "\n",
        "      # **Separate metadata and timeline data**\n",
        "      df1 = pd.DataFrame(all_rows[:11])  # Sensor metadata (first 11 rows)\n",
        "      df1_timeline = pd.DataFrame(all_rows[11:])  # Tilt sensor timeline (remaining rows)\n",
        "      df1_timeline = df1_timeline.apply(pd.to_numeric, errors='coerce')  # Convert to numeric\n",
        "\n",
        "      df2_timeline = pd.DataFrame(columns=['id'])\n",
        "      # **Transpose timeline data for easier manipulation**\n",
        "      df1_timeline = df1_timeline.T\n",
        "      df2_timeline = pd.concat([df2_timeline , df1_timeline], ignore_index=True)\n",
        "      df2_timeline['id'] = obs_col_name\n",
        "      df2_timeline = df2_timeline.rename(columns={0: 'time', 1 : 'sensor_reading'})\n",
        "\n",
        "      # **Sort timeline data in descending order (as it's negative) and reset index**\n",
        "      df1_timeline = df1_timeline.sort_values(by=0, ascending=False).reset_index(drop=True)\n",
        "\n",
        "      # **Get the earliest time and track the longest timeline**\n",
        "      first_sensor_time = float(df1_timeline.iloc[-1, 0])\n",
        "      if min_time > first_sensor_time:\n",
        "          min_time = first_sensor_time\n",
        "          longest_timeline_list = df1_timeline.iloc[:, 0].tolist()\n",
        "\n",
        "      # **Rename columns for clarity**\n",
        "      df1_timeline = df1_timeline.rename(columns={0: time_col_name, 1: sensor_col_name})\n",
        "\n",
        "      # **Convert nrad to scientific notation (function not shown)**\n",
        "      df1 = df_nrad_to_num(df1)  # Assuming this function is defined elsewhere\n",
        "\n",
        "      # **Rename metadata columns**\n",
        "      df1 = df1.rename(columns={0: 'parameters', 1: obs_col_name})\n",
        "\n",
        "      # **Combine sensor metadata from all files into a single DataFrame**\n",
        "      if observation_count == 1:\n",
        "          df_sensor_meta = df1.copy()\n",
        "      else:\n",
        "          #df_sensor_meta = pd.concat([df_sensor_meta, df1], ignore_index=True)\n",
        "          dict = df1.set_index('parameters').to_dict()[obs_col_name]\n",
        "          df_sensor_meta[obs_col_name] = df_sensor_meta['parameters'].apply(lambda x: dict[x])\n",
        "\n",
        "      # **Append timeline data to the combined DataFrame**\n",
        "      dfs_timeline = pd.concat([dfs_timeline, df1_timeline], axis=1)\n",
        "\n",
        "      observation_count += 1\n",
        "\n",
        "      # **Remove sensor data with time = 0**\n",
        "      mask = df2_timeline['time'] != 0\n",
        "      df2_timeline = df2_timeline[mask]\n",
        "\n",
        "      #Add Sequential ID to df timeline data\n",
        "      dfs_timeline_seq_with_id = pd.concat([dfs_timeline_seq_with_id, df2_timeline], ignore_index=True)\n",
        "\n",
        "#Insert Timedata from the timeline with longest time slice\n",
        "dfs_timeline.insert(0, 'time', longest_timeline_list)\n",
        "\n",
        "#Drop other timelines once max timeline is inserted\n",
        "#for i in range(observation_count-1):\n",
        "#  dfs_timeline.pop(f'time_obs_{i+1}')\n",
        "\n",
        "# Print results\n",
        "print(\"df_sensor_meta:\\n\",df_sensor_meta)\n",
        "\n",
        "#fill all NaN with Zeros\n",
        "dfs_timeline = dfs_timeline.fillna(0)\n",
        "\n",
        "print(\"dfs_timeline:\\n\", dfs_timeline)\n",
        "print(\"dfs_timeline_Seq:\\n\", dfs_timeline_seq_with_id)\n"
      ]
    },
    {
      "cell_type": "code",
      "execution_count": null,
      "metadata": {
        "colab": {
          "background_save": true
        },
        "id": "Z-UmDaUALauI",
        "outputId": "0b3c3cb3-212c-4914-de48-d5588fc571ac"
      },
      "outputs": [
        {
          "data": {
            "text/plain": [
              "array(['Volcano1_obs_1', 'Volcano1_obs_2', 'Volcano1_obs_3',\n",
              "       'Volcano1_obs_4', 'Volcano1_obs_5', 'Volcano1_obs_6',\n",
              "       'Volcano1_obs_7', 'Volcano1_obs_8', 'Volcano1_obs_9',\n",
              "       'Volcano1_obs_10', 'Volcano1_obs_11', 'Volcano1_obs_12',\n",
              "       'Volcano10_obs_1', 'Volcano10_obs_2', 'Volcano10_obs_3',\n",
              "       'Volcano10_obs_4', 'Volcano10_obs_5', 'Volcano10_obs_6',\n",
              "       'Volcano10_obs_7', 'Volcano10_obs_8', 'Volcano10_obs_9',\n",
              "       'Volcano10_obs_10', 'Volcano10_obs_11', 'Volcano10_obs_12',\n",
              "       'Volcano10_obs_13', 'Volcano10_obs_14', 'Volcano10_obs_15',\n",
              "       'Volcano10_obs_16', 'Volcano10_obs_17', 'Volcano10_obs_18',\n",
              "       'Volcano10_obs_19', 'Volcano10_obs_20', 'Volcano10_obs_21',\n",
              "       'Volcano10_obs_22', 'Volcano10_obs_23', 'Volcano10_obs_24',\n",
              "       'Volcano10_obs_25', 'Volcano10_obs_26', 'Volcano10_obs_27',\n",
              "       'Volcano10_obs_28', 'Volcano10_obs_29', 'Volcano10_obs_30',\n",
              "       'Volcano2_obs_1', 'Volcano2_obs_2', 'Volcano2_obs_3',\n",
              "       'Volcano2_obs_4', 'Volcano2_obs_5', 'Volcano2_obs_6',\n",
              "       'Volcano2_obs_7', 'Volcano2_obs_8', 'Volcano2_obs_9',\n",
              "       'Volcano2_obs_10', 'Volcano2_obs_11', 'Volcano2_obs_12',\n",
              "       'Volcano2_obs_13', 'Volcano2_obs_14', 'Volcano2_obs_15',\n",
              "       'Volcano2_obs_16', 'Volcano2_obs_17', 'Volcano2_obs_18',\n",
              "       'Volcano2_obs_19', 'Volcano2_obs_20', 'Volcano2_obs_21',\n",
              "       'Volcano2_obs_22', 'Volcano2_obs_23', 'Volcano2_obs_24',\n",
              "       'Volcano2_obs_25', 'Volcano2_obs_26', 'Volcano2_obs_27',\n",
              "       'Volcano3_obs_1', 'Volcano3_obs_2', 'Volcano3_obs_3',\n",
              "       'Volcano3_obs_4', 'Volcano3_obs_5', 'Volcano3_obs_6',\n",
              "       'Volcano3_obs_7', 'Volcano3_obs_8', 'Volcano3_obs_9',\n",
              "       'Volcano3_obs_10', 'Volcano3_obs_11', 'Volcano3_obs_12',\n",
              "       'Volcano3_obs_13', 'Volcano3_obs_14', 'Volcano3_obs_15',\n",
              "       'Volcano3_obs_16', 'Volcano3_obs_17', 'Volcano3_obs_18',\n",
              "       'Volcano3_obs_19', 'Volcano3_obs_20', 'Volcano3_obs_21',\n",
              "       'Volcano3_obs_22', 'Volcano3_obs_23', 'Volcano3_obs_24',\n",
              "       'Volcano3_obs_25', 'Volcano3_obs_26', 'Volcano3_obs_27',\n",
              "       'Volcano3_obs_28', 'Volcano3_obs_29', 'Volcano3_obs_30',\n",
              "       'Volcano4_obs_1', 'Volcano4_obs_2', 'Volcano4_obs_3',\n",
              "       'Volcano4_obs_4', 'Volcano4_obs_5', 'Volcano4_obs_6',\n",
              "       'Volcano4_obs_7', 'Volcano4_obs_8', 'Volcano4_obs_9',\n",
              "       'Volcano4_obs_10', 'Volcano4_obs_11', 'Volcano4_obs_12',\n",
              "       'Volcano4_obs_13', 'Volcano4_obs_14', 'Volcano4_obs_15',\n",
              "       'Volcano5_obs_1', 'Volcano5_obs_2', 'Volcano5_obs_3',\n",
              "       'Volcano6_obs_1', 'Volcano6_obs_2', 'Volcano6_obs_3',\n",
              "       'Volcano6_obs_4', 'Volcano6_obs_5', 'Volcano6_obs_6',\n",
              "       'Volcano6_obs_7', 'Volcano6_obs_8', 'Volcano6_obs_9',\n",
              "       'Volcano6_obs_10', 'Volcano6_obs_11', 'Volcano6_obs_12',\n",
              "       'Volcano6_obs_13', 'Volcano6_obs_14', 'Volcano6_obs_15',\n",
              "       'Volcano6_obs_16', 'Volcano6_obs_17', 'Volcano6_obs_18',\n",
              "       'Volcano6_obs_19', 'Volcano6_obs_20', 'Volcano6_obs_21',\n",
              "       'Volcano6_obs_22', 'Volcano6_obs_23', 'Volcano6_obs_24',\n",
              "       'Volcano6_obs_25', 'Volcano6_obs_26', 'Volcano6_obs_27',\n",
              "       'Volcano7_obs_1', 'Volcano7_obs_2', 'Volcano7_obs_3',\n",
              "       'Volcano7_obs_4', 'Volcano7_obs_5', 'Volcano7_obs_6',\n",
              "       'Volcano7_obs_7', 'Volcano7_obs_8', 'Volcano7_obs_9',\n",
              "       'Volcano7_obs_10', 'Volcano7_obs_11', 'Volcano7_obs_12',\n",
              "       'Volcano8_obs_1', 'Volcano8_obs_2', 'Volcano8_obs_3',\n",
              "       'Volcano8_obs_4', 'Volcano8_obs_5', 'Volcano8_obs_6',\n",
              "       'Volcano8_obs_7', 'Volcano8_obs_8', 'Volcano8_obs_9',\n",
              "       'Volcano8_obs_10', 'Volcano8_obs_11', 'Volcano8_obs_12',\n",
              "       'Volcano8_obs_13', 'Volcano8_obs_14', 'Volcano8_obs_15',\n",
              "       'Volcano8_obs_16', 'Volcano8_obs_17', 'Volcano8_obs_18',\n",
              "       'Volcano8_obs_19', 'Volcano8_obs_20', 'Volcano8_obs_21',\n",
              "       'Volcano9_obs_1', 'Volcano9_obs_2', 'Volcano9_obs_3',\n",
              "       'Volcano9_obs_4', 'Volcano9_obs_5', 'Volcano9_obs_6',\n",
              "       'Volcano9_obs_7', 'Volcano9_obs_8', 'Volcano9_obs_9',\n",
              "       'Volcano9_obs_10', 'Volcano9_obs_11', 'Volcano9_obs_12'],\n",
              "      dtype=object)"
            ]
          },
          "execution_count": 10,
          "metadata": {},
          "output_type": "execute_result"
        }
      ],
      "source": [
        "dfs_timeline_seq_with_id['id'].unique()"
      ]
    },
    {
      "cell_type": "code",
      "execution_count": null,
      "metadata": {
        "colab": {
          "background_save": true
        },
        "id": "AG6lY7N_rwG2",
        "outputId": "26f662a7-f2f0-446a-c307-a3e60de31b9c"
      },
      "outputs": [
        {
          "name": "stdout",
          "output_type": "stream",
          "text": [
            "                      description  parameters Volcano9_obs_1 Volcano9_obs_2  \\\n",
            "0                  Poissons Ratio           v           0.25           0.25   \n",
            "1            Atmospheric Pressure        Patm         100000         100000   \n",
            "2                         Gravity           g           9.81           9.81   \n",
            "3    Radial Distance Tilt Station           r            500            500   \n",
            "4                   Shear Modulus           G       10^11.44       10^11.44   \n",
            "5                   Magma Density         rho           2400           2400   \n",
            "6                 Magma Viscosity          mu        10^4.55        10^4.55   \n",
            "7                  Conduit Radius          rc             15             15   \n",
            "8                        Gas Mass           M         10^5.9         10^5.9   \n",
            "9              Standard Deviation       sigma            0.1           0.25   \n",
            "10  Tilt Angle at Eruption (nrad)  tilt_erupt   1.152900e-09   1.152900e-09   \n",
            "\n",
            "   Volcano9_obs_3 Volcano9_obs_4 Volcano9_obs_5 Volcano9_obs_6 Volcano9_obs_7  \\\n",
            "0            0.25           0.25           0.25           0.25           0.25   \n",
            "1          100000         100000         100000         100000         100000   \n",
            "2            9.81           9.81           9.81           9.81           9.81   \n",
            "3             500            500            500            500            500   \n",
            "4        10^11.44       10^11.44       10^11.44       10^11.44       10^11.44   \n",
            "5            2400           2400           2400           2400           2400   \n",
            "6         10^4.55        10^4.55        10^4.55        10^4.55        10^4.55   \n",
            "7              15             15             15             15             15   \n",
            "8          10^5.9         10^6.3         10^6.3         10^6.3        10^5.91   \n",
            "9             0.5           0.25            0.1            0.5           0.25   \n",
            "10   1.152900e-09   2.012500e-09   2.012500e-09   2.012500e-09   1.204500e-09   \n",
            "\n",
            "   Volcano9_obs_8 Volcano9_obs_9 Volcano9_obs_10 Volcano9_obs_11  \\\n",
            "0            0.25           0.25            0.25            0.25   \n",
            "1          100000         100000          100000          100000   \n",
            "2            9.81           9.81            9.81            9.81   \n",
            "3             500            500             500             500   \n",
            "4        10^11.44       10^11.44        10^11.44        10^11.44   \n",
            "5            2400           2400            2400            2400   \n",
            "6         10^4.55        10^4.55         10^4.55         10^4.55   \n",
            "7              15             15              15              15   \n",
            "8         10^5.91        10^5.91         10^6.12         10^6.12   \n",
            "9             0.1            0.5             0.1            0.25   \n",
            "10   1.204500e-09   1.204500e-09    1.582100e-09    1.582100e-09   \n",
            "\n",
            "   Volcano9_obs_12  \n",
            "0             0.25  \n",
            "1           100000  \n",
            "2             9.81  \n",
            "3              500  \n",
            "4         10^11.44  \n",
            "5             2400  \n",
            "6          10^4.55  \n",
            "7               15  \n",
            "8          10^6.12  \n",
            "9              0.5  \n",
            "10    1.582100e-09  \n"
          ]
        }
      ],
      "source": [
        "df_sensor_meta.insert(0, 'description', df_sensor_meta['parameters'].map(dict_sensor_parm))\n",
        "\n",
        "# Print the DataFrame with sendor metadata\n",
        "print(df_sensor_meta)"
      ]
    },
    {
      "cell_type": "code",
      "execution_count": null,
      "metadata": {
        "colab": {
          "background_save": true
        },
        "id": "-ivUSwbyjeHQ",
        "outputId": "20548f91-8eb4-4f87-bbad-1412b2ee96b7"
      },
      "outputs": [
        {
          "ename": "FileNotFoundError",
          "evalue": "[Errno 2] No such file or directory: '/gdrive/MyDrive/IK/datasets/proj/volcano/Volcano9/V1observation1.dat'",
          "output_type": "error",
          "traceback": [
            "\u001b[0;31m---------------------------------------------------------------------------\u001b[0m",
            "\u001b[0;31mFileNotFoundError\u001b[0m                         Traceback (most recent call last)",
            "\u001b[0;32m<ipython-input-12-d8a696b5582d>\u001b[0m in \u001b[0;36m<cell line: 2>\u001b[0;34m()\u001b[0m\n\u001b[1;32m      1\u001b[0m \u001b[0;31m# Read the first 10 rows of the sensor metadata into a DataFrame\u001b[0m\u001b[0;34m\u001b[0m\u001b[0;34m\u001b[0m\u001b[0m\n\u001b[0;32m----> 2\u001b[0;31m \u001b[0mdf_sensor\u001b[0m \u001b[0;34m=\u001b[0m \u001b[0mpd\u001b[0m\u001b[0;34m.\u001b[0m\u001b[0mread_csv\u001b[0m\u001b[0;34m(\u001b[0m\u001b[0mobservationloc\u001b[0m\u001b[0;34m+\u001b[0m\u001b[0;34m'V1observation1.dat'\u001b[0m\u001b[0;34m,\u001b[0m \u001b[0mnrows\u001b[0m\u001b[0;34m=\u001b[0m\u001b[0;36m11\u001b[0m\u001b[0;34m,\u001b[0m \u001b[0mheader\u001b[0m\u001b[0;34m=\u001b[0m\u001b[0;32mNone\u001b[0m\u001b[0;34m,\u001b[0m \u001b[0mindex_col\u001b[0m\u001b[0;34m=\u001b[0m\u001b[0;32mFalse\u001b[0m\u001b[0;34m)\u001b[0m\u001b[0;34m\u001b[0m\u001b[0;34m\u001b[0m\u001b[0m\n\u001b[0m\u001b[1;32m      3\u001b[0m \u001b[0;34m\u001b[0m\u001b[0m\n\u001b[1;32m      4\u001b[0m \u001b[0;31m# Print the DataFrame with sendor metadata\u001b[0m\u001b[0;34m\u001b[0m\u001b[0;34m\u001b[0m\u001b[0m\n\u001b[1;32m      5\u001b[0m \u001b[0mprint\u001b[0m\u001b[0;34m(\u001b[0m\u001b[0mdf_sensor\u001b[0m\u001b[0;34m,\u001b[0m\u001b[0;34m\"\\n\"\u001b[0m\u001b[0;34m)\u001b[0m\u001b[0;34m\u001b[0m\u001b[0;34m\u001b[0m\u001b[0m\n",
            "\u001b[0;32m/usr/local/lib/python3.10/dist-packages/pandas/util/_decorators.py\u001b[0m in \u001b[0;36mwrapper\u001b[0;34m(*args, **kwargs)\u001b[0m\n\u001b[1;32m    209\u001b[0m                 \u001b[0;32melse\u001b[0m\u001b[0;34m:\u001b[0m\u001b[0;34m\u001b[0m\u001b[0;34m\u001b[0m\u001b[0m\n\u001b[1;32m    210\u001b[0m                     \u001b[0mkwargs\u001b[0m\u001b[0;34m[\u001b[0m\u001b[0mnew_arg_name\u001b[0m\u001b[0;34m]\u001b[0m \u001b[0;34m=\u001b[0m \u001b[0mnew_arg_value\u001b[0m\u001b[0;34m\u001b[0m\u001b[0;34m\u001b[0m\u001b[0m\n\u001b[0;32m--> 211\u001b[0;31m             \u001b[0;32mreturn\u001b[0m \u001b[0mfunc\u001b[0m\u001b[0;34m(\u001b[0m\u001b[0;34m*\u001b[0m\u001b[0margs\u001b[0m\u001b[0;34m,\u001b[0m \u001b[0;34m**\u001b[0m\u001b[0mkwargs\u001b[0m\u001b[0;34m)\u001b[0m\u001b[0;34m\u001b[0m\u001b[0;34m\u001b[0m\u001b[0m\n\u001b[0m\u001b[1;32m    212\u001b[0m \u001b[0;34m\u001b[0m\u001b[0m\n\u001b[1;32m    213\u001b[0m         \u001b[0;32mreturn\u001b[0m \u001b[0mcast\u001b[0m\u001b[0;34m(\u001b[0m\u001b[0mF\u001b[0m\u001b[0;34m,\u001b[0m \u001b[0mwrapper\u001b[0m\u001b[0;34m)\u001b[0m\u001b[0;34m\u001b[0m\u001b[0;34m\u001b[0m\u001b[0m\n",
            "\u001b[0;32m/usr/local/lib/python3.10/dist-packages/pandas/util/_decorators.py\u001b[0m in \u001b[0;36mwrapper\u001b[0;34m(*args, **kwargs)\u001b[0m\n\u001b[1;32m    329\u001b[0m                     \u001b[0mstacklevel\u001b[0m\u001b[0;34m=\u001b[0m\u001b[0mfind_stack_level\u001b[0m\u001b[0;34m(\u001b[0m\u001b[0;34m)\u001b[0m\u001b[0;34m,\u001b[0m\u001b[0;34m\u001b[0m\u001b[0;34m\u001b[0m\u001b[0m\n\u001b[1;32m    330\u001b[0m                 )\n\u001b[0;32m--> 331\u001b[0;31m             \u001b[0;32mreturn\u001b[0m \u001b[0mfunc\u001b[0m\u001b[0;34m(\u001b[0m\u001b[0;34m*\u001b[0m\u001b[0margs\u001b[0m\u001b[0;34m,\u001b[0m \u001b[0;34m**\u001b[0m\u001b[0mkwargs\u001b[0m\u001b[0;34m)\u001b[0m\u001b[0;34m\u001b[0m\u001b[0;34m\u001b[0m\u001b[0m\n\u001b[0m\u001b[1;32m    332\u001b[0m \u001b[0;34m\u001b[0m\u001b[0m\n\u001b[1;32m    333\u001b[0m         \u001b[0;31m# error: \"Callable[[VarArg(Any), KwArg(Any)], Any]\" has no\u001b[0m\u001b[0;34m\u001b[0m\u001b[0;34m\u001b[0m\u001b[0m\n",
            "\u001b[0;32m/usr/local/lib/python3.10/dist-packages/pandas/io/parsers/readers.py\u001b[0m in \u001b[0;36mread_csv\u001b[0;34m(filepath_or_buffer, sep, delimiter, header, names, index_col, usecols, squeeze, prefix, mangle_dupe_cols, dtype, engine, converters, true_values, false_values, skipinitialspace, skiprows, skipfooter, nrows, na_values, keep_default_na, na_filter, verbose, skip_blank_lines, parse_dates, infer_datetime_format, keep_date_col, date_parser, dayfirst, cache_dates, iterator, chunksize, compression, thousands, decimal, lineterminator, quotechar, quoting, doublequote, escapechar, comment, encoding, encoding_errors, dialect, error_bad_lines, warn_bad_lines, on_bad_lines, delim_whitespace, low_memory, memory_map, float_precision, storage_options)\u001b[0m\n\u001b[1;32m    948\u001b[0m     \u001b[0mkwds\u001b[0m\u001b[0;34m.\u001b[0m\u001b[0mupdate\u001b[0m\u001b[0;34m(\u001b[0m\u001b[0mkwds_defaults\u001b[0m\u001b[0;34m)\u001b[0m\u001b[0;34m\u001b[0m\u001b[0;34m\u001b[0m\u001b[0m\n\u001b[1;32m    949\u001b[0m \u001b[0;34m\u001b[0m\u001b[0m\n\u001b[0;32m--> 950\u001b[0;31m     \u001b[0;32mreturn\u001b[0m \u001b[0m_read\u001b[0m\u001b[0;34m(\u001b[0m\u001b[0mfilepath_or_buffer\u001b[0m\u001b[0;34m,\u001b[0m \u001b[0mkwds\u001b[0m\u001b[0;34m)\u001b[0m\u001b[0;34m\u001b[0m\u001b[0;34m\u001b[0m\u001b[0m\n\u001b[0m\u001b[1;32m    951\u001b[0m \u001b[0;34m\u001b[0m\u001b[0m\n\u001b[1;32m    952\u001b[0m \u001b[0;34m\u001b[0m\u001b[0m\n",
            "\u001b[0;32m/usr/local/lib/python3.10/dist-packages/pandas/io/parsers/readers.py\u001b[0m in \u001b[0;36m_read\u001b[0;34m(filepath_or_buffer, kwds)\u001b[0m\n\u001b[1;32m    603\u001b[0m \u001b[0;34m\u001b[0m\u001b[0m\n\u001b[1;32m    604\u001b[0m     \u001b[0;31m# Create the parser.\u001b[0m\u001b[0;34m\u001b[0m\u001b[0;34m\u001b[0m\u001b[0m\n\u001b[0;32m--> 605\u001b[0;31m     \u001b[0mparser\u001b[0m \u001b[0;34m=\u001b[0m \u001b[0mTextFileReader\u001b[0m\u001b[0;34m(\u001b[0m\u001b[0mfilepath_or_buffer\u001b[0m\u001b[0;34m,\u001b[0m \u001b[0;34m**\u001b[0m\u001b[0mkwds\u001b[0m\u001b[0;34m)\u001b[0m\u001b[0;34m\u001b[0m\u001b[0;34m\u001b[0m\u001b[0m\n\u001b[0m\u001b[1;32m    606\u001b[0m \u001b[0;34m\u001b[0m\u001b[0m\n\u001b[1;32m    607\u001b[0m     \u001b[0;32mif\u001b[0m \u001b[0mchunksize\u001b[0m \u001b[0;32mor\u001b[0m \u001b[0miterator\u001b[0m\u001b[0;34m:\u001b[0m\u001b[0;34m\u001b[0m\u001b[0;34m\u001b[0m\u001b[0m\n",
            "\u001b[0;32m/usr/local/lib/python3.10/dist-packages/pandas/io/parsers/readers.py\u001b[0m in \u001b[0;36m__init__\u001b[0;34m(self, f, engine, **kwds)\u001b[0m\n\u001b[1;32m   1440\u001b[0m \u001b[0;34m\u001b[0m\u001b[0m\n\u001b[1;32m   1441\u001b[0m         \u001b[0mself\u001b[0m\u001b[0;34m.\u001b[0m\u001b[0mhandles\u001b[0m\u001b[0;34m:\u001b[0m \u001b[0mIOHandles\u001b[0m \u001b[0;34m|\u001b[0m \u001b[0;32mNone\u001b[0m \u001b[0;34m=\u001b[0m \u001b[0;32mNone\u001b[0m\u001b[0;34m\u001b[0m\u001b[0;34m\u001b[0m\u001b[0m\n\u001b[0;32m-> 1442\u001b[0;31m         \u001b[0mself\u001b[0m\u001b[0;34m.\u001b[0m\u001b[0m_engine\u001b[0m \u001b[0;34m=\u001b[0m \u001b[0mself\u001b[0m\u001b[0;34m.\u001b[0m\u001b[0m_make_engine\u001b[0m\u001b[0;34m(\u001b[0m\u001b[0mf\u001b[0m\u001b[0;34m,\u001b[0m \u001b[0mself\u001b[0m\u001b[0;34m.\u001b[0m\u001b[0mengine\u001b[0m\u001b[0;34m)\u001b[0m\u001b[0;34m\u001b[0m\u001b[0;34m\u001b[0m\u001b[0m\n\u001b[0m\u001b[1;32m   1443\u001b[0m \u001b[0;34m\u001b[0m\u001b[0m\n\u001b[1;32m   1444\u001b[0m     \u001b[0;32mdef\u001b[0m \u001b[0mclose\u001b[0m\u001b[0;34m(\u001b[0m\u001b[0mself\u001b[0m\u001b[0;34m)\u001b[0m \u001b[0;34m->\u001b[0m \u001b[0;32mNone\u001b[0m\u001b[0;34m:\u001b[0m\u001b[0;34m\u001b[0m\u001b[0;34m\u001b[0m\u001b[0m\n",
            "\u001b[0;32m/usr/local/lib/python3.10/dist-packages/pandas/io/parsers/readers.py\u001b[0m in \u001b[0;36m_make_engine\u001b[0;34m(self, f, engine)\u001b[0m\n\u001b[1;32m   1733\u001b[0m                 \u001b[0;32mif\u001b[0m \u001b[0;34m\"b\"\u001b[0m \u001b[0;32mnot\u001b[0m \u001b[0;32min\u001b[0m \u001b[0mmode\u001b[0m\u001b[0;34m:\u001b[0m\u001b[0;34m\u001b[0m\u001b[0;34m\u001b[0m\u001b[0m\n\u001b[1;32m   1734\u001b[0m                     \u001b[0mmode\u001b[0m \u001b[0;34m+=\u001b[0m \u001b[0;34m\"b\"\u001b[0m\u001b[0;34m\u001b[0m\u001b[0;34m\u001b[0m\u001b[0m\n\u001b[0;32m-> 1735\u001b[0;31m             self.handles = get_handle(\n\u001b[0m\u001b[1;32m   1736\u001b[0m                 \u001b[0mf\u001b[0m\u001b[0;34m,\u001b[0m\u001b[0;34m\u001b[0m\u001b[0;34m\u001b[0m\u001b[0m\n\u001b[1;32m   1737\u001b[0m                 \u001b[0mmode\u001b[0m\u001b[0;34m,\u001b[0m\u001b[0;34m\u001b[0m\u001b[0;34m\u001b[0m\u001b[0m\n",
            "\u001b[0;32m/usr/local/lib/python3.10/dist-packages/pandas/io/common.py\u001b[0m in \u001b[0;36mget_handle\u001b[0;34m(path_or_buf, mode, encoding, compression, memory_map, is_text, errors, storage_options)\u001b[0m\n\u001b[1;32m    854\u001b[0m         \u001b[0;32mif\u001b[0m \u001b[0mioargs\u001b[0m\u001b[0;34m.\u001b[0m\u001b[0mencoding\u001b[0m \u001b[0;32mand\u001b[0m \u001b[0;34m\"b\"\u001b[0m \u001b[0;32mnot\u001b[0m \u001b[0;32min\u001b[0m \u001b[0mioargs\u001b[0m\u001b[0;34m.\u001b[0m\u001b[0mmode\u001b[0m\u001b[0;34m:\u001b[0m\u001b[0;34m\u001b[0m\u001b[0;34m\u001b[0m\u001b[0m\n\u001b[1;32m    855\u001b[0m             \u001b[0;31m# Encoding\u001b[0m\u001b[0;34m\u001b[0m\u001b[0;34m\u001b[0m\u001b[0m\n\u001b[0;32m--> 856\u001b[0;31m             handle = open(\n\u001b[0m\u001b[1;32m    857\u001b[0m                 \u001b[0mhandle\u001b[0m\u001b[0;34m,\u001b[0m\u001b[0;34m\u001b[0m\u001b[0;34m\u001b[0m\u001b[0m\n\u001b[1;32m    858\u001b[0m                 \u001b[0mioargs\u001b[0m\u001b[0;34m.\u001b[0m\u001b[0mmode\u001b[0m\u001b[0;34m,\u001b[0m\u001b[0;34m\u001b[0m\u001b[0;34m\u001b[0m\u001b[0m\n",
            "\u001b[0;31mFileNotFoundError\u001b[0m: [Errno 2] No such file or directory: '/gdrive/MyDrive/IK/datasets/proj/volcano/Volcano9/V1observation1.dat'"
          ]
        }
      ],
      "source": [
        "# Read the first 10 rows of the sensor metadata into a DataFrame\n",
        "df_sensor = pd.read_csv(observationloc+'V1observation1.dat', nrows=11, header=None, index_col=False)\n",
        "\n",
        "# Print the DataFrame with sendor metadata\n",
        "print(df_sensor,\"\\n\")\n",
        "\n",
        "#Covert the nano radient to number and rename the columns\n",
        "df_sensor = df_nrad_to_num(df_sensor).rename(columns={0: 'parameters', 1: 'obs'})\n",
        "print(df_sensor)"
      ]
    },
    {
      "cell_type": "markdown",
      "metadata": {
        "id": "tkHc23QTzgiY"
      },
      "source": [
        "**Poisson's Ratio (v):**\n",
        "Relevant to the elasticity of the volcanic material.\n",
        "Determines the ratio of lateral contraction to longitudinal extension.\n",
        "\n",
        "**Atmospheric Pressure (Patm):**\n",
        "Influences the pressure conditions in the atmosphere.\n",
        "Atmospheric pressure can impact the behavior of volcanic gases and magma.\n",
        "\n",
        "**Gravity (g):**\n",
        "The gravitational force experienced at the surface of the volcano.\n",
        "Gravity affects the movement and dynamics of magma within the volcanic conduit.\n",
        "\n",
        "**Radial Distance Tilt Station (r):**\n",
        "Represents the radial distance of a tilt station from the volcano.\n",
        "Tilt stations measure ground tilt, providing insights into volcanic activity.\n",
        "\n",
        "**Shear Modulus (G):**\n",
        "Related to the material's resistance to shear deformation.\n",
        "Affects the ability of volcanic material to deform under stress.\n",
        "\n",
        "**Magma Density (rho):**\n",
        "Represents the density of the magma.\n",
        "Magma density influences its behavior and flow dynamics.\n",
        "\n",
        "**Magma Viscosity (mu):**\n",
        "Describes the resistance of magma to flow.\n",
        "Viscosity affects the speed and style of volcanic eruptions.\n",
        "\n",
        "**Conduit Radius (rc):**\n",
        "Refers to the radius of the volcanic conduit through which magma ascends.\n",
        "Conduit radius influences the flow rate of magma.\n",
        "\n",
        "**Gas Mass (M):**\n",
        "Represents the mass of gases emitted during volcanic activity.\n",
        "Gas mass is crucial for understanding the composition and effects of volcanic gases.\n",
        "\n",
        "**Standard Deviation (sigma):**\n",
        "A measure of the variability or dispersion of parameters.\n",
        "Standard deviation can introduce variability in the synthetic dataset.\n",
        "\n",
        "**Tilt Angle at Eruption (tilt_erupt):\n",
        "Represents the tilt angle of the ground at the eruption point.\n",
        "Tilt angles provide information about the movement and pressure of magma.**"
      ]
    },
    {
      "cell_type": "code",
      "execution_count": null,
      "metadata": {
        "colab": {
          "background_save": true
        },
        "id": "K2KId2eBtk3o"
      },
      "outputs": [],
      "source": [
        "# Add a column C2 to the DataFrame by matching keys from column C1 with inserting value pair from a dictionary to C2\n",
        "#df_sensor['description'] = df_sensor['parameters'].apply(lambda x: dict_sensor_parm[x])\n",
        "#df_sensor = df_sensor.assign(description=df_sensor['parameters'].map(dict_sensor_parm))\n",
        "df_sensor.insert(0, 'description', df_sensor['parameters'].map(dict_sensor_parm))\n",
        "\n",
        "print(df_sensor)"
      ]
    },
    {
      "cell_type": "code",
      "execution_count": null,
      "metadata": {
        "colab": {
          "background_save": true
        },
        "id": "1YxwqJBQ_CfM"
      },
      "outputs": [],
      "source": [
        "# Read the main sensor data, skipping the first 13 rows (metadata of the sensor)\n",
        "# and setting no header or index column so both rows are read as data\n",
        "# ----------------------------------------------------------------\n",
        "df = pd.read_csv(observationloc+'V1observation1.dat', skiprows=13, header=None, index_col=False)\n",
        "\n",
        "# Display DataFrame as extracted from file before tranformation\n",
        "print(df.head())\n"
      ]
    },
    {
      "cell_type": "code",
      "execution_count": null,
      "metadata": {
        "colab": {
          "background_save": true
        },
        "id": "lAioF3EX9L1_"
      },
      "outputs": [],
      "source": [
        "\n",
        "# Transpose the DataFrame and rename the columns for clarity\n",
        "df = df.T.rename(columns={0: 'time', 1: 'sensor_value'})\n",
        "\n",
        "#Explore Data: show the Observation Data in various basic ways\n",
        "print(df.head())  # View first few rows\n",
        "print(df.info())  # Check data types\n",
        "print(df.describe())  # Get summary statistics"
      ]
    },
    {
      "cell_type": "code",
      "execution_count": null,
      "metadata": {
        "colab": {
          "background_save": true
        },
        "id": "kOCKVOwNrErZ"
      },
      "outputs": [],
      "source": [
        "# Time 0 is erruption, this displays last t-15 seconds before erruption\n",
        "\n",
        "df.tail(15)\n"
      ]
    },
    {
      "cell_type": "code",
      "execution_count": null,
      "metadata": {
        "colab": {
          "background_save": true
        },
        "id": "DBVh1tLs03qe"
      },
      "outputs": [],
      "source": [
        "time_column = \"time\"  # Replace with the actual column name containing time data\n",
        "value_column = \"sensor_value\"  # Replace with the actual column name containing values\n",
        "\n",
        "time = df[time_column]\n",
        "values = df[value_column]\n",
        "\n",
        "plt.figure(figsize=(10, 6))  # Adjust figure size as needed\n",
        "\n",
        "plt.plot(time, values, label='Series 1', color='b')\n",
        "\n",
        "# Customize plot elements (optional):\n",
        "plt.xlabel(\"Time\")\n",
        "plt.ylabel(\"Tilt (nrad)\")\n",
        "plt.title(\"Tilt Signal\")\n",
        "plt.grid(True)\n",
        "# Adding legend\n",
        "plt.legend()\n",
        "\n",
        "plt.show()"
      ]
    },
    {
      "cell_type": "code",
      "execution_count": null,
      "metadata": {
        "colab": {
          "background_save": true
        },
        "id": "wmRWqB8w04QA"
      },
      "outputs": [],
      "source": [
        "time_column = \"time\"  # Replace with the actual column name containing time data\n",
        "value_column = \"sensor_value\"  # Replace with the actual column name containing values\n",
        "\n",
        "time = dfs_timeline[\"time\"]\n",
        "values1 = dfs_timeline[\"sensor_obs_1\"]\n",
        "values2 = dfs_timeline[\"sensor_obs_2\"]\n",
        "values3 = dfs_timeline[\"sensor_obs_3\"]\n",
        "values4 = dfs_timeline[\"sensor_obs_4\"]\n",
        "values5 = dfs_timeline[\"sensor_obs_5\"]\n",
        "values6 = dfs_timeline[\"sensor_obs_6\"]\n",
        "values7 = dfs_timeline[\"sensor_obs_7\"]\n",
        "values8 = dfs_timeline[\"sensor_obs_8\"]\n",
        "values9 = dfs_timeline[\"sensor_obs_9\"]\n",
        "values10 = dfs_timeline[\"sensor_obs_10\"]\n",
        "values11 = dfs_timeline[\"sensor_obs_11\"]\n",
        "values12 = dfs_timeline[\"sensor_obs_12\"]"
      ]
    },
    {
      "cell_type": "code",
      "execution_count": null,
      "metadata": {
        "colab": {
          "background_save": true
        },
        "id": "m7TivOwTGLO2"
      },
      "outputs": [],
      "source": [
        "plt.figure(figsize=(10, 6))  # Adjust figure size as needed\n",
        "plt.plot(time, values1, label='Volcano 1 Observation 1')\n",
        "\n",
        "# Customize plot elements (optional):\n",
        "plt.xlabel(\"Time\")\n",
        "plt.ylabel(\"Tilt (nrad)\")\n",
        "plt.title(\"Tilt Signal\")\n",
        "plt.grid(True)\n",
        "# Adding legend\n",
        "plt.legend()\n",
        "\n",
        "plt.show()"
      ]
    },
    {
      "cell_type": "code",
      "execution_count": null,
      "metadata": {
        "colab": {
          "background_save": true
        },
        "id": "H3y6JrfUAd3d"
      },
      "outputs": [],
      "source": [
        "plt.hist(df[value_column], bins=20)  # Adjust bins as needed\n",
        "plt.xlabel('Tilt Angle (nrad)')\n",
        "plt.ylabel('Frequency')\n",
        "plt.title('Distribution of Sensor Value')\n",
        "plt.show()"
      ]
    },
    {
      "cell_type": "code",
      "execution_count": null,
      "metadata": {
        "colab": {
          "background_save": true
        },
        "id": "Xd-NwbIT_smr"
      },
      "outputs": [],
      "source": [
        "dfs_timeline"
      ]
    },
    {
      "cell_type": "code",
      "execution_count": null,
      "metadata": {
        "colab": {
          "background_save": true
        },
        "id": "3XHBlchi9Sfj"
      },
      "outputs": [],
      "source": [
        "dfs_timeline.iloc[:, 1:].plot(subplots=True, layout=(7, 2), figsize=(20, 14))\n",
        "plt.show()"
      ]
    },
    {
      "cell_type": "code",
      "execution_count": null,
      "metadata": {
        "colab": {
          "background_save": true
        },
        "id": "hxeSbnBnDp80"
      },
      "outputs": [],
      "source": [
        "pip install tsfresh\n"
      ]
    },
    {
      "cell_type": "code",
      "execution_count": null,
      "metadata": {
        "colab": {
          "background_save": true
        },
        "id": "XaYxfXfjDEUC"
      },
      "outputs": [],
      "source": [
        "%%time\n",
        "from tsfresh import extract_features"
      ]
    },
    {
      "cell_type": "code",
      "execution_count": null,
      "metadata": {
        "colab": {
          "background_save": true
        },
        "id": "okzALJypHBx2"
      },
      "outputs": [],
      "source": [
        "df"
      ]
    },
    {
      "cell_type": "code",
      "execution_count": null,
      "metadata": {
        "colab": {
          "background_save": true
        },
        "id": "v5zaYbdPFqYz"
      },
      "outputs": [],
      "source": [
        "# Generate features for sensor_1 for each segment_id\n",
        "extracted_features_df = extract_features(timeseries_container=dfs_timeline_seq_with_id,\n",
        "                                 column_id=\"id\",\n",
        "                                 column_sort=\"time\",\n",
        "                                 n_jobs=8,\n",
        "                                )"
      ]
    },
    {
      "cell_type": "code",
      "execution_count": null,
      "metadata": {
        "colab": {
          "background_save": true
        },
        "id": "bUVhBHL7FyUZ"
      },
      "outputs": [],
      "source": [
        "extracted_features_df"
      ]
    },
    {
      "cell_type": "markdown",
      "metadata": {
        "id": "3HG0uLZT_n78"
      },
      "source": [
        "#Data Preparation"
      ]
    },
    {
      "cell_type": "markdown",
      "metadata": {
        "id": "_mL9COB5_nzL"
      },
      "source": [
        "#Regression Technique Selection"
      ]
    },
    {
      "cell_type": "markdown",
      "metadata": {
        "id": "iN3fgISf_nqo"
      },
      "source": [
        "#Model Training"
      ]
    },
    {
      "cell_type": "markdown",
      "metadata": {
        "id": "bm0tWYKA_nhu"
      },
      "source": [
        "#Model Evaluation"
      ]
    },
    {
      "cell_type": "markdown",
      "metadata": {
        "id": "zOIaNBVc_nYY"
      },
      "source": [
        "#Results Analysis"
      ]
    },
    {
      "cell_type": "markdown",
      "metadata": {
        "id": "uUidh4pC_nNU"
      },
      "source": [
        "#Model Refinement"
      ]
    },
    {
      "cell_type": "markdown",
      "metadata": {
        "id": "aPUqpLfgAIwV"
      },
      "source": [
        "#Final Evaluation"
      ]
    },
    {
      "cell_type": "markdown",
      "metadata": {
        "id": "T5DQAaWcAJKO"
      },
      "source": [
        "#Miscellenious"
      ]
    }
  ],
  "metadata": {
    "colab": {
      "provenance": [],
      "authorship_tag": "ABX9TyOkoJrjL/9fCTxWVt6Lyawc",
      "include_colab_link": true
    },
    "kernelspec": {
      "display_name": "Python 3",
      "name": "python3"
    },
    "language_info": {
      "name": "python"
    }
  },
  "nbformat": 4,
  "nbformat_minor": 0
}